{
 "cells": [
  {
   "cell_type": "markdown",
   "id": "f46e6e9f",
   "metadata": {},
   "source": [
    "## Twitter Big Data Analysis"
   ]
  },
  {
   "cell_type": "markdown",
   "id": "11ce42e1",
   "metadata": {},
   "source": [
    "### Checking Spark Session"
   ]
  },
  {
   "cell_type": "code",
   "execution_count": 247,
   "id": "81e75da9",
   "metadata": {},
   "outputs": [
    {
     "data": {
      "text/html": [
       "\n",
       "        <div>\n",
       "            <p><b>SparkContext</b></p>\n",
       "\n",
       "            <p><a href=\"http://10.0.2.15:4040\">Spark UI</a></p>\n",
       "\n",
       "            <dl>\n",
       "              <dt>Version</dt>\n",
       "                <dd><code>v3.4.2</code></dd>\n",
       "              <dt>Master</dt>\n",
       "                <dd><code>local[*]</code></dd>\n",
       "              <dt>AppName</dt>\n",
       "                <dd><code>PySparkShell</code></dd>\n",
       "            </dl>\n",
       "        </div>\n",
       "        "
      ],
      "text/plain": [
       "<SparkContext master=local[*] appName=PySparkShell>"
      ]
     },
     "execution_count": 247,
     "metadata": {},
     "output_type": "execute_result"
    }
   ],
   "source": [
    "sc"
   ]
  },
  {
   "cell_type": "markdown",
   "id": "9efb4b97",
   "metadata": {},
   "source": [
    "### Loading in the Data"
   ]
  },
  {
   "cell_type": "code",
   "execution_count": 248,
   "id": "99180bf8",
   "metadata": {},
   "outputs": [],
   "source": [
    "twitter = \"/user1/twitter_training.csv\"\n",
    "\n",
    "twitter_df = spark.read.csv(twitter, header='true', inferSchema='true')\n",
    "twitter_df.createOrReplaceTempView(\"twitter\")"
   ]
  },
  {
   "cell_type": "code",
   "execution_count": 249,
   "id": "215f2f06",
   "metadata": {},
   "outputs": [
    {
     "name": "stdout",
     "output_type": "stream",
     "text": [
      "root\n",
      " |-- 2401: integer (nullable = true)\n",
      " |-- Borderlands: string (nullable = true)\n",
      " |-- Positive: string (nullable = true)\n",
      " |-- im getting on borderlands and i will murder you all ,: string (nullable = true)\n",
      "\n"
     ]
    }
   ],
   "source": [
    "twitter_df.printSchema()"
   ]
  },
  {
   "cell_type": "code",
   "execution_count": 250,
   "id": "d14c34eb",
   "metadata": {},
   "outputs": [],
   "source": [
    "from pyspark.sql.types import StructType, StructField, IntegerType, StringType"
   ]
  },
  {
   "cell_type": "code",
   "execution_count": 251,
   "id": "e50320d6",
   "metadata": {},
   "outputs": [],
   "source": [
    "newSchema = StructType([\\\n",
    "                       StructField(\"tweet_ID\", IntegerType(), True),\n",
    "                       StructField(\"entity\", StringType(), True),\n",
    "                       StructField(\"sentiment\", StringType(), True),\n",
    "                       StructField(\"tweet_content\", StringType(), True)\n",
    "                       ])"
   ]
  },
  {
   "cell_type": "code",
   "execution_count": 252,
   "id": "84b20995",
   "metadata": {},
   "outputs": [],
   "source": [
    "twitter_df = spark.read.format(\"csv\")\\\n",
    "    .schema (newSchema)\\\n",
    "    .option(\"inferSchema\", \"True\")\\\n",
    "    .option(\"path\", twitter)\\\n",
    "    .load()"
   ]
  },
  {
   "cell_type": "code",
   "execution_count": 253,
   "id": "722ddb5a",
   "metadata": {},
   "outputs": [
    {
     "name": "stdout",
     "output_type": "stream",
     "text": [
      "root\n",
      " |-- tweet_ID: integer (nullable = true)\n",
      " |-- entity: string (nullable = true)\n",
      " |-- sentiment: string (nullable = true)\n",
      " |-- tweet_content: string (nullable = true)\n",
      "\n"
     ]
    }
   ],
   "source": [
    "twitter_df.printSchema()"
   ]
  },
  {
   "cell_type": "markdown",
   "id": "cde441c0",
   "metadata": {},
   "source": [
    "### EDA and Preprocessing"
   ]
  },
  {
   "cell_type": "code",
   "execution_count": 254,
   "id": "d5e9f55f",
   "metadata": {
    "scrolled": true
   },
   "outputs": [
    {
     "name": "stdout",
     "output_type": "stream",
     "text": [
      "Count of rows: 74682\n"
     ]
    },
    {
     "name": "stderr",
     "output_type": "stream",
     "text": [
      "\r",
      "[Stage 561:>                                                        (0 + 2) / 2]\r"
     ]
    },
    {
     "name": "stdout",
     "output_type": "stream",
     "text": [
      "Count of distinct rows: 71938\n"
     ]
    },
    {
     "name": "stderr",
     "output_type": "stream",
     "text": [
      "\r",
      "                                                                                \r"
     ]
    }
   ],
   "source": [
    "print('Count of rows: {0}'.format(twitter_df.count()))\n",
    "print('Count of distinct rows: {0}'.format(twitter_df.distinct().count()))"
   ]
  },
  {
   "cell_type": "code",
   "execution_count": 255,
   "id": "848d2f1c",
   "metadata": {},
   "outputs": [
    {
     "name": "stderr",
     "output_type": "stream",
     "text": [
      "\r",
      "[Stage 567:>                                                        (0 + 2) / 2]\r",
      "\r",
      "[Stage 567:============================>                            (1 + 1) / 2]\r"
     ]
    },
    {
     "name": "stdout",
     "output_type": "stream",
     "text": [
      "+--------+--------------------+----------+--------------------+\n",
      "|tweet_ID|              entity| sentiment|       tweet_content|\n",
      "+--------+--------------------+----------+--------------------+\n",
      "|    2504|         Borderlands|  Positive|    IM SO FUCKING IN|\n",
      "|    2600|         Borderlands|  Positive|I want to say tha...|\n",
      "|    2716|         Borderlands|   Neutral|This would be an ...|\n",
      "|    2729|         Borderlands|   Neutral|back on my dry bo...|\n",
      "|    2741|         Borderlands|  Positive|been mad inactive...|\n",
      "|    2763|         Borderlands|  Negative|Not to say that t...|\n",
      "|    1614|CallOfDutyBlackop...|  Positive|This sounds like ...|\n",
      "|    1638|CallOfDutyBlackop...|  Negative|Gonna fucking be ass|\n",
      "|    1700|CallOfDutyBlackop...|Irrelevant|You can’t say thi...|\n",
      "|    1715|CallOfDutyBlackop...|  Negative|I tried the new a...|\n",
      "|    1765|CallOfDutyBlackop...|  Positive|sooo hyped for wh...|\n",
      "|    1889|CallOfDutyBlackop...|Irrelevant|I give up... Too ...|\n",
      "|    1913|CallOfDutyBlackop...|  Positive|wow they really w...|\n",
      "|     194|              Amazon|  Negative|im calling amazon...|\n",
      "|     195|              Amazon|  Negative|YOU A BOUGHT SOME...|\n",
      "|     212|              Amazon|Irrelevant|@Airtel_Presence ...|\n",
      "|     242|              Amazon|   Neutral|The Pre-Med & the...|\n",
      "|     257|              Amazon|   Neutral|\"y'all complain a...|\n",
      "|     287|              Amazon|   Neutral|Card Against Huma...|\n",
      "|     314|              Amazon|  Negative|Please explain ho...|\n",
      "+--------+--------------------+----------+--------------------+\n",
      "only showing top 20 rows\n",
      "\n"
     ]
    },
    {
     "name": "stderr",
     "output_type": "stream",
     "text": [
      "\r",
      "                                                                                \r"
     ]
    }
   ],
   "source": [
    "twitter_df_preprocessing = twitter_df.dropDuplicates()\n",
    "twitter_df_preprocessing.show()"
   ]
  },
  {
   "cell_type": "code",
   "execution_count": 256,
   "id": "ec2391aa",
   "metadata": {
    "scrolled": true
   },
   "outputs": [
    {
     "name": "stdout",
     "output_type": "stream",
     "text": [
      "Count of rows: 71938\n",
      "Count of distinct rows: 71938\n"
     ]
    }
   ],
   "source": [
    "print('Count of rows: {0}'.format(twitter_df_preprocessing.count()))\n",
    "print('Count of distinct rows: {0}'.format(twitter_df_preprocessing.distinct().count()))"
   ]
  },
  {
   "cell_type": "code",
   "execution_count": 257,
   "id": "fd6db7cd",
   "metadata": {},
   "outputs": [],
   "source": [
    "from pyspark.sql.functions import col, sum as spark_sum"
   ]
  },
  {
   "cell_type": "code",
   "execution_count": 258,
   "id": "98d5c809",
   "metadata": {},
   "outputs": [
    {
     "name": "stdout",
     "output_type": "stream",
     "text": [
      "+--------+------+---------+-------------+\n",
      "|tweet_ID|entity|sentiment|tweet_content|\n",
      "+--------+------+---------+-------------+\n",
      "|       0|     0|        0|          326|\n",
      "+--------+------+---------+-------------+\n",
      "\n"
     ]
    }
   ],
   "source": [
    "# Counting missing values for each feature column\n",
    "missing_values = twitter_df_preprocessing.select(*(spark_sum(col(c).isNull().cast(\"int\")).alias(c) for c in twitter_df_preprocessing.columns))\n",
    "\n",
    "# Displaying the missing value count\n",
    "missing_values.show()"
   ]
  },
  {
   "cell_type": "code",
   "execution_count": 259,
   "id": "68715069",
   "metadata": {},
   "outputs": [],
   "source": [
    "# Dropping rows with missing values\n",
    "twitter_df_preprocessing = twitter_df_preprocessing.dropna()"
   ]
  },
  {
   "cell_type": "code",
   "execution_count": 260,
   "id": "6579fb56",
   "metadata": {},
   "outputs": [
    {
     "name": "stdout",
     "output_type": "stream",
     "text": [
      "+--------+------+---------+-------------+\n",
      "|tweet_ID|entity|sentiment|tweet_content|\n",
      "+--------+------+---------+-------------+\n",
      "|       0|     0|        0|            0|\n",
      "+--------+------+---------+-------------+\n",
      "\n"
     ]
    }
   ],
   "source": [
    "# Counting missing values for each feature column\n",
    "missing_values = twitter_df_preprocessing.select(*(spark_sum(col(c).isNull().cast(\"int\")).alias(c) for c in twitter_df_preprocessing.columns))\n",
    "\n",
    "# Displaying the missing value count\n",
    "missing_values.show()"
   ]
  },
  {
   "cell_type": "code",
   "execution_count": 261,
   "id": "1cc25430",
   "metadata": {},
   "outputs": [
    {
     "name": "stdout",
     "output_type": "stream",
     "text": [
      "root\n",
      " |-- tweet_ID: integer (nullable = true)\n",
      " |-- entity: string (nullable = true)\n",
      " |-- sentiment: string (nullable = true)\n",
      " |-- tweet_content: string (nullable = true)\n",
      "\n"
     ]
    }
   ],
   "source": [
    "# Viewing the schema of the new DataFrame\n",
    "twitter_df_preprocessing.printSchema()"
   ]
  },
  {
   "cell_type": "code",
   "execution_count": 262,
   "id": "00cc3a11",
   "metadata": {
    "scrolled": false
   },
   "outputs": [
    {
     "name": "stdout",
     "output_type": "stream",
     "text": [
      "+--------+--------------------+----------+--------------------+\n",
      "|tweet_ID|              entity| sentiment|       tweet_content|\n",
      "+--------+--------------------+----------+--------------------+\n",
      "|    2504|         Borderlands|  Positive|    IM SO FUCKING IN|\n",
      "|    2600|         Borderlands|  Positive|I want to say tha...|\n",
      "|    2716|         Borderlands|   Neutral|This would be an ...|\n",
      "|    2729|         Borderlands|   Neutral|back on my dry bo...|\n",
      "|    2741|         Borderlands|  Positive|been mad inactive...|\n",
      "|    2763|         Borderlands|  Negative|Not to say that t...|\n",
      "|    1614|CallOfDutyBlackop...|  Positive|This sounds like ...|\n",
      "|    1638|CallOfDutyBlackop...|  Negative|Gonna fucking be ass|\n",
      "|    1700|CallOfDutyBlackop...|Irrelevant|You can’t say thi...|\n",
      "|    1715|CallOfDutyBlackop...|  Negative|I tried the new a...|\n",
      "|    1765|CallOfDutyBlackop...|  Positive|sooo hyped for wh...|\n",
      "|    1889|CallOfDutyBlackop...|Irrelevant|I give up... Too ...|\n",
      "|    1913|CallOfDutyBlackop...|  Positive|wow they really w...|\n",
      "|     194|              Amazon|  Negative|im calling amazon...|\n",
      "|     195|              Amazon|  Negative|YOU A BOUGHT SOME...|\n",
      "|     212|              Amazon|Irrelevant|@Airtel_Presence ...|\n",
      "|     242|              Amazon|   Neutral|The Pre-Med & the...|\n",
      "|     257|              Amazon|   Neutral|\"y'all complain a...|\n",
      "|     287|              Amazon|   Neutral|Card Against Huma...|\n",
      "|     314|              Amazon|  Negative|Please explain ho...|\n",
      "+--------+--------------------+----------+--------------------+\n",
      "only showing top 20 rows\n",
      "\n"
     ]
    },
    {
     "name": "stderr",
     "output_type": "stream",
     "text": [
      "\r",
      "[Stage 594:============================>                            (1 + 1) / 2]\r",
      "\r",
      "                                                                                \r"
     ]
    }
   ],
   "source": [
    "# Viewing first few rows of the filtered DataFrame\n",
    "twitter_df_preprocessing.show()"
   ]
  },
  {
   "cell_type": "code",
   "execution_count": 263,
   "id": "d5021991",
   "metadata": {},
   "outputs": [
    {
     "name": "stdout",
     "output_type": "stream",
     "text": [
      "The shape of the DataFrame:\n",
      "\n",
      "Number of Rows: 71612\n",
      "Number of Columns: 4\n"
     ]
    }
   ],
   "source": [
    "# Checking the new shape of the DataFrame\n",
    "num_rows = twitter_df_preprocessing.count()\n",
    "num_columns = len(twitter_df_preprocessing.columns)\n",
    "\n",
    "print(\"The shape of the DataFrame:\\n\")\n",
    "print(\"Number of Rows:\", num_rows)\n",
    "print(\"Number of Columns:\", num_columns)"
   ]
  },
  {
   "cell_type": "markdown",
   "id": "ee0d45cf",
   "metadata": {},
   "source": [
    "### EDA : Statistical Analsysis"
   ]
  },
  {
   "cell_type": "code",
   "execution_count": 264,
   "id": "53489598",
   "metadata": {},
   "outputs": [
    {
     "name": "stdout",
     "output_type": "stream",
     "text": [
      "\n",
      "Basic Statistics for Numerical Columns:\n"
     ]
    },
    {
     "name": "stderr",
     "output_type": "stream",
     "text": [
      "\r",
      "[Stage 605:>                                                        (0 + 2) / 2]\r"
     ]
    },
    {
     "name": "stdout",
     "output_type": "stream",
     "text": [
      "+-------+------------------+---------------+----------+--------------------+\n",
      "|summary|          tweet_ID|         entity| sentiment|       tweet_content|\n",
      "+-------+------------------+---------------+----------+--------------------+\n",
      "|  count|             71612|          71612|     71612|               71612|\n",
      "|   mean| 6436.986440819975|           null|      null|  3.2857142857142856|\n",
      "| stddev|3741.9147567754244|           null|      null|   2.054210364052382|\n",
      "|    min|                 1|         Amazon|Irrelevant|                    |\n",
      "|    max|             13200|johnson&johnson|  Positive|🧻 at Home Depot ...|\n",
      "+-------+------------------+---------------+----------+--------------------+\n",
      "\n"
     ]
    },
    {
     "name": "stderr",
     "output_type": "stream",
     "text": [
      "\r",
      "[Stage 605:============================>                            (1 + 1) / 2]\r",
      "\r",
      "                                                                                \r"
     ]
    }
   ],
   "source": [
    "# Viewing the basic statistics for numerical columns\n",
    "print(\"\\nBasic Statistics for Numerical Columns:\")\n",
    "twitter_df_preprocessing.describe().show()"
   ]
  },
  {
   "cell_type": "code",
   "execution_count": 265,
   "id": "ad9d9db0",
   "metadata": {},
   "outputs": [],
   "source": [
    "# Importing the necessary functions libraries\n",
    "#import pyspark.sql.functions as func"
   ]
  },
  {
   "cell_type": "code",
   "execution_count": 266,
   "id": "7eede4fd",
   "metadata": {},
   "outputs": [
    {
     "name": "stdout",
     "output_type": "stream",
     "text": [
      "+----------+-----+\n",
      "| sentiment|count|\n",
      "+----------+-----+\n",
      "|Irrelevant|12528|\n",
      "|  Positive|19702|\n",
      "|   Neutral|17691|\n",
      "|  Negative|21691|\n",
      "+----------+-----+\n",
      "\n"
     ]
    }
   ],
   "source": [
    "# Calculating the distribution of the sentiment categories\n",
    "sentiment_distribution = twitter_df_preprocessing.groupBy('sentiment').count()\n",
    "\n",
    "# Viweing the distribution\n",
    "sentiment_distribution.show()"
   ]
  },
  {
   "cell_type": "markdown",
   "id": "77567a7b",
   "metadata": {},
   "source": [
    "According to the datafset documentation, 'Irrelevant' messages can be considered as neutral. ((www.kaggle.com, n.d.))"
   ]
  },
  {
   "cell_type": "markdown",
   "id": "a2837b97",
   "metadata": {},
   "source": [
    "### EDA : Frequency Distribution of Sentiment"
   ]
  },
  {
   "cell_type": "code",
   "execution_count": 267,
   "id": "f3fe8fe6",
   "metadata": {},
   "outputs": [],
   "source": [
    "import matplotlib.pyplot as plt"
   ]
  },
  {
   "cell_type": "code",
   "execution_count": 268,
   "id": "31cb26a1",
   "metadata": {},
   "outputs": [],
   "source": [
    "# Converting the Spark DataFrame to a Pandas DataFrame for visuals\n",
    "sentiment_distribution_pd = sentiment_distribution.toPandas()"
   ]
  },
  {
   "cell_type": "code",
   "execution_count": 269,
   "id": "90676aac",
   "metadata": {},
   "outputs": [
    {
     "data": {
      "image/png": "[encoded data removed]",
      "text/plain": [
       "<Figure size 864x576 with 1 Axes>"
      ]
     },
     "metadata": {
      "needs_background": "light"
     },
     "output_type": "display_data"
    }
   ],
   "source": [
    "# Plotting a graph of distribution\n",
    "plt.figure(figsize=(12, 8))\n",
    "plt.bar(sentiment_distribution_pd['sentiment'], sentiment_distribution_pd['count'], color='DarkSlateBlue')\n",
    "plt.title('Distribution of Sentiment Categories', fontsize = 16)\n",
    "plt.xlabel('Sentiment', fontsize = 14)\n",
    "plt.ylabel('Count', fontsize = 14)\n",
    "plt.show()"
   ]
  },
  {
   "cell_type": "code",
   "execution_count": 270,
   "id": "982afe1a",
   "metadata": {},
   "outputs": [],
   "source": [
    "#pip install seaborn"
   ]
  },
  {
   "cell_type": "code",
   "execution_count": 271,
   "id": "252d998c",
   "metadata": {
    "scrolled": false
   },
   "outputs": [],
   "source": [
    "import seaborn as sns"
   ]
  },
  {
   "cell_type": "code",
   "execution_count": 272,
   "id": "3eaa4766",
   "metadata": {},
   "outputs": [],
   "source": [
    "# Selecting a specific entity to analyse\n",
    "entity_of_interest = 'johnson&johnson'"
   ]
  },
  {
   "cell_type": "code",
   "execution_count": 273,
   "id": "06943bd6",
   "metadata": {},
   "outputs": [
    {
     "name": "stdout",
     "output_type": "stream",
     "text": [
      "+--------+---------------+----------+--------------------+\n",
      "|tweet_ID|         entity| sentiment|       tweet_content|\n",
      "+--------+---------------+----------+--------------------+\n",
      "|    6853|johnson&johnson|   Neutral|Adrian Thomas, vi...|\n",
      "|    6866|johnson&johnson|Irrelevant| Vaccines Production|\n",
      "|    6890|johnson&johnson|  Negative|They've had a leg...|\n",
      "|    6909|johnson&johnson|   Neutral|Behind the $55 mi...|\n",
      "|    6940|johnson&johnson|   Neutral|.  TYLENOL Cold H...|\n",
      "|    6944|johnson&johnson|   Neutral|The Missouri Cour...|\n",
      "|    6955|johnson&johnson|  Negative|Johnson & The Joh...|\n",
      "|    6965|johnson&johnson|  Negative|              or wtf|\n",
      "|    6971|johnson&johnson|  Positive|AstraZeneca and J...|\n",
      "|    6973|johnson&johnson|  Positive|       Thank of God.|\n",
      "|    6998|johnson&johnson|  Positive|cock & Johnson Re...|\n",
      "|    7005|johnson&johnson|   Neutral|Johnson & Johnson...|\n",
      "|    7040|johnson&johnson|   Neutral|Transvaginal mesh...|\n",
      "|    7043|johnson&johnson|  Negative|Johnson & Johnson...|\n",
      "|    7121|johnson&johnson|  Negative|Here Here same fo...|\n",
      "|    7128|johnson&johnson|   Neutral|. statnews.com / ...|\n",
      "|    7177|johnson&johnson|Irrelevant|Ya no kan'Excelle...|\n",
      "|    6849|johnson&johnson|  Positive|By early June 202...|\n",
      "|    6893|johnson&johnson|  Positive|If they are so su...|\n",
      "|    6903|johnson&johnson|  Negative|i’ve had the same...|\n",
      "+--------+---------------+----------+--------------------+\n",
      "only showing top 20 rows\n",
      "\n"
     ]
    }
   ],
   "source": [
    "# Filtering the DataFrame \n",
    "johnson_johnson_df = twitter_df_preprocessing.filter(twitter_df_preprocessing.entity == entity_of_interest)\n",
    "\n",
    "johnson_johnson_df.show()"
   ]
  },
  {
   "cell_type": "code",
   "execution_count": 274,
   "id": "8a7b700d",
   "metadata": {},
   "outputs": [
    {
     "name": "stdout",
     "output_type": "stream",
     "text": [
      "+----------+-----+\n",
      "| sentiment|count|\n",
      "+----------+-----+\n",
      "|Irrelevant|  192|\n",
      "|   Neutral| 1001|\n",
      "|  Positive|  252|\n",
      "|  Negative|  809|\n",
      "+----------+-----+\n",
      "\n"
     ]
    }
   ],
   "source": [
    "# Calculating the distribution of sentiment categories\n",
    "johnson_johnson_sentiment_distribution = johnson_johnson_df.groupBy('sentiment').count()\n",
    "johnson_johnson_sentiment_distribution.show()"
   ]
  },
  {
   "cell_type": "code",
   "execution_count": 275,
   "id": "bd1bde89",
   "metadata": {},
   "outputs": [],
   "source": [
    "# Ordering the DataFrame in descending order\n",
    "johnson_johnson_sentiment_distribution = johnson_johnson_sentiment_distribution.orderBy('count', ascending=False)"
   ]
  },
  {
   "cell_type": "code",
   "execution_count": 276,
   "id": "3fbb9e9e",
   "metadata": {},
   "outputs": [],
   "source": [
    "# Converting to Pandas DataFrame for visualization\n",
    "johnson_johnson_sentiment_distribution_pd = johnson_johnson_sentiment_distribution.toPandas()"
   ]
  },
  {
   "cell_type": "code",
   "execution_count": 277,
   "id": "82ea5789",
   "metadata": {},
   "outputs": [
    {
     "name": "stderr",
     "output_type": "stream",
     "text": [
      "/tmp/ipykernel_4431/78352180.py:3: FutureWarning: \n",
      "\n",
      "Passing `palette` without assigning `hue` is deprecated and will be removed in v0.14.0. Assign the `x` variable to `hue` and set `legend=False` for the same effect.\n",
      "\n",
      "  sns.barplot(x='sentiment', y='count', data=johnson_johnson_sentiment_distribution_pd, palette='viridis')\n"
     ]
    },
    {
     "data": {
      "image/png": "[encoded data removed]",
      "text/plain": [
       "<Figure size 864x576 with 1 Axes>"
      ]
     },
     "metadata": {
      "needs_background": "light"
     },
     "output_type": "display_data"
    }
   ],
   "source": [
    "# Creating a Seaborn Bar chart\n",
    "plt.figure(figsize=(12, 8))\n",
    "sns.barplot(x='sentiment', y='count', data=johnson_johnson_sentiment_distribution_pd, palette='viridis')\n",
    "plt.title('Distribution of Sentiment Categories for Johnsons and Johnsons', fontsize = 16)\n",
    "plt.xlabel('Sentiment', fontsize = 14)\n",
    "plt.ylabel('Count', fontsize = 14)\n",
    "plt.show()"
   ]
  },
  {
   "cell_type": "markdown",
   "id": "cfa0746e",
   "metadata": {},
   "source": [
    "One of the main applications and use cases of this asignment is sentiment analysis of big data, whether from a live stream or static source. In order to recreate this, we will remove the sentiment column provided with the dataset and conduct our own sentiment analysis of the data using spark."
   ]
  },
  {
   "cell_type": "code",
   "execution_count": 278,
   "id": "0fa0ccb7",
   "metadata": {},
   "outputs": [],
   "source": [
    "# Dropping the 'sentiment' column\n",
    "twitter_df_preprocessing = twitter_df_preprocessing.drop('sentiment')"
   ]
  },
  {
   "cell_type": "code",
   "execution_count": 279,
   "id": "b98d2157",
   "metadata": {},
   "outputs": [
    {
     "name": "stdout",
     "output_type": "stream",
     "text": [
      "root\n",
      " |-- tweet_ID: integer (nullable = true)\n",
      " |-- entity: string (nullable = true)\n",
      " |-- tweet_content: string (nullable = true)\n",
      "\n"
     ]
    }
   ],
   "source": [
    "twitter_df_preprocessing.printSchema()"
   ]
  },
  {
   "cell_type": "markdown",
   "id": "fcfc9a7c",
   "metadata": {},
   "source": [
    "#### Saving to HDFS"
   ]
  },
  {
   "cell_type": "code",
   "execution_count": 280,
   "id": "fc1237ec",
   "metadata": {},
   "outputs": [],
   "source": [
    "path = \"/user1/twitter2\""
   ]
  },
  {
   "cell_type": "code",
   "execution_count": 281,
   "id": "c1874f7e",
   "metadata": {},
   "outputs": [
    {
     "name": "stderr",
     "output_type": "stream",
     "text": [
      "                                                                                \r"
     ]
    }
   ],
   "source": [
    "twitter_df_preprocessing.write\\\n",
    ".format(\"csv\").mode(\"overwrite\")\\\n",
    ".option(\"path\", path)\\\n",
    ".save()"
   ]
  },
  {
   "cell_type": "markdown",
   "id": "8d967f70",
   "metadata": {},
   "source": [
    "## Reading in  a new Dataset of larger volume"
   ]
  },
  {
   "cell_type": "code",
   "execution_count": 282,
   "id": "50cad3bf",
   "metadata": {},
   "outputs": [
    {
     "name": "stderr",
     "output_type": "stream",
     "text": [
      "                                                                                \r"
     ]
    }
   ],
   "source": [
    "twitter_cs = \"/user1/twcs.csv\"\n",
    "\n",
    "twitter_cs_df = spark.read.csv(twitter_cs, header='true', inferSchema='true')\n",
    "twitter_cs_df.createOrReplaceTempView(\"twitter_cs\")"
   ]
  },
  {
   "cell_type": "code",
   "execution_count": 283,
   "id": "b2945773",
   "metadata": {},
   "outputs": [
    {
     "name": "stdout",
     "output_type": "stream",
     "text": [
      "root\n",
      " |-- tweet_id: string (nullable = true)\n",
      " |-- author_id: string (nullable = true)\n",
      " |-- inbound: string (nullable = true)\n",
      " |-- created_at: string (nullable = true)\n",
      " |-- text: string (nullable = true)\n",
      " |-- response_tweet_id: string (nullable = true)\n",
      " |-- in_response_to_tweet_id: string (nullable = true)\n",
      "\n"
     ]
    }
   ],
   "source": [
    "twitter_cs_df.printSchema()"
   ]
  },
  {
   "cell_type": "code",
   "execution_count": 284,
   "id": "427a9fec",
   "metadata": {},
   "outputs": [
    {
     "name": "stdout",
     "output_type": "stream",
     "text": [
      "+--------+------------+-------+--------------------+--------------------+-----------------+-----------------------+\n",
      "|tweet_id|   author_id|inbound|          created_at|                text|response_tweet_id|in_response_to_tweet_id|\n",
      "+--------+------------+-------+--------------------+--------------------+-----------------+-----------------------+\n",
      "|       1|  sprintcare|  False|Tue Oct 31 22:10:...|@115712 I underst...|                2|                      3|\n",
      "|       2|      115712|   True|Tue Oct 31 22:11:...|@sprintcare and h...|             null|                      1|\n",
      "|       3|      115712|   True|Tue Oct 31 22:08:...|@sprintcare I hav...|                1|                      4|\n",
      "|       4|  sprintcare|  False|Tue Oct 31 21:54:...|@115712 Please se...|                3|                      5|\n",
      "|       5|      115712|   True|Tue Oct 31 21:49:...|  @sprintcare I did.|                4|                      6|\n",
      "|       6|  sprintcare|  False|Tue Oct 31 21:46:...|@115712 Can you p...|              5,7|                      8|\n",
      "|       8|      115712|   True|Tue Oct 31 21:45:...|@sprintcare is th...|           9,6,10|                   null|\n",
      "|      11|  sprintcare|  False|Tue Oct 31 22:10:...|@115713 This is s...|             null|                     12|\n",
      "|      12|      115713|   True|Tue Oct 31 22:04:...|@sprintcare You g...|         11,13,14|                     15|\n",
      "|      15|  sprintcare|  False|Tue Oct 31 20:03:...|@115713 We unders...|               12|                     16|\n",
      "|      16|      115713|   True|Tue Oct 31 20:00:...|@sprintcare Since...|               15|                     17|\n",
      "|      17|  sprintcare|  False|Tue Oct 31 19:59:...|@115713 H there! ...|               16|                     18|\n",
      "|      18|      115713|   True|Tue Oct 31 19:56:...|@115714 y’all lie...|               17|                   null|\n",
      "|      19|  sprintcare|  False|Tue Oct 31 22:10:...|@115715 Please se...|             null|                     20|\n",
      "|      20|      115715|   True|Tue Oct 31 22:03:...|@115714 whenever ...|               19|                   null|\n",
      "|      21|Ask_Spectrum|  False|Tue Oct 31 22:14:...|@115716 What info...|            22,23|                     24|\n",
      "|      22|      115716|   True|Tue Oct 31 22:16:...|@Ask_Spectrum Wou...|               25|                     21|\n",
      "|      25|Ask_Spectrum|  False|Tue Oct 31 22:18:...|@115716 Our depar...|               26|                     22|\n",
      "|      26|      115716|   True|Tue Oct 31 22:19:...|@Ask_Spectrum I r...|               27|                     25|\n",
      "|      27|Ask_Spectrum|  False|Tue Oct 31 22:21:...|@115716 No thank ...|             null|                     26|\n",
      "+--------+------------+-------+--------------------+--------------------+-----------------+-----------------------+\n",
      "only showing top 20 rows\n",
      "\n"
     ]
    }
   ],
   "source": [
    "twitter_cs_df.show()"
   ]
  },
  {
   "cell_type": "markdown",
   "id": "de760fba",
   "metadata": {},
   "source": [
    "### EDA: Characterising, Cleaning and Data Prep"
   ]
  },
  {
   "cell_type": "markdown",
   "id": "fe0f0a43",
   "metadata": {},
   "source": [
    "#### Checking the number of rows and columns"
   ]
  },
  {
   "cell_type": "code",
   "execution_count": 285,
   "id": "d0b05538",
   "metadata": {},
   "outputs": [
    {
     "name": "stderr",
     "output_type": "stream",
     "text": [
      "[Stage 649:==========================================>              (3 + 1) / 4]\r"
     ]
    },
    {
     "name": "stdout",
     "output_type": "stream",
     "text": [
      "The shape of the DataFrame:\n",
      "\n",
      "Number of Rows: 2966469\n",
      "Number of Columns: 7\n"
     ]
    },
    {
     "name": "stderr",
     "output_type": "stream",
     "text": [
      "\r",
      "                                                                                \r"
     ]
    }
   ],
   "source": [
    "# Checking the shape of the DataFrame\n",
    "num_rows = twitter_cs_df.count()\n",
    "num_columns = len(twitter_cs_df.columns)\n",
    "\n",
    "print(\"The shape of the DataFrame:\\n\")\n",
    "print(\"Number of Rows:\", num_rows)\n",
    "print(\"Number of Columns:\", num_columns)"
   ]
  },
  {
   "cell_type": "markdown",
   "id": "b55ce512",
   "metadata": {},
   "source": [
    "#### Checking for missing values"
   ]
  },
  {
   "cell_type": "code",
   "execution_count": 286,
   "id": "3a3a7746",
   "metadata": {},
   "outputs": [],
   "source": [
    "# Importing the required functions\n",
    "from pyspark.sql.functions import col, sum as spark_sum"
   ]
  },
  {
   "cell_type": "code",
   "execution_count": 287,
   "id": "ab155c4c",
   "metadata": {},
   "outputs": [
    {
     "name": "stderr",
     "output_type": "stream",
     "text": [
      "[Stage 652:============================>                            (2 + 2) / 4]\r"
     ]
    },
    {
     "name": "stdout",
     "output_type": "stream",
     "text": [
      "+--------+---------+-------+----------+------+-----------------+-----------------------+\n",
      "|tweet_id|author_id|inbound|created_at|  text|response_tweet_id|in_response_to_tweet_id|\n",
      "+--------+---------+-------+----------+------+-----------------+-----------------------+\n",
      "|      20|    68072|  86934|    146363|153179|          1271596|                1010542|\n",
      "+--------+---------+-------+----------+------+-----------------+-----------------------+\n",
      "\n"
     ]
    },
    {
     "name": "stderr",
     "output_type": "stream",
     "text": [
      "\r",
      "[Stage 652:==========================================>              (3 + 1) / 4]\r",
      "\r",
      "                                                                                \r"
     ]
    }
   ],
   "source": [
    "# Counting missing values for each feature column\n",
    "missing_values = twitter_cs_df.select(*(spark_sum(col(c).isNull().cast(\"int\")).alias(c) for c in twitter_cs_df.columns))\n",
    "\n",
    "# Displaying the missing value count\n",
    "missing_values.show()"
   ]
  },
  {
   "cell_type": "markdown",
   "id": "ce265c62",
   "metadata": {},
   "source": [
    "We see that every column contains missing values. This is expected for 'response_tweet_id' and 'in_response_to_tweet_id' as not every tweet is in response or receieves a response. The missing values would need to be handled according to the analysis being conducted and the nature of the missing values, whether missing at random (MAR), missing completely at random (MCAR) or missing not at random (MNAR). Mising values may be imputed based on statistical findings, removed, flagged or ignored. Domain knowledge would significantly aid in determining the best method. In developing a predictive model, missing values could significatly impact the models performance. As our intent is to demontrate the effectiveness of processing and analysing big data using Spark, which we intent to do using map-reduce, word count and sentiment analysis of the 'text', we will ignore them for now."
   ]
  },
  {
   "cell_type": "markdown",
   "id": "527f75b2",
   "metadata": {},
   "source": [
    "#### Checking for duplicate rows"
   ]
  },
  {
   "cell_type": "code",
   "execution_count": 288,
   "id": "3e65d1df",
   "metadata": {},
   "outputs": [
    {
     "name": "stderr",
     "output_type": "stream",
     "text": [
      "                                                                                \r"
     ]
    },
    {
     "name": "stdout",
     "output_type": "stream",
     "text": [
      "Count of rows: 2966469\n"
     ]
    },
    {
     "name": "stderr",
     "output_type": "stream",
     "text": [
      "                                                                                \r"
     ]
    },
    {
     "name": "stdout",
     "output_type": "stream",
     "text": [
      "Count of distinct rows: 2954825\n"
     ]
    },
    {
     "name": "stderr",
     "output_type": "stream",
     "text": [
      "[Stage 669:========================================>                (5 + 2) / 7]\r"
     ]
    },
    {
     "name": "stdout",
     "output_type": "stream",
     "text": [
      "There are 11644 duplicate rows.\n"
     ]
    },
    {
     "name": "stderr",
     "output_type": "stream",
     "text": [
      "\r",
      "                                                                                \r"
     ]
    }
   ],
   "source": [
    "print('Count of rows: {0}'.format(twitter_cs_df.count()))\n",
    "print('Count of distinct rows: {0}'.format(twitter_cs_df.distinct().count()))\n",
    "dif = ((twitter_cs_df.count()) - (twitter_cs_df.distinct().count()))\n",
    "print(f'There are {dif} duplicate rows.')"
   ]
  },
  {
   "cell_type": "code",
   "execution_count": 289,
   "id": "034c02fb",
   "metadata": {},
   "outputs": [],
   "source": [
    "# # Remove duplicate rows\n",
    "# twitter_cs_df_no_duplicates = twitter_cs_df.dropDuplicates()\n",
    "\n",
    "# # Check the shape of the DataFrame after removing duplicates\n",
    "# num_rows_no_duplicates = twitter_cs_df_no_duplicates.count()\n",
    "# num_columns_no_duplicates = len(twitter_cs_df_no_duplicates.columns)\n",
    "\n",
    "# print(\"The shape of the DataFrame after removing duplicates:\\n\")\n",
    "# print(\"Number of Rows:\", num_rows_no_duplicates)\n",
    "# print(\"Number of Columns:\", num_columns_no_duplicates)"
   ]
  },
  {
   "cell_type": "code",
   "execution_count": 290,
   "id": "ec33676e",
   "metadata": {
    "scrolled": true
   },
   "outputs": [
    {
     "name": "stdout",
     "output_type": "stream",
     "text": [
      "Top 20 duplicates based on column 'tweet_id' in descending order of count:\n"
     ]
    },
    {
     "name": "stderr",
     "output_type": "stream",
     "text": [
      "                                                                                \r"
     ]
    },
    {
     "name": "stdout",
     "output_type": "stream",
     "text": [
      "+--------------------+-----+\n",
      "|            tweet_id|count|\n",
      "+--------------------+-----+\n",
      "|             Regards| 4484|\n",
      "|                Rgds| 1808|\n",
      "|               ^HSB\"| 1421|\n",
      "|               ^ACM\"|  980|\n",
      "|               ^ADP\"|  956|\n",
      "|               ^NHP\"|  918|\n",
      "|             -Andre\"|  913|\n",
      "|               ^TXA\"|  852|\n",
      "| https://t.co/EYp...|  846|\n",
      "|           Darshan.\"|  829|\n",
      "|               ^JAY\"|  807|\n",
      "|               ^TDC\"|  767|\n",
      "|               ^FEM\"|  745|\n",
      "|               ^BAB\"|  719|\n",
      "|              Thanks|  656|\n",
      "|             Amruta\"|  534|\n",
      "|               ^TNT\"|  518|\n",
      "|                ^RR\"|  508|\n",
      "|                ^MD\"|  496|\n",
      "|               ^CAR\"|  453|\n",
      "+--------------------+-----+\n",
      "only showing top 20 rows\n",
      "\n",
      "Top 20 duplicates based on column 'author_id' in descending order of count:\n"
     ]
    },
    {
     "name": "stderr",
     "output_type": "stream",
     "text": [
      "                                                                                \r"
     ]
    },
    {
     "name": "stdout",
     "output_type": "stream",
     "text": [
      "+---------------+------+\n",
      "|      author_id| count|\n",
      "+---------------+------+\n",
      "|     AmazonHelp|169840|\n",
      "|   AppleSupport|106860|\n",
      "|           null| 68072|\n",
      "|   Uber_Support| 56270|\n",
      "|   SpotifyCares| 43265|\n",
      "|          Delta| 42253|\n",
      "|          Tesco| 38573|\n",
      "|    AmericanAir| 36764|\n",
      "|    TMobileHelp| 34317|\n",
      "|   comcastcares| 33031|\n",
      "|British_Airways| 29361|\n",
      "|   SouthwestAir| 28977|\n",
      "|   VirginTrains| 27817|\n",
      "|   Ask_Spectrum| 25860|\n",
      "|    XboxSupport| 24557|\n",
      "|     sprintcare| 22381|\n",
      "|   hulu_support| 21872|\n",
      "|     sainsburys| 19466|\n",
      "|        GWRHelp| 19364|\n",
      "| AskPlayStation| 19098|\n",
      "+---------------+------+\n",
      "only showing top 20 rows\n",
      "\n",
      "Top 20 duplicates based on column 'inbound' in descending order of count:\n"
     ]
    },
    {
     "name": "stderr",
     "output_type": "stream",
     "text": [
      "                                                                                \r"
     ]
    },
    {
     "name": "stdout",
     "output_type": "stream",
     "text": [
      "+--------------------+-------+\n",
      "|             inbound|  count|\n",
      "+--------------------+-------+\n",
      "|                True|1537843|\n",
      "|               False|1273931|\n",
      "|                null|  86934|\n",
      "|                5965|     19|\n",
      "|              514494|     17|\n",
      "|                    |     13|\n",
      "|              961019|     10|\n",
      "| as we consider i...|      8|\n",
      "|             1296040|      8|\n",
      "|              625011|      8|\n",
      "|               50714|      7|\n",
      "|               32886|      7|\n",
      "|              727482|      7|\n",
      "|              776192|      7|\n",
      "|              691490|      6|\n",
      "|              778409|      6|\n",
      "|               37012|      6|\n",
      "|              323165|      6|\n",
      "| so kindly reply ...|      6|\n",
      "|               19137|      6|\n",
      "+--------------------+-------+\n",
      "only showing top 20 rows\n",
      "\n",
      "Top 20 duplicates based on column 'created_at' in descending order of count:\n"
     ]
    },
    {
     "name": "stderr",
     "output_type": "stream",
     "text": [
      "24/04/17 19:48:55 WARN RowBasedKeyValueBatch: Calling spill() on RowBasedKeyValueBatch. Will not spill but return 0.\n",
      "                                                                                \r"
     ]
    },
    {
     "name": "stdout",
     "output_type": "stream",
     "text": [
      "+--------------------+------+\n",
      "|          created_at| count|\n",
      "+--------------------+------+\n",
      "|                null|146363|\n",
      "|Wed Oct 18 10:15:...|    18|\n",
      "|Fri Dec 01 19:18:...|    15|\n",
      "|Sat Dec 02 00:53:...|    15|\n",
      "|Sun Nov 26 16:33:...|    14|\n",
      "|Fri Dec 01 19:23:...|    13|\n",
      "|Sun Nov 19 23:29:...|    13|\n",
      "|Fri Oct 27 13:00:...|    13|\n",
      "|Sat Nov 25 14:00:...|    12|\n",
      "|Sun Dec 03 17:43:...|    12|\n",
      "|Sun Nov 26 16:33:...|    12|\n",
      "|Sun Oct 08 10:32:...|    12|\n",
      "|Thu Nov 16 14:00:...|    12|\n",
      "|Fri Nov 03 18:48:...|    11|\n",
      "|Mon Nov 06 14:00:...|    11|\n",
      "|Fri Nov 17 16:53:...|    11|\n",
      "|Mon Nov 13 14:00:...|    11|\n",
      "|Mon Oct 16 18:18:...|    11|\n",
      "|Thu Oct 12 17:48:...|    11|\n",
      "|Thu Oct 05 04:22:...|    11|\n",
      "+--------------------+------+\n",
      "only showing top 20 rows\n",
      "\n",
      "Top 20 duplicates based on column 'text' in descending order of count:\n"
     ]
    },
    {
     "name": "stderr",
     "output_type": "stream",
     "text": [
      "24/04/17 19:49:02 WARN RowBasedKeyValueBatch: Calling spill() on RowBasedKeyValueBatch. Will not spill but return 0.\n",
      "24/04/17 19:49:02 WARN RowBasedKeyValueBatch: Calling spill() on RowBasedKeyValueBatch. Will not spill but return 0.\n",
      "24/04/17 19:49:02 WARN RowBasedKeyValueBatch: Calling spill() on RowBasedKeyValueBatch. Will not spill but return 0.\n",
      "24/04/17 19:49:02 WARN RowBasedKeyValueBatch: Calling spill() on RowBasedKeyValueBatch. Will not spill but return 0.\n",
      "24/04/17 19:49:08 WARN RowBasedKeyValueBatch: Calling spill() on RowBasedKeyValueBatch. Will not spill but return 0.\n",
      "24/04/17 19:49:08 WARN RowBasedKeyValueBatch: Calling spill() on RowBasedKeyValueBatch. Will not spill but return 0.\n",
      "24/04/17 19:49:08 WARN RowBasedKeyValueBatch: Calling spill() on RowBasedKeyValueBatch. Will not spill but return 0.\n",
      "24/04/17 19:49:08 WARN RowBasedKeyValueBatch: Calling spill() on RowBasedKeyValueBatch. Will not spill but return 0.\n",
      "                                                                                \r"
     ]
    },
    {
     "name": "stdout",
     "output_type": "stream",
     "text": [
      "+--------------------+------+\n",
      "|                text| count|\n",
      "+--------------------+------+\n",
      "|                null|153179|\n",
      "|       @ComcastCares|  3051|\n",
      "|     @AirAsiaSupport|   418|\n",
      "|            @115850 |   344|\n",
      "|@Uber_Support __e...|   315|\n",
      "|      @Uber_Support |   298|\n",
      "|@azuresupport #az...|   290|\n",
      "|        @AmazonHelp |   267|\n",
      "|      @AppleSupport |   256|\n",
      "|    @AirAsiaSupport |   222|\n",
      "|@HPSupport [TYPE ...|   202|\n",
      "|    @AskPlayStation |   188|\n",
      "| @VerizonSupport Yes|   179|\n",
      "|@AppleSupport 11.0.3|   177|\n",
      "|        @idea_cares |   176|\n",
      "|    @Safaricom_Care |   172|\n",
      "|     @AmazonHelp Yes|   165|\n",
      "|@ComcastCares: #m...|   150|\n",
      "|       @AppleSupport|   147|\n",
      "|  @Uber_Support Done|   142|\n",
      "+--------------------+------+\n",
      "only showing top 20 rows\n",
      "\n",
      "Top 20 duplicates based on column 'response_tweet_id' in descending order of count:\n"
     ]
    },
    {
     "name": "stderr",
     "output_type": "stream",
     "text": [
      "                                                                                \r"
     ]
    },
    {
     "name": "stdout",
     "output_type": "stream",
     "text": [
      "+--------------------+-------+\n",
      "|   response_tweet_id|  count|\n",
      "+--------------------+-------+\n",
      "|                null|1271596|\n",
      "| then change it b...|     13|\n",
      "|             right?\"|     11|\n",
      "| and entering you...|     10|\n",
      "| please visit; ht...|      9|\n",
      "|            please?\"|      7|\n",
      "|                   F|      7|\n",
      "|               etc.\"|      6|\n",
      "|                ^AK\"|      6|\n",
      "|              though|      5|\n",
      "| please try again...|      5|\n",
      "|                 M-F|      5|\n",
      "|            thanks!\"|      5|\n",
      "|            thanks.\"|      5|\n",
      "|                   -|      5|\n",
      "|          start over|      5|\n",
      "|         thank you.\"|      4|\n",
      "|       Monday-Friday|      4|\n",
      "| and then select ...|      4|\n",
      "| Weekly and Month...|      4|\n",
      "+--------------------+-------+\n",
      "only showing top 20 rows\n",
      "\n",
      "Top 20 duplicates based on column 'in_response_to_tweet_id' in descending order of count:\n"
     ]
    },
    {
     "name": "stderr",
     "output_type": "stream",
     "text": [
      "[Stage 691:==========================================>              (3 + 1) / 4]\r"
     ]
    },
    {
     "name": "stdout",
     "output_type": "stream",
     "text": [
      "+-----------------------+-------+\n",
      "|in_response_to_tweet_id|  count|\n",
      "+-----------------------+-------+\n",
      "|                   null|1010542|\n",
      "|                 625011|    827|\n",
      "|                 776192|    552|\n",
      "|                  37012|    291|\n",
      "|                  87814|    171|\n",
      "|                   5965|    164|\n",
      "|                2390546|    163|\n",
      "|                  56184|    160|\n",
      "|                 677161|    137|\n",
      "|                 615427|    136|\n",
      "|                    409|    133|\n",
      "|                 692392|    129|\n",
      "|                2572370|    127|\n",
      "|                 414715|    121|\n",
      "|                 189825|    117|\n",
      "|                  15807|    116|\n",
      "|                   5159|    114|\n",
      "|                  19541|    107|\n",
      "|                  82436|    104|\n",
      "|                1343823|    102|\n",
      "+-----------------------+-------+\n",
      "only showing top 20 rows\n",
      "\n"
     ]
    },
    {
     "name": "stderr",
     "output_type": "stream",
     "text": [
      "\r",
      "                                                                                \r"
     ]
    }
   ],
   "source": [
    "# List of columns that we want to iterate through\n",
    "columns_to_check = twitter_cs_df.columns\n",
    "\n",
    "#  for loop to iterate through each column to identify duplicate rows\n",
    "for col_name in columns_to_check:\n",
    "    \n",
    "    # Grouping the current column and the count occurrences\n",
    "    duplicate_rows = twitter_cs_df.groupBy(col_name).count().where('count > 1')\n",
    "    \n",
    "    # Sorting in descending order and display the top 20\n",
    "    print(f\"Top 20 duplicates based on column '{col_name}' in descending order of count:\")\n",
    "    duplicate_rows.orderBy(col(\"count\").desc()).show(n=20)"
   ]
  },
  {
   "cell_type": "markdown",
   "id": "8803beda",
   "metadata": {},
   "source": [
    "Again we find that the dataset contains numerous duplicate entries per column. This is to be expected as the same identifiers for 'author_id', 'response_tweet_id' and 'in_response_to_tweet_id' are being used to track teweets. 'inbound' is expected to be a catergorical varaible of either True or False but appears to conatin other values, while 'tweet_id' is expected to be unique and of integer type but also contains mixed values. As with the missing values, this would need to be handled based on the intended use. Ignoring them should not affect our sentiment or word frequency analysis, but we will clean the dataset to aid in further EDA with graphics. "
   ]
  },
  {
   "cell_type": "markdown",
   "id": "336c87d4",
   "metadata": {},
   "source": [
    "### Preprocessing: Data Types and Null values"
   ]
  },
  {
   "cell_type": "markdown",
   "id": "bea1e635",
   "metadata": {},
   "source": [
    " Type casting the 'tweet_id', 'response_tweet_id', and 'in_response_to_tweet_id' to there correct integer datatypes."
   ]
  },
  {
   "cell_type": "code",
   "execution_count": 291,
   "id": "04cf99ba",
   "metadata": {},
   "outputs": [],
   "source": [
    "# Converting tweet_id column to integer and dropping rows/filtering with non-integer values\n",
    "twitter_cs_preprocessing_df = twitter_cs_df.withColumn(\"tweet_id\", col(\"tweet_id\").cast(\"int\")) \\\n",
    "    .filter(col(\"tweet_id\").isNotNull())"
   ]
  },
  {
   "cell_type": "code",
   "execution_count": 292,
   "id": "e57d0f05",
   "metadata": {},
   "outputs": [],
   "source": [
    "from pyspark.sql.functions import col, when"
   ]
  },
  {
   "cell_type": "code",
   "execution_count": 293,
   "id": "a93632b0",
   "metadata": {},
   "outputs": [],
   "source": [
    "# Type Casting 'response_tweet_id' column to integer and replace missing values with 'None'\n",
    "twitter_cs_preprocessing_df = twitter_cs_preprocessing_df.withColumn(\"response_tweet_id\", \\\n",
    "    when(col(\"response_tweet_id\").isNull(), None).otherwise(col(\"response_tweet_id\").cast(\"int\")))"
   ]
  },
  {
   "cell_type": "code",
   "execution_count": 294,
   "id": "41b4bc08",
   "metadata": {},
   "outputs": [],
   "source": [
    "# Type Casting 'in_response_to_tweet_id' column to integer and replace missing values with 'None'\n",
    "twitter_cs_preprocessing_df = twitter_cs_preprocessing_df.withColumn(\"in_response_to_tweet_id\", \\\n",
    "    when(col(\"in_response_to_tweet_id\").isNull(), None).otherwise(col(\"in_response_to_tweet_id\").cast(\"int\")))"
   ]
  },
  {
   "cell_type": "code",
   "execution_count": 295,
   "id": "9fce0713",
   "metadata": {},
   "outputs": [
    {
     "name": "stdout",
     "output_type": "stream",
     "text": [
      "root\n",
      " |-- tweet_id: integer (nullable = true)\n",
      " |-- author_id: string (nullable = true)\n",
      " |-- inbound: string (nullable = true)\n",
      " |-- created_at: string (nullable = true)\n",
      " |-- text: string (nullable = true)\n",
      " |-- response_tweet_id: integer (nullable = true)\n",
      " |-- in_response_to_tweet_id: integer (nullable = true)\n",
      "\n"
     ]
    }
   ],
   "source": [
    "# Viewing the changes\n",
    "twitter_cs_preprocessing_df.printSchema()"
   ]
  },
  {
   "cell_type": "code",
   "execution_count": 296,
   "id": "9fb52128",
   "metadata": {},
   "outputs": [
    {
     "name": "stderr",
     "output_type": "stream",
     "text": [
      "[Stage 694:============================>                            (2 + 2) / 4]\r"
     ]
    },
    {
     "name": "stdout",
     "output_type": "stream",
     "text": [
      "The shape of the DataFrame:\n",
      "\n",
      "Number of Rows: 2812304\n",
      "Number of Columns: 7\n"
     ]
    },
    {
     "name": "stderr",
     "output_type": "stream",
     "text": [
      "\r",
      "[Stage 694:==========================================>              (3 + 1) / 4]\r",
      "\r",
      "                                                                                \r"
     ]
    }
   ],
   "source": [
    "# Checking the new shape of the DataFrame\n",
    "num_rows = twitter_cs_preprocessing_df.count()\n",
    "num_columns = len(twitter_cs_preprocessing_df.columns)\n",
    "\n",
    "print(\"The shape of the DataFrame:\\n\")\n",
    "print(\"Number of Rows:\", num_rows)\n",
    "print(\"Number of Columns:\", num_columns)"
   ]
  },
  {
   "cell_type": "markdown",
   "id": "883ad59e",
   "metadata": {},
   "source": [
    " Cleaning the 'inbound' column which should only contain 'True' and 'False' values but imputing others with 'Unknown'"
   ]
  },
  {
   "cell_type": "code",
   "execution_count": 297,
   "id": "6c2a8e0f",
   "metadata": {},
   "outputs": [],
   "source": [
    "# Importing sparksql function\n",
    "from pyspark.sql.functions import when"
   ]
  },
  {
   "cell_type": "code",
   "execution_count": 298,
   "id": "717bf726",
   "metadata": {},
   "outputs": [],
   "source": [
    "# Replace values other than 'True' or 'False', including null, with 'Unknown'\n",
    "twitter_cs_preprocessing_df = twitter_cs_preprocessing_df.withColumn(\"inbound\", when((col(\"inbound\") == \"True\") | \n",
    "                                                         (col(\"inbound\") == \"False\"), \n",
    "                                                         col(\"inbound\")).otherwise(\"Unknown\"))"
   ]
  },
  {
   "cell_type": "code",
   "execution_count": 299,
   "id": "d08abbee",
   "metadata": {
    "scrolled": true
   },
   "outputs": [
    {
     "name": "stderr",
     "output_type": "stream",
     "text": [
      "[Stage 697:============================>                            (2 + 2) / 4]\r"
     ]
    },
    {
     "name": "stdout",
     "output_type": "stream",
     "text": [
      "Unique values and their counts in 'inbound' column:\n",
      "False: 1273931\n",
      "Unknown: 530\n",
      "True: 1537843\n"
     ]
    },
    {
     "name": "stderr",
     "output_type": "stream",
     "text": [
      "\r",
      "                                                                                \r"
     ]
    }
   ],
   "source": [
    "unique_inbound_values = twitter_cs_preprocessing_df.groupBy(\"inbound\").count().collect()\n",
    "print(\"Unique values and their counts in 'inbound' column:\")\n",
    "for row in unique_inbound_values:\n",
    "    print(f\"{row['inbound']}: {row['count']}\")"
   ]
  },
  {
   "cell_type": "markdown",
   "id": "f0e1b8e2",
   "metadata": {},
   "source": [
    "Type casting the 'created_at' column to its correct data type datetime using timestamp"
   ]
  },
  {
   "cell_type": "code",
   "execution_count": 300,
   "id": "199238fb",
   "metadata": {},
   "outputs": [],
   "source": [
    "from pyspark.sql.functions import to_timestamp"
   ]
  },
  {
   "cell_type": "code",
   "execution_count": 301,
   "id": "25fe34f7",
   "metadata": {},
   "outputs": [],
   "source": [
    "spark.conf.set(\"spark.sql.legacy.timeParserPolicy\", \"LEGACY\")"
   ]
  },
  {
   "cell_type": "code",
   "execution_count": 302,
   "id": "943ecba4",
   "metadata": {},
   "outputs": [],
   "source": [
    "# Casting 'created_at' column to datetime\n",
    "twitter_cs_preprocessing_df = twitter_cs_preprocessing_df.withColumn(\"created_at\", \\\n",
    "    to_timestamp(\"created_at\", \"EEE MMM dd HH:mm:ss Z yyyy\"))"
   ]
  },
  {
   "cell_type": "code",
   "execution_count": 303,
   "id": "cceb9623",
   "metadata": {
    "scrolled": false
   },
   "outputs": [
    {
     "name": "stdout",
     "output_type": "stream",
     "text": [
      "+--------+------------+-------+-------------------+--------------------+-----------------+-----------------------+\n",
      "|tweet_id|   author_id|inbound|         created_at|                text|response_tweet_id|in_response_to_tweet_id|\n",
      "+--------+------------+-------+-------------------+--------------------+-----------------+-----------------------+\n",
      "|       1|  sprintcare|  False|2017-10-31 22:10:47|@115712 I underst...|                2|                      3|\n",
      "|       2|      115712|   True|2017-10-31 22:11:45|@sprintcare and h...|             null|                      1|\n",
      "|       3|      115712|   True|2017-10-31 22:08:27|@sprintcare I hav...|                1|                      4|\n",
      "|       4|  sprintcare|  False|2017-10-31 21:54:49|@115712 Please se...|                3|                      5|\n",
      "|       5|      115712|   True|2017-10-31 21:49:35|  @sprintcare I did.|                4|                      6|\n",
      "|       6|  sprintcare|  False|2017-10-31 21:46:24|@115712 Can you p...|             null|                      8|\n",
      "|       8|      115712|   True|2017-10-31 21:45:10|@sprintcare is th...|             null|                   null|\n",
      "|      11|  sprintcare|  False|2017-10-31 22:10:35|@115713 This is s...|             null|                     12|\n",
      "|      12|      115713|   True|2017-10-31 22:04:47|@sprintcare You g...|             null|                     15|\n",
      "|      15|  sprintcare|  False|2017-10-31 20:03:31|@115713 We unders...|               12|                     16|\n",
      "|      16|      115713|   True|2017-10-31 20:00:43|@sprintcare Since...|               15|                     17|\n",
      "|      17|  sprintcare|  False|2017-10-31 19:59:13|@115713 H there! ...|               16|                     18|\n",
      "|      18|      115713|   True|2017-10-31 19:56:01|@115714 y’all lie...|               17|                   null|\n",
      "|      19|  sprintcare|  False|2017-10-31 22:10:10|@115715 Please se...|             null|                     20|\n",
      "|      20|      115715|   True|2017-10-31 22:03:34|@115714 whenever ...|               19|                   null|\n",
      "|      21|Ask_Spectrum|  False|2017-10-31 22:14:37|@115716 What info...|             null|                     24|\n",
      "|      22|      115716|   True|2017-10-31 22:16:48|@Ask_Spectrum Wou...|               25|                     21|\n",
      "|      25|Ask_Spectrum|  False|2017-10-31 22:18:28|@115716 Our depar...|               26|                     22|\n",
      "|      26|      115716|   True|2017-10-31 22:19:56|@Ask_Spectrum I r...|               27|                     25|\n",
      "|      27|Ask_Spectrum|  False|2017-10-31 22:21:26|@115716 No thank ...|             null|                     26|\n",
      "+--------+------------+-------+-------------------+--------------------+-----------------+-----------------------+\n",
      "only showing top 20 rows\n",
      "\n"
     ]
    }
   ],
   "source": [
    "twitter_cs_preprocessing_df.show()"
   ]
  },
  {
   "cell_type": "code",
   "execution_count": 304,
   "id": "08b76744",
   "metadata": {},
   "outputs": [
    {
     "name": "stdout",
     "output_type": "stream",
     "text": [
      "root\n",
      " |-- tweet_id: integer (nullable = true)\n",
      " |-- author_id: string (nullable = true)\n",
      " |-- inbound: string (nullable = true)\n",
      " |-- created_at: timestamp (nullable = true)\n",
      " |-- text: string (nullable = true)\n",
      " |-- response_tweet_id: integer (nullable = true)\n",
      " |-- in_response_to_tweet_id: integer (nullable = true)\n",
      "\n"
     ]
    }
   ],
   "source": [
    "# Viewing the changes\n",
    "twitter_cs_preprocessing_df.printSchema()"
   ]
  },
  {
   "cell_type": "markdown",
   "id": "3c93cc3d",
   "metadata": {},
   "source": [
    "### EDA: Statistical Description"
   ]
  },
  {
   "cell_type": "code",
   "execution_count": 305,
   "id": "2f7c2d06",
   "metadata": {
    "scrolled": false
   },
   "outputs": [
    {
     "name": "stdout",
     "output_type": "stream",
     "text": [
      "\n",
      "Basic Statistics for Numerical Columns:\n"
     ]
    },
    {
     "name": "stderr",
     "output_type": "stream",
     "text": [
      "[Stage 701:==========================================>              (3 + 1) / 4]\r"
     ]
    },
    {
     "name": "stdout",
     "output_type": "stream",
     "text": [
      "+-------+------------------+------------------+-------+-------------------+------------------+-----------------------+\n",
      "|summary|          tweet_id|         author_id|inbound|               text| response_tweet_id|in_response_to_tweet_id|\n",
      "+-------+------------------+------------------+-------+-------------------+------------------+-----------------------+\n",
      "|  count|           2812304|           2811828|2812304|            2811783|           1477184|                1953086|\n",
      "|   mean|1508979.4198792165|423300.33347682294|   null|  1.3826924659675E9|1514870.6502284075|     1463420.6321385745|\n",
      "| stddev|2176779.8277876023|207169.43218544274|   null|3.174050310345598E9| 865950.1322858942|      864586.6791693122|\n",
      "|    min|             -2017|              1331|  False|              69.61|                 1|                      0|\n",
      "|    max|        1403649393|        sprintcare|Unknown|        🧕🏽 @delta|           2987947|                2987950|\n",
      "+-------+------------------+------------------+-------+-------------------+------------------+-----------------------+\n",
      "\n"
     ]
    },
    {
     "name": "stderr",
     "output_type": "stream",
     "text": [
      "\r",
      "                                                                                \r"
     ]
    }
   ],
   "source": [
    "# Viewing the basic statistics for numerical columns\n",
    "print(\"\\nBasic Statistics for Numerical Columns:\")\n",
    "twitter_cs_preprocessing_df.describe().show()"
   ]
  },
  {
   "cell_type": "code",
   "execution_count": 306,
   "id": "1d38cb42",
   "metadata": {},
   "outputs": [
    {
     "name": "stderr",
     "output_type": "stream",
     "text": [
      "[Stage 704:==========================================>              (3 + 1) / 4]\r"
     ]
    },
    {
     "name": "stdout",
     "output_type": "stream",
     "text": [
      "\n",
      "Basic Statistics for Numerical Columns:\n"
     ]
    },
    {
     "name": "stderr",
     "output_type": "stream",
     "text": [
      "\r",
      "                                                                                \r"
     ]
    },
    {
     "data": {
      "text/html": [
       "<div>\n",
       "<style scoped>\n",
       "    .dataframe tbody tr th:only-of-type {\n",
       "        vertical-align: middle;\n",
       "    }\n",
       "\n",
       "    .dataframe tbody tr th {\n",
       "        vertical-align: top;\n",
       "    }\n",
       "\n",
       "    .dataframe thead th {\n",
       "        text-align: right;\n",
       "    }\n",
       "</style>\n",
       "<table border=\"1\" class=\"dataframe\">\n",
       "  <thead>\n",
       "    <tr style=\"text-align: right;\">\n",
       "      <th></th>\n",
       "      <th>summary</th>\n",
       "      <th>tweet_id</th>\n",
       "      <th>author_id</th>\n",
       "      <th>inbound</th>\n",
       "      <th>text</th>\n",
       "      <th>response_tweet_id</th>\n",
       "      <th>in_response_to_tweet_id</th>\n",
       "    </tr>\n",
       "  </thead>\n",
       "  <tbody>\n",
       "    <tr>\n",
       "      <th>0</th>\n",
       "      <td>count</td>\n",
       "      <td>2812304</td>\n",
       "      <td>2811828</td>\n",
       "      <td>2812304</td>\n",
       "      <td>2811783</td>\n",
       "      <td>1477184</td>\n",
       "      <td>1953086</td>\n",
       "    </tr>\n",
       "    <tr>\n",
       "      <th>1</th>\n",
       "      <td>mean</td>\n",
       "      <td>1508979.4198792165</td>\n",
       "      <td>423300.33347682294</td>\n",
       "      <td>None</td>\n",
       "      <td>1.3826924659675E9</td>\n",
       "      <td>1514870.6502284075</td>\n",
       "      <td>1463420.6321385745</td>\n",
       "    </tr>\n",
       "    <tr>\n",
       "      <th>2</th>\n",
       "      <td>stddev</td>\n",
       "      <td>2176779.8277876023</td>\n",
       "      <td>207169.43218544274</td>\n",
       "      <td>None</td>\n",
       "      <td>3.174050310345598E9</td>\n",
       "      <td>865950.1322858942</td>\n",
       "      <td>864586.6791693122</td>\n",
       "    </tr>\n",
       "    <tr>\n",
       "      <th>3</th>\n",
       "      <td>min</td>\n",
       "      <td>-2017</td>\n",
       "      <td>1331</td>\n",
       "      <td>False</td>\n",
       "      <td>69.61</td>\n",
       "      <td>1</td>\n",
       "      <td>0</td>\n",
       "    </tr>\n",
       "    <tr>\n",
       "      <th>4</th>\n",
       "      <td>max</td>\n",
       "      <td>1403649393</td>\n",
       "      <td>sprintcare</td>\n",
       "      <td>Unknown</td>\n",
       "      <td>🧕🏽 @delta</td>\n",
       "      <td>2987947</td>\n",
       "      <td>2987950</td>\n",
       "    </tr>\n",
       "  </tbody>\n",
       "</table>\n",
       "</div>"
      ],
      "text/plain": [
       "  summary            tweet_id           author_id  inbound  \\\n",
       "0   count             2812304             2811828  2812304   \n",
       "1    mean  1508979.4198792165  423300.33347682294     None   \n",
       "2  stddev  2176779.8277876023  207169.43218544274     None   \n",
       "3     min               -2017                1331    False   \n",
       "4     max          1403649393          sprintcare  Unknown   \n",
       "\n",
       "                  text   response_tweet_id in_response_to_tweet_id  \n",
       "0              2811783             1477184                 1953086  \n",
       "1    1.3826924659675E9  1514870.6502284075      1463420.6321385745  \n",
       "2  3.174050310345598E9   865950.1322858942       864586.6791693122  \n",
       "3                69.61                   1                       0  \n",
       "4            🧕🏽 @delta             2987947                 2987950  "
      ]
     },
     "execution_count": 306,
     "metadata": {},
     "output_type": "execute_result"
    }
   ],
   "source": [
    "# Convert Spark DataFrame to Pandas DataFrame\n",
    "statistics_pd = twitter_cs_preprocessing_df.describe().toPandas()\n",
    "\n",
    "# Display the Pandas DataFrame\n",
    "print(\"\\nBasic Statistics for Numerical Columns:\")\n",
    "statistics_pd"
   ]
  },
  {
   "cell_type": "markdown",
   "id": "e3e6e95a",
   "metadata": {},
   "source": [
    "### EDA: with Graphics"
   ]
  },
  {
   "cell_type": "code",
   "execution_count": 307,
   "id": "386ddb0e",
   "metadata": {},
   "outputs": [
    {
     "name": "stderr",
     "output_type": "stream",
     "text": [
      "[Stage 707:==========================================>              (3 + 1) / 4]\r"
     ]
    },
    {
     "name": "stdout",
     "output_type": "stream",
     "text": [
      "+---------------+------+\n",
      "|      author_id| count|\n",
      "+---------------+------+\n",
      "|     AmazonHelp|169840|\n",
      "|   AppleSupport|106860|\n",
      "|   Uber_Support| 56270|\n",
      "|   SpotifyCares| 43265|\n",
      "|          Delta| 42253|\n",
      "|          Tesco| 38573|\n",
      "|    AmericanAir| 36764|\n",
      "|    TMobileHelp| 34317|\n",
      "|   comcastcares| 33031|\n",
      "|British_Airways| 29361|\n",
      "|   SouthwestAir| 28977|\n",
      "|   VirginTrains| 27817|\n",
      "|   Ask_Spectrum| 25860|\n",
      "|    XboxSupport| 24557|\n",
      "|     sprintcare| 22381|\n",
      "|   hulu_support| 21872|\n",
      "|     sainsburys| 19466|\n",
      "|        GWRHelp| 19364|\n",
      "| AskPlayStation| 19098|\n",
      "| ChipotleTweets| 18749|\n",
      "+---------------+------+\n",
      "only showing top 20 rows\n",
      "\n"
     ]
    },
    {
     "name": "stderr",
     "output_type": "stream",
     "text": [
      "\r",
      "                                                                                \r"
     ]
    }
   ],
   "source": [
    "# Grouping by author_id and counting the occurrences\n",
    "author_counts = twitter_cs_preprocessing_df.groupBy(\"author_id\").count().orderBy(\"count\", ascending=False)\n",
    "author_counts.show()"
   ]
  },
  {
   "cell_type": "code",
   "execution_count": 308,
   "id": "4847e462",
   "metadata": {},
   "outputs": [],
   "source": [
    "# Importing libraries for visuals\n",
    "import matplotlib.pyplot as plt\n",
    "import seaborn as sns"
   ]
  },
  {
   "cell_type": "code",
   "execution_count": 309,
   "id": "dd679974",
   "metadata": {},
   "outputs": [
    {
     "name": "stderr",
     "output_type": "stream",
     "text": [
      "                                                                                \r"
     ]
    }
   ],
   "source": [
    "# Converting to Pandas DataFrame and limiting to the top 15 authors\n",
    "top_authors_pd = author_counts.limit(20).toPandas()"
   ]
  },
  {
   "cell_type": "code",
   "execution_count": 310,
   "id": "ed4c6391",
   "metadata": {},
   "outputs": [],
   "source": [
    "# Filtering out null values before plotting\n",
    "top_authors_pd_filtered = top_authors_pd[top_authors_pd['author_id'].notna()]"
   ]
  },
  {
   "cell_type": "code",
   "execution_count": 311,
   "id": "4e42c07a",
   "metadata": {},
   "outputs": [
    {
     "name": "stderr",
     "output_type": "stream",
     "text": [
      "/tmp/ipykernel_4431/2704774328.py:3: FutureWarning: \n",
      "\n",
      "Passing `palette` without assigning `hue` is deprecated and will be removed in v0.14.0. Assign the `x` variable to `hue` and set `legend=False` for the same effect.\n",
      "\n",
      "  sns.barplot(x = top_authors_pd_filtered[\"author_id\"], y = top_authors_pd_filtered[\"count\"], palette='viridis')\n"
     ]
    },
    {
     "data": {
      "image/png": "[encoded data removed]",
      "text/plain": [
       "<Figure size 1080x720 with 1 Axes>"
      ]
     },
     "metadata": {
      "needs_background": "light"
     },
     "output_type": "display_data"
    }
   ],
   "source": [
    "# Plotting the distribution of top 120 tweet authors\n",
    "plt.figure(figsize=(15, 10))\n",
    "sns.barplot(x = top_authors_pd_filtered[\"author_id\"], y = top_authors_pd_filtered[\"count\"], palette='viridis')\n",
    "plt.xlabel('Author ID', fontsize = 15)\n",
    "plt.ylabel('Number of Tweets', fontsize = 15)\n",
    "plt.title('Distribution of Top 15 Tweet Authors', fontsize = 18)\n",
    "plt.xticks(rotation=45, ha='right') \n",
    "plt.tight_layout()\n",
    "plt.show()"
   ]
  },
  {
   "cell_type": "markdown",
   "id": "f6b55b38",
   "metadata": {},
   "source": [
    "From the information within this dataset we find that AmazonHelp and AppleSupport customer support are the most frequently tweeting customer support teams with almost twice as meany as the remaining top 20 combined."
   ]
  },
  {
   "cell_type": "code",
   "execution_count": 312,
   "id": "f1e4968a",
   "metadata": {
    "scrolled": false
   },
   "outputs": [
    {
     "name": "stderr",
     "output_type": "stream",
     "text": [
      "                                                                                \r"
     ]
    }
   ],
   "source": [
    "# Grouping the data by 'inbound' column and counting the occurrences\n",
    "inbound_outbound_counts = twitter_cs_preprocessing_df.groupBy(\"inbound\").count().toPandas()"
   ]
  },
  {
   "cell_type": "code",
   "execution_count": 313,
   "id": "abf59c62",
   "metadata": {},
   "outputs": [],
   "source": [
    "# Sorting the DataFrame by count in descending order\n",
    "inbound_outbound_counts = inbound_outbound_counts.sort_values(by=\"count\", ascending=False)"
   ]
  },
  {
   "cell_type": "code",
   "execution_count": 314,
   "id": "2f0db627",
   "metadata": {},
   "outputs": [],
   "source": [
    "# Converting counts to millions for readability\n",
    "inbound_outbound_counts[\"count_millions\"] = inbound_outbound_counts[\"count\"] / 1000000"
   ]
  },
  {
   "cell_type": "code",
   "execution_count": 315,
   "id": "abd42279",
   "metadata": {},
   "outputs": [
    {
     "name": "stderr",
     "output_type": "stream",
     "text": [
      "/tmp/ipykernel_4431/40282955.py:3: FutureWarning: \n",
      "\n",
      "Passing `palette` without assigning `hue` is deprecated and will be removed in v0.14.0. Assign the `x` variable to `hue` and set `legend=False` for the same effect.\n",
      "\n",
      "  ax = sns.barplot(data = inbound_outbound_counts, x = \"inbound\", y = \"count_millions\", palette='Dark2')\n"
     ]
    },
    {
     "data": {
      "image/png": "[encoded data removed]",
      "text/plain": [
       "<Figure size 1080x720 with 1 Axes>"
      ]
     },
     "metadata": {
      "needs_background": "light"
     },
     "output_type": "display_data"
    }
   ],
   "source": [
    "# Plotting the distribution of 'inbound'\n",
    "plt.figure(figsize=(15, 10))\n",
    "ax = sns.barplot(data = inbound_outbound_counts, x = \"inbound\", y = \"count_millions\", palette='Dark2')\n",
    "plt.xlabel('Inbound', fontsize = 15)\n",
    "plt.ylabel('Number of Tweets (Millions)', fontsize = 15)\n",
    "plt.title('Distribution of Inbound to Customer Support vs. Outbound Tweets', fontsize = 18)\n",
    "for index, value in enumerate(inbound_outbound_counts[\"count_millions\"]):\n",
    "    plt.text(index, value, str(value), ha ='center', va = 'bottom',  fontsize=10)\n",
    "\n",
    "plt.show()"
   ]
  },
  {
   "cell_type": "markdown",
   "id": "db5d157e",
   "metadata": {},
   "source": [
    "Based on the visual above we find that customer support teams do not respond to every tweet directed there way."
   ]
  },
  {
   "cell_type": "code",
   "execution_count": 316,
   "id": "5388207a",
   "metadata": {},
   "outputs": [],
   "source": [
    "from pyspark.sql.functions import length"
   ]
  },
  {
   "cell_type": "code",
   "execution_count": 317,
   "id": "6f9e4118",
   "metadata": {
    "scrolled": true
   },
   "outputs": [],
   "source": [
    "# Calculating lengths of each tweet\n",
    "twitter_cs_preprocessing_df2 = twitter_cs_preprocessing_df.withColumn(\"tweet_length\", length(\"text\"))"
   ]
  },
  {
   "cell_type": "code",
   "execution_count": 318,
   "id": "6e63d42f",
   "metadata": {},
   "outputs": [
    {
     "name": "stdout",
     "output_type": "stream",
     "text": [
      "+--------+------------+-------+--------------+--------------+-----------------+-----------------------+------------+\n",
      "|tweet_id|   author_id|inbound|    created_at|          text|response_tweet_id|in_response_to_tweet_id|tweet_length|\n",
      "+--------+------------+-------+--------------+--------------+-----------------+-----------------------+------------+\n",
      "|       1|  sprintcare|  False|2017-10-31 ...|@115712 I u...|                2|                      3|         121|\n",
      "|       2|      115712|   True|2017-10-31 ...|@sprintcare...|             null|                      1|          45|\n",
      "|       3|      115712|   True|2017-10-31 ...|@sprintcare...|                1|                      4|          82|\n",
      "|       4|  sprintcare|  False|2017-10-31 ...|@115712 Ple...|                3|                      5|         124|\n",
      "|       5|      115712|   True|2017-10-31 ...|@sprintcare...|                4|                      6|          18|\n",
      "|       6|  sprintcare|  False|2017-10-31 ...|@115712 Can...|             null|                      8|         104|\n",
      "|       8|      115712|   True|2017-10-31 ...|@sprintcare...|             null|                   null|          41|\n",
      "|      11|  sprintcare|  False|2017-10-31 ...|@115713 Thi...|             null|                     12|          99|\n",
      "|      12|      115713|   True|2017-10-31 ...|@sprintcare...|             null|                     15|          89|\n",
      "|      15|  sprintcare|  False|2017-10-31 ...|@115713 We ...|               12|                     16|         132|\n",
      "|      16|      115713|   True|2017-10-31 ...|@sprintcare...|               15|                     17|          53|\n",
      "|      17|  sprintcare|  False|2017-10-31 ...|@115713 H t...|               16|                     18|         115|\n",
      "|      18|      115713|   True|2017-10-31 ...|@115714 y’a...|               17|                   null|          93|\n",
      "|      19|  sprintcare|  False|2017-10-31 ...|@115715 Ple...|             null|                     20|         100|\n",
      "|      20|      115715|   True|2017-10-31 ...|@115714 whe...|               19|                   null|         164|\n",
      "|      21|Ask_Spectrum|  False|2017-10-31 ...|@115716 Wha...|             null|                     24|          42|\n",
      "|      22|      115716|   True|2017-10-31 ...|@Ask_Spectr...|               25|                     21|         104|\n",
      "|      25|Ask_Spectrum|  False|2017-10-31 ...|@115716 Our...|               26|                     22|         148|\n",
      "|      26|      115716|   True|2017-10-31 ...|@Ask_Spectr...|               27|                     25|          79|\n",
      "|      27|Ask_Spectrum|  False|2017-10-31 ...|@115716 No ...|             null|                     26|          25|\n",
      "+--------+------------+-------+--------------+--------------+-----------------+-----------------------+------------+\n",
      "only showing top 20 rows\n",
      "\n"
     ]
    }
   ],
   "source": [
    "twitter_cs_preprocessing_df2.show(truncate = 14)"
   ]
  },
  {
   "cell_type": "code",
   "execution_count": 319,
   "id": "5b646a85",
   "metadata": {},
   "outputs": [
    {
     "name": "stdout",
     "output_type": "stream",
     "text": [
      "+--------------------------------------------------------------------------------------------------------------------------------------------------------------------+------------+\n",
      "|text                                                                                                                                                                |tweet_length|\n",
      "+--------------------------------------------------------------------------------------------------------------------------------------------------------------------+------------+\n",
      "|@115712 I understand. I would like to assist you. We would need to get you into a private secured link to further assist.                                           |121         |\n",
      "|@sprintcare and how do you propose we do that                                                                                                                       |45          |\n",
      "|@sprintcare I have sent several private messages and no one is responding as usual                                                                                  |82          |\n",
      "|@115712 Please send us a Private Message so that we can further assist you. Just click ‘Message’ at the top of your profile.                                        |124         |\n",
      "|@sprintcare I did.                                                                                                                                                  |18          |\n",
      "|@115712 Can you please send us a private message, so that I can gain further details about your account?                                                            |104         |\n",
      "|@sprintcare is the worst customer service                                                                                                                           |41          |\n",
      "|@115713 This is saddening to hear. Please shoot us a DM, so that we can look into this for you. -KC                                                                 |99          |\n",
      "|@sprintcare You gonna magically change your connectivity for me and my whole family ? 🤥 💯                                                                         |89          |\n",
      "|@115713 We understand your concerns and we'd like for you to please send us a Direct Message, so that we can further assist you. -AA                                |132         |\n",
      "|@sprintcare Since I signed up with you....Since day 1                                                                                                               |53          |\n",
      "|@115713 H there! We'd definitely like to work with you on this, how long have you been experiencing this issue? -AA                                                 |115         |\n",
      "|@115714 y’all lie about your “great” connection. 5 bars LTE, still won’t load something. Smh.                                                                       |93          |\n",
      "|@115715 Please send me a private message so that I can send you the link to access your account. -FR                                                                |100         |\n",
      "|@115714 whenever I contact customer support, they tell me I have shortcode enabled on my account, but I have never in the 4 years I've tried https://t.co/0G98RtNxPK|164         |\n",
      "|@115716 What information is incorrect? ^JK                                                                                                                          |42          |\n",
      "|@Ask_Spectrum Would you like me to email you a copy of one since Spectrum is not updating your training?                                                            |104         |\n",
      "|@115716 Our department is part of the corporate office.  If you're particular area has gone to this format, we were unawa... https://t.co/P7XCmTzPQj                |148         |\n",
      "|@Ask_Spectrum I received this from your corporate office would you like a copy?                                                                                     |79          |\n",
      "|@115716 No thank you. ^JK                                                                                                                                           |25          |\n",
      "+--------------------------------------------------------------------------------------------------------------------------------------------------------------------+------------+\n",
      "only showing top 20 rows\n",
      "\n"
     ]
    }
   ],
   "source": [
    "twitter_cs_preprocessing_df2.select('text', 'tweet_length').show(truncate=False)"
   ]
  },
  {
   "cell_type": "code",
   "execution_count": 320,
   "id": "93e63131",
   "metadata": {},
   "outputs": [
    {
     "name": "stderr",
     "output_type": "stream",
     "text": [
      "                                                                                \r"
     ]
    }
   ],
   "source": [
    "# Converting from Spark DataFrame to Pandas DataFrame for plotting\n",
    "tweet_length_pd = twitter_cs_preprocessing_df2.select(\"tweet_length\").toPandas()"
   ]
  },
  {
   "cell_type": "code",
   "execution_count": 321,
   "id": "71600a4c",
   "metadata": {},
   "outputs": [
    {
     "data": {
      "text/plain": [
       "count   2811783.00\n",
       "mean        111.34\n",
       "std          52.26\n",
       "min           1.00\n",
       "25%          75.00\n",
       "50%         113.00\n",
       "75%         139.00\n",
       "max         513.00\n",
       "Name: tweet_length, dtype: float64"
      ]
     },
     "execution_count": 321,
     "metadata": {},
     "output_type": "execute_result"
    }
   ],
   "source": [
    "import pandas as pd\n",
    "\n",
    "# Disabling scientific notation\n",
    "pd.options.display.float_format = '{:.2f}'.format\n",
    "\n",
    "tweet_length_pd['tweet_length'].describe()"
   ]
  },
  {
   "cell_type": "code",
   "execution_count": 322,
   "id": "e5befde8",
   "metadata": {},
   "outputs": [
    {
     "data": {
      "image/png": "[encoded data removed]",
      "text/plain": [
       "<Figure size 1080x720 with 1 Axes>"
      ]
     },
     "metadata": {
      "needs_background": "light"
     },
     "output_type": "display_data"
    }
   ],
   "source": [
    "plt.figure(figsize=(15, 10))\n",
    "plt.hist(tweet_length_pd[\"tweet_length\"], bins=50, color='SeaGreen', edgecolor='black')\n",
    "plt.xlabel('Tweet Length (Characters)', fontsize = 15)\n",
    "plt.ylabel('Frequency', fontsize = 15)\n",
    "plt.title('Histogram of Tweet Lengths by Number of Characters', fontsize = 18)\n",
    "plt.grid(True)\n",
    "plt.show()"
   ]
  },
  {
   "cell_type": "markdown",
   "id": "e10fb132",
   "metadata": {},
   "source": [
    "We find that the distribution of characters for tweets is right skewed. Most tweets contain around 111 characters with a standard deviation of around 52 characters. There are outliers with over 500 characters."
   ]
  },
  {
   "cell_type": "code",
   "execution_count": 323,
   "id": "0ad424d2",
   "metadata": {},
   "outputs": [],
   "source": [
    "#from pyspark.sql.functions import year, month\n",
    "from pyspark.sql import functions as F\n",
    "from pyspark.sql.functions import col, date_format, dayofweek, month, year"
   ]
  },
  {
   "cell_type": "code",
   "execution_count": 324,
   "id": "bde953db",
   "metadata": {},
   "outputs": [],
   "source": [
    "twitter_cs_preprocessing_df3 = twitter_cs_preprocessing_df2.filter(col(\"created_at\").isNotNull())\n",
    "\n",
    "# Engineering new columns for plotting\n",
    "twitter_cs_preprocessing_df3 = twitter_cs_preprocessing_df3.withColumn(\"day_of_week\", dayofweek(\"created_at\"))\n",
    "twitter_cs_preprocessing_df3 = twitter_cs_preprocessing_df3.withColumn(\"month\", month(\"created_at\"))\n",
    "twitter_cs_preprocessing_df3 = twitter_cs_preprocessing_df3.withColumn(\"year\", year(\"created_at\"))"
   ]
  },
  {
   "cell_type": "code",
   "execution_count": 325,
   "id": "be9f36cc",
   "metadata": {},
   "outputs": [],
   "source": [
    "# Grouping by and counting tweets by the days of the week\n",
    "tweets_by_day_of_week = twitter_cs_preprocessing_df3.groupBy(\"day_of_week\").count().orderBy(\"day_of_week\")"
   ]
  },
  {
   "cell_type": "code",
   "execution_count": 326,
   "id": "88d25dc6",
   "metadata": {},
   "outputs": [
    {
     "name": "stderr",
     "output_type": "stream",
     "text": [
      "                                                                                \r"
     ]
    }
   ],
   "source": [
    "tweets_by_day_of_week_pd = tweets_by_day_of_week.toPandas()"
   ]
  },
  {
   "cell_type": "code",
   "execution_count": 327,
   "id": "59a29193",
   "metadata": {},
   "outputs": [
    {
     "name": "stderr",
     "output_type": "stream",
     "text": [
      "/tmp/ipykernel_4431/3077784446.py:2: FutureWarning: \n",
      "\n",
      "Passing `palette` without assigning `hue` is deprecated and will be removed in v0.14.0. Assign the `x` variable to `hue` and set `legend=False` for the same effect.\n",
      "\n",
      "  sns.barplot(x=\"day_of_week\", y=\"count\", data=tweets_by_day_of_week_pd, palette=\"Dark2\")\n"
     ]
    },
    {
     "data": {
      "image/png": "[encoded data removed]",
      "text/plain": [
       "<Figure size 864x576 with 1 Axes>"
      ]
     },
     "metadata": {
      "needs_background": "light"
     },
     "output_type": "display_data"
    }
   ],
   "source": [
    "plt.figure(figsize=(12, 8))\n",
    "sns.barplot(x=\"day_of_week\", y=\"count\", data=tweets_by_day_of_week_pd, palette=\"Dark2\")\n",
    "plt.xlabel('Day of the Week', fontsize = 15)\n",
    "plt.ylabel('Number of Tweets', fontsize = 15)\n",
    "plt.title('Number of Tweets by Day of the Week', fontsize = 18)\n",
    "plt.xticks(range(0, 7), ['Monday', 'Tuesday', 'Wednesday', 'Thursday', 'Friday', 'Saturday', 'Sunday'])\n",
    "plt.grid(axis = 'y')\n",
    "plt.tight_layout()\n",
    "plt.show()"
   ]
  },
  {
   "cell_type": "markdown",
   "id": "a90c3015",
   "metadata": {},
   "source": [
    "From the visual above we find that the fewest tweet to and from customer support occur on a Monday and Sunday, while Thursday, Friday and Saturday produce the highest traffic. This is useful information when allocating resources for customer support."
   ]
  },
  {
   "cell_type": "code",
   "execution_count": 328,
   "id": "19d86029",
   "metadata": {},
   "outputs": [
    {
     "name": "stderr",
     "output_type": "stream",
     "text": [
      "                                                                                \r"
     ]
    },
    {
     "name": "stdout",
     "output_type": "stream",
     "text": [
      "The shape of the DataFrame:\n",
      "\n",
      "Number of Rows: 2812304\n",
      "Number of Columns: 7\n"
     ]
    }
   ],
   "source": [
    "# Checking the new shape of the DataFrame\n",
    "num_rows = twitter_cs_preprocessing_df.count()\n",
    "num_columns = len(twitter_cs_preprocessing_df.columns)\n",
    "\n",
    "print(\"The shape of the DataFrame:\\n\")\n",
    "print(\"Number of Rows:\", num_rows)\n",
    "print(\"Number of Columns:\", num_columns)"
   ]
  },
  {
   "cell_type": "code",
   "execution_count": 329,
   "id": "549d19e8",
   "metadata": {
    "scrolled": false
   },
   "outputs": [
    {
     "name": "stdout",
     "output_type": "stream",
     "text": [
      "+--------+------------+-------+-------------------+--------------------+-----------------+-----------------------+\n",
      "|tweet_id|   author_id|inbound|         created_at|                text|response_tweet_id|in_response_to_tweet_id|\n",
      "+--------+------------+-------+-------------------+--------------------+-----------------+-----------------------+\n",
      "|       1|  sprintcare|  False|2017-10-31 22:10:47|@115712 I underst...|                2|                      3|\n",
      "|       2|      115712|   True|2017-10-31 22:11:45|@sprintcare and h...|             null|                      1|\n",
      "|       3|      115712|   True|2017-10-31 22:08:27|@sprintcare I hav...|                1|                      4|\n",
      "|       4|  sprintcare|  False|2017-10-31 21:54:49|@115712 Please se...|                3|                      5|\n",
      "|       5|      115712|   True|2017-10-31 21:49:35|  @sprintcare I did.|                4|                      6|\n",
      "|       6|  sprintcare|  False|2017-10-31 21:46:24|@115712 Can you p...|             null|                      8|\n",
      "|       8|      115712|   True|2017-10-31 21:45:10|@sprintcare is th...|             null|                   null|\n",
      "|      11|  sprintcare|  False|2017-10-31 22:10:35|@115713 This is s...|             null|                     12|\n",
      "|      12|      115713|   True|2017-10-31 22:04:47|@sprintcare You g...|             null|                     15|\n",
      "|      15|  sprintcare|  False|2017-10-31 20:03:31|@115713 We unders...|               12|                     16|\n",
      "|      16|      115713|   True|2017-10-31 20:00:43|@sprintcare Since...|               15|                     17|\n",
      "|      17|  sprintcare|  False|2017-10-31 19:59:13|@115713 H there! ...|               16|                     18|\n",
      "|      18|      115713|   True|2017-10-31 19:56:01|@115714 y’all lie...|               17|                   null|\n",
      "|      19|  sprintcare|  False|2017-10-31 22:10:10|@115715 Please se...|             null|                     20|\n",
      "|      20|      115715|   True|2017-10-31 22:03:34|@115714 whenever ...|               19|                   null|\n",
      "|      21|Ask_Spectrum|  False|2017-10-31 22:14:37|@115716 What info...|             null|                     24|\n",
      "|      22|      115716|   True|2017-10-31 22:16:48|@Ask_Spectrum Wou...|               25|                     21|\n",
      "|      25|Ask_Spectrum|  False|2017-10-31 22:18:28|@115716 Our depar...|               26|                     22|\n",
      "|      26|      115716|   True|2017-10-31 22:19:56|@Ask_Spectrum I r...|               27|                     25|\n",
      "|      27|Ask_Spectrum|  False|2017-10-31 22:21:26|@115716 No thank ...|             null|                     26|\n",
      "+--------+------------+-------+-------------------+--------------------+-----------------+-----------------------+\n",
      "only showing top 20 rows\n",
      "\n"
     ]
    }
   ],
   "source": [
    "twitter_cs_preprocessing_df.show()  "
   ]
  },
  {
   "cell_type": "markdown",
   "id": "fff48f98",
   "metadata": {},
   "source": [
    "#### First attempt at applying an index to the dataframe so as to preserve the same order on reading"
   ]
  },
  {
   "cell_type": "code",
   "execution_count": 330,
   "id": "533c72a6",
   "metadata": {},
   "outputs": [],
   "source": [
    "from pyspark.sql.functions import monotonically_increasing_id"
   ]
  },
  {
   "cell_type": "code",
   "execution_count": 331,
   "id": "77f3a081",
   "metadata": {},
   "outputs": [],
   "source": [
    "# Adding a unique ID column to the DataFrame for ordering\n",
    "twitter_cs_preprocessing_df_with_row_id = twitter_cs_preprocessing_df.withColumn(\"row_id\", monotonically_increasing_id() + 1)"
   ]
  },
  {
   "cell_type": "code",
   "execution_count": 332,
   "id": "332ca336",
   "metadata": {
    "scrolled": true
   },
   "outputs": [
    {
     "name": "stdout",
     "output_type": "stream",
     "text": [
      "+--------+------------+-------+--------------+--------------+-----------------+-----------------------+------+\n",
      "|tweet_id|   author_id|inbound|    created_at|          text|response_tweet_id|in_response_to_tweet_id|row_id|\n",
      "+--------+------------+-------+--------------+--------------+-----------------+-----------------------+------+\n",
      "|       1|  sprintcare|  False|2017-10-31 ...|@115712 I u...|                2|                      3|     1|\n",
      "|       2|      115712|   True|2017-10-31 ...|@sprintcare...|             null|                      1|     2|\n",
      "|       3|      115712|   True|2017-10-31 ...|@sprintcare...|                1|                      4|     3|\n",
      "|       4|  sprintcare|  False|2017-10-31 ...|@115712 Ple...|                3|                      5|     4|\n",
      "|       5|      115712|   True|2017-10-31 ...|@sprintcare...|                4|                      6|     5|\n",
      "|       6|  sprintcare|  False|2017-10-31 ...|@115712 Can...|             null|                      8|     6|\n",
      "|       8|      115712|   True|2017-10-31 ...|@sprintcare...|             null|                   null|     7|\n",
      "|      11|  sprintcare|  False|2017-10-31 ...|@115713 Thi...|             null|                     12|     8|\n",
      "|      12|      115713|   True|2017-10-31 ...|@sprintcare...|             null|                     15|     9|\n",
      "|      15|  sprintcare|  False|2017-10-31 ...|@115713 We ...|               12|                     16|    10|\n",
      "|      16|      115713|   True|2017-10-31 ...|@sprintcare...|               15|                     17|    11|\n",
      "|      17|  sprintcare|  False|2017-10-31 ...|@115713 H t...|               16|                     18|    12|\n",
      "|      18|      115713|   True|2017-10-31 ...|@115714 y’a...|               17|                   null|    13|\n",
      "|      19|  sprintcare|  False|2017-10-31 ...|@115715 Ple...|             null|                     20|    14|\n",
      "|      20|      115715|   True|2017-10-31 ...|@115714 whe...|               19|                   null|    15|\n",
      "|      21|Ask_Spectrum|  False|2017-10-31 ...|@115716 Wha...|             null|                     24|    16|\n",
      "|      22|      115716|   True|2017-10-31 ...|@Ask_Spectr...|               25|                     21|    17|\n",
      "|      25|Ask_Spectrum|  False|2017-10-31 ...|@115716 Our...|               26|                     22|    18|\n",
      "|      26|      115716|   True|2017-10-31 ...|@Ask_Spectr...|               27|                     25|    19|\n",
      "|      27|Ask_Spectrum|  False|2017-10-31 ...|@115716 No ...|             null|                     26|    20|\n",
      "+--------+------------+-------+--------------+--------------+-----------------+-----------------------+------+\n",
      "only showing top 20 rows\n",
      "\n"
     ]
    }
   ],
   "source": [
    "twitter_cs_preprocessing_df_with_row_id.show(truncate=14)"
   ]
  },
  {
   "cell_type": "code",
   "execution_count": 333,
   "id": "ded842da",
   "metadata": {
    "scrolled": true
   },
   "outputs": [
    {
     "name": "stdout",
     "output_type": "stream",
     "text": [
      "root\n",
      " |-- tweet_id: integer (nullable = true)\n",
      " |-- author_id: string (nullable = true)\n",
      " |-- inbound: string (nullable = true)\n",
      " |-- created_at: timestamp (nullable = true)\n",
      " |-- text: string (nullable = true)\n",
      " |-- response_tweet_id: integer (nullable = true)\n",
      " |-- in_response_to_tweet_id: integer (nullable = true)\n",
      " |-- row_id: long (nullable = false)\n",
      "\n"
     ]
    }
   ],
   "source": [
    "# Viewing the changes\n",
    "twitter_cs_preprocessing_df_with_id.printSchema()"
   ]
  },
  {
   "cell_type": "code",
   "execution_count": 334,
   "id": "9e70f15f",
   "metadata": {},
   "outputs": [
    {
     "name": "stdout",
     "output_type": "stream",
     "text": [
      "root\n",
      " |-- tweet_id: integer (nullable = true)\n",
      " |-- author_id: string (nullable = true)\n",
      " |-- inbound: string (nullable = true)\n",
      " |-- created_at: timestamp (nullable = true)\n",
      " |-- text: string (nullable = true)\n",
      " |-- response_tweet_id: integer (nullable = true)\n",
      " |-- in_response_to_tweet_id: integer (nullable = true)\n",
      "\n"
     ]
    }
   ],
   "source": [
    "twitter_cs_preprocessing_df.printSchema()"
   ]
  },
  {
   "cell_type": "markdown",
   "id": "4e818712",
   "metadata": {},
   "source": [
    "#### Second attempt at applying an index to the dataframe so as to preserve the same order on reading"
   ]
  },
  {
   "cell_type": "code",
   "execution_count": 335,
   "id": "e1487b61",
   "metadata": {
    "scrolled": false
   },
   "outputs": [
    {
     "name": "stderr",
     "output_type": "stream",
     "text": [
      "                                                                                \r"
     ]
    }
   ],
   "source": [
    "rdd_df = twitter_cs_preprocessing_df.rdd.zipWithIndex()"
   ]
  },
  {
   "cell_type": "code",
   "execution_count": 336,
   "id": "569e967a",
   "metadata": {},
   "outputs": [],
   "source": [
    "indexed_df = rdd_df.toDF(['data', 'index'])"
   ]
  },
  {
   "cell_type": "code",
   "execution_count": 337,
   "id": "06d75019",
   "metadata": {},
   "outputs": [
    {
     "name": "stdout",
     "output_type": "stream",
     "text": [
      "+--------------------+-----+\n",
      "|                data|index|\n",
      "+--------------------+-----+\n",
      "|{1, sprintcare, F...|    0|\n",
      "|{2, 115712, True,...|    1|\n",
      "|{3, 115712, True,...|    2|\n",
      "|{4, sprintcare, F...|    3|\n",
      "|{5, 115712, True,...|    4|\n",
      "|{6, sprintcare, F...|    5|\n",
      "|{8, 115712, True,...|    6|\n",
      "|{11, sprintcare, ...|    7|\n",
      "|{12, 115713, True...|    8|\n",
      "|{15, sprintcare, ...|    9|\n",
      "|{16, 115713, True...|   10|\n",
      "|{17, sprintcare, ...|   11|\n",
      "|{18, 115713, True...|   12|\n",
      "|{19, sprintcare, ...|   13|\n",
      "|{20, 115715, True...|   14|\n",
      "|{21, Ask_Spectrum...|   15|\n",
      "|{22, 115716, True...|   16|\n",
      "|{25, Ask_Spectrum...|   17|\n",
      "|{26, 115716, True...|   18|\n",
      "|{27, Ask_Spectrum...|   19|\n",
      "+--------------------+-----+\n",
      "only showing top 20 rows\n",
      "\n"
     ]
    }
   ],
   "source": [
    "indexed_df.show()"
   ]
  },
  {
   "cell_type": "code",
   "execution_count": 338,
   "id": "bf5e354e",
   "metadata": {},
   "outputs": [],
   "source": [
    "twitter_cs_preprocessing_df_with_index = indexed_df.select('data.*', 'index')"
   ]
  },
  {
   "cell_type": "code",
   "execution_count": 339,
   "id": "9300930f",
   "metadata": {},
   "outputs": [
    {
     "name": "stdout",
     "output_type": "stream",
     "text": [
      "+--------+------------+-------+------------+------------+-----------------+-----------------------+-----+\n",
      "|tweet_id|   author_id|inbound|  created_at|        text|response_tweet_id|in_response_to_tweet_id|index|\n",
      "+--------+------------+-------+------------+------------+-----------------+-----------------------+-----+\n",
      "|       1|  sprintcare|  False|2017-10-3...|@115712 I...|                2|                      3|    0|\n",
      "|       2|      115712|   True|2017-10-3...|@sprintca...|             null|                      1|    1|\n",
      "|       3|      115712|   True|2017-10-3...|@sprintca...|                1|                      4|    2|\n",
      "|       4|  sprintcare|  False|2017-10-3...|@115712 P...|                3|                      5|    3|\n",
      "|       5|      115712|   True|2017-10-3...|@sprintca...|                4|                      6|    4|\n",
      "|       6|  sprintcare|  False|2017-10-3...|@115712 C...|             null|                      8|    5|\n",
      "|       8|      115712|   True|2017-10-3...|@sprintca...|             null|                   null|    6|\n",
      "|      11|  sprintcare|  False|2017-10-3...|@115713 T...|             null|                     12|    7|\n",
      "|      12|      115713|   True|2017-10-3...|@sprintca...|             null|                     15|    8|\n",
      "|      15|  sprintcare|  False|2017-10-3...|@115713 W...|               12|                     16|    9|\n",
      "|      16|      115713|   True|2017-10-3...|@sprintca...|               15|                     17|   10|\n",
      "|      17|  sprintcare|  False|2017-10-3...|@115713 H...|               16|                     18|   11|\n",
      "|      18|      115713|   True|2017-10-3...|@115714 y...|               17|                   null|   12|\n",
      "|      19|  sprintcare|  False|2017-10-3...|@115715 P...|             null|                     20|   13|\n",
      "|      20|      115715|   True|2017-10-3...|@115714 w...|               19|                   null|   14|\n",
      "|      21|Ask_Spectrum|  False|2017-10-3...|@115716 W...|             null|                     24|   15|\n",
      "|      22|      115716|   True|2017-10-3...|@Ask_Spec...|               25|                     21|   16|\n",
      "|      25|Ask_Spectrum|  False|2017-10-3...|@115716 O...|               26|                     22|   17|\n",
      "|      26|      115716|   True|2017-10-3...|@Ask_Spec...|               27|                     25|   18|\n",
      "|      27|Ask_Spectrum|  False|2017-10-3...|@115716 N...|             null|                     26|   19|\n",
      "+--------+------------+-------+------------+------------+-----------------+-----------------------+-----+\n",
      "only showing top 20 rows\n",
      "\n"
     ]
    }
   ],
   "source": [
    "twitter_cs_preprocessing_df_with_index.show(truncate = 12)"
   ]
  },
  {
   "cell_type": "code",
   "execution_count": 340,
   "id": "5b9e544a",
   "metadata": {},
   "outputs": [
    {
     "name": "stdout",
     "output_type": "stream",
     "text": [
      "root\n",
      " |-- tweet_id: long (nullable = true)\n",
      " |-- author_id: string (nullable = true)\n",
      " |-- inbound: string (nullable = true)\n",
      " |-- created_at: timestamp (nullable = true)\n",
      " |-- text: string (nullable = true)\n",
      " |-- response_tweet_id: long (nullable = true)\n",
      " |-- in_response_to_tweet_id: long (nullable = true)\n",
      " |-- index: long (nullable = true)\n",
      "\n"
     ]
    }
   ],
   "source": [
    "# Viewing the changes\n",
    "twitter_cs_preprocessing_df_with_index.printSchema()"
   ]
  },
  {
   "cell_type": "code",
   "execution_count": 341,
   "id": "e3924db5",
   "metadata": {
    "scrolled": false
   },
   "outputs": [
    {
     "name": "stdout",
     "output_type": "stream",
     "text": [
      "+--------+------------+-------+--------------+--------------+-----------------+-----------------------+------------+\n",
      "|tweet_id|   author_id|inbound|    created_at|          text|response_tweet_id|in_response_to_tweet_id|tweet_length|\n",
      "+--------+------------+-------+--------------+--------------+-----------------+-----------------------+------------+\n",
      "|       1|  sprintcare|  False|2017-10-31 ...|@115712 I u...|                2|                      3|         121|\n",
      "|       2|      115712|   True|2017-10-31 ...|@sprintcare...|             null|                      1|          45|\n",
      "|       3|      115712|   True|2017-10-31 ...|@sprintcare...|                1|                      4|          82|\n",
      "|       4|  sprintcare|  False|2017-10-31 ...|@115712 Ple...|                3|                      5|         124|\n",
      "|       5|      115712|   True|2017-10-31 ...|@sprintcare...|                4|                      6|          18|\n",
      "|       6|  sprintcare|  False|2017-10-31 ...|@115712 Can...|             null|                      8|         104|\n",
      "|       8|      115712|   True|2017-10-31 ...|@sprintcare...|             null|                   null|          41|\n",
      "|      11|  sprintcare|  False|2017-10-31 ...|@115713 Thi...|             null|                     12|          99|\n",
      "|      12|      115713|   True|2017-10-31 ...|@sprintcare...|             null|                     15|          89|\n",
      "|      15|  sprintcare|  False|2017-10-31 ...|@115713 We ...|               12|                     16|         132|\n",
      "|      16|      115713|   True|2017-10-31 ...|@sprintcare...|               15|                     17|          53|\n",
      "|      17|  sprintcare|  False|2017-10-31 ...|@115713 H t...|               16|                     18|         115|\n",
      "|      18|      115713|   True|2017-10-31 ...|@115714 y’a...|               17|                   null|          93|\n",
      "|      19|  sprintcare|  False|2017-10-31 ...|@115715 Ple...|             null|                     20|         100|\n",
      "|      20|      115715|   True|2017-10-31 ...|@115714 whe...|               19|                   null|         164|\n",
      "|      21|Ask_Spectrum|  False|2017-10-31 ...|@115716 Wha...|             null|                     24|          42|\n",
      "|      22|      115716|   True|2017-10-31 ...|@Ask_Spectr...|               25|                     21|         104|\n",
      "|      25|Ask_Spectrum|  False|2017-10-31 ...|@115716 Our...|               26|                     22|         148|\n",
      "|      26|      115716|   True|2017-10-31 ...|@Ask_Spectr...|               27|                     25|          79|\n",
      "|      27|Ask_Spectrum|  False|2017-10-31 ...|@115716 No ...|             null|                     26|          25|\n",
      "+--------+------------+-------+--------------+--------------+-----------------+-----------------------+------------+\n",
      "only showing top 20 rows\n",
      "\n"
     ]
    }
   ],
   "source": [
    "twitter_cs_preprocessing_df2.show(truncate=14)"
   ]
  },
  {
   "cell_type": "markdown",
   "id": "a7b68542",
   "metadata": {},
   "source": [
    "### Writing to HDFS"
   ]
  },
  {
   "cell_type": "markdown",
   "id": "f1f526e2",
   "metadata": {},
   "source": [
    "#### First Attempt: Save Dataframe and Scheme"
   ]
  },
  {
   "cell_type": "code",
   "execution_count": 101,
   "id": "91c91f20",
   "metadata": {},
   "outputs": [
    {
     "name": "stderr",
     "output_type": "stream",
     "text": [
      "                                                                                \r"
     ]
    }
   ],
   "source": [
    "# # Save DataFrame as CSV\n",
    "# csv_path = \"hdfs://localhost:9000/user1/twitter_customer_support/data.csv\"\n",
    "# twitter_cs_preprocessing_df.write.csv(csv_path, mode=\"overwrite\", header=True)\n",
    "\n",
    "# # Save Schema as Text File\n",
    "# schema_path = \"hdfs://localhost:9000/user1/twitter_customer_support/schema.txt\"\n",
    "# schema_str = str(twitter_cs_preprocessing_df.schema)\n",
    "# sc.parallelize([schema_str]).saveAsTextFile(schema_path)"
   ]
  },
  {
   "cell_type": "markdown",
   "id": "63278742",
   "metadata": {},
   "source": [
    "#### Second Attempt: Save Dataframe and Scheme"
   ]
  },
  {
   "cell_type": "code",
   "execution_count": 116,
   "id": "f5d6a492",
   "metadata": {},
   "outputs": [
    {
     "name": "stderr",
     "output_type": "stream",
     "text": [
      "                                                                                \r"
     ]
    }
   ],
   "source": [
    "# import json\n",
    "# import os\n",
    "\n",
    "# # Saving the DataFrame as CSV\n",
    "# csv_path = \"hdfs://localhost:9000/user1/twitter_customer_support/data.csv\"\n",
    "# twitter_cs_preprocessing_df_with_row_id.write.csv(csv_path, mode=\"overwrite\", header=True)\n",
    "\n",
    "# schema_json = twitter_cs_preprocessing_df_with_row_id.schema.json()\n",
    "\n",
    "# # Specifying the directory path\n",
    "# directory_path = \"hdfs://localhost:9000/user1/twitter_customer_support/\"\n",
    "\n",
    "# # Creating a directory if it does not exist\n",
    "# os.makedirs(directory_path, exist_ok=True)\n",
    "\n",
    "# # Specifying the schema JSON file path\n",
    "# schema_path = os.path.join(directory_path, \"schema.json\")\n",
    "\n",
    "# # Saving the schema JSON file\n",
    "# with open(schema_path, \"w\") as file:\n",
    "#     file.write(schema_json)"
   ]
  },
  {
   "cell_type": "markdown",
   "id": "c563855f",
   "metadata": {},
   "source": [
    "#### Third Attempt: Save just the Dataframe"
   ]
  },
  {
   "cell_type": "markdown",
   "id": "e5b9a80a",
   "metadata": {},
   "source": [
    "First write with dataframe indexed using 'monotonically_increasing_id()'"
   ]
  },
  {
   "cell_type": "code",
   "execution_count": 342,
   "id": "95504cc1",
   "metadata": {},
   "outputs": [],
   "source": [
    "path = \"/user1/twitter_customer_support\""
   ]
  },
  {
   "cell_type": "code",
   "execution_count": 343,
   "id": "92bab908",
   "metadata": {},
   "outputs": [
    {
     "name": "stderr",
     "output_type": "stream",
     "text": [
      "                                                                                \r"
     ]
    }
   ],
   "source": [
    "# Saving the dataframe as a csv\n",
    "twitter_cs_preprocessing_df_with_row_id.write\\\n",
    ".format(\"csv\").mode(\"overwrite\")\\\n",
    ".option(\"path\", path)\\\n",
    ".save()"
   ]
  },
  {
   "cell_type": "markdown",
   "id": "44dd844e",
   "metadata": {},
   "source": [
    "Second write with dataframe indexed using 'zipWithIndex()'"
   ]
  },
  {
   "cell_type": "code",
   "execution_count": 344,
   "id": "7f25ce05",
   "metadata": {},
   "outputs": [],
   "source": [
    "path = \"/user1/twitter_customer_support_indexed\""
   ]
  },
  {
   "cell_type": "code",
   "execution_count": 345,
   "id": "f655060e",
   "metadata": {},
   "outputs": [
    {
     "name": "stderr",
     "output_type": "stream",
     "text": [
      "                                                                                \r"
     ]
    }
   ],
   "source": [
    "# Saving the dataframe as a csv\n",
    "twitter_cs_preprocessing_df_with_index.write\\\n",
    ".format(\"csv\").mode(\"overwrite\")\\\n",
    ".option(\"path\", path)\\\n",
    ".save()"
   ]
  },
  {
   "cell_type": "markdown",
   "id": "e5c4dd01",
   "metadata": {},
   "source": [
    "### Reading from HDFS"
   ]
  },
  {
   "cell_type": "markdown",
   "id": "c513a512",
   "metadata": {},
   "source": [
    "#### First Attempt: loading Dataframe and Schema"
   ]
  },
  {
   "cell_type": "code",
   "execution_count": null,
   "id": "5f6c04f0",
   "metadata": {},
   "outputs": [],
   "source": [
    "# # Defining the HDFS path where the CSV file and schema file are saved\n",
    "# path = \"/user1/twitter_customer_support\"\n",
    "\n",
    "\n",
    "# # Reading in the CSV file with the saved schema\n",
    "# twitter_cs_preprocessing_df = spark.read \\\n",
    "#     .format(\"csv\") \\\n",
    "#     .option(\"header\", \"true\") \\\n",
    "#     .option(\"inferSchema\", \"true\") \\\n",
    "#     .load(path)"
   ]
  },
  {
   "cell_type": "markdown",
   "id": "ba94f587",
   "metadata": {},
   "source": [
    "#### Second Attempt: loading Dataframe and Schema"
   ]
  },
  {
   "cell_type": "code",
   "execution_count": 117,
   "id": "dbc2513c",
   "metadata": {},
   "outputs": [],
   "source": [
    "# # Specify the CSV file path\n",
    "# csv_path = \"hdfs://localhost:9000/user1/twitter_customer_support/data.csv\"\n",
    "\n",
    "# # Read the CSV file into a DataFrame\n",
    "# df_with_schema = spark.read.csv(csv_path, header=True)\n",
    "\n",
    "# # Specify the schema JSON file path\n",
    "# schema_path = \"hdfs://localhost:9000/user1/twitter_customer_support/schema.json\"\n",
    "\n",
    "# # Read the schema JSON file\n",
    "# with open(schema_path, \"r\") as file:\n",
    "#     schema_json = file.read()\n",
    "\n",
    "# # Parse the schema JSON string into a StructType object\n",
    "# parsed_schema = StructType.fromJson(json.loads(schema_json))\n",
    "\n",
    "# # Apply the parsed schema to the DataFrame\n",
    "# for field in parsed_schema:\n",
    "#     df_with_schema = df_with_schema.withColumnRenamed(field.name, field.name)"
   ]
  },
  {
   "cell_type": "code",
   "execution_count": 118,
   "id": "a0d5bd54",
   "metadata": {},
   "outputs": [
    {
     "name": "stdout",
     "output_type": "stream",
     "text": [
      "root\n",
      " |-- tweet_id: string (nullable = true)\n",
      " |-- author_id: string (nullable = true)\n",
      " |-- inbound: string (nullable = true)\n",
      " |-- created_at: string (nullable = true)\n",
      " |-- text: string (nullable = true)\n",
      " |-- response_tweet_id: string (nullable = true)\n",
      " |-- in_response_to_tweet_id: string (nullable = true)\n",
      " |-- row_id: string (nullable = true)\n",
      "\n"
     ]
    }
   ],
   "source": [
    "#df_with_schema.printSchema()"
   ]
  },
  {
   "cell_type": "markdown",
   "id": "a49b2532",
   "metadata": {},
   "source": [
    "The Schema has loaded but the datatypes are inconsistant with those saved. Additionally the ordering due to partioning, parallesism or HDFS splitting and merging has changed."
   ]
  },
  {
   "cell_type": "code",
   "execution_count": 120,
   "id": "b20a643c",
   "metadata": {},
   "outputs": [
    {
     "name": "stdout",
     "output_type": "stream",
     "text": [
      "+--------+------------+-------+--------------+--------------+-----------------+-----------------------+----------+\n",
      "|tweet_id|   author_id|inbound|    created_at|          text|response_tweet_id|in_response_to_tweet_id|    row_id|\n",
      "+--------+------------+-------+--------------+--------------+-----------------+-----------------------+----------+\n",
      "|  816047|  ATVIAssist|  False|2017-10-13T...|@314317 No ...|           816048|                 816046|8589934593|\n",
      "|  816048|      314317|   True|2017-10-13T...|@ATVIAssist...|             null|                 816047|8589934594|\n",
      "|  816049|  ATVIAssist|  False|2017-10-13T...|@314317 ......|             null|                 816048|8589934595|\n",
      "|  816050|  ATVIAssist|  False|2017-10-13T...|@314317 No ...|             null|                 816048|8589934596|\n",
      "|  816044|      314317|   True|2017-10-12T...|@122172 @AT...|           816042|                   null|8589934597|\n",
      "|  816051|  ATVIAssist|  False|2017-10-12T...|@314318 Hey...|             null|                 784626|8589934598|\n",
      "|  784626|      314318|   True|2017-10-12T...|@122172 Sti...|           816051|                 784586|8589934599|\n",
      "|  816052|  ATVIAssist|  False|2017-10-12T...|@314319 We ...|             null|                 816053|8589934600|\n",
      "|  816053|      314319|   True|2017-10-12T...|@ATVIAssist...|           816052|                   null|8589934601|\n",
      "|  816054|  ATVIAssist|  False|2017-10-12T...|@314320 Iss...|             null|                 355801|8589934602|\n",
      "|  355801|      314320|   True|2017-10-12T...|@ATVIAssist...|           816054|                 355670|8589934603|\n",
      "|  816055|  ATVIAssist|  False|2017-10-12T...|@314321 Goo...|             null|                 816056|8589934604|\n",
      "|  816056|      314321|   True|2017-10-12T...|@ATVIAssist...|           816055|                   null|8589934605|\n",
      "|  816057|  ATVIAssist|  False|2017-10-12T...|       @309245|             null|                   null|8589934606|\n",
      "|  816058|      309245|   True|2017-10-12T...|@313503 @AT...|           816057|                 816059|8589934607|\n",
      "|  816059|      313503|   True|2017-10-12T...|@309245 @AT...|           816058|                 355802|8589934608|\n",
      "|  355802|      309245|   True|2017-10-12T...|@ATVIAssist...|           816059|                 355670|8589934609|\n",
      "|  366976|      314322|   True|2017-10-17T...|@AppleSuppo...|           816060|                 366975|8589934610|\n",
      "|  816060|AppleSupport|  False|2017-10-17T...|@314322 If ...|             null|                 366976|8589934611|\n",
      "|  366977|      117107|   True|2017-10-08T...|@AppleSuppo...|             null|                 366975|8589934612|\n",
      "+--------+------------+-------+--------------+--------------+-----------------+-----------------------+----------+\n",
      "only showing top 20 rows\n",
      "\n"
     ]
    }
   ],
   "source": [
    "#df_with_schema.show(truncate=14)"
   ]
  },
  {
   "cell_type": "markdown",
   "id": "95594baf",
   "metadata": {},
   "source": [
    "#### Third Attempt: loading Dataframe and Specifiying Scheme"
   ]
  },
  {
   "cell_type": "code",
   "execution_count": 131,
   "id": "64ce9a84",
   "metadata": {},
   "outputs": [],
   "source": [
    "from pyspark.sql.types import StructType, StructField, IntegerType, StringType, TimestampType, LongType\n",
    "\n",
    "# Defining the HDFS path where the CSV file and schema file are saved\n",
    "path = \"/user1/twitter_customer_support\"\n",
    "\n",
    "newSchema = StructType([\\\n",
    "                       StructField(\"tweet_id\", IntegerType(), True),\n",
    "                       StructField(\"author_id\", StringType(), True),\n",
    "                       StructField(\"inbound\", StringType(), True),\n",
    "                       StructField(\"created_at\", TimestampType(), True),\n",
    "                       StructField(\"text\", StringType(), True),\n",
    "                       StructField(\"response_tweet_id\", IntegerType(), True),\n",
    "                       StructField(\"in_response_to_tweet_id\", IntegerType(), True),\n",
    "                       StructField(\"row_id\", LongType(), True)\n",
    "                       ])\n",
    "\n",
    "df = spark.read.format(\"csv\")\\\n",
    "    .schema (newSchema)\\\n",
    "    .option(\"inferSchema\", \"True\")\\\n",
    "    .option(\"path\", path)\\\n",
    "    .load()\n"
   ]
  },
  {
   "cell_type": "code",
   "execution_count": 132,
   "id": "8948830e",
   "metadata": {
    "scrolled": true
   },
   "outputs": [
    {
     "name": "stdout",
     "output_type": "stream",
     "text": [
      "root\n",
      " |-- tweet_id: integer (nullable = true)\n",
      " |-- author_id: string (nullable = true)\n",
      " |-- inbound: string (nullable = true)\n",
      " |-- created_at: timestamp (nullable = true)\n",
      " |-- text: string (nullable = true)\n",
      " |-- response_tweet_id: integer (nullable = true)\n",
      " |-- in_response_to_tweet_id: integer (nullable = true)\n",
      " |-- row_id: long (nullable = true)\n",
      "\n"
     ]
    }
   ],
   "source": [
    "df.printSchema()"
   ]
  },
  {
   "cell_type": "code",
   "execution_count": 133,
   "id": "95558574",
   "metadata": {},
   "outputs": [
    {
     "name": "stdout",
     "output_type": "stream",
     "text": [
      "+--------+------------+-------+--------------+--------------+-----------------+-----------------------+----------+\n",
      "|tweet_id|   author_id|inbound|    created_at|          text|response_tweet_id|in_response_to_tweet_id|    row_id|\n",
      "+--------+------------+-------+--------------+--------------+-----------------+-----------------------+----------+\n",
      "|  816047|  ATVIAssist|  False|2017-10-13 ...|@314317 No ...|           816048|                 816046|8589934593|\n",
      "|  816048|      314317|   True|2017-10-13 ...|@ATVIAssist...|             null|                 816047|8589934594|\n",
      "|  816049|  ATVIAssist|  False|2017-10-13 ...|@314317 ......|             null|                 816048|8589934595|\n",
      "|  816050|  ATVIAssist|  False|2017-10-13 ...|@314317 No ...|             null|                 816048|8589934596|\n",
      "|  816044|      314317|   True|2017-10-12 ...|@122172 @AT...|           816042|                   null|8589934597|\n",
      "|  816051|  ATVIAssist|  False|2017-10-12 ...|@314318 Hey...|             null|                 784626|8589934598|\n",
      "|  784626|      314318|   True|2017-10-12 ...|@122172 Sti...|           816051|                 784586|8589934599|\n",
      "|  816052|  ATVIAssist|  False|2017-10-12 ...|@314319 We ...|             null|                 816053|8589934600|\n",
      "|  816053|      314319|   True|2017-10-12 ...|@ATVIAssist...|           816052|                   null|8589934601|\n",
      "|  816054|  ATVIAssist|  False|2017-10-12 ...|@314320 Iss...|             null|                 355801|8589934602|\n",
      "|  355801|      314320|   True|2017-10-12 ...|@ATVIAssist...|           816054|                 355670|8589934603|\n",
      "|  816055|  ATVIAssist|  False|2017-10-12 ...|@314321 Goo...|             null|                 816056|8589934604|\n",
      "|  816056|      314321|   True|2017-10-12 ...|@ATVIAssist...|           816055|                   null|8589934605|\n",
      "|  816057|  ATVIAssist|  False|2017-10-12 ...|       @309245|             null|                   null|8589934606|\n",
      "|  816058|      309245|   True|2017-10-12 ...|@313503 @AT...|           816057|                 816059|8589934607|\n",
      "|  816059|      313503|   True|2017-10-12 ...|@309245 @AT...|           816058|                 355802|8589934608|\n",
      "|  355802|      309245|   True|2017-10-12 ...|@ATVIAssist...|           816059|                 355670|8589934609|\n",
      "|  366976|      314322|   True|2017-10-17 ...|@AppleSuppo...|           816060|                 366975|8589934610|\n",
      "|  816060|AppleSupport|  False|2017-10-17 ...|@314322 If ...|             null|                 366976|8589934611|\n",
      "|  366977|      117107|   True|2017-10-08 ...|@AppleSuppo...|             null|                 366975|8589934612|\n",
      "+--------+------------+-------+--------------+--------------+-----------------+-----------------------+----------+\n",
      "only showing top 20 rows\n",
      "\n"
     ]
    }
   ],
   "source": [
    "df.show(truncate=14)"
   ]
  },
  {
   "cell_type": "markdown",
   "id": "b102197c",
   "metadata": {},
   "source": [
    "The row_id numbers on the far right column appear to be incorrect. Although unique, the dataframe should not contain as many rows equivelant to the values. "
   ]
  },
  {
   "cell_type": "code",
   "execution_count": 134,
   "id": "ad07958a",
   "metadata": {},
   "outputs": [
    {
     "name": "stderr",
     "output_type": "stream",
     "text": [
      "[Stage 214:============================>                            (2 + 2) / 4]\r"
     ]
    },
    {
     "name": "stdout",
     "output_type": "stream",
     "text": [
      "The shape of the DataFrame:\n",
      "\n",
      "Number of Rows: 2812304\n",
      "Number of Columns: 8\n"
     ]
    },
    {
     "name": "stderr",
     "output_type": "stream",
     "text": [
      "\r",
      "[Stage 214:==========================================>              (3 + 1) / 4]\r",
      "\r",
      "                                                                                \r"
     ]
    }
   ],
   "source": [
    "# Checking the new shape of the DataFrame\n",
    "num_rows = df.count()\n",
    "num_columns = len(df.columns)\n",
    "\n",
    "print(\"The shape of the DataFrame:\\n\")\n",
    "print(\"Number of Rows:\", num_rows)\n",
    "print(\"Number of Columns:\", num_columns)"
   ]
  },
  {
   "cell_type": "code",
   "execution_count": 135,
   "id": "07eb138c",
   "metadata": {},
   "outputs": [
    {
     "name": "stderr",
     "output_type": "stream",
     "text": [
      "[Stage 217:============================>                            (2 + 2) / 4]\r"
     ]
    },
    {
     "name": "stdout",
     "output_type": "stream",
     "text": [
      "+--------+------------+-------+--------------+--------------+-----------------+-----------------------+------+\n",
      "|tweet_id|   author_id|inbound|    created_at|          text|response_tweet_id|in_response_to_tweet_id|row_id|\n",
      "+--------+------------+-------+--------------+--------------+-----------------+-----------------------+------+\n",
      "|       1|  sprintcare|  False|2017-10-31 ...|@115712 I u...|                2|                      3|     1|\n",
      "|       2|      115712|   True|2017-10-31 ...|@sprintcare...|             null|                      1|     2|\n",
      "|       3|      115712|   True|2017-10-31 ...|@sprintcare...|                1|                      4|     3|\n",
      "|       4|  sprintcare|  False|2017-10-31 ...|@115712 Ple...|                3|                      5|     4|\n",
      "|       5|      115712|   True|2017-10-31 ...|@sprintcare...|                4|                      6|     5|\n",
      "|       6|  sprintcare|  False|2017-10-31 ...|@115712 Can...|             null|                      8|     6|\n",
      "|       8|      115712|   True|2017-10-31 ...|@sprintcare...|             null|                   null|     7|\n",
      "|      11|  sprintcare|  False|2017-10-31 ...|@115713 Thi...|             null|                     12|     8|\n",
      "|      12|      115713|   True|2017-10-31 ...|@sprintcare...|             null|                     15|     9|\n",
      "|      15|  sprintcare|  False|2017-10-31 ...|@115713 We ...|               12|                     16|    10|\n",
      "|      16|      115713|   True|2017-10-31 ...|@sprintcare...|               15|                     17|    11|\n",
      "|      17|  sprintcare|  False|2017-10-31 ...|@115713 H t...|               16|                     18|    12|\n",
      "|      18|      115713|   True|2017-10-31 ...|@115714 y’a...|               17|                   null|    13|\n",
      "|      19|  sprintcare|  False|2017-10-31 ...|@115715 Ple...|             null|                     20|    14|\n",
      "|      20|      115715|   True|2017-10-31 ...|@115714 whe...|               19|                   null|    15|\n",
      "|      21|Ask_Spectrum|  False|2017-10-31 ...|@115716 Wha...|             null|                     24|    16|\n",
      "|      22|      115716|   True|2017-10-31 ...|@Ask_Spectr...|               25|                     21|    17|\n",
      "|      25|Ask_Spectrum|  False|2017-10-31 ...|@115716 Our...|               26|                     22|    18|\n",
      "|      26|      115716|   True|2017-10-31 ...|@Ask_Spectr...|               27|                     25|    19|\n",
      "|      27|Ask_Spectrum|  False|2017-10-31 ...|@115716 No ...|             null|                     26|    20|\n",
      "+--------+------------+-------+--------------+--------------+-----------------+-----------------------+------+\n",
      "only showing top 20 rows\n",
      "\n"
     ]
    },
    {
     "name": "stderr",
     "output_type": "stream",
     "text": [
      "\r",
      "[Stage 217:==========================================>              (3 + 1) / 4]\r",
      "\r",
      "                                                                                \r"
     ]
    }
   ],
   "source": [
    "# Sorting the DataFrame by the row_id column\n",
    "ordered_df = df.orderBy(\"row_id\")\n",
    "ordered_df.show(truncate=14)"
   ]
  },
  {
   "cell_type": "code",
   "execution_count": 136,
   "id": "f6f26e1e",
   "metadata": {},
   "outputs": [],
   "source": [
    "# Removing the temporary ID column\n",
    "df = ordered_df.drop(\"row_id\")"
   ]
  },
  {
   "cell_type": "code",
   "execution_count": 137,
   "id": "7e1dd553",
   "metadata": {},
   "outputs": [
    {
     "name": "stderr",
     "output_type": "stream",
     "text": [
      "[Stage 218:============================>                            (2 + 2) / 4]\r"
     ]
    },
    {
     "name": "stdout",
     "output_type": "stream",
     "text": [
      "+--------+------------+-------+-------------------+--------------------+-----------------+-----------------------+\n",
      "|tweet_id|   author_id|inbound|         created_at|                text|response_tweet_id|in_response_to_tweet_id|\n",
      "+--------+------------+-------+-------------------+--------------------+-----------------+-----------------------+\n",
      "|       1|  sprintcare|  False|2017-10-31 22:10:47|@115712 I underst...|                2|                      3|\n",
      "|       2|      115712|   True|2017-10-31 22:11:45|@sprintcare and h...|             null|                      1|\n",
      "|       3|      115712|   True|2017-10-31 22:08:27|@sprintcare I hav...|                1|                      4|\n",
      "|       4|  sprintcare|  False|2017-10-31 21:54:49|@115712 Please se...|                3|                      5|\n",
      "|       5|      115712|   True|2017-10-31 21:49:35|  @sprintcare I did.|                4|                      6|\n",
      "|       6|  sprintcare|  False|2017-10-31 21:46:24|@115712 Can you p...|             null|                      8|\n",
      "|       8|      115712|   True|2017-10-31 21:45:10|@sprintcare is th...|             null|                   null|\n",
      "|      11|  sprintcare|  False|2017-10-31 22:10:35|@115713 This is s...|             null|                     12|\n",
      "|      12|      115713|   True|2017-10-31 22:04:47|@sprintcare You g...|             null|                     15|\n",
      "|      15|  sprintcare|  False|2017-10-31 20:03:31|@115713 We unders...|               12|                     16|\n",
      "|      16|      115713|   True|2017-10-31 20:00:43|@sprintcare Since...|               15|                     17|\n",
      "|      17|  sprintcare|  False|2017-10-31 19:59:13|@115713 H there! ...|               16|                     18|\n",
      "|      18|      115713|   True|2017-10-31 19:56:01|@115714 y’all lie...|               17|                   null|\n",
      "|      19|  sprintcare|  False|2017-10-31 22:10:10|@115715 Please se...|             null|                     20|\n",
      "|      20|      115715|   True|2017-10-31 22:03:34|@115714 whenever ...|               19|                   null|\n",
      "|      21|Ask_Spectrum|  False|2017-10-31 22:14:37|@115716 What info...|             null|                     24|\n",
      "|      22|      115716|   True|2017-10-31 22:16:48|@Ask_Spectrum Wou...|               25|                     21|\n",
      "|      25|Ask_Spectrum|  False|2017-10-31 22:18:28|@115716 Our depar...|               26|                     22|\n",
      "|      26|      115716|   True|2017-10-31 22:19:56|@Ask_Spectrum I r...|               27|                     25|\n",
      "|      27|Ask_Spectrum|  False|2017-10-31 22:21:26|@115716 No thank ...|             null|                     26|\n",
      "+--------+------------+-------+-------------------+--------------------+-----------------+-----------------------+\n",
      "only showing top 20 rows\n",
      "\n"
     ]
    },
    {
     "name": "stderr",
     "output_type": "stream",
     "text": [
      "\r",
      "[Stage 218:==========================================>              (3 + 1) / 4]\r",
      "\r",
      "                                                                                \r"
     ]
    }
   ],
   "source": [
    "# Viewing reordered DataFrame\n",
    "df.show()"
   ]
  },
  {
   "cell_type": "markdown",
   "id": "edb4fef6",
   "metadata": {},
   "source": [
    "### We will load in the second saved dataframe to HDFS with indexing by zipWithIndex."
   ]
  },
  {
   "cell_type": "code",
   "execution_count": 346,
   "id": "4dc2ccbc",
   "metadata": {},
   "outputs": [],
   "source": [
    "from pyspark.sql.types import StructType, StructField, IntegerType, StringType, TimestampType, LongType\n",
    "\n",
    "# Defining the HDFS path \n",
    "path = \"/user1/twitter_customer_support_indexed\"\n",
    "\n",
    "newSchema2 = StructType([\\\n",
    "                       StructField(\"tweet_id\", IntegerType(), True),\n",
    "                       StructField(\"author_id\", StringType(), True),\n",
    "                       StructField(\"inbound\", StringType(), True),\n",
    "                       StructField(\"created_at\", TimestampType(), True),\n",
    "                       StructField(\"text\", StringType(), True),\n",
    "                       StructField(\"response_tweet_id\", IntegerType(), True),\n",
    "                       StructField(\"in_response_to_tweet_id\", IntegerType(), True),\n",
    "                       StructField(\"index\", LongType(), True)\n",
    "                       ])\n",
    "\n",
    "df_indexed = spark.read.format(\"csv\")\\\n",
    "    .schema (newSchema2)\\\n",
    "    .option(\"inferSchema\", \"True\")\\\n",
    "    .option(\"path\", path)\\\n",
    "    .load()"
   ]
  },
  {
   "cell_type": "code",
   "execution_count": 347,
   "id": "5f694232",
   "metadata": {},
   "outputs": [
    {
     "name": "stdout",
     "output_type": "stream",
     "text": [
      "root\n",
      " |-- tweet_id: integer (nullable = true)\n",
      " |-- author_id: string (nullable = true)\n",
      " |-- inbound: string (nullable = true)\n",
      " |-- created_at: timestamp (nullable = true)\n",
      " |-- text: string (nullable = true)\n",
      " |-- response_tweet_id: integer (nullable = true)\n",
      " |-- in_response_to_tweet_id: integer (nullable = true)\n",
      " |-- index: long (nullable = true)\n",
      "\n"
     ]
    }
   ],
   "source": [
    "df_indexed.printSchema()"
   ]
  },
  {
   "cell_type": "code",
   "execution_count": 350,
   "id": "a259cea5",
   "metadata": {},
   "outputs": [
    {
     "name": "stderr",
     "output_type": "stream",
     "text": [
      "[Stage 743:============================>                            (2 + 2) / 4]\r"
     ]
    },
    {
     "name": "stdout",
     "output_type": "stream",
     "text": [
      "The shape of the DataFrame:\n",
      "\n",
      "Number of Rows: 2812304\n",
      "Number of Columns: 7\n"
     ]
    },
    {
     "name": "stderr",
     "output_type": "stream",
     "text": [
      "\r",
      "[Stage 743:==========================================>              (3 + 1) / 4]\r",
      "\r",
      "                                                                                \r"
     ]
    }
   ],
   "source": [
    "# Checking the new shape of the DataFrame\n",
    "num_rows = df_indexed.count()\n",
    "num_columns = len(df.columns)\n",
    "\n",
    "print(\"The shape of the DataFrame:\\n\")\n",
    "print(\"Number of Rows:\", num_rows)\n",
    "print(\"Number of Columns:\", num_columns)"
   ]
  },
  {
   "cell_type": "code",
   "execution_count": 351,
   "id": "6cfe719d",
   "metadata": {
    "scrolled": false
   },
   "outputs": [
    {
     "name": "stdout",
     "output_type": "stream",
     "text": [
      "+--------+------------+-------+--------------+--------------+-----------------+-----------------------+------+\n",
      "|tweet_id|   author_id|inbound|    created_at|          text|response_tweet_id|in_response_to_tweet_id| index|\n",
      "+--------+------------+-------+--------------+--------------+-----------------+-----------------------+------+\n",
      "|  816047|  ATVIAssist|  False|2017-10-13 ...|@314317 No ...|           816048|                 816046|730032|\n",
      "|  816048|      314317|   True|2017-10-13 ...|@ATVIAssist...|             null|                 816047|730033|\n",
      "|  816049|  ATVIAssist|  False|2017-10-13 ...|@314317 ......|             null|                 816048|730034|\n",
      "|  816050|  ATVIAssist|  False|2017-10-13 ...|@314317 No ...|             null|                 816048|730035|\n",
      "|  816044|      314317|   True|2017-10-12 ...|@122172 @AT...|           816042|                   null|730036|\n",
      "|  816051|  ATVIAssist|  False|2017-10-12 ...|@314318 Hey...|             null|                 784626|730037|\n",
      "|  784626|      314318|   True|2017-10-12 ...|@122172 Sti...|           816051|                 784586|730038|\n",
      "|  816052|  ATVIAssist|  False|2017-10-12 ...|@314319 We ...|             null|                 816053|730039|\n",
      "|  816053|      314319|   True|2017-10-12 ...|@ATVIAssist...|           816052|                   null|730040|\n",
      "|  816054|  ATVIAssist|  False|2017-10-12 ...|@314320 Iss...|             null|                 355801|730041|\n",
      "|  355801|      314320|   True|2017-10-12 ...|@ATVIAssist...|           816054|                 355670|730042|\n",
      "|  816055|  ATVIAssist|  False|2017-10-12 ...|@314321 Goo...|             null|                 816056|730043|\n",
      "|  816056|      314321|   True|2017-10-12 ...|@ATVIAssist...|           816055|                   null|730044|\n",
      "|  816057|  ATVIAssist|  False|2017-10-12 ...|       @309245|             null|                   null|730045|\n",
      "|  816058|      309245|   True|2017-10-12 ...|@313503 @AT...|           816057|                 816059|730046|\n",
      "|  816059|      313503|   True|2017-10-12 ...|@309245 @AT...|           816058|                 355802|730047|\n",
      "|  355802|      309245|   True|2017-10-12 ...|@ATVIAssist...|           816059|                 355670|730048|\n",
      "|  366976|      314322|   True|2017-10-17 ...|@AppleSuppo...|           816060|                 366975|730049|\n",
      "|  816060|AppleSupport|  False|2017-10-17 ...|@314322 If ...|             null|                 366976|730050|\n",
      "|  366977|      117107|   True|2017-10-08 ...|@AppleSuppo...|             null|                 366975|730051|\n",
      "+--------+------------+-------+--------------+--------------+-----------------+-----------------------+------+\n",
      "only showing top 20 rows\n",
      "\n"
     ]
    }
   ],
   "source": [
    "df_indexed.show(truncate=14)"
   ]
  },
  {
   "cell_type": "markdown",
   "id": "31ce3d2c",
   "metadata": {},
   "source": [
    "At a glance, the numbers displayed in the 'index' column are more realistic than the monotonically_increasing_id method dataframe. To confirm that the zipWithIndex indexing has worked we will check for the maximum value and confirm that it is within the number of rows in the dataset. As the indexing started at 0, we would expect a max value of 2812303.\n",
    "\n",
    "In checking this we will demonstrate another feature of Apache Spark in its ability to create temporary view tables and use SQL sytanx to make quick queries. Temporary views are lazily evaluated. They do not persist to memory unless explicity cache."
   ]
  },
  {
   "cell_type": "code",
   "execution_count": 352,
   "id": "ece28143",
   "metadata": {},
   "outputs": [],
   "source": [
    "# Creating a temporary view from the DataFrame\n",
    "df_indexed.createOrReplaceTempView(\"indexed_tweets_view\")\n"
   ]
  },
  {
   "cell_type": "code",
   "execution_count": 353,
   "id": "9650a9fe",
   "metadata": {},
   "outputs": [
    {
     "name": "stderr",
     "output_type": "stream",
     "text": [
      "                                                                                \r"
     ]
    }
   ],
   "source": [
    "# Querying the temp view using Spark SQL and syntax to find the largest number in the index column\n",
    "max_index = spark.sql(\"SELECT MAX(index) AS max_index FROM indexed_tweets_view\").collect()[0][\"max_index\"]\n"
   ]
  },
  {
   "cell_type": "code",
   "execution_count": 358,
   "id": "59b027aa",
   "metadata": {
    "scrolled": true
   },
   "outputs": [
    {
     "name": "stderr",
     "output_type": "stream",
     "text": [
      "[Stage 759:============================>                            (2 + 2) / 4]\r"
     ]
    },
    {
     "name": "stdout",
     "output_type": "stream",
     "text": [
      "The largest number in the index column is 2812303, one less than the 2812304 rows in the dataframe as the indexing starts at 0.\n"
     ]
    },
    {
     "name": "stderr",
     "output_type": "stream",
     "text": [
      "\r",
      "                                                                                \r"
     ]
    }
   ],
   "source": [
    "# Displaying the result\n",
    "num_rows = df_indexed.count()\n",
    "print(f\"The largest number in the index column is {max_index}, one less than the {num_rows} rows in the dataframe as the indexing starts at 0.\")"
   ]
  },
  {
   "cell_type": "markdown",
   "id": "994fd571",
   "metadata": {},
   "source": [
    "This is the number we were expecting and hoping for. We conclude that the zipWithIndex method of indexing is more consistant than monotonically_increasing_id."
   ]
  },
  {
   "cell_type": "code",
   "execution_count": 361,
   "id": "417e3ee0",
   "metadata": {},
   "outputs": [
    {
     "name": "stderr",
     "output_type": "stream",
     "text": [
      "[Stage 764:==========================================>              (3 + 1) / 4]\r"
     ]
    },
    {
     "name": "stdout",
     "output_type": "stream",
     "text": [
      "+--------+------------+-------+--------------+--------------+-----------------+-----------------------+-----+\n",
      "|tweet_id|   author_id|inbound|    created_at|          text|response_tweet_id|in_response_to_tweet_id|index|\n",
      "+--------+------------+-------+--------------+--------------+-----------------+-----------------------+-----+\n",
      "|       1|  sprintcare|  False|2017-10-31 ...|@115712 I u...|                2|                      3|    0|\n",
      "|       2|      115712|   True|2017-10-31 ...|@sprintcare...|             null|                      1|    1|\n",
      "|       3|      115712|   True|2017-10-31 ...|@sprintcare...|                1|                      4|    2|\n",
      "|       4|  sprintcare|  False|2017-10-31 ...|@115712 Ple...|                3|                      5|    3|\n",
      "|       5|      115712|   True|2017-10-31 ...|@sprintcare...|                4|                      6|    4|\n",
      "|       6|  sprintcare|  False|2017-10-31 ...|@115712 Can...|             null|                      8|    5|\n",
      "|       8|      115712|   True|2017-10-31 ...|@sprintcare...|             null|                   null|    6|\n",
      "|      11|  sprintcare|  False|2017-10-31 ...|@115713 Thi...|             null|                     12|    7|\n",
      "|      12|      115713|   True|2017-10-31 ...|@sprintcare...|             null|                     15|    8|\n",
      "|      15|  sprintcare|  False|2017-10-31 ...|@115713 We ...|               12|                     16|    9|\n",
      "|      16|      115713|   True|2017-10-31 ...|@sprintcare...|               15|                     17|   10|\n",
      "|      17|  sprintcare|  False|2017-10-31 ...|@115713 H t...|               16|                     18|   11|\n",
      "|      18|      115713|   True|2017-10-31 ...|@115714 y’a...|               17|                   null|   12|\n",
      "|      19|  sprintcare|  False|2017-10-31 ...|@115715 Ple...|             null|                     20|   13|\n",
      "|      20|      115715|   True|2017-10-31 ...|@115714 whe...|               19|                   null|   14|\n",
      "|      21|Ask_Spectrum|  False|2017-10-31 ...|@115716 Wha...|             null|                     24|   15|\n",
      "|      22|      115716|   True|2017-10-31 ...|@Ask_Spectr...|               25|                     21|   16|\n",
      "|      25|Ask_Spectrum|  False|2017-10-31 ...|@115716 Our...|               26|                     22|   17|\n",
      "|      26|      115716|   True|2017-10-31 ...|@Ask_Spectr...|               27|                     25|   18|\n",
      "|      27|Ask_Spectrum|  False|2017-10-31 ...|@115716 No ...|             null|                     26|   19|\n",
      "+--------+------------+-------+--------------+--------------+-----------------+-----------------------+-----+\n",
      "only showing top 20 rows\n",
      "\n"
     ]
    },
    {
     "name": "stderr",
     "output_type": "stream",
     "text": [
      "\r",
      "                                                                                \r"
     ]
    }
   ],
   "source": [
    "# Sorting the DataFrame by the row_id column\n",
    "ordered_df = df_indexed.orderBy(\"index\")\n",
    "ordered_df.show(truncate=14)"
   ]
  },
  {
   "cell_type": "code",
   "execution_count": 362,
   "id": "43f009f3",
   "metadata": {},
   "outputs": [
    {
     "name": "stderr",
     "output_type": "stream",
     "text": [
      "[Stage 765:==========================================>              (3 + 1) / 4]\r"
     ]
    },
    {
     "name": "stdout",
     "output_type": "stream",
     "text": [
      "+--------+------------+-------+-------------------+--------------------+-----------------+-----------------------+\n",
      "|tweet_id|   author_id|inbound|         created_at|                text|response_tweet_id|in_response_to_tweet_id|\n",
      "+--------+------------+-------+-------------------+--------------------+-----------------+-----------------------+\n",
      "|       1|  sprintcare|  False|2017-10-31 22:10:47|@115712 I underst...|                2|                      3|\n",
      "|       2|      115712|   True|2017-10-31 22:11:45|@sprintcare and h...|             null|                      1|\n",
      "|       3|      115712|   True|2017-10-31 22:08:27|@sprintcare I hav...|                1|                      4|\n",
      "|       4|  sprintcare|  False|2017-10-31 21:54:49|@115712 Please se...|                3|                      5|\n",
      "|       5|      115712|   True|2017-10-31 21:49:35|  @sprintcare I did.|                4|                      6|\n",
      "|       6|  sprintcare|  False|2017-10-31 21:46:24|@115712 Can you p...|             null|                      8|\n",
      "|       8|      115712|   True|2017-10-31 21:45:10|@sprintcare is th...|             null|                   null|\n",
      "|      11|  sprintcare|  False|2017-10-31 22:10:35|@115713 This is s...|             null|                     12|\n",
      "|      12|      115713|   True|2017-10-31 22:04:47|@sprintcare You g...|             null|                     15|\n",
      "|      15|  sprintcare|  False|2017-10-31 20:03:31|@115713 We unders...|               12|                     16|\n",
      "|      16|      115713|   True|2017-10-31 20:00:43|@sprintcare Since...|               15|                     17|\n",
      "|      17|  sprintcare|  False|2017-10-31 19:59:13|@115713 H there! ...|               16|                     18|\n",
      "|      18|      115713|   True|2017-10-31 19:56:01|@115714 y’all lie...|               17|                   null|\n",
      "|      19|  sprintcare|  False|2017-10-31 22:10:10|@115715 Please se...|             null|                     20|\n",
      "|      20|      115715|   True|2017-10-31 22:03:34|@115714 whenever ...|               19|                   null|\n",
      "|      21|Ask_Spectrum|  False|2017-10-31 22:14:37|@115716 What info...|             null|                     24|\n",
      "|      22|      115716|   True|2017-10-31 22:16:48|@Ask_Spectrum Wou...|               25|                     21|\n",
      "|      25|Ask_Spectrum|  False|2017-10-31 22:18:28|@115716 Our depar...|               26|                     22|\n",
      "|      26|      115716|   True|2017-10-31 22:19:56|@Ask_Spectrum I r...|               27|                     25|\n",
      "|      27|Ask_Spectrum|  False|2017-10-31 22:21:26|@115716 No thank ...|             null|                     26|\n",
      "+--------+------------+-------+-------------------+--------------------+-----------------+-----------------------+\n",
      "only showing top 20 rows\n",
      "\n"
     ]
    },
    {
     "name": "stderr",
     "output_type": "stream",
     "text": [
      "\r",
      "                                                                                \r"
     ]
    }
   ],
   "source": [
    "# Removing the temporary ID column\n",
    "df = ordered_df.drop(\"index\")\n",
    "# Viewing reordered DataFrame\n",
    "df.show()"
   ]
  },
  {
   "cell_type": "markdown",
   "id": "a5867f24",
   "metadata": {},
   "source": [
    "### Reading from HBase"
   ]
  },
  {
   "cell_type": "code",
   "execution_count": 363,
   "id": "3044f2d0",
   "metadata": {},
   "outputs": [],
   "source": [
    "# hbase_df = spark.read \\\n",
    "#     .format(\"org.apache.spark.sql.execution.datasources.hbase\") \\\n",
    "#     .option(\"hbase.table\", \"your_hbase_table\") \\\n",
    "#     .option(\"hbase.columns.mapping\", \"cf:col1,cf:col2\") \\\n",
    "#     .load()\n"
   ]
  },
  {
   "cell_type": "code",
   "execution_count": 364,
   "id": "c1234f5b",
   "metadata": {},
   "outputs": [],
   "source": [
    "# # Show the DataFrame\n",
    "# hbase_df.show()"
   ]
  },
  {
   "cell_type": "code",
   "execution_count": 365,
   "id": "aa302aae",
   "metadata": {},
   "outputs": [],
   "source": [
    "# # Viewing the Schema\n",
    "# hbase_df.printSchema()"
   ]
  },
  {
   "cell_type": "code",
   "execution_count": 366,
   "id": "489fa535",
   "metadata": {},
   "outputs": [],
   "source": [
    "# df_cached = hbase_df.cache()\n",
    "# print(df_cached.count())"
   ]
  },
  {
   "cell_type": "markdown",
   "id": "de797b58",
   "metadata": {},
   "source": [
    "### Reloading Dependencies"
   ]
  },
  {
   "cell_type": "code",
   "execution_count": 367,
   "id": "4f7092a6",
   "metadata": {},
   "outputs": [],
   "source": [
    "import seaborn as sns\n",
    "import matplotlib.pyplot as plt\n",
    "import numpy as np\n",
    "import re\n",
    "\n",
    "from pyspark.sql.functions import udf\n",
    "from pyspark.sql.types import IntegerType\n",
    "from pyspark.ml.feature import Tokenizer\n",
    "from pyspark.sql.functions import explode, col, length\n",
    "\n",
    "from operator import add"
   ]
  },
  {
   "cell_type": "markdown",
   "id": "ba81d571",
   "metadata": {},
   "source": [
    "### Word Count"
   ]
  },
  {
   "cell_type": "markdown",
   "id": "9945ef7a",
   "metadata": {},
   "source": [
    "On reading in the data we will now cache the Spark Dataframe to memory for faster access. This is one of the key features of Apache Spark which allow up to 100 times quicker processing than Hadoop Map-Reduce."
   ]
  },
  {
   "cell_type": "code",
   "execution_count": 368,
   "id": "6b2d9729",
   "metadata": {},
   "outputs": [],
   "source": [
    "#df_cached = twitter_cs_preprocessing_df.cache()"
   ]
  },
  {
   "cell_type": "code",
   "execution_count": 369,
   "id": "26f09072",
   "metadata": {
    "scrolled": false
   },
   "outputs": [],
   "source": [
    "df_cached = df.cache()"
   ]
  },
  {
   "cell_type": "markdown",
   "id": "312f7db9",
   "metadata": {},
   "source": [
    "We will drop any null values within the 'text' column before tekenising the feature. The tokeniser function is provided by Sparks Machine Learning library. Another benefit provided over Hadoop Map-reduce."
   ]
  },
  {
   "cell_type": "code",
   "execution_count": 370,
   "id": "ed00a789",
   "metadata": {},
   "outputs": [],
   "source": [
    "df_cached = df_cached.dropna(subset=['text'])"
   ]
  },
  {
   "cell_type": "code",
   "execution_count": 371,
   "id": "ca81926b",
   "metadata": {},
   "outputs": [],
   "source": [
    "from pyspark.ml.feature import Tokenizer"
   ]
  },
  {
   "cell_type": "code",
   "execution_count": 372,
   "id": "8682a797",
   "metadata": {},
   "outputs": [],
   "source": [
    "tokenizer = Tokenizer(inputCol = 'text',\n",
    "                     outputCol = 'words')"
   ]
  },
  {
   "cell_type": "code",
   "execution_count": 373,
   "id": "6f4940f8",
   "metadata": {},
   "outputs": [],
   "source": [
    "df_cached = tokenizer.transform(df_cached)"
   ]
  },
  {
   "cell_type": "code",
   "execution_count": 374,
   "id": "59a7e762",
   "metadata": {},
   "outputs": [
    {
     "name": "stderr",
     "output_type": "stream",
     "text": [
      "[Stage 767:============================>                            (2 + 2) / 4]\r"
     ]
    },
    {
     "name": "stdout",
     "output_type": "stream",
     "text": [
      "+--------+------------+-------+------------+------------+-----------------+-----------------------+------------+\n",
      "|tweet_id|   author_id|inbound|  created_at|        text|response_tweet_id|in_response_to_tweet_id|       words|\n",
      "+--------+------------+-------+------------+------------+-----------------+-----------------------+------------+\n",
      "|       1|  sprintcare|  False|2017-10-3...|@115712 I...|                2|                      3|[@115712,...|\n",
      "|       2|      115712|   True|2017-10-3...|@sprintca...|             null|                      1|[@sprintc...|\n",
      "|       3|      115712|   True|2017-10-3...|@sprintca...|                1|                      4|[@sprintc...|\n",
      "|       4|  sprintcare|  False|2017-10-3...|@115712 P...|                3|                      5|[@115712,...|\n",
      "|       5|      115712|   True|2017-10-3...|@sprintca...|                4|                      6|[@sprintc...|\n",
      "|       6|  sprintcare|  False|2017-10-3...|@115712 C...|             null|                      8|[@115712,...|\n",
      "|       8|      115712|   True|2017-10-3...|@sprintca...|             null|                   null|[@sprintc...|\n",
      "|      11|  sprintcare|  False|2017-10-3...|@115713 T...|             null|                     12|[@115713,...|\n",
      "|      12|      115713|   True|2017-10-3...|@sprintca...|             null|                     15|[@sprintc...|\n",
      "|      15|  sprintcare|  False|2017-10-3...|@115713 W...|               12|                     16|[@115713,...|\n",
      "|      16|      115713|   True|2017-10-3...|@sprintca...|               15|                     17|[@sprintc...|\n",
      "|      17|  sprintcare|  False|2017-10-3...|@115713 H...|               16|                     18|[@115713,...|\n",
      "|      18|      115713|   True|2017-10-3...|@115714 y...|               17|                   null|[@115714,...|\n",
      "|      19|  sprintcare|  False|2017-10-3...|@115715 P...|             null|                     20|[@115715,...|\n",
      "|      20|      115715|   True|2017-10-3...|@115714 w...|               19|                   null|[@115714,...|\n",
      "|      21|Ask_Spectrum|  False|2017-10-3...|@115716 W...|             null|                     24|[@115716,...|\n",
      "|      22|      115716|   True|2017-10-3...|@Ask_Spec...|               25|                     21|[@ask_spe...|\n",
      "|      25|Ask_Spectrum|  False|2017-10-3...|@115716 O...|               26|                     22|[@115716,...|\n",
      "|      26|      115716|   True|2017-10-3...|@Ask_Spec...|               27|                     25|[@ask_spe...|\n",
      "|      27|Ask_Spectrum|  False|2017-10-3...|@115716 N...|             null|                     26|[@115716,...|\n",
      "+--------+------------+-------+------------+------------+-----------------+-----------------------+------------+\n",
      "only showing top 20 rows\n",
      "\n"
     ]
    },
    {
     "name": "stderr",
     "output_type": "stream",
     "text": [
      "\r",
      "                                                                                \r"
     ]
    }
   ],
   "source": [
    "df_cached.show(truncate=12)"
   ]
  },
  {
   "cell_type": "code",
   "execution_count": 375,
   "id": "d3fb8918",
   "metadata": {},
   "outputs": [],
   "source": [
    "from pyspark.sql.functions import udf\n",
    "from pyspark.sql.types import IntegerType"
   ]
  },
  {
   "cell_type": "markdown",
   "id": "024d4b65",
   "metadata": {},
   "source": [
    "Will will use a User Defined Function (UDF) to demonstrate another feature in SparkSQL. UDF's allow us to customise functions in languages like Java, Scala or in ur case Python. Here we call the udf count_tokens which will count the number of words as integers in the words array column thats generated by the tokenizer."
   ]
  },
  {
   "cell_type": "code",
   "execution_count": 376,
   "id": "2609f21f",
   "metadata": {},
   "outputs": [],
   "source": [
    "count_tokens = udf(lambda words: len(words), IntegerType())"
   ]
  },
  {
   "cell_type": "markdown",
   "id": "284146ec",
   "metadata": {},
   "source": [
    "On applying the udf we create a new colum 'num_words' for the number of words within 'word' and keep the df in memory."
   ]
  },
  {
   "cell_type": "code",
   "execution_count": 377,
   "id": "76a9dbda",
   "metadata": {},
   "outputs": [],
   "source": [
    "df_cached = df_cached.withColumn('num_words', count_tokens(df_cached.words)).cache()"
   ]
  },
  {
   "cell_type": "markdown",
   "id": "3108f6aa",
   "metadata": {},
   "source": [
    "Viewing the changes following tokenising and word count to the Schema."
   ]
  },
  {
   "cell_type": "code",
   "execution_count": 378,
   "id": "33212169",
   "metadata": {
    "scrolled": true
   },
   "outputs": [
    {
     "name": "stdout",
     "output_type": "stream",
     "text": [
      "root\n",
      " |-- tweet_id: integer (nullable = true)\n",
      " |-- author_id: string (nullable = true)\n",
      " |-- inbound: string (nullable = true)\n",
      " |-- created_at: timestamp (nullable = true)\n",
      " |-- text: string (nullable = true)\n",
      " |-- response_tweet_id: integer (nullable = true)\n",
      " |-- in_response_to_tweet_id: integer (nullable = true)\n",
      " |-- words: array (nullable = true)\n",
      " |    |-- element: string (containsNull = true)\n",
      " |-- num_words: integer (nullable = true)\n",
      "\n"
     ]
    }
   ],
   "source": [
    "df_cached.printSchema()"
   ]
  },
  {
   "cell_type": "code",
   "execution_count": 379,
   "id": "b9ec30ee",
   "metadata": {
    "scrolled": false
   },
   "outputs": [
    {
     "name": "stderr",
     "output_type": "stream",
     "text": [
      "\r",
      "[Stage 770:>                                                        (0 + 1) / 1]\r"
     ]
    },
    {
     "name": "stdout",
     "output_type": "stream",
     "text": [
      "+--------+----------+-------+----------+----------+-----------------+-----------------------+----------+---------+\n",
      "|tweet_id| author_id|inbound|created_at|      text|response_tweet_id|in_response_to_tweet_id|     words|num_words|\n",
      "+--------+----------+-------+----------+----------+-----------------+-----------------------+----------+---------+\n",
      "|       1|sprintcare|  False|2017-10...|@115712...|                2|                      3|[@11571...|       23|\n",
      "|       2|    115712|   True|2017-10...|@sprint...|             null|                      1|[@sprin...|        9|\n",
      "|       3|    115712|   True|2017-10...|@sprint...|                1|                      4|[@sprin...|       14|\n",
      "|       4|sprintcare|  False|2017-10...|@115712...|                3|                      5|[@11571...|       23|\n",
      "|       5|    115712|   True|2017-10...|@sprint...|                4|                      6|[@sprin...|        3|\n",
      "|       6|sprintcare|  False|2017-10...|@115712...|             null|                      8|[@11571...|       19|\n",
      "|       8|    115712|   True|2017-10...|@sprint...|             null|                   null|[@sprin...|        6|\n",
      "|      11|sprintcare|  False|2017-10...|@115713...|             null|                     12|[@11571...|       21|\n",
      "|      12|    115713|   True|2017-10...|@sprint...|             null|                     15|[@sprin...|       16|\n",
      "|      15|sprintcare|  False|2017-10...|@115713...|               12|                     16|[@11571...|       25|\n",
      "|      16|    115713|   True|2017-10...|@sprint...|               15|                     17|[@sprin...|        9|\n",
      "|      17|sprintcare|  False|2017-10...|@115713...|               16|                     18|[@11571...|       21|\n",
      "|      18|    115713|   True|2017-10...|@115714...|               17|                   null|[@11571...|       15|\n",
      "|      19|sprintcare|  False|2017-10...|@115715...|             null|                     20|[@11571...|       20|\n",
      "|      20|    115715|   True|2017-10...|@115714...|               19|                   null|[@11571...|       27|\n",
      "|      21|Ask_Spe...|  False|2017-10...|@115716...|             null|                     24|[@11571...|        6|\n",
      "|      22|    115716|   True|2017-10...|@Ask_Sp...|               25|                     21|[@ask_s...|       19|\n",
      "|      25|Ask_Spe...|  False|2017-10...|@115716...|               26|                     22|[@11571...|       23|\n",
      "|      26|    115716|   True|2017-10...|@Ask_Sp...|               27|                     25|[@ask_s...|       13|\n",
      "|      27|Ask_Spe...|  False|2017-10...|@115716...|             null|                     26|[@11571...|        5|\n",
      "+--------+----------+-------+----------+----------+-----------------+-----------------------+----------+---------+\n",
      "only showing top 20 rows\n",
      "\n"
     ]
    },
    {
     "name": "stderr",
     "output_type": "stream",
     "text": [
      "\r",
      "                                                                                \r"
     ]
    }
   ],
   "source": [
    "df_cached.show(truncate=10)"
   ]
  },
  {
   "cell_type": "markdown",
   "id": "b8d88aa0",
   "metadata": {},
   "source": [
    "The warning highlights that the memory thats been allocated to Spark is insufficient. Spark computed that the RDD rdd_412_0 would require approximately 248.5 MiB of memory to cache, but as there was not enough available, it persisted the RDD to disk instead of caching it entirely in memory.\n",
    "\n",
    "While we haven't directly used RDDs in the code, Spark DataFrames, which are built on top of RDDs, automatically manage partitions and parallelism. Spark distributes the data across partitions and executes operations in parallel, optimizing resource utilization.\n",
    "\n",
    "Persisting RDDs to disk instead of caching them in memory can affect performance, as reading data from disk is slower compared to reading from memory. "
   ]
  },
  {
   "cell_type": "code",
   "execution_count": 380,
   "id": "bfa8829f",
   "metadata": {
    "scrolled": false
   },
   "outputs": [
    {
     "name": "stdout",
     "output_type": "stream",
     "text": [
      "+------------------------------------------------------------------------------------------------------------------------------------------------------------------------------------------------+---------+\n",
      "|words                                                                                                                                                                                           |num_words|\n",
      "+------------------------------------------------------------------------------------------------------------------------------------------------------------------------------------------------+---------+\n",
      "|[@115712, i, understand., i, would, like, to, assist, you., we, would, need, to, get, you, into, a, private, secured, link, to, further, assist.]                                               |23       |\n",
      "|[@sprintcare, and, how, do, you, propose, we, do, that]                                                                                                                                         |9        |\n",
      "|[@sprintcare, i, have, sent, several, private, messages, and, no, one, is, responding, as, usual]                                                                                               |14       |\n",
      "|[@115712, please, send, us, a, private, message, so, that, we, can, further, assist, you., just, click, ‘message’, at, the, top, of, your, profile.]                                            |23       |\n",
      "|[@sprintcare, i, did.]                                                                                                                                                                          |3        |\n",
      "|[@115712, can, you, please, send, us, a, private, message,, so, that, i, can, gain, further, details, about, your, account?]                                                                    |19       |\n",
      "|[@sprintcare, is, the, worst, customer, service]                                                                                                                                                |6        |\n",
      "|[@115713, this, is, saddening, to, hear., please, shoot, us, a, dm,, so, that, we, can, look, into, this, for, you., -kc]                                                                       |21       |\n",
      "|[@sprintcare, you, gonna, magically, change, your, connectivity, for, me, and, my, whole, family, ?, 🤥, 💯]                                                                                    |16       |\n",
      "|[@115713, we, understand, your, concerns, and, we'd, like, for, you, to, please, send, us, a, direct, message,, so, that, we, can, further, assist, you., -aa]                                  |25       |\n",
      "|[@sprintcare, since, i, signed, up, with, you....since, day, 1]                                                                                                                                 |9        |\n",
      "|[@115713, h, there!, we'd, definitely, like, to, work, with, you, on, this,, how, long, have, you, been, experiencing, this, issue?, -aa]                                                       |21       |\n",
      "|[@115714, y’all, lie, about, your, “great”, connection., 5, bars, lte,, still, won’t, load, something., smh.]                                                                                   |15       |\n",
      "|[@115715, please, send, me, a, private, message, so, that, i, can, send, you, the, link, to, access, your, account., -fr]                                                                       |20       |\n",
      "|[@115714, whenever, i, contact, customer, support,, they, tell, me, i, have, shortcode, enabled, on, my, account,, but, i, have, never, in, the, 4, years, i've, tried, https://t.co/0g98rtnxpk]|27       |\n",
      "|[@115716, what, information, is, incorrect?, ^jk]                                                                                                                                               |6        |\n",
      "|[@ask_spectrum, would, you, like, me, to, email, you, a, copy, of, one, since, spectrum, is, not, updating, your, training?]                                                                    |19       |\n",
      "|[@115716, our, department, is, part, of, the, corporate, office., , if, you're, particular, area, has, gone, to, this, format,, we, were, unawa..., https://t.co/p7xcmtzpqj]                    |23       |\n",
      "|[@ask_spectrum, i, received, this, from, your, corporate, office, would, you, like, a, copy?]                                                                                                   |13       |\n",
      "|[@115716, no, thank, you., ^jk]                                                                                                                                                                 |5        |\n",
      "+------------------------------------------------------------------------------------------------------------------------------------------------------------------------------------------------+---------+\n",
      "only showing top 20 rows\n",
      "\n"
     ]
    }
   ],
   "source": [
    "df_cached.select('words', 'num_words').show(truncate=False)"
   ]
  },
  {
   "cell_type": "code",
   "execution_count": 381,
   "id": "8f11e4a2",
   "metadata": {
    "scrolled": true
   },
   "outputs": [
    {
     "name": "stderr",
     "output_type": "stream",
     "text": [
      "24/04/17 21:44:15 WARN MemoryStore: Not enough space to cache rdd_1696_109 in memory! (computed 3.8 MiB so far)\n",
      "24/04/17 21:44:15 WARN BlockManager: Persisting block rdd_1696_109 to disk instead.\n",
      "24/04/17 21:44:15 WARN MemoryStore: Failed to reserve initial memory threshold of 1024.0 KiB for computing block rdd_1696_109 in memory.\n",
      "24/04/17 21:44:15 WARN MemoryStore: Not enough space to cache rdd_1696_109 in memory! (computed 384.0 B so far)\n",
      "24/04/17 21:44:15 WARN MemoryStore: Not enough space to cache rdd_1696_110 in memory! (computed 3.8 MiB so far)\n",
      "24/04/17 21:44:15 WARN BlockManager: Persisting block rdd_1696_110 to disk instead.\n",
      "24/04/17 21:44:16 WARN MemoryStore: Not enough space to cache rdd_1696_110 in memory! (computed 6.3 MiB so far)\n",
      "24/04/17 21:44:16 WARN MemoryStore: Not enough space to cache rdd_1696_112 in memory! (computed 3.8 MiB so far)\n",
      "24/04/17 21:44:16 WARN BlockManager: Persisting block rdd_1696_112 to disk instead.\n",
      "24/04/17 21:44:16 WARN MemoryStore: Failed to reserve initial memory threshold of 1024.0 KiB for computing block rdd_1696_112 in memory.\n",
      "24/04/17 21:44:16 WARN MemoryStore: Not enough space to cache rdd_1696_112 in memory! (computed 384.0 B so far)\n",
      "24/04/17 21:44:17 WARN MemoryStore: Not enough space to cache rdd_1696_115 in memory! (computed 3.8 MiB so far)\n",
      "24/04/17 21:44:17 WARN BlockManager: Persisting block rdd_1696_115 to disk instead.\n",
      "24/04/17 21:44:17 WARN MemoryStore: Failed to reserve initial memory threshold of 1024.0 KiB for computing block rdd_1696_115 in memory.\n",
      "24/04/17 21:44:17 WARN MemoryStore: Not enough space to cache rdd_1696_115 in memory! (computed 384.0 B so far)\n",
      "24/04/17 21:44:18 WARN MemoryStore: Not enough space to cache rdd_1696_116 in memory! (computed 3.8 MiB so far)\n",
      "24/04/17 21:44:18 WARN BlockManager: Persisting block rdd_1696_116 to disk instead.\n",
      "24/04/17 21:44:18 WARN MemoryStore: Not enough space to cache rdd_1696_117 in memory! (computed 3.8 MiB so far)\n",
      "24/04/17 21:44:18 WARN BlockManager: Persisting block rdd_1696_117 to disk instead.\n",
      "24/04/17 21:44:18 WARN MemoryStore: Not enough space to cache rdd_1696_116 in memory! (computed 6.9 MiB so far)\n",
      "24/04/17 21:44:18 WARN MemoryStore: Not enough space to cache rdd_1696_117 in memory! (computed 7.1 MiB so far)\n",
      "24/04/17 21:44:18 WARN MemoryStore: Not enough space to cache rdd_1696_118 in memory! (computed 3.8 MiB so far)\n",
      "24/04/17 21:44:18 WARN BlockManager: Persisting block rdd_1696_118 to disk instead.\n",
      "24/04/17 21:44:19 WARN MemoryStore: Not enough space to cache rdd_1696_118 in memory! (computed 3.8 MiB so far)\n",
      "24/04/17 21:44:19 WARN MemoryStore: Not enough space to cache rdd_1696_119 in memory! (computed 3.8 MiB so far)\n",
      "24/04/17 21:44:19 WARN BlockManager: Persisting block rdd_1696_119 to disk instead.\n",
      "24/04/17 21:44:19 WARN MemoryStore: Not enough space to cache rdd_1696_119 in memory! (computed 3.8 MiB so far)\n",
      "24/04/17 21:44:21 WARN MemoryStore: Not enough space to cache rdd_1696_123 in memory! (computed 3.8 MiB so far)\n",
      "24/04/17 21:44:21 WARN BlockManager: Persisting block rdd_1696_123 to disk instead.\n",
      "24/04/17 21:44:22 WARN MemoryStore: Not enough space to cache rdd_1696_125 in memory! (computed 6.4 MiB so far)\n",
      "24/04/17 21:44:22 WARN BlockManager: Persisting block rdd_1696_125 to disk instead.\n",
      "24/04/17 21:44:22 WARN MemoryStore: Not enough space to cache rdd_1696_125 in memory! (computed 6.4 MiB so far)\n",
      "24/04/17 21:44:23 WARN MemoryStore: Not enough space to cache rdd_1696_126 in memory! (computed 7.0 MiB so far)\n",
      "24/04/17 21:44:23 WARN BlockManager: Persisting block rdd_1696_126 to disk instead.\n",
      "24/04/17 21:44:23 WARN MemoryStore: Not enough space to cache rdd_1696_126 in memory! (computed 7.0 MiB so far)\n",
      "24/04/17 21:44:23 WARN MemoryStore: Not enough space to cache rdd_1696_127 in memory! (computed 6.4 MiB so far)\n",
      "24/04/17 21:44:23 WARN BlockManager: Persisting block rdd_1696_127 to disk instead.\n",
      "24/04/17 21:44:23 WARN MemoryStore: Not enough space to cache rdd_1696_127 in memory! (computed 6.4 MiB so far)\n",
      "24/04/17 21:44:23 WARN MemoryStore: Not enough space to cache rdd_1696_128 in memory! (computed 3.8 MiB so far)\n",
      "24/04/17 21:44:23 WARN BlockManager: Persisting block rdd_1696_128 to disk instead.\n",
      "24/04/17 21:44:24 WARN MemoryStore: Not enough space to cache rdd_1696_129 in memory! (computed 3.8 MiB so far)\n",
      "24/04/17 21:44:24 WARN BlockManager: Persisting block rdd_1696_129 to disk instead.\n",
      "24/04/17 21:44:24 WARN MemoryStore: Not enough space to cache rdd_1696_129 in memory! (computed 3.8 MiB so far)\n",
      "24/04/17 21:44:27 WARN MemoryStore: Not enough space to cache rdd_1696_140 in memory! (computed 3.8 MiB so far)\n",
      "24/04/17 21:44:27 WARN BlockManager: Persisting block rdd_1696_140 to disk instead.\n",
      "24/04/17 21:44:27 WARN MemoryStore: Not enough space to cache rdd_1696_140 in memory! (computed 3.8 MiB so far)\n",
      "24/04/17 21:44:31 WARN MemoryStore: Not enough space to cache rdd_1696_149 in memory! (computed 6.7 MiB so far)\n",
      "24/04/17 21:44:31 WARN BlockManager: Persisting block rdd_1696_149 to disk instead.\n",
      "24/04/17 21:44:31 WARN MemoryStore: Not enough space to cache rdd_1696_149 in memory! (computed 6.7 MiB so far)\n",
      "24/04/17 21:44:31 WARN MemoryStore: Not enough space to cache rdd_1696_150 in memory! (computed 3.8 MiB so far)\n",
      "24/04/17 21:44:31 WARN BlockManager: Persisting block rdd_1696_150 to disk instead.\n",
      "24/04/17 21:44:33 WARN MemoryStore: Not enough space to cache rdd_1696_155 in memory! (computed 3.8 MiB so far)\n",
      "24/04/17 21:44:33 WARN BlockManager: Persisting block rdd_1696_155 to disk instead.\n",
      "24/04/17 21:44:35 WARN MemoryStore: Not enough space to cache rdd_1696_160 in memory! (computed 3.8 MiB so far)\n",
      "24/04/17 21:44:35 WARN BlockManager: Persisting block rdd_1696_160 to disk instead.\n",
      "24/04/17 21:44:35 WARN MemoryStore: Not enough space to cache rdd_1696_160 in memory! (computed 3.8 MiB so far)\n",
      "24/04/17 21:44:36 WARN MemoryStore: Not enough space to cache rdd_1696_161 in memory! (computed 3.8 MiB so far)\n",
      "24/04/17 21:44:36 WARN BlockManager: Persisting block rdd_1696_161 to disk instead.\n",
      "24/04/17 21:44:36 WARN MemoryStore: Not enough space to cache rdd_1696_163 in memory! (computed 3.8 MiB so far)\n",
      "24/04/17 21:44:36 WARN BlockManager: Persisting block rdd_1696_163 to disk instead.\n",
      "24/04/17 21:44:37 WARN MemoryStore: Not enough space to cache rdd_1696_166 in memory! (computed 3.8 MiB so far)\n",
      "24/04/17 21:44:37 WARN BlockManager: Persisting block rdd_1696_166 to disk instead.\n",
      "24/04/17 21:44:37 WARN MemoryStore: Failed to reserve initial memory threshold of 1024.0 KiB for computing block rdd_1696_166 in memory.\n",
      "24/04/17 21:44:37 WARN MemoryStore: Not enough space to cache rdd_1696_166 in memory! (computed 384.0 B so far)\n",
      "24/04/17 21:44:38 WARN MemoryStore: Not enough space to cache rdd_1696_168 in memory! (computed 3.8 MiB so far)\n",
      "24/04/17 21:44:38 WARN BlockManager: Persisting block rdd_1696_168 to disk instead.\n",
      "24/04/17 21:44:39 WARN MemoryStore: Not enough space to cache rdd_1696_170 in memory! (computed 3.8 MiB so far)\n",
      "24/04/17 21:44:39 WARN BlockManager: Persisting block rdd_1696_170 to disk instead.\n",
      "24/04/17 21:44:39 WARN MemoryStore: Not enough space to cache rdd_1696_171 in memory! (computed 3.8 MiB so far)\n",
      "24/04/17 21:44:39 WARN BlockManager: Persisting block rdd_1696_171 to disk instead.\n",
      "24/04/17 21:44:40 WARN MemoryStore: Not enough space to cache rdd_1696_174 in memory! (computed 3.8 MiB so far)\n",
      "24/04/17 21:44:40 WARN BlockManager: Persisting block rdd_1696_174 to disk instead.\n",
      "24/04/17 21:44:40 WARN MemoryStore: Not enough space to cache rdd_1696_174 in memory! (computed 3.8 MiB so far)\n",
      "24/04/17 21:44:40 WARN MemoryStore: Not enough space to cache rdd_1696_173 in memory! (computed 3.8 MiB so far)\n",
      "24/04/17 21:44:40 WARN BlockManager: Persisting block rdd_1696_173 to disk instead.\n",
      "24/04/17 21:44:41 WARN MemoryStore: Not enough space to cache rdd_1696_176 in memory! (computed 3.8 MiB so far)\n",
      "24/04/17 21:44:41 WARN BlockManager: Persisting block rdd_1696_176 to disk instead.\n",
      "24/04/17 21:44:41 WARN MemoryStore: Not enough space to cache rdd_1696_176 in memory! (computed 3.8 MiB so far)\n",
      "24/04/17 21:44:43 WARN MemoryStore: Not enough space to cache rdd_1696_180 in memory! (computed 3.8 MiB so far)\n",
      "24/04/17 21:44:43 WARN BlockManager: Persisting block rdd_1696_180 to disk instead.\n"
     ]
    },
    {
     "name": "stderr",
     "output_type": "stream",
     "text": [
      "                                                                                \r"
     ]
    }
   ],
   "source": [
    "# Converting from Spark DataFrame to Pandas DataFrame for plotting\n",
    "num_words_pd = df_cached.select(\"num_words\").toPandas()"
   ]
  },
  {
   "cell_type": "markdown",
   "id": "ffb41966",
   "metadata": {},
   "source": [
    "Snippet of Warning Message:\n",
    "24/04/17 14:44:07 WARN MemoryStore: Not enough space to cache rdd_576_178 in memory! (computed 384.0 B so far)\n",
    "24/04/17 14:44:08 WARN MemoryStore: Not enough space to cache rdd_576_179 in memory! (computed 3.8 MiB so far)\n",
    "24/04/17 14:44:08 WARN BlockManager: Persisting block rdd_576_179 to disk instead.\n",
    "24/04/17 14:44:08 WARN MemoryStore: Failed to reserve initial memory threshold of 1024.0 KiB for computing block rdd_576_179 in memory.\n",
    "24/04/17 14:44:08 WARN MemoryStore: Not enough space to cache rdd_576_179 in memory! (computed 384.0 B so far)\n",
    "24/04/17 14:44:09 WARN MemoryStore: Not enough space to cache rdd_576_183 in memory! (computed 3.8 MiB so far)\n",
    "24/04/17 14:44:09 WARN BlockManager: Persisting block rdd_576_183 to disk instead."
   ]
  },
  {
   "cell_type": "markdown",
   "id": "711bf15f",
   "metadata": {},
   "source": [
    "It seems that the data is too large to fit into memory, resulting in an out-of-memory error. Applying the same code earlier for characters instead of words did not result in this error. It could be that words require more memory as characters are stored in bytes or that more resources were available at the time. Either way, it is a memory issue and attempting this process on a cached dataframe has used all available memory and failed to execute."
   ]
  },
  {
   "cell_type": "markdown",
   "id": "ae2809ca",
   "metadata": {},
   "source": [
    "There are a number of ways around this including the proper use of cluster, providing more memory,or even sampling and processing in chunks. Although processing time will be increased, we will continue by persisting the dataframe to disk."
   ]
  },
  {
   "cell_type": "code",
   "execution_count": 382,
   "id": "7ed89bdc",
   "metadata": {},
   "outputs": [],
   "source": [
    "# # If the process above fails due to a lack of memory0\n",
    "# # we will execute this block of code in which we attempt to persist\n",
    "# # to disk\n",
    "\n",
    "# from pyspark.storagelevel import StorageLevel\n",
    "\n",
    "# # Persisting the DataFrame to disk before processing\n",
    "# df_cached.persist(storageLevel=StorageLevel.DISK_ONLY)\n",
    "\n",
    "# # Converting from Spark DataFrame to Pandas DataFrame for plotting\n",
    "# num_words_pd = df_cached.select(\"num_words\").toPandas()"
   ]
  },
  {
   "cell_type": "markdown",
   "id": "0a614036",
   "metadata": {},
   "source": [
    "The above code does not work as we intended. It still retains the Dataframe in memory. If issues with memory occur, we will unpersist the dataframe and free up cache resources by running the block of code below."
   ]
  },
  {
   "cell_type": "code",
   "execution_count": 383,
   "id": "297bb0fe",
   "metadata": {},
   "outputs": [],
   "source": [
    "# # Unpersist Dataframe\n",
    "# df_cached.unpersist()\n",
    "# print(f\"Is df_cached dataframe cached? {df_cached.is_cached}\")"
   ]
  },
  {
   "cell_type": "code",
   "execution_count": 384,
   "id": "4fe5f9d9",
   "metadata": {},
   "outputs": [
    {
     "data": {
      "text/plain": [
       "count   2811783.00\n",
       "mean         19.15\n",
       "std           9.66\n",
       "min           1.00\n",
       "25%          13.00\n",
       "50%          19.00\n",
       "75%          24.00\n",
       "max         242.00\n",
       "Name: num_words, dtype: float64"
      ]
     },
     "execution_count": 384,
     "metadata": {},
     "output_type": "execute_result"
    }
   ],
   "source": [
    "num_words_pd['num_words'].describe()"
   ]
  },
  {
   "cell_type": "code",
   "execution_count": 385,
   "id": "fb2573c6",
   "metadata": {},
   "outputs": [
    {
     "data": {
      "image/png": "[encoded data removed]",
      "text/plain": [
       "<Figure size 1080x720 with 1 Axes>"
      ]
     },
     "metadata": {
      "needs_background": "light"
     },
     "output_type": "display_data"
    }
   ],
   "source": [
    "# Plotting the frequency distribution of tweets based on their word count\n",
    "plt.figure(figsize=(15, 10))\n",
    "plt.hist(num_words_pd[\"num_words\"], bins=50, color='SeaGreen', edgecolor='black')\n",
    "plt.xlabel('Tweet Length (Words)', fontsize=15)\n",
    "plt.ylabel('Frequency', fontsize=15)\n",
    "plt.title('Histogram of Tweet Lengths by Words', fontsize=18)\n",
    "plt.grid(True)\n",
    "plt.show()"
   ]
  },
  {
   "cell_type": "markdown",
   "id": "26784c82",
   "metadata": {},
   "source": [
    "The histogram above allows us to visualise the spread of the number of words per tweet. As with for the distribution of tweet lengths by characters, the distribution by words appears right skewed. The distribution is off center toward the limit, with a tail strecthing away to the right.This is normal as we expect most tweet lengths to be on the lower end. There is atleast on outlier within the number of words, evident by the count on the x=axis extending up to 250."
   ]
  },
  {
   "cell_type": "code",
   "execution_count": 386,
   "id": "225c4770",
   "metadata": {},
   "outputs": [
    {
     "data": {
      "image/png": "[encoded data removed]",
      "text/plain": [
       "<Figure size 1080x720 with 1 Axes>"
      ]
     },
     "metadata": {
      "needs_background": "light"
     },
     "output_type": "display_data"
    }
   ],
   "source": [
    "# Removing extreme outliers for words, in truth on the upper bound need be applied.\n",
    "lower_bound, upper_bound = np.percentile(num_words_pd['num_words'], [5,99])\n",
    "\n",
    "plt.figure(figsize=(15, 10))\n",
    "sns.histplot(data=num_words_pd, x=\"num_words\", bins=250, color='DarkSlateBlue', edgecolor='black')\n",
    "plt.xlabel('Tweet Length (Words)', fontsize=15)\n",
    "plt.ylabel('Frequency', fontsize=15)\n",
    "plt.title('Histogram of Tweet Lengths by Number of Words', fontsize=18)\n",
    "plt.grid(True)\n",
    "plt.xlim(lower_bound, upper_bound)\n",
    "plt.show()"
   ]
  },
  {
   "cell_type": "markdown",
   "id": "51f8488c",
   "metadata": {},
   "source": [
    "Ultimately the same visual as above, but without the influence of extreme outliers in the 99 percentile for words. Removing them aids in producing a more readable graphic. We find the avrage number of words for a tweet to be around 20, with a standard deviation of around 10. There does not appear to be any tweets of 28 words."
   ]
  },
  {
   "cell_type": "markdown",
   "id": "f3fd7dfb",
   "metadata": {},
   "source": [
    "### Word Frequency "
   ]
  },
  {
   "cell_type": "code",
   "execution_count": 387,
   "id": "1e751833",
   "metadata": {},
   "outputs": [],
   "source": [
    "import re\n",
    "from operator import add"
   ]
  },
  {
   "cell_type": "code",
   "execution_count": 388,
   "id": "d64dd9ac",
   "metadata": {
    "scrolled": false
   },
   "outputs": [
    {
     "name": "stderr",
     "output_type": "stream",
     "text": [
      "24/04/17 21:46:26 WARN MemoryStore: Not enough space to cache rdd_1696_5 in memory! (computed 3.8 MiB so far)\n",
      "24/04/17 21:46:33 WARN MemoryStore: Not enough space to cache rdd_1696_6 in memory! (computed 3.8 MiB so far)\n",
      "24/04/17 21:46:33 WARN MemoryStore: Not enough space to cache rdd_1696_7 in memory! (computed 3.8 MiB so far)\n",
      "24/04/17 21:46:34 WARN MemoryStore: Not enough space to cache rdd_1696_8 in memory! (computed 3.8 MiB so far)\n",
      "24/04/17 21:46:34 WARN MemoryStore: Not enough space to cache rdd_1696_9 in memory! (computed 3.8 MiB so far)\n",
      "24/04/17 21:46:36 WARN MemoryStore: Not enough space to cache rdd_1696_10 in memory! (computed 3.8 MiB so far)\n",
      "24/04/17 21:46:36 WARN MemoryStore: Not enough space to cache rdd_1696_11 in memory! (computed 3.8 MiB so far)\n",
      "24/04/17 21:46:37 WARN MemoryStore: Not enough space to cache rdd_1696_12 in memory! (computed 3.8 MiB so far)\n",
      "24/04/17 21:46:37 WARN MemoryStore: Not enough space to cache rdd_1696_13 in memory! (computed 3.8 MiB so far)\n",
      "24/04/17 21:46:38 WARN MemoryStore: Not enough space to cache rdd_1696_14 in memory! (computed 3.8 MiB so far)\n",
      "24/04/17 21:46:39 WARN MemoryStore: Not enough space to cache rdd_1696_15 in memory! (computed 3.8 MiB so far)\n",
      "24/04/17 21:46:40 WARN MemoryStore: Not enough space to cache rdd_1696_16 in memory! (computed 3.8 MiB so far)\n",
      "24/04/17 21:46:41 WARN MemoryStore: Not enough space to cache rdd_1696_17 in memory! (computed 3.8 MiB so far)\n",
      "24/04/17 21:46:41 WARN MemoryStore: Not enough space to cache rdd_1696_18 in memory! (computed 3.8 MiB so far)\n",
      "24/04/17 21:46:42 WARN MemoryStore: Not enough space to cache rdd_1696_19 in memory! (computed 3.8 MiB so far)\n",
      "24/04/17 21:46:43 WARN MemoryStore: Not enough space to cache rdd_1696_20 in memory! (computed 3.8 MiB so far)\n",
      "24/04/17 21:46:44 WARN MemoryStore: Not enough space to cache rdd_1696_21 in memory! (computed 3.8 MiB so far)\n",
      "24/04/17 21:46:44 WARN MemoryStore: Not enough space to cache rdd_1696_22 in memory! (computed 3.8 MiB so far)\n",
      "24/04/17 21:46:45 WARN MemoryStore: Not enough space to cache rdd_1696_23 in memory! (computed 3.8 MiB so far)\n",
      "24/04/17 21:46:45 WARN MemoryStore: Not enough space to cache rdd_1696_24 in memory! (computed 3.8 MiB so far)\n",
      "24/04/17 21:46:46 WARN MemoryStore: Not enough space to cache rdd_1696_25 in memory! (computed 3.8 MiB so far)\n",
      "24/04/17 21:46:47 WARN MemoryStore: Not enough space to cache rdd_1696_26 in memory! (computed 3.8 MiB so far)\n",
      "24/04/17 21:46:49 WARN MemoryStore: Not enough space to cache rdd_1696_27 in memory! (computed 3.8 MiB so far)\n",
      "24/04/17 21:46:49 WARN MemoryStore: Not enough space to cache rdd_1696_28 in memory! (computed 3.9 MiB so far)\n",
      "24/04/17 21:46:50 WARN MemoryStore: Not enough space to cache rdd_1696_29 in memory! (computed 3.8 MiB so far)\n",
      "24/04/17 21:46:50 WARN MemoryStore: Not enough space to cache rdd_1696_30 in memory! (computed 3.8 MiB so far)\n",
      "24/04/17 21:46:50 WARN MemoryStore: Not enough space to cache rdd_1696_31 in memory! (computed 3.8 MiB so far)\n",
      "24/04/17 21:46:51 WARN MemoryStore: Not enough space to cache rdd_1696_32 in memory! (computed 3.8 MiB so far)\n",
      "24/04/17 21:46:52 WARN MemoryStore: Not enough space to cache rdd_1696_33 in memory! (computed 3.8 MiB so far)\n",
      "24/04/17 21:46:52 WARN MemoryStore: Not enough space to cache rdd_1696_34 in memory! (computed 3.8 MiB so far)\n",
      "24/04/17 21:46:53 WARN MemoryStore: Not enough space to cache rdd_1696_35 in memory! (computed 3.8 MiB so far)\n",
      "24/04/17 21:46:53 WARN MemoryStore: Not enough space to cache rdd_1696_36 in memory! (computed 3.8 MiB so far)\n",
      "24/04/17 21:46:54 WARN MemoryStore: Not enough space to cache rdd_1696_37 in memory! (computed 3.8 MiB so far)\n",
      "24/04/17 21:46:54 WARN MemoryStore: Not enough space to cache rdd_1696_38 in memory! (computed 3.8 MiB so far)\n",
      "24/04/17 21:46:55 WARN MemoryStore: Not enough space to cache rdd_1696_39 in memory! (computed 3.8 MiB so far)\n",
      "24/04/17 21:46:55 WARN MemoryStore: Not enough space to cache rdd_1696_40 in memory! (computed 3.8 MiB so far)\n",
      "24/04/17 21:46:56 WARN MemoryStore: Not enough space to cache rdd_1696_41 in memory! (computed 3.8 MiB so far)\n",
      "24/04/17 21:46:56 WARN MemoryStore: Not enough space to cache rdd_1696_42 in memory! (computed 3.8 MiB so far)\n",
      "24/04/17 21:46:57 WARN MemoryStore: Not enough space to cache rdd_1696_43 in memory! (computed 3.8 MiB so far)\n",
      "24/04/17 21:46:57 WARN MemoryStore: Not enough space to cache rdd_1696_44 in memory! (computed 3.8 MiB so far)\n",
      "24/04/17 21:46:58 WARN MemoryStore: Not enough space to cache rdd_1696_45 in memory! (computed 3.8 MiB so far)\n",
      "24/04/17 21:46:58 WARN MemoryStore: Not enough space to cache rdd_1696_46 in memory! (computed 3.8 MiB so far)\n",
      "24/04/17 21:46:59 WARN MemoryStore: Not enough space to cache rdd_1696_47 in memory! (computed 3.8 MiB so far)\n",
      "24/04/17 21:46:59 WARN MemoryStore: Not enough space to cache rdd_1696_48 in memory! (computed 3.8 MiB so far)\n",
      "24/04/17 21:47:00 WARN MemoryStore: Not enough space to cache rdd_1696_49 in memory! (computed 3.8 MiB so far)\n",
      "24/04/17 21:47:00 WARN MemoryStore: Not enough space to cache rdd_1696_50 in memory! (computed 3.8 MiB so far)\n",
      "24/04/17 21:47:01 WARN MemoryStore: Not enough space to cache rdd_1696_51 in memory! (computed 3.8 MiB so far)\n",
      "24/04/17 21:47:01 WARN MemoryStore: Not enough space to cache rdd_1696_52 in memory! (computed 3.8 MiB so far)\n",
      "24/04/17 21:47:02 WARN MemoryStore: Not enough space to cache rdd_1696_53 in memory! (computed 3.8 MiB so far)\n",
      "24/04/17 21:47:02 WARN MemoryStore: Not enough space to cache rdd_1696_54 in memory! (computed 3.8 MiB so far)\n",
      "24/04/17 21:47:03 WARN MemoryStore: Not enough space to cache rdd_1696_55 in memory! (computed 3.8 MiB so far)\n",
      "24/04/17 21:47:03 WARN MemoryStore: Not enough space to cache rdd_1696_56 in memory! (computed 3.8 MiB so far)\n",
      "24/04/17 21:47:05 WARN MemoryStore: Not enough space to cache rdd_1696_57 in memory! (computed 3.8 MiB so far)\n",
      "24/04/17 21:47:05 WARN MemoryStore: Not enough space to cache rdd_1696_58 in memory! (computed 3.8 MiB so far)\n",
      "24/04/17 21:47:06 WARN MemoryStore: Not enough space to cache rdd_1696_59 in memory! (computed 3.8 MiB so far)\n",
      "24/04/17 21:47:07 WARN MemoryStore: Not enough space to cache rdd_1696_60 in memory! (computed 3.8 MiB so far)\n",
      "24/04/17 21:47:08 WARN MemoryStore: Not enough space to cache rdd_1696_61 in memory! (computed 3.8 MiB so far)\n",
      "24/04/17 21:47:08 WARN MemoryStore: Not enough space to cache rdd_1696_62 in memory! (computed 3.8 MiB so far)\n",
      "24/04/17 21:47:09 WARN MemoryStore: Not enough space to cache rdd_1696_63 in memory! (computed 3.8 MiB so far)\n",
      "24/04/17 21:47:12 WARN MemoryStore: Not enough space to cache rdd_1696_64 in memory! (computed 3.8 MiB so far)\n",
      "24/04/17 21:47:12 WARN MemoryStore: Not enough space to cache rdd_1696_65 in memory! (computed 3.8 MiB so far)\n",
      "24/04/17 21:47:13 WARN MemoryStore: Not enough space to cache rdd_1696_66 in memory! (computed 3.8 MiB so far)\n",
      "24/04/17 21:47:14 WARN MemoryStore: Not enough space to cache rdd_1696_67 in memory! (computed 3.8 MiB so far)\n",
      "24/04/17 21:47:14 WARN MemoryStore: Not enough space to cache rdd_1696_68 in memory! (computed 3.8 MiB so far)\n",
      "24/04/17 21:47:15 WARN MemoryStore: Not enough space to cache rdd_1696_69 in memory! (computed 3.8 MiB so far)\n",
      "24/04/17 21:47:15 WARN MemoryStore: Not enough space to cache rdd_1696_70 in memory! (computed 3.8 MiB so far)\n",
      "24/04/17 21:47:16 WARN MemoryStore: Not enough space to cache rdd_1696_71 in memory! (computed 3.8 MiB so far)\n",
      "24/04/17 21:47:16 WARN MemoryStore: Not enough space to cache rdd_1696_72 in memory! (computed 3.8 MiB so far)\n",
      "24/04/17 21:47:17 WARN MemoryStore: Not enough space to cache rdd_1696_73 in memory! (computed 3.8 MiB so far)\n",
      "24/04/17 21:47:17 WARN MemoryStore: Not enough space to cache rdd_1696_74 in memory! (computed 3.8 MiB so far)\n",
      "24/04/17 21:47:17 WARN MemoryStore: Not enough space to cache rdd_1696_75 in memory! (computed 3.8 MiB so far)\n",
      "24/04/17 21:47:18 WARN MemoryStore: Not enough space to cache rdd_1696_76 in memory! (computed 3.8 MiB so far)\n",
      "24/04/17 21:47:18 WARN MemoryStore: Not enough space to cache rdd_1696_77 in memory! (computed 3.8 MiB so far)\n",
      "24/04/17 21:47:19 WARN MemoryStore: Not enough space to cache rdd_1696_78 in memory! (computed 3.8 MiB so far)\n",
      "24/04/17 21:47:19 WARN MemoryStore: Not enough space to cache rdd_1696_79 in memory! (computed 3.8 MiB so far)\n"
     ]
    },
    {
     "name": "stderr",
     "output_type": "stream",
     "text": [
      "24/04/17 21:47:20 WARN MemoryStore: Not enough space to cache rdd_1696_80 in memory! (computed 3.8 MiB so far)\n",
      "24/04/17 21:47:20 WARN MemoryStore: Not enough space to cache rdd_1696_81 in memory! (computed 3.8 MiB so far)\n",
      "24/04/17 21:47:21 WARN MemoryStore: Not enough space to cache rdd_1696_82 in memory! (computed 3.8 MiB so far)\n",
      "24/04/17 21:47:21 WARN MemoryStore: Not enough space to cache rdd_1696_83 in memory! (computed 3.8 MiB so far)\n",
      "24/04/17 21:47:22 WARN MemoryStore: Not enough space to cache rdd_1696_84 in memory! (computed 3.8 MiB so far)\n",
      "24/04/17 21:47:22 WARN MemoryStore: Not enough space to cache rdd_1696_85 in memory! (computed 3.8 MiB so far)\n",
      "24/04/17 21:47:23 WARN MemoryStore: Not enough space to cache rdd_1696_86 in memory! (computed 3.8 MiB so far)\n",
      "24/04/17 21:47:23 WARN MemoryStore: Not enough space to cache rdd_1696_87 in memory! (computed 3.8 MiB so far)\n",
      "24/04/17 21:47:24 WARN MemoryStore: Not enough space to cache rdd_1696_88 in memory! (computed 3.8 MiB so far)\n",
      "24/04/17 21:47:24 WARN MemoryStore: Not enough space to cache rdd_1696_89 in memory! (computed 3.8 MiB so far)\n",
      "24/04/17 21:47:25 WARN MemoryStore: Not enough space to cache rdd_1696_90 in memory! (computed 3.8 MiB so far)\n",
      "24/04/17 21:47:25 WARN MemoryStore: Not enough space to cache rdd_1696_91 in memory! (computed 3.8 MiB so far)\n",
      "24/04/17 21:47:26 WARN MemoryStore: Not enough space to cache rdd_1696_92 in memory! (computed 3.8 MiB so far)\n",
      "24/04/17 21:47:26 WARN MemoryStore: Not enough space to cache rdd_1696_93 in memory! (computed 3.8 MiB so far)\n",
      "24/04/17 21:47:27 WARN MemoryStore: Not enough space to cache rdd_1696_94 in memory! (computed 3.8 MiB so far)\n",
      "24/04/17 21:47:27 WARN MemoryStore: Not enough space to cache rdd_1696_95 in memory! (computed 3.8 MiB so far)\n",
      "24/04/17 21:47:27 WARN MemoryStore: Not enough space to cache rdd_1696_96 in memory! (computed 3.8 MiB so far)\n",
      "24/04/17 21:47:27 WARN MemoryStore: Not enough space to cache rdd_1696_97 in memory! (computed 3.8 MiB so far)\n",
      "24/04/17 21:47:28 WARN MemoryStore: Not enough space to cache rdd_1696_98 in memory! (computed 3.8 MiB so far)\n",
      "24/04/17 21:47:28 WARN MemoryStore: Not enough space to cache rdd_1696_99 in memory! (computed 3.8 MiB so far)\n",
      "24/04/17 21:47:29 WARN MemoryStore: Not enough space to cache rdd_1696_100 in memory! (computed 3.8 MiB so far)\n",
      "24/04/17 21:47:29 WARN MemoryStore: Not enough space to cache rdd_1696_101 in memory! (computed 3.8 MiB so far)\n",
      "24/04/17 21:47:30 WARN MemoryStore: Not enough space to cache rdd_1696_102 in memory! (computed 3.8 MiB so far)\n",
      "24/04/17 21:47:30 WARN MemoryStore: Not enough space to cache rdd_1696_103 in memory! (computed 3.8 MiB so far)\n",
      "24/04/17 21:47:31 WARN MemoryStore: Not enough space to cache rdd_1696_104 in memory! (computed 3.8 MiB so far)\n",
      "24/04/17 21:47:31 WARN MemoryStore: Not enough space to cache rdd_1696_105 in memory! (computed 3.8 MiB so far)\n",
      "24/04/17 21:47:32 WARN MemoryStore: Not enough space to cache rdd_1696_106 in memory! (computed 3.8 MiB so far)\n",
      "24/04/17 21:47:32 WARN MemoryStore: Not enough space to cache rdd_1696_107 in memory! (computed 3.8 MiB so far)\n",
      "24/04/17 21:47:33 WARN MemoryStore: Not enough space to cache rdd_1696_108 in memory! (computed 3.8 MiB so far)\n",
      "24/04/17 21:47:33 WARN MemoryStore: Not enough space to cache rdd_1696_109 in memory! (computed 3.8 MiB so far)\n",
      "24/04/17 21:47:34 WARN MemoryStore: Not enough space to cache rdd_1696_110 in memory! (computed 3.8 MiB so far)\n",
      "24/04/17 21:47:34 WARN MemoryStore: Not enough space to cache rdd_1696_111 in memory! (computed 3.8 MiB so far)\n",
      "24/04/17 21:47:35 WARN MemoryStore: Not enough space to cache rdd_1696_112 in memory! (computed 3.8 MiB so far)\n",
      "24/04/17 21:47:35 WARN MemoryStore: Not enough space to cache rdd_1696_113 in memory! (computed 3.8 MiB so far)\n",
      "24/04/17 21:47:36 WARN MemoryStore: Not enough space to cache rdd_1696_114 in memory! (computed 3.8 MiB so far)\n",
      "24/04/17 21:47:36 WARN MemoryStore: Not enough space to cache rdd_1696_115 in memory! (computed 3.8 MiB so far)\n",
      "24/04/17 21:47:37 WARN MemoryStore: Not enough space to cache rdd_1696_116 in memory! (computed 3.8 MiB so far)\n",
      "24/04/17 21:47:37 WARN MemoryStore: Not enough space to cache rdd_1696_117 in memory! (computed 3.8 MiB so far)\n",
      "24/04/17 21:47:38 WARN MemoryStore: Not enough space to cache rdd_1696_118 in memory! (computed 3.8 MiB so far)\n",
      "24/04/17 21:47:38 WARN MemoryStore: Not enough space to cache rdd_1696_119 in memory! (computed 3.8 MiB so far)\n",
      "24/04/17 21:47:39 WARN MemoryStore: Not enough space to cache rdd_1696_120 in memory! (computed 3.8 MiB so far)\n",
      "24/04/17 21:47:39 WARN MemoryStore: Not enough space to cache rdd_1696_121 in memory! (computed 3.8 MiB so far)\n",
      "24/04/17 21:47:40 WARN MemoryStore: Not enough space to cache rdd_1696_122 in memory! (computed 3.8 MiB so far)\n",
      "24/04/17 21:47:40 WARN MemoryStore: Not enough space to cache rdd_1696_123 in memory! (computed 3.8 MiB so far)\n",
      "24/04/17 21:47:41 WARN MemoryStore: Not enough space to cache rdd_1696_124 in memory! (computed 3.8 MiB so far)\n",
      "24/04/17 21:47:41 WARN MemoryStore: Not enough space to cache rdd_1696_125 in memory! (computed 3.8 MiB so far)\n",
      "24/04/17 21:47:42 WARN MemoryStore: Not enough space to cache rdd_1696_126 in memory! (computed 3.8 MiB so far)\n",
      "24/04/17 21:47:42 WARN MemoryStore: Not enough space to cache rdd_1696_127 in memory! (computed 3.8 MiB so far)\n",
      "24/04/17 21:47:43 WARN MemoryStore: Not enough space to cache rdd_1696_128 in memory! (computed 3.8 MiB so far)\n",
      "24/04/17 21:47:43 WARN MemoryStore: Not enough space to cache rdd_1696_129 in memory! (computed 3.8 MiB so far)\n",
      "24/04/17 21:47:44 WARN MemoryStore: Not enough space to cache rdd_1696_130 in memory! (computed 3.8 MiB so far)\n",
      "24/04/17 21:47:44 WARN MemoryStore: Not enough space to cache rdd_1696_131 in memory! (computed 3.8 MiB so far)\n",
      "24/04/17 21:47:45 WARN MemoryStore: Not enough space to cache rdd_1696_132 in memory! (computed 3.8 MiB so far)\n",
      "24/04/17 21:47:45 WARN MemoryStore: Not enough space to cache rdd_1696_133 in memory! (computed 3.8 MiB so far)\n",
      "24/04/17 21:47:46 WARN MemoryStore: Not enough space to cache rdd_1696_134 in memory! (computed 3.8 MiB so far)\n",
      "24/04/17 21:47:47 WARN MemoryStore: Not enough space to cache rdd_1696_135 in memory! (computed 3.8 MiB so far)\n",
      "24/04/17 21:47:47 WARN MemoryStore: Not enough space to cache rdd_1696_136 in memory! (computed 3.8 MiB so far)\n",
      "24/04/17 21:47:47 WARN MemoryStore: Not enough space to cache rdd_1696_137 in memory! (computed 3.8 MiB so far)\n",
      "24/04/17 21:47:48 WARN MemoryStore: Not enough space to cache rdd_1696_138 in memory! (computed 3.8 MiB so far)\n",
      "24/04/17 21:47:48 WARN MemoryStore: Not enough space to cache rdd_1696_139 in memory! (computed 3.8 MiB so far)\n",
      "24/04/17 21:47:49 WARN MemoryStore: Not enough space to cache rdd_1696_140 in memory! (computed 3.8 MiB so far)\n",
      "24/04/17 21:47:49 WARN MemoryStore: Not enough space to cache rdd_1696_141 in memory! (computed 3.8 MiB so far)\n",
      "24/04/17 21:47:50 WARN MemoryStore: Not enough space to cache rdd_1696_142 in memory! (computed 3.8 MiB so far)\n",
      "24/04/17 21:47:50 WARN MemoryStore: Not enough space to cache rdd_1696_143 in memory! (computed 3.8 MiB so far)\n",
      "24/04/17 21:47:51 WARN MemoryStore: Not enough space to cache rdd_1696_144 in memory! (computed 3.8 MiB so far)\n",
      "24/04/17 21:47:51 WARN MemoryStore: Not enough space to cache rdd_1696_145 in memory! (computed 3.8 MiB so far)\n",
      "24/04/17 21:47:52 WARN MemoryStore: Not enough space to cache rdd_1696_146 in memory! (computed 3.8 MiB so far)\n",
      "24/04/17 21:47:52 WARN MemoryStore: Not enough space to cache rdd_1696_147 in memory! (computed 3.8 MiB so far)\n",
      "24/04/17 21:47:53 WARN MemoryStore: Not enough space to cache rdd_1696_149 in memory! (computed 3.8 MiB so far)\n",
      "24/04/17 21:47:59 WARN MemoryStore: Not enough space to cache rdd_1696_160 in memory! (computed 3.8 MiB so far)\n",
      "24/04/17 21:48:02 WARN MemoryStore: Not enough space to cache rdd_1696_166 in memory! (computed 3.8 MiB so far)\n",
      "24/04/17 21:48:09 WARN MemoryStore: Not enough space to cache rdd_1696_174 in memory! (computed 3.8 MiB so far)\n",
      "24/04/17 21:48:10 WARN MemoryStore: Not enough space to cache rdd_1696_176 in memory! (computed 3.8 MiB so far)\n"
     ]
    },
    {
     "name": "stderr",
     "output_type": "stream",
     "text": [
      "[Stage 783:====================================================>(199 + 1) / 200]\r"
     ]
    },
    {
     "name": "stdout",
     "output_type": "stream",
     "text": [
      "Top 20 Words of Over 3 characters ('text' Column):\n",
      "\n",
      "your: 699190\n",
      "https: 625335\n",
      "this: 583814\n",
      "with: 440710\n",
      "please: 399199\n",
      "have: 383492\n",
      "that: 373338\n",
      "help: 269858\n",
      "what: 207845\n",
      "thanks: 207115\n",
      "here: 205582\n",
      "there: 204921\n",
      "sorry: 192103\n",
      "will: 178003\n",
      "from: 175577\n",
      "just: 146428\n",
      "like: 144677\n",
      "know: 143393\n",
      "look: 139091\n",
      "send: 137931\n"
     ]
    },
    {
     "name": "stderr",
     "output_type": "stream",
     "text": [
      "\r",
      "                                                                                \r"
     ]
    }
   ],
   "source": [
    "# Getting words from 'text' column\n",
    "text_words = df_cached.select(\"text\").rdd.flatMap(lambda row: re.split('\\W+', row['text'].lower().strip()))\n",
    "\n",
    "# Keeping words of more than 3 characters\n",
    "text_words = text_words.filter(lambda x: len(x) > 3)\n",
    "\n",
    "# Setting a count of 1 per word\n",
    "text_words_counts = text_words.map(lambda w: (w, 1))\n",
    "\n",
    "# Shuffle & Sort Phase and Reduce Phase\n",
    "# Applied by the reduceByKey() function\n",
    "# reduceByKey operation gathers all the pairs with the same word together by shuffling the data across partitions\n",
    "# and summation of all the words counts reulsting a pair RDD with each word and their count\n",
    "text_words_counts = text_words_counts.reduceByKey(add)\n",
    "\n",
    "# Creating tuple (count, word) and sorting in descending order\n",
    "sorted_text_words_counts = text_words_counts.map(lambda x: (x[1], x[0])).sortByKey(False)\n",
    "\n",
    "# Taking the top 20 words by frequency\n",
    "top_text_words = sorted_text_words_counts.take(20)\n",
    "\n",
    "# Displaying the top 20 words\n",
    "print(\"Top 20 Words of Over 3 characters ('text' Column):\\n\")\n",
    "for count, word in top_text_words:\n",
    "    print(f\"{word}: {count}\")"
   ]
  },
  {
   "cell_type": "markdown",
   "id": "55a587c6",
   "metadata": {},
   "source": [
    "The code block below, initially could not execute due to insufficient memory. We will unpersist the dataframe, which removes the Dataframe from memory thereby releasing resources before proceeding."
   ]
  },
  {
   "cell_type": "code",
   "execution_count": 389,
   "id": "20ae4c24",
   "metadata": {},
   "outputs": [
    {
     "name": "stdout",
     "output_type": "stream",
     "text": [
      "Is df_cached dataframe cached? False\n",
      "Is df_uncached dataframe cached? False\n"
     ]
    }
   ],
   "source": [
    "df_uncached = df_cached.unpersist()\n",
    "print(f\"Is df_cached dataframe cached? {df_cached.is_cached}\")\n",
    "print(f\"Is df_uncached dataframe cached? {df_uncached.is_cached}\")"
   ]
  },
  {
   "cell_type": "code",
   "execution_count": 390,
   "id": "5e603bef",
   "metadata": {
    "scrolled": false
   },
   "outputs": [
    {
     "name": "stderr",
     "output_type": "stream",
     "text": [
      "\r",
      "[Stage 786:>                                                        (0 + 1) / 1]\r"
     ]
    },
    {
     "name": "stdout",
     "output_type": "stream",
     "text": [
      "+--------+----------+-------+----------+----------+-----------------+-----------------------+----------+---------+\n",
      "|tweet_id| author_id|inbound|created_at|      text|response_tweet_id|in_response_to_tweet_id|     words|num_words|\n",
      "+--------+----------+-------+----------+----------+-----------------+-----------------------+----------+---------+\n",
      "|       1|sprintcare|  False|2017-10...|@115712...|                2|                      3|[@11571...|       23|\n",
      "|       2|    115712|   True|2017-10...|@sprint...|             null|                      1|[@sprin...|        9|\n",
      "|       3|    115712|   True|2017-10...|@sprint...|                1|                      4|[@sprin...|       14|\n",
      "|       4|sprintcare|  False|2017-10...|@115712...|                3|                      5|[@11571...|       23|\n",
      "|       5|    115712|   True|2017-10...|@sprint...|                4|                      6|[@sprin...|        3|\n",
      "|       6|sprintcare|  False|2017-10...|@115712...|             null|                      8|[@11571...|       19|\n",
      "|       8|    115712|   True|2017-10...|@sprint...|             null|                   null|[@sprin...|        6|\n",
      "|      11|sprintcare|  False|2017-10...|@115713...|             null|                     12|[@11571...|       21|\n",
      "|      12|    115713|   True|2017-10...|@sprint...|             null|                     15|[@sprin...|       16|\n",
      "|      15|sprintcare|  False|2017-10...|@115713...|               12|                     16|[@11571...|       25|\n",
      "|      16|    115713|   True|2017-10...|@sprint...|               15|                     17|[@sprin...|        9|\n",
      "|      17|sprintcare|  False|2017-10...|@115713...|               16|                     18|[@11571...|       21|\n",
      "|      18|    115713|   True|2017-10...|@115714...|               17|                   null|[@11571...|       15|\n",
      "|      19|sprintcare|  False|2017-10...|@115715...|             null|                     20|[@11571...|       20|\n",
      "|      20|    115715|   True|2017-10...|@115714...|               19|                   null|[@11571...|       27|\n",
      "|      21|Ask_Spe...|  False|2017-10...|@115716...|             null|                     24|[@11571...|        6|\n",
      "|      22|    115716|   True|2017-10...|@Ask_Sp...|               25|                     21|[@ask_s...|       19|\n",
      "|      25|Ask_Spe...|  False|2017-10...|@115716...|               26|                     22|[@11571...|       23|\n",
      "|      26|    115716|   True|2017-10...|@Ask_Sp...|               27|                     25|[@ask_s...|       13|\n",
      "|      27|Ask_Spe...|  False|2017-10...|@115716...|             null|                     26|[@11571...|        5|\n",
      "+--------+----------+-------+----------+----------+-----------------+-----------------------+----------+---------+\n",
      "only showing top 20 rows\n",
      "\n"
     ]
    },
    {
     "name": "stderr",
     "output_type": "stream",
     "text": [
      "\r",
      "                                                                                \r"
     ]
    }
   ],
   "source": [
    "df_uncached.show(truncate = 10)"
   ]
  },
  {
   "cell_type": "code",
   "execution_count": 391,
   "id": "f9482a15",
   "metadata": {},
   "outputs": [
    {
     "name": "stderr",
     "output_type": "stream",
     "text": [
      "24/04/17 21:52:32 WARN MemoryStore: Failed to reserve initial memory threshold of 1024.0 KiB for computing block rdd_1682_198 in memory.\n",
      "24/04/17 21:52:32 WARN MemoryStore: Not enough space to cache rdd_1682_198 in memory! (computed 384.0 B so far)\n",
      "24/04/17 21:52:33 WARN MemoryStore: Failed to reserve initial memory threshold of 1024.0 KiB for computing block rdd_1682_199 in memory.\n",
      "24/04/17 21:52:33 WARN MemoryStore: Not enough space to cache rdd_1682_199 in memory! (computed 384.0 B so far)\n",
      "[Stage 795:====================================================>(198 + 2) / 200]\r"
     ]
    },
    {
     "name": "stdout",
     "output_type": "stream",
     "text": [
      "Top 20 Words of Over 3 characters ('words' Column):\n",
      "\n",
      "your: 696871\n",
      "this: 486353\n",
      "with: 429103\n",
      "have: 374287\n",
      "please: 366618\n",
      "that: 281734\n",
      "sorry: 180450\n",
      "will: 175472\n",
      "from: 169974\n",
      "what: 162904\n",
      "just: 144973\n",
      "thanks: 142468\n",
      "like: 141322\n",
      "send: 137140\n",
      "@amazonhelp: 132454\n",
      "help: 130750\n",
      "when: 130534\n",
      "about: 126708\n",
      "look: 124589\n",
      "know: 122341\n"
     ]
    },
    {
     "name": "stderr",
     "output_type": "stream",
     "text": [
      "\r",
      "                                                                                \r"
     ]
    }
   ],
   "source": [
    "from pyspark.sql.functions import explode, col, length\n",
    "\n",
    "# Explode the 'words' array to flatten it\n",
    "words_words = df_uncached.select(explode(\"words\").alias(\"word\"))\n",
    "\n",
    "# Filtering out non-string elements and words of less than 3 characters\n",
    "words_words = words_words.filter((col(\"word\").isNotNull()) & (col(\"word\") != \"\") & (length(\"word\") > 3))\n",
    "\n",
    "# Setting a count of 1 per word\n",
    "words_words_counts = words_words.rdd.map(lambda w: (w.word, 1))\n",
    "\n",
    "# Shuffle, Sort Phase and Reduce Phase\n",
    "words_words_counts = words_words_counts.reduceByKey(add)\n",
    "\n",
    "# Creating  a tuple (count, word) and sorting in descending order\n",
    "sorted_words_words_counts = words_words_counts.map(lambda x: (x[1], x[0])).sortByKey(False)\n",
    "\n",
    "# Taking the top 20 words by frequency\n",
    "top_words_words = sorted_words_words_counts.take(20)\n",
    "\n",
    "# Displaying the top 20 words\n",
    "print(\"Top 20 Words of Over 3 characters ('words' Column):\\n\")\n",
    "for count, word in top_words_words:\n",
    "    print(f\"{word}: {count}\")"
   ]
  },
  {
   "cell_type": "markdown",
   "id": "af1a545b",
   "metadata": {},
   "source": [
    "Out of curiousity we will create a Dataframe to compare the top words from the 'text' and 'words' columns"
   ]
  },
  {
   "cell_type": "code",
   "execution_count": 412,
   "id": "8bdda949",
   "metadata": {},
   "outputs": [],
   "source": [
    "from pyspark.sql import Window\n",
    "from pyspark.sql.functions import row_number"
   ]
  },
  {
   "cell_type": "code",
   "execution_count": 413,
   "id": "47206e28",
   "metadata": {},
   "outputs": [
    {
     "name": "stderr",
     "output_type": "stream",
     "text": [
      "24/04/17 22:13:59 WARN WindowExec: No Partition Defined for Window operation! Moving all data to a single partition, this can cause serious performance degradation.\n",
      "24/04/17 22:13:59 WARN WindowExec: No Partition Defined for Window operation! Moving all data to a single partition, this can cause serious performance degradation.\n",
      "24/04/17 22:13:59 WARN WindowExec: No Partition Defined for Window operation! Moving all data to a single partition, this can cause serious performance degradation.\n"
     ]
    },
    {
     "name": "stdout",
     "output_type": "stream",
     "text": [
      "+---------------+---------+-----+\n",
      "|text_word_count|text_word|index|\n",
      "+---------------+---------+-----+\n",
      "|         699190|     your|    0|\n",
      "|         625335|    https|    1|\n",
      "|         583814|     this|    2|\n",
      "|         440710|     with|    3|\n",
      "|         399199|   please|    4|\n",
      "|         383492|     have|    5|\n",
      "|         373338|     that|    6|\n",
      "|         269858|     help|    7|\n",
      "|         207845|     what|    8|\n",
      "|         207115|   thanks|    9|\n",
      "|         205582|     here|   10|\n",
      "|         204921|    there|   11|\n",
      "|         192103|    sorry|   12|\n",
      "|         178003|     will|   13|\n",
      "|         175577|     from|   14|\n",
      "|         146428|     just|   15|\n",
      "|         144677|     like|   16|\n",
      "|         143393|     know|   17|\n",
      "|         139091|     look|   18|\n",
      "|         137931|     send|   19|\n",
      "+---------------+---------+-----+\n",
      "only showing top 20 rows\n",
      "\n"
     ]
    }
   ],
   "source": [
    "# Creating Dataframes of top 30 words\n",
    "top_text_words_df = spark.createDataFrame(sorted_text_words_counts.take(30), [\"text_word_count\", \"text_word\"])\n",
    "\n",
    "# Create a window specification ordered by text_word_count in descending order\n",
    "window_spec = Window.orderBy(desc(\"text_word_count\"))\n",
    "\n",
    "# Add row number column starting from 0 for the highest word count\n",
    "top_text_words_df = top_text_words_df.withColumn(\"index\", row_number().over(window_spec) - 1)\n",
    "\n",
    "# Show the DataFrame\n",
    "top_text_words_df.show()"
   ]
  },
  {
   "cell_type": "code",
   "execution_count": 414,
   "id": "62b47e06",
   "metadata": {
    "scrolled": false
   },
   "outputs": [
    {
     "name": "stderr",
     "output_type": "stream",
     "text": [
      "24/04/17 22:14:00 WARN WindowExec: No Partition Defined for Window operation! Moving all data to a single partition, this can cause serious performance degradation.\n",
      "24/04/17 22:14:00 WARN WindowExec: No Partition Defined for Window operation! Moving all data to a single partition, this can cause serious performance degradation.\n",
      "24/04/17 22:14:00 WARN WindowExec: No Partition Defined for Window operation! Moving all data to a single partition, this can cause serious performance degradation.\n"
     ]
    },
    {
     "name": "stdout",
     "output_type": "stream",
     "text": [
      "+----------------+-----------+-----+\n",
      "|words_word_count| words_word|index|\n",
      "+----------------+-----------+-----+\n",
      "|          696871|       your|    0|\n",
      "|          486353|       this|    1|\n",
      "|          429103|       with|    2|\n",
      "|          374287|       have|    3|\n",
      "|          366618|     please|    4|\n",
      "|          281734|       that|    5|\n",
      "|          180450|      sorry|    6|\n",
      "|          175472|       will|    7|\n",
      "|          169974|       from|    8|\n",
      "|          162904|       what|    9|\n",
      "|          144973|       just|   10|\n",
      "|          142468|     thanks|   11|\n",
      "|          141322|       like|   12|\n",
      "|          137140|       send|   13|\n",
      "|          132454|@amazonhelp|   14|\n",
      "|          130750|       help|   15|\n",
      "|          130534|       when|   16|\n",
      "|          126708|      about|   17|\n",
      "|          124589|       look|   18|\n",
      "|          122341|       know|   19|\n",
      "+----------------+-----------+-----+\n",
      "only showing top 20 rows\n",
      "\n"
     ]
    }
   ],
   "source": [
    "top_words_words_df = spark.createDataFrame(sorted_words_words_counts.take(30), [\"words_word_count\", \"words_word\"])\n",
    "\n",
    "# Create a window specification ordered by index\n",
    "window_spec2 = Window.orderBy(desc(\"words_word_count\"))\n",
    "\n",
    "# Add row number column\n",
    "top_words_words_df = top_words_words_df.withColumn(\"index\", row_number().over(window_spec2) - 1)\n",
    "\n",
    "# Show the DataFrame\n",
    "top_words_words_df.show()"
   ]
  },
  {
   "cell_type": "code",
   "execution_count": 416,
   "id": "8858dbed",
   "metadata": {},
   "outputs": [
    {
     "name": "stdout",
     "output_type": "stream",
     "text": [
      " The Tope twenty words from the 'text' and the 'words' colums. \n",
      " the words have been extracted from the text colum usng a tokeniser provided by a Sparks MLlib.\n"
     ]
    },
    {
     "name": "stderr",
     "output_type": "stream",
     "text": [
      "24/04/17 22:19:19 WARN WindowExec: No Partition Defined for Window operation! Moving all data to a single partition, this can cause serious performance degradation.\n",
      "24/04/17 22:19:19 WARN WindowExec: No Partition Defined for Window operation! Moving all data to a single partition, this can cause serious performance degradation.\n",
      "24/04/17 22:19:19 WARN WindowExec: No Partition Defined for Window operation! Moving all data to a single partition, this can cause serious performance degradation.\n",
      "24/04/17 22:19:19 WARN WindowExec: No Partition Defined for Window operation! Moving all data to a single partition, this can cause serious performance degradation.\n",
      "24/04/17 22:19:19 WARN WindowExec: No Partition Defined for Window operation! Moving all data to a single partition, this can cause serious performance degradation.\n",
      "24/04/17 22:19:19 WARN WindowExec: No Partition Defined for Window operation! Moving all data to a single partition, this can cause serious performance degradation.\n",
      "24/04/17 22:19:19 WARN WindowExec: No Partition Defined for Window operation! Moving all data to a single partition, this can cause serious performance degradation.\n",
      "24/04/17 22:19:19 WARN WindowExec: No Partition Defined for Window operation! Moving all data to a single partition, this can cause serious performance degradation.\n"
     ]
    },
    {
     "name": "stdout",
     "output_type": "stream",
     "text": [
      "+---------------+---------+----------------+-----------+\n",
      "|text_word_count|text_word|words_word_count| words_word|\n",
      "+---------------+---------+----------------+-----------+\n",
      "|         699190|     your|          696871|       your|\n",
      "|         625335|    https|          486353|       this|\n",
      "|         583814|     this|          429103|       with|\n",
      "|         440710|     with|          374287|       have|\n",
      "|         399199|   please|          366618|     please|\n",
      "|         383492|     have|          281734|       that|\n",
      "|         373338|     that|          180450|      sorry|\n",
      "|         269858|     help|          175472|       will|\n",
      "|         207845|     what|          169974|       from|\n",
      "|         207115|   thanks|          162904|       what|\n",
      "|         205582|     here|          144973|       just|\n",
      "|         204921|    there|          142468|     thanks|\n",
      "|         192103|    sorry|          141322|       like|\n",
      "|         178003|     will|          137140|       send|\n",
      "|         175577|     from|          132454|@amazonhelp|\n",
      "|         146428|     just|          130750|       help|\n",
      "|         144677|     like|          130534|       when|\n",
      "|         143393|     know|          126708|      about|\n",
      "|         139091|     look|          124589|       look|\n",
      "|         137931|     send|          122341|       know|\n",
      "+---------------+---------+----------------+-----------+\n",
      "only showing top 20 rows\n",
      "\n"
     ]
    },
    {
     "name": "stderr",
     "output_type": "stream",
     "text": [
      "24/04/17 22:19:19 WARN WindowExec: No Partition Defined for Window operation! Moving all data to a single partition, this can cause serious performance degradation.\n",
      "24/04/17 22:19:19 WARN WindowExec: No Partition Defined for Window operation! Moving all data to a single partition, this can cause serious performance degradation.\n",
      "24/04/17 22:19:19 WARN WindowExec: No Partition Defined for Window operation! Moving all data to a single partition, this can cause serious performance degradation.\n",
      "24/04/17 22:19:19 WARN WindowExec: No Partition Defined for Window operation! Moving all data to a single partition, this can cause serious performance degradation.\n"
     ]
    }
   ],
   "source": [
    "# Join the DataFrames on the index column\n",
    "combined_df = top_text_words_df.join(top_words_words_df, on=\"index\").drop(\"index\")\n",
    "\n",
    "print(\" The Tope twenty words from the 'text' and the 'words' colums. \\n the words have been extracted from the text colum usng a tokeniser provided by a Sparks MLlib.\")\n",
    "\n",
    "# Show the combined DataFrame\n",
    "combined_df.show()"
   ]
  },
  {
   "cell_type": "markdown",
   "id": "8dd71e1d",
   "metadata": {},
   "source": [
    "### Term Frequency-Inverse Document Frequency (TF-IDF)"
   ]
  },
  {
   "cell_type": "markdown",
   "id": "4751704e",
   "metadata": {},
   "source": [
    "We will compute the TF-IDF scores for each, basically to identify the importance of words in individual tweets relative to the entire dataset."
   ]
  },
  {
   "cell_type": "code",
   "execution_count": 417,
   "id": "fddb5e3d",
   "metadata": {},
   "outputs": [],
   "source": [
    "from pyspark.ml.feature import HashingTF, IDF\n",
    "from pyspark.sql.functions import col"
   ]
  },
  {
   "cell_type": "code",
   "execution_count": 419,
   "id": "48c26f0e",
   "metadata": {},
   "outputs": [],
   "source": [
    "# Computing Term Frequency (TF)\n",
    "hashingTF = HashingTF(inputCol=\"words\", outputCol=\"rawTF\", numFeatures=10000)\n",
    "tf_df = hashingTF.transform(df_cached)"
   ]
  },
  {
   "cell_type": "code",
   "execution_count": 420,
   "id": "c691bd73",
   "metadata": {},
   "outputs": [
    {
     "name": "stderr",
     "output_type": "stream",
     "text": [
      "24/04/17 22:38:22 WARN MemoryStore: Failed to reserve initial memory threshold of 1024.0 KiB for computing block rdd_1682_198 in memory.\n",
      "24/04/17 22:38:22 WARN MemoryStore: Not enough space to cache rdd_1682_198 in memory! (computed 384.0 B so far)\n",
      "24/04/17 22:38:23 WARN MemoryStore: Failed to reserve initial memory threshold of 1024.0 KiB for computing block rdd_1682_199 in memory.\n",
      "24/04/17 22:38:23 WARN MemoryStore: Not enough space to cache rdd_1682_199 in memory! (computed 384.0 B so far)\n",
      "                                                                                \r"
     ]
    }
   ],
   "source": [
    "# Computing Inverse Document Frequency (IDF)\n",
    "idf = IDF(inputCol=\"rawTF\", outputCol=\"idf\")\n",
    "idfModel = idf.fit(tf_df)\n",
    "tf_idf_df = idfModel.transform(tf_df)"
   ]
  },
  {
   "cell_type": "code",
   "execution_count": 428,
   "id": "f9335ca6",
   "metadata": {
    "scrolled": false
   },
   "outputs": [
    {
     "name": "stdout",
     "output_type": "stream",
     "text": [
      "+--------+--------------------------------------------------+--------------------------------------------------+\n",
      "|tweet_id|                                             words|                                               idf|\n",
      "+--------+--------------------------------------------------+--------------------------------------------------+\n",
      "|       1|[@115712, i, understand., i, would, like, to, a...|(10000,[4,488,943,1588,1756,2911,3330,4338,4347...|\n",
      "|       2|[@sprintcare, and, how, do, you, propose, we, d...|(10000,[1009,1226,1588,2891,4338,8272,8643,9760...|\n",
      "|       3|[@sprintcare, i, have, sent, several, private, ...|(10000,[815,1009,1299,1756,2891,3704,5209,6749,...|\n",
      "|       4|[@115712, please, send, us, a, private, message...|(10000,[4,307,943,1263,1588,1789,2715,4133,4347...|\n",
      "|       5|                            [@sprintcare, i, did.]|(10000,[1009,1756,5548],[5.29171847946699,1.460...|\n",
      "|       6|[@115712, can, you, please, send, us, a, privat...|(10000,[943,1263,1756,2405,3030,4133,4338,4347,...|\n",
      "|       8|  [@sprintcare, is, the, worst, customer, service]|(10000,[332,1009,1413,2252,5209,6017],[5.331504...|\n",
      "|      11|[@115713, this, is, saddening, to, hear., pleas...|(10000,[4,286,488,1588,2015,4133,4928,5209,5373...|\n",
      "|      12|[@sprintcare, you, gonna, magically, change, yo...|(10000,[387,488,627,1009,1263,2891,2984,3446,43...|\n",
      "|      15|[@115713, we, understand, your, concerns, and, ...|(10000,[4,488,1263,1588,2891,3330,4133,4338,434...|\n",
      "|      16|[@sprintcare, since, i, signed, up, with, you.....|(10000,[1009,1756,5931,6287,7053,7650,7751,8714...|\n",
      "|      17|[@115713, h, there!, we'd, definitely, like, to...|(10000,[488,1299,1309,2074,2486,2535,3330,3834,...|\n",
      "|      18|[@115714, y’all, lie, about, your, “great”, con...|(10000,[165,258,425,1263,1860,3308,3712,3927,42...|\n",
      "|      19|[@115715, please, send, me, a, private, message...|(10000,[488,1263,1756,2715,4133,4338,4519,4596,...|\n",
      "|      20|[@115714, whenever, i, contact, customer, suppo...|(10000,[281,425,1178,1299,1310,1413,1618,1756,1...|\n",
      "|      21| [@115716, what, information, is, incorrect?, ^jk]|(10000,[1007,4868,5209,6526,7359,8190],[8.48630...|\n",
      "|      22|[@ask_spectrum, would, you, like, me, to, email...|(10000,[488,815,941,1263,1333,1449,2911,3330,43...|\n",
      "|      25|[@115716, our, department, is, part, of, the, c...|(10000,[66,488,1007,1588,2165,3372,3419,3792,38...|\n",
      "|      26|[@ask_spectrum, i, received, this, from, your, ...|(10000,[1263,1449,1756,2911,3330,3601,3921,4338...|\n",
      "|      27|                   [@115716, no, thank, you., ^jk]|(10000,[4,1007,1687,3704,7359],[3.1759619755942...|\n",
      "+--------+--------------------------------------------------+--------------------------------------------------+\n",
      "only showing top 20 rows\n",
      "\n"
     ]
    }
   ],
   "source": [
    "tf_idf_scores_df = tf_idf_df.select(\"tweet_id\", \"words\", \"idf\")\n",
    "\n",
    "\n",
    "tf_idf_scores_df.show(truncate=50)"
   ]
  },
  {
   "cell_type": "code",
   "execution_count": 430,
   "id": "66ac238e",
   "metadata": {},
   "outputs": [
    {
     "name": "stderr",
     "output_type": "stream",
     "text": [
      "24/04/17 23:03:21 ERROR Executor: Exception in task 97.0 in stage 910.0 (TID 13818)\n",
      "org.apache.spark.SparkException: [FAILED_EXECUTE_UDF] Failed to execute user defined function (HashingTF$$Lambda$5223/1847216846: (array<string>) => struct<type:tinyint,size:int,indices:array<int>,values:array<double>>).\n",
      "\tat org.apache.spark.sql.errors.QueryExecutionErrors$.failedExecuteUserDefinedFunctionError(QueryExecutionErrors.scala:217)\n",
      "\tat org.apache.spark.sql.errors.QueryExecutionErrors.failedExecuteUserDefinedFunctionError(QueryExecutionErrors.scala)\n",
      "\tat org.apache.spark.sql.catalyst.expressions.GeneratedClass$GeneratedIteratorForCodegenStage1.processNext(Unknown Source)\n",
      "\tat org.apache.spark.sql.execution.BufferedRowIterator.hasNext(BufferedRowIterator.java:43)\n",
      "\tat org.apache.spark.sql.execution.WholeStageCodegenExec$$anon$1.hasNext(WholeStageCodegenExec.scala:760)\n",
      "\tat org.apache.spark.sql.execution.SparkPlan.$anonfun$getByteArrayRdd$1(SparkPlan.scala:388)\n",
      "\tat org.apache.spark.rdd.RDD.$anonfun$mapPartitionsInternal$2(RDD.scala:888)\n",
      "\tat org.apache.spark.rdd.RDD.$anonfun$mapPartitionsInternal$2$adapted(RDD.scala:888)\n",
      "\tat org.apache.spark.rdd.MapPartitionsRDD.compute(MapPartitionsRDD.scala:52)\n",
      "\tat org.apache.spark.rdd.RDD.computeOrReadCheckpoint(RDD.scala:364)\n",
      "\tat org.apache.spark.rdd.RDD.iterator(RDD.scala:328)\n",
      "\tat org.apache.spark.scheduler.ResultTask.runTask(ResultTask.scala:92)\n",
      "\tat org.apache.spark.TaskContext.runTaskWithListeners(TaskContext.scala:161)\n",
      "\tat org.apache.spark.scheduler.Task.run(Task.scala:139)\n",
      "\tat org.apache.spark.executor.Executor$TaskRunner.$anonfun$run$3(Executor.scala:554)\n",
      "\tat org.apache.spark.util.Utils$.tryWithSafeFinally(Utils.scala:1529)\n",
      "\tat org.apache.spark.executor.Executor$TaskRunner.run(Executor.scala:557)\n",
      "\tat java.util.concurrent.ThreadPoolExecutor.runWorker(ThreadPoolExecutor.java:1149)\n",
      "\tat java.util.concurrent.ThreadPoolExecutor$Worker.run(ThreadPoolExecutor.java:624)\n",
      "\tat java.lang.Thread.run(Thread.java:750)\n",
      "Caused by: java.lang.OutOfMemoryError: GC overhead limit exceeded\n",
      "\tat scala.collection.immutable.Stream$$Lambda$2555/998752031.get$Lambda(Unknown Source)\n",
      "\tat java.lang.invoke.LambdaForm$DMH/209813603.invokeStatic_LL_L(LambdaForm$DMH)\n",
      "\tat java.lang.invoke.LambdaForm$MH/1717279565.linkToTargetMethod(LambdaForm$MH)\n",
      "\tat scala.collection.immutable.Stream.flatMap(Stream.scala:255)\n",
      "\tat scala.collection.immutable.Stream.$anonfun$flatMap$1(Stream.scala:497)\n",
      "\tat scala.collection.immutable.Stream$$Lambda$2554/791093289.apply(Unknown Source)\n",
      "\tat scala.collection.immutable.Stream.$anonfun$append$1(Stream.scala:255)\n",
      "\tat scala.collection.immutable.Stream$$Lambda$2555/998752031.apply(Unknown Source)\n",
      "\tat scala.collection.immutable.Stream$Cons.tail(Stream.scala:1173)\n",
      "\tat scala.collection.immutable.Stream$Cons.tail(Stream.scala:1163)\n",
      "\tat scala.collection.immutable.Stream.length(Stream.scala:312)\n",
      "\tat scala.collection.SeqLike.size(SeqLike.scala:108)\n",
      "\tat scala.collection.SeqLike.size$(SeqLike.scala:108)\n",
      "\tat scala.collection.AbstractSeq.size(Seq.scala:45)\n",
      "\tat scala.collection.TraversableOnce.toArray(TraversableOnce.scala:341)\n",
      "\tat scala.collection.TraversableOnce.toArray$(TraversableOnce.scala:339)\n",
      "\tat scala.collection.AbstractTraversable.toArray(Traversable.scala:108)\n",
      "\tat org.apache.spark.ml.linalg.Vectors$.sparse(Vectors.scala:273)\n",
      "\tat org.apache.spark.ml.feature.HashingTF.$anonfun$transform$3(HashingTF.scala:99)\n",
      "\tat org.apache.spark.ml.feature.HashingTF$$Lambda$5252/870395239.apply(Unknown Source)\n",
      "\tat org.apache.spark.sql.catalyst.expressions.GeneratedClass$GeneratedIteratorForCodegenStage1.processNext(Unknown Source)\n",
      "\tat org.apache.spark.sql.execution.BufferedRowIterator.hasNext(BufferedRowIterator.java:43)\n",
      "\tat org.apache.spark.sql.execution.WholeStageCodegenExec$$anon$1.hasNext(WholeStageCodegenExec.scala:760)\n",
      "\tat org.apache.spark.sql.execution.SparkPlan.$anonfun$getByteArrayRdd$1(SparkPlan.scala:388)\n",
      "\tat org.apache.spark.sql.execution.SparkPlan$$Lambda$2648/344220328.apply(Unknown Source)\n",
      "\tat org.apache.spark.rdd.RDD.$anonfun$mapPartitionsInternal$2(RDD.scala:888)\n",
      "\tat org.apache.spark.rdd.RDD.$anonfun$mapPartitionsInternal$2$adapted(RDD.scala:888)\n",
      "\tat org.apache.spark.rdd.RDD$$Lambda$2645/2002213585.apply(Unknown Source)\n",
      "\tat org.apache.spark.rdd.MapPartitionsRDD.compute(MapPartitionsRDD.scala:52)\n",
      "\tat org.apache.spark.rdd.RDD.computeOrReadCheckpoint(RDD.scala:364)\n",
      "\tat org.apache.spark.rdd.RDD.iterator(RDD.scala:328)\n",
      "\tat org.apache.spark.scheduler.ResultTask.runTask(ResultTask.scala:92)\n",
      "24/04/17 23:03:22 WARN TaskSetManager: Lost task 97.0 in stage 910.0 (TID 13818) (10.0.2.15 executor driver): org.apache.spark.SparkException: [FAILED_EXECUTE_UDF] Failed to execute user defined function (HashingTF$$Lambda$5223/1847216846: (array<string>) => struct<type:tinyint,size:int,indices:array<int>,values:array<double>>).\n",
      "\tat org.apache.spark.sql.errors.QueryExecutionErrors$.failedExecuteUserDefinedFunctionError(QueryExecutionErrors.scala:217)\n",
      "\tat org.apache.spark.sql.errors.QueryExecutionErrors.failedExecuteUserDefinedFunctionError(QueryExecutionErrors.scala)\n",
      "\tat org.apache.spark.sql.catalyst.expressions.GeneratedClass$GeneratedIteratorForCodegenStage1.processNext(Unknown Source)\n",
      "\tat org.apache.spark.sql.execution.BufferedRowIterator.hasNext(BufferedRowIterator.java:43)\n",
      "\tat org.apache.spark.sql.execution.WholeStageCodegenExec$$anon$1.hasNext(WholeStageCodegenExec.scala:760)\n",
      "\tat org.apache.spark.sql.execution.SparkPlan.$anonfun$getByteArrayRdd$1(SparkPlan.scala:388)\n",
      "\tat org.apache.spark.rdd.RDD.$anonfun$mapPartitionsInternal$2(RDD.scala:888)\n",
      "\tat org.apache.spark.rdd.RDD.$anonfun$mapPartitionsInternal$2$adapted(RDD.scala:888)\n",
      "\tat org.apache.spark.rdd.MapPartitionsRDD.compute(MapPartitionsRDD.scala:52)\n",
      "\tat org.apache.spark.rdd.RDD.computeOrReadCheckpoint(RDD.scala:364)\n",
      "\tat org.apache.spark.rdd.RDD.iterator(RDD.scala:328)\n",
      "\tat org.apache.spark.scheduler.ResultTask.runTask(ResultTask.scala:92)\n",
      "\tat org.apache.spark.TaskContext.runTaskWithListeners(TaskContext.scala:161)\n",
      "\tat org.apache.spark.scheduler.Task.run(Task.scala:139)\n",
      "\tat org.apache.spark.executor.Executor$TaskRunner.$anonfun$run$3(Executor.scala:554)\n",
      "\tat org.apache.spark.util.Utils$.tryWithSafeFinally(Utils.scala:1529)\n",
      "\tat org.apache.spark.executor.Executor$TaskRunner.run(Executor.scala:557)\n",
      "\tat java.util.concurrent.ThreadPoolExecutor.runWorker(ThreadPoolExecutor.java:1149)\n",
      "\tat java.util.concurrent.ThreadPoolExecutor$Worker.run(ThreadPoolExecutor.java:624)\n",
      "\tat java.lang.Thread.run(Thread.java:750)\n",
      "Caused by: java.lang.OutOfMemoryError: GC overhead limit exceeded\n",
      "\tat scala.collection.immutable.Stream$$Lambda$2555/998752031.get$Lambda(Unknown Source)\n",
      "\tat java.lang.invoke.LambdaForm$DMH/209813603.invokeStatic_LL_L(LambdaForm$DMH)\n",
      "\tat java.lang.invoke.LambdaForm$MH/1717279565.linkToTargetMethod(LambdaForm$MH)\n",
      "\tat scala.collection.immutable.Stream.flatMap(Stream.scala:255)\n",
      "\tat scala.collection.immutable.Stream.$anonfun$flatMap$1(Stream.scala:497)\n",
      "\tat scala.collection.immutable.Stream$$Lambda$2554/791093289.apply(Unknown Source)\n",
      "\tat scala.collection.immutable.Stream.$anonfun$append$1(Stream.scala:255)\n",
      "\tat scala.collection.immutable.Stream$$Lambda$2555/998752031.apply(Unknown Source)\n",
      "\tat scala.collection.immutable.Stream$Cons.tail(Stream.scala:1173)\n",
      "\tat scala.collection.immutable.Stream$Cons.tail(Stream.scala:1163)\n",
      "\tat scala.collection.immutable.Stream.length(Stream.scala:312)\n",
      "\tat scala.collection.SeqLike.size(SeqLike.scala:108)\n",
      "\tat scala.collection.SeqLike.size$(SeqLike.scala:108)\n",
      "\tat scala.collection.AbstractSeq.size(Seq.scala:45)\n",
      "\tat scala.collection.TraversableOnce.toArray(TraversableOnce.scala:341)\n",
      "\tat scala.collection.TraversableOnce.toArray$(TraversableOnce.scala:339)\n",
      "\tat scala.collection.AbstractTraversable.toArray(Traversable.scala:108)\n",
      "\tat org.apache.spark.ml.linalg.Vectors$.sparse(Vectors.scala:273)\n",
      "\tat org.apache.spark.ml.feature.HashingTF.$anonfun$transform$3(HashingTF.scala:99)\n",
      "\tat org.apache.spark.ml.feature.HashingTF$$Lambda$5252/870395239.apply(Unknown Source)\n",
      "\tat org.apache.spark.sql.catalyst.expressions.GeneratedClass$GeneratedIteratorForCodegenStage1.processNext(Unknown Source)\n",
      "\tat org.apache.spark.sql.execution.BufferedRowIterator.hasNext(BufferedRowIterator.java:43)\n",
      "\tat org.apache.spark.sql.execution.WholeStageCodegenExec$$anon$1.hasNext(WholeStageCodegenExec.scala:760)\n",
      "\tat org.apache.spark.sql.execution.SparkPlan.$anonfun$getByteArrayRdd$1(SparkPlan.scala:388)\n",
      "\tat org.apache.spark.sql.execution.SparkPlan$$Lambda$2648/344220328.apply(Unknown Source)\n",
      "\tat org.apache.spark.rdd.RDD.$anonfun$mapPartitionsInternal$2(RDD.scala:888)\n",
      "\tat org.apache.spark.rdd.RDD.$anonfun$mapPartitionsInternal$2$adapted(RDD.scala:888)\n",
      "\tat org.apache.spark.rdd.RDD$$Lambda$2645/2002213585.apply(Unknown Source)\n",
      "\tat org.apache.spark.rdd.MapPartitionsRDD.compute(MapPartitionsRDD.scala:52)\n",
      "\tat org.apache.spark.rdd.RDD.computeOrReadCheckpoint(RDD.scala:364)\n",
      "\tat org.apache.spark.rdd.RDD.iterator(RDD.scala:328)\n",
      "\tat org.apache.spark.scheduler.ResultTask.runTask(ResultTask.scala:92)\n",
      "\n",
      "24/04/17 23:03:22 ERROR TaskSetManager: Task 97 in stage 910.0 failed 1 times; aborting job\n",
      "24/04/17 23:03:22 ERROR SparkUncaughtExceptionHandler: Uncaught exception in thread Thread[Executor task launch worker for task 97.0 in stage 910.0 (TID 13818),5,main]\n",
      "org.apache.spark.SparkException: [FAILED_EXECUTE_UDF] Failed to execute user defined function (HashingTF$$Lambda$5223/1847216846: (array<string>) => struct<type:tinyint,size:int,indices:array<int>,values:array<double>>).\n",
      "\tat org.apache.spark.sql.errors.QueryExecutionErrors$.failedExecuteUserDefinedFunctionError(QueryExecutionErrors.scala:217)\n",
      "\tat org.apache.spark.sql.errors.QueryExecutionErrors.failedExecuteUserDefinedFunctionError(QueryExecutionErrors.scala)\n",
      "\tat org.apache.spark.sql.catalyst.expressions.GeneratedClass$GeneratedIteratorForCodegenStage1.processNext(Unknown Source)\n",
      "\tat org.apache.spark.sql.execution.BufferedRowIterator.hasNext(BufferedRowIterator.java:43)\n",
      "\tat org.apache.spark.sql.execution.WholeStageCodegenExec$$anon$1.hasNext(WholeStageCodegenExec.scala:760)\n",
      "\tat org.apache.spark.sql.execution.SparkPlan.$anonfun$getByteArrayRdd$1(SparkPlan.scala:388)\n",
      "\tat org.apache.spark.rdd.RDD.$anonfun$mapPartitionsInternal$2(RDD.scala:888)\n",
      "\tat org.apache.spark.rdd.RDD.$anonfun$mapPartitionsInternal$2$adapted(RDD.scala:888)\n",
      "\tat org.apache.spark.rdd.MapPartitionsRDD.compute(MapPartitionsRDD.scala:52)\n",
      "\tat org.apache.spark.rdd.RDD.computeOrReadCheckpoint(RDD.scala:364)\n",
      "\tat org.apache.spark.rdd.RDD.iterator(RDD.scala:328)\n",
      "\tat org.apache.spark.scheduler.ResultTask.runTask(ResultTask.scala:92)\n",
      "\tat org.apache.spark.TaskContext.runTaskWithListeners(TaskContext.scala:161)\n",
      "\tat org.apache.spark.scheduler.Task.run(Task.scala:139)\n",
      "\tat org.apache.spark.executor.Executor$TaskRunner.$anonfun$run$3(Executor.scala:554)\n",
      "\tat org.apache.spark.util.Utils$.tryWithSafeFinally(Utils.scala:1529)\n",
      "\tat org.apache.spark.executor.Executor$TaskRunner.run(Executor.scala:557)\n",
      "\tat java.util.concurrent.ThreadPoolExecutor.runWorker(ThreadPoolExecutor.java:1149)\n",
      "\tat java.util.concurrent.ThreadPoolExecutor$Worker.run(ThreadPoolExecutor.java:624)\n",
      "\tat java.lang.Thread.run(Thread.java:750)\n",
      "Caused by: java.lang.OutOfMemoryError: GC overhead limit exceeded\n",
      "\tat scala.collection.immutable.Stream$$Lambda$2555/998752031.get$Lambda(Unknown Source)\n",
      "\tat java.lang.invoke.LambdaForm$DMH/209813603.invokeStatic_LL_L(LambdaForm$DMH)\n",
      "\tat java.lang.invoke.LambdaForm$MH/1717279565.linkToTargetMethod(LambdaForm$MH)\n",
      "\tat scala.collection.immutable.Stream.flatMap(Stream.scala:255)\n",
      "\tat scala.collection.immutable.Stream.$anonfun$flatMap$1(Stream.scala:497)\n",
      "\tat scala.collection.immutable.Stream$$Lambda$2554/791093289.apply(Unknown Source)\n",
      "\tat scala.collection.immutable.Stream.$anonfun$append$1(Stream.scala:255)\n",
      "\tat scala.collection.immutable.Stream$$Lambda$2555/998752031.apply(Unknown Source)\n",
      "\tat scala.collection.immutable.Stream$Cons.tail(Stream.scala:1173)\n",
      "\tat scala.collection.immutable.Stream$Cons.tail(Stream.scala:1163)\n",
      "\tat scala.collection.immutable.Stream.length(Stream.scala:312)\n",
      "\tat scala.collection.SeqLike.size(SeqLike.scala:108)\n",
      "\tat scala.collection.SeqLike.size$(SeqLike.scala:108)\n",
      "\tat scala.collection.AbstractSeq.size(Seq.scala:45)\n",
      "\tat scala.collection.TraversableOnce.toArray(TraversableOnce.scala:341)\n",
      "\tat scala.collection.TraversableOnce.toArray$(TraversableOnce.scala:339)\n",
      "\tat scala.collection.AbstractTraversable.toArray(Traversable.scala:108)\n",
      "\tat org.apache.spark.ml.linalg.Vectors$.sparse(Vectors.scala:273)\n",
      "\tat org.apache.spark.ml.feature.HashingTF.$anonfun$transform$3(HashingTF.scala:99)\n",
      "\tat org.apache.spark.ml.feature.HashingTF$$Lambda$5252/870395239.apply(Unknown Source)\n",
      "\tat org.apache.spark.sql.catalyst.expressions.GeneratedClass$GeneratedIteratorForCodegenStage1.processNext(Unknown Source)\n",
      "\tat org.apache.spark.sql.execution.BufferedRowIterator.hasNext(BufferedRowIterator.java:43)\n",
      "\tat org.apache.spark.sql.execution.WholeStageCodegenExec$$anon$1.hasNext(WholeStageCodegenExec.scala:760)\n",
      "\tat org.apache.spark.sql.execution.SparkPlan.$anonfun$getByteArrayRdd$1(SparkPlan.scala:388)\n",
      "\tat org.apache.spark.sql.execution.SparkPlan$$Lambda$2648/344220328.apply(Unknown Source)\n",
      "\tat org.apache.spark.rdd.RDD.$anonfun$mapPartitionsInternal$2(RDD.scala:888)\n",
      "\tat org.apache.spark.rdd.RDD.$anonfun$mapPartitionsInternal$2$adapted(RDD.scala:888)\n",
      "\tat org.apache.spark.rdd.RDD$$Lambda$2645/2002213585.apply(Unknown Source)\n",
      "\tat org.apache.spark.rdd.MapPartitionsRDD.compute(MapPartitionsRDD.scala:52)\n",
      "\tat org.apache.spark.rdd.RDD.computeOrReadCheckpoint(RDD.scala:364)\n",
      "\tat org.apache.spark.rdd.RDD.iterator(RDD.scala:328)\n",
      "\tat org.apache.spark.scheduler.ResultTask.runTask(ResultTask.scala:92)\n"
     ]
    },
    {
     "name": "stderr",
     "output_type": "stream",
     "text": [
      "24/04/17 23:03:24 WARN TaskSetManager: Lost task 98.0 in stage 910.0 (TID 13819) (10.0.2.15 executor driver): TaskKilled (Stage cancelled)\n"
     ]
    },
    {
     "ename": "Py4JJavaError",
     "evalue": "An error occurred while calling o3613.collectToPython.\n: org.apache.spark.SparkException: Job aborted due to stage failure: Task 97 in stage 910.0 failed 1 times, most recent failure: Lost task 97.0 in stage 910.0 (TID 13818) (10.0.2.15 executor driver): org.apache.spark.SparkException: [FAILED_EXECUTE_UDF] Failed to execute user defined function (HashingTF$$Lambda$5223/1847216846: (array<string>) => struct<type:tinyint,size:int,indices:array<int>,values:array<double>>).\n\tat org.apache.spark.sql.errors.QueryExecutionErrors$.failedExecuteUserDefinedFunctionError(QueryExecutionErrors.scala:217)\n\tat org.apache.spark.sql.errors.QueryExecutionErrors.failedExecuteUserDefinedFunctionError(QueryExecutionErrors.scala)\n\tat org.apache.spark.sql.catalyst.expressions.GeneratedClass$GeneratedIteratorForCodegenStage1.processNext(Unknown Source)\n\tat org.apache.spark.sql.execution.BufferedRowIterator.hasNext(BufferedRowIterator.java:43)\n\tat org.apache.spark.sql.execution.WholeStageCodegenExec$$anon$1.hasNext(WholeStageCodegenExec.scala:760)\n\tat org.apache.spark.sql.execution.SparkPlan.$anonfun$getByteArrayRdd$1(SparkPlan.scala:388)\n\tat org.apache.spark.rdd.RDD.$anonfun$mapPartitionsInternal$2(RDD.scala:888)\n\tat org.apache.spark.rdd.RDD.$anonfun$mapPartitionsInternal$2$adapted(RDD.scala:888)\n\tat org.apache.spark.rdd.MapPartitionsRDD.compute(MapPartitionsRDD.scala:52)\n\tat org.apache.spark.rdd.RDD.computeOrReadCheckpoint(RDD.scala:364)\n\tat org.apache.spark.rdd.RDD.iterator(RDD.scala:328)\n\tat org.apache.spark.scheduler.ResultTask.runTask(ResultTask.scala:92)\n\tat org.apache.spark.TaskContext.runTaskWithListeners(TaskContext.scala:161)\n\tat org.apache.spark.scheduler.Task.run(Task.scala:139)\n\tat org.apache.spark.executor.Executor$TaskRunner.$anonfun$run$3(Executor.scala:554)\n\tat org.apache.spark.util.Utils$.tryWithSafeFinally(Utils.scala:1529)\n\tat org.apache.spark.executor.Executor$TaskRunner.run(Executor.scala:557)\n\tat java.util.concurrent.ThreadPoolExecutor.runWorker(ThreadPoolExecutor.java:1149)\n\tat java.util.concurrent.ThreadPoolExecutor$Worker.run(ThreadPoolExecutor.java:624)\n\tat java.lang.Thread.run(Thread.java:750)\nCaused by: java.lang.OutOfMemoryError: GC overhead limit exceeded\n\tat scala.collection.immutable.Stream$$Lambda$2555/998752031.get$Lambda(Unknown Source)\n\tat java.lang.invoke.LambdaForm$DMH/209813603.invokeStatic_LL_L(LambdaForm$DMH)\n\tat java.lang.invoke.LambdaForm$MH/1717279565.linkToTargetMethod(LambdaForm$MH)\n\tat scala.collection.immutable.Stream.flatMap(Stream.scala:255)\n\tat scala.collection.immutable.Stream.$anonfun$flatMap$1(Stream.scala:497)\n\tat scala.collection.immutable.Stream$$Lambda$2554/791093289.apply(Unknown Source)\n\tat scala.collection.immutable.Stream.$anonfun$append$1(Stream.scala:255)\n\tat scala.collection.immutable.Stream$$Lambda$2555/998752031.apply(Unknown Source)\n\tat scala.collection.immutable.Stream$Cons.tail(Stream.scala:1173)\n\tat scala.collection.immutable.Stream$Cons.tail(Stream.scala:1163)\n\tat scala.collection.immutable.Stream.length(Stream.scala:312)\n\tat scala.collection.SeqLike.size(SeqLike.scala:108)\n\tat scala.collection.SeqLike.size$(SeqLike.scala:108)\n\tat scala.collection.AbstractSeq.size(Seq.scala:45)\n\tat scala.collection.TraversableOnce.toArray(TraversableOnce.scala:341)\n\tat scala.collection.TraversableOnce.toArray$(TraversableOnce.scala:339)\n\tat scala.collection.AbstractTraversable.toArray(Traversable.scala:108)\n\tat org.apache.spark.ml.linalg.Vectors$.sparse(Vectors.scala:273)\n\tat org.apache.spark.ml.feature.HashingTF.$anonfun$transform$3(HashingTF.scala:99)\n\tat org.apache.spark.ml.feature.HashingTF$$Lambda$5252/870395239.apply(Unknown Source)\n\tat org.apache.spark.sql.catalyst.expressions.GeneratedClass$GeneratedIteratorForCodegenStage1.processNext(Unknown Source)\n\tat org.apache.spark.sql.execution.BufferedRowIterator.hasNext(BufferedRowIterator.java:43)\n\tat org.apache.spark.sql.execution.WholeStageCodegenExec$$anon$1.hasNext(WholeStageCodegenExec.scala:760)\n\tat org.apache.spark.sql.execution.SparkPlan.$anonfun$getByteArrayRdd$1(SparkPlan.scala:388)\n\tat org.apache.spark.sql.execution.SparkPlan$$Lambda$2648/344220328.apply(Unknown Source)\n\tat org.apache.spark.rdd.RDD.$anonfun$mapPartitionsInternal$2(RDD.scala:888)\n\tat org.apache.spark.rdd.RDD.$anonfun$mapPartitionsInternal$2$adapted(RDD.scala:888)\n\tat org.apache.spark.rdd.RDD$$Lambda$2645/2002213585.apply(Unknown Source)\n\tat org.apache.spark.rdd.MapPartitionsRDD.compute(MapPartitionsRDD.scala:52)\n\tat org.apache.spark.rdd.RDD.computeOrReadCheckpoint(RDD.scala:364)\n\tat org.apache.spark.rdd.RDD.iterator(RDD.scala:328)\n\tat org.apache.spark.scheduler.ResultTask.runTask(ResultTask.scala:92)\n\nDriver stacktrace:\n\tat org.apache.spark.scheduler.DAGScheduler.failJobAndIndependentStages(DAGScheduler.scala:2785)\n\tat org.apache.spark.scheduler.DAGScheduler.$anonfun$abortStage$2(DAGScheduler.scala:2721)\n\tat org.apache.spark.scheduler.DAGScheduler.$anonfun$abortStage$2$adapted(DAGScheduler.scala:2720)\n\tat scala.collection.mutable.ResizableArray.foreach(ResizableArray.scala:62)\n\tat scala.collection.mutable.ResizableArray.foreach$(ResizableArray.scala:55)\n\tat scala.collection.mutable.ArrayBuffer.foreach(ArrayBuffer.scala:49)\n\tat org.apache.spark.scheduler.DAGScheduler.abortStage(DAGScheduler.scala:2720)\n\tat org.apache.spark.scheduler.DAGScheduler.$anonfun$handleTaskSetFailed$1(DAGScheduler.scala:1206)\n\tat org.apache.spark.scheduler.DAGScheduler.$anonfun$handleTaskSetFailed$1$adapted(DAGScheduler.scala:1206)\n\tat scala.Option.foreach(Option.scala:407)\n\tat org.apache.spark.scheduler.DAGScheduler.handleTaskSetFailed(DAGScheduler.scala:1206)\n\tat org.apache.spark.scheduler.DAGSchedulerEventProcessLoop.doOnReceive(DAGScheduler.scala:2984)\n\tat org.apache.spark.scheduler.DAGSchedulerEventProcessLoop.onReceive(DAGScheduler.scala:2923)\n\tat org.apache.spark.scheduler.DAGSchedulerEventProcessLoop.onReceive(DAGScheduler.scala:2912)\n\tat org.apache.spark.util.EventLoop$$anon$1.run(EventLoop.scala:49)\n\tat org.apache.spark.scheduler.DAGScheduler.runJob(DAGScheduler.scala:971)\n\tat org.apache.spark.SparkContext.runJob(SparkContext.scala:2263)\n\tat org.apache.spark.SparkContext.runJob(SparkContext.scala:2284)\n\tat org.apache.spark.SparkContext.runJob(SparkContext.scala:2303)\n\tat org.apache.spark.SparkContext.runJob(SparkContext.scala:2328)\n\tat org.apache.spark.rdd.RDD.$anonfun$collect$1(RDD.scala:1019)\n\tat org.apache.spark.rdd.RDDOperationScope$.withScope(RDDOperationScope.scala:151)\n\tat org.apache.spark.rdd.RDDOperationScope$.withScope(RDDOperationScope.scala:112)\n\tat org.apache.spark.rdd.RDD.withScope(RDD.scala:405)\n\tat org.apache.spark.rdd.RDD.collect(RDD.scala:1018)\n\tat org.apache.spark.sql.execution.SparkPlan.executeCollect(SparkPlan.scala:448)\n\tat org.apache.spark.sql.Dataset.$anonfun$collectToPython$1(Dataset.scala:4036)\n\tat org.apache.spark.sql.Dataset.$anonfun$withAction$2(Dataset.scala:4206)\n\tat org.apache.spark.sql.execution.QueryExecution$.withInternalError(QueryExecution.scala:526)\n\tat org.apache.spark.sql.Dataset.$anonfun$withAction$1(Dataset.scala:4204)\n\tat org.apache.spark.sql.execution.SQLExecution$.$anonfun$withNewExecutionId$6(SQLExecution.scala:118)\n\tat org.apache.spark.sql.execution.SQLExecution$.withSQLConfPropagated(SQLExecution.scala:195)\n\tat org.apache.spark.sql.execution.SQLExecution$.$anonfun$withNewExecutionId$1(SQLExecution.scala:103)\n\tat org.apache.spark.sql.SparkSession.withActive(SparkSession.scala:827)\n\tat org.apache.spark.sql.execution.SQLExecution$.withNewExecutionId(SQLExecution.scala:65)\n\tat org.apache.spark.sql.Dataset.withAction(Dataset.scala:4204)\n\tat org.apache.spark.sql.Dataset.collectToPython(Dataset.scala:4033)\n\tat sun.reflect.NativeMethodAccessorImpl.invoke0(Native Method)\n\tat sun.reflect.NativeMethodAccessorImpl.invoke(NativeMethodAccessorImpl.java:62)\n\tat sun.reflect.DelegatingMethodAccessorImpl.invoke(DelegatingMethodAccessorImpl.java:43)\n\tat java.lang.reflect.Method.invoke(Method.java:498)\n\tat py4j.reflection.MethodInvoker.invoke(MethodInvoker.java:244)\n\tat py4j.reflection.ReflectionEngine.invoke(ReflectionEngine.java:374)\n\tat py4j.Gateway.invoke(Gateway.java:282)\n\tat py4j.commands.AbstractCommand.invokeMethod(AbstractCommand.java:132)\n\tat py4j.commands.CallCommand.execute(CallCommand.java:79)\n\tat py4j.ClientServerConnection.waitForCommands(ClientServerConnection.java:182)\n\tat py4j.ClientServerConnection.run(ClientServerConnection.java:106)\n\tat java.lang.Thread.run(Thread.java:750)\nCaused by: org.apache.spark.SparkException: [FAILED_EXECUTE_UDF] Failed to execute user defined function (HashingTF$$Lambda$5223/1847216846: (array<string>) => struct<type:tinyint,size:int,indices:array<int>,values:array<double>>).\n\tat org.apache.spark.sql.errors.QueryExecutionErrors$.failedExecuteUserDefinedFunctionError(QueryExecutionErrors.scala:217)\n\tat org.apache.spark.sql.errors.QueryExecutionErrors.failedExecuteUserDefinedFunctionError(QueryExecutionErrors.scala)\n\tat org.apache.spark.sql.catalyst.expressions.GeneratedClass$GeneratedIteratorForCodegenStage1.processNext(Unknown Source)\n\tat org.apache.spark.sql.execution.BufferedRowIterator.hasNext(BufferedRowIterator.java:43)\n\tat org.apache.spark.sql.execution.WholeStageCodegenExec$$anon$1.hasNext(WholeStageCodegenExec.scala:760)\n\tat org.apache.spark.sql.execution.SparkPlan.$anonfun$getByteArrayRdd$1(SparkPlan.scala:388)\n\tat org.apache.spark.rdd.RDD.$anonfun$mapPartitionsInternal$2(RDD.scala:888)\n\tat org.apache.spark.rdd.RDD.$anonfun$mapPartitionsInternal$2$adapted(RDD.scala:888)\n\tat org.apache.spark.rdd.MapPartitionsRDD.compute(MapPartitionsRDD.scala:52)\n\tat org.apache.spark.rdd.RDD.computeOrReadCheckpoint(RDD.scala:364)\n\tat org.apache.spark.rdd.RDD.iterator(RDD.scala:328)\n\tat org.apache.spark.scheduler.ResultTask.runTask(ResultTask.scala:92)\n\tat org.apache.spark.TaskContext.runTaskWithListeners(TaskContext.scala:161)\n\tat org.apache.spark.scheduler.Task.run(Task.scala:139)\n\tat org.apache.spark.executor.Executor$TaskRunner.$anonfun$run$3(Executor.scala:554)\n\tat org.apache.spark.util.Utils$.tryWithSafeFinally(Utils.scala:1529)\n\tat org.apache.spark.executor.Executor$TaskRunner.run(Executor.scala:557)\n\tat java.util.concurrent.ThreadPoolExecutor.runWorker(ThreadPoolExecutor.java:1149)\n\tat java.util.concurrent.ThreadPoolExecutor$Worker.run(ThreadPoolExecutor.java:624)\n\t... 1 more\nCaused by: java.lang.OutOfMemoryError: GC overhead limit exceeded\n\tat scala.collection.immutable.Stream$$Lambda$2555/998752031.get$Lambda(Unknown Source)\n\tat java.lang.invoke.LambdaForm$DMH/209813603.invokeStatic_LL_L(LambdaForm$DMH)\n\tat java.lang.invoke.LambdaForm$MH/1717279565.linkToTargetMethod(LambdaForm$MH)\n\tat scala.collection.immutable.Stream.flatMap(Stream.scala:255)\n\tat scala.collection.immutable.Stream.$anonfun$flatMap$1(Stream.scala:497)\n\tat scala.collection.immutable.Stream$$Lambda$2554/791093289.apply(Unknown Source)\n\tat scala.collection.immutable.Stream.$anonfun$append$1(Stream.scala:255)\n\tat scala.collection.immutable.Stream$$Lambda$2555/998752031.apply(Unknown Source)\n\tat scala.collection.immutable.Stream$Cons.tail(Stream.scala:1173)\n\tat scala.collection.immutable.Stream$Cons.tail(Stream.scala:1163)\n\tat scala.collection.immutable.Stream.length(Stream.scala:312)\n\tat scala.collection.SeqLike.size(SeqLike.scala:108)\n\tat scala.collection.SeqLike.size$(SeqLike.scala:108)\n\tat scala.collection.AbstractSeq.size(Seq.scala:45)\n\tat scala.collection.TraversableOnce.toArray(TraversableOnce.scala:341)\n\tat scala.collection.TraversableOnce.toArray$(TraversableOnce.scala:339)\n\tat scala.collection.AbstractTraversable.toArray(Traversable.scala:108)\n\tat org.apache.spark.ml.linalg.Vectors$.sparse(Vectors.scala:273)\n\tat org.apache.spark.ml.feature.HashingTF.$anonfun$transform$3(HashingTF.scala:99)\n\tat org.apache.spark.ml.feature.HashingTF$$Lambda$5252/870395239.apply(Unknown Source)\n\tat org.apache.spark.sql.catalyst.expressions.GeneratedClass$GeneratedIteratorForCodegenStage1.processNext(Unknown Source)\n\tat org.apache.spark.sql.execution.BufferedRowIterator.hasNext(BufferedRowIterator.java:43)\n\tat org.apache.spark.sql.execution.WholeStageCodegenExec$$anon$1.hasNext(WholeStageCodegenExec.scala:760)\n\tat org.apache.spark.sql.execution.SparkPlan.$anonfun$getByteArrayRdd$1(SparkPlan.scala:388)\n\tat org.apache.spark.sql.execution.SparkPlan$$Lambda$2648/344220328.apply(Unknown Source)\n\tat org.apache.spark.rdd.RDD.$anonfun$mapPartitionsInternal$2(RDD.scala:888)\n\tat org.apache.spark.rdd.RDD.$anonfun$mapPartitionsInternal$2$adapted(RDD.scala:888)\n\tat org.apache.spark.rdd.RDD$$Lambda$2645/2002213585.apply(Unknown Source)\n\tat org.apache.spark.rdd.MapPartitionsRDD.compute(MapPartitionsRDD.scala:52)\n\tat org.apache.spark.rdd.RDD.computeOrReadCheckpoint(RDD.scala:364)\n\tat org.apache.spark.rdd.RDD.iterator(RDD.scala:328)\n\tat org.apache.spark.scheduler.ResultTask.runTask(ResultTask.scala:92)\n",
     "output_type": "error",
     "traceback": [
      "\u001b[0;31m---------------------------------------------------------------------------\u001b[0m",
      "\u001b[0;31mPy4JJavaError\u001b[0m                             Traceback (most recent call last)",
      "\u001b[0;32m/tmp/ipykernel_4431/707250319.py\u001b[0m in \u001b[0;36m<module>\u001b[0;34m\u001b[0m\n\u001b[0;32m----> 1\u001b[0;31m \u001b[0mtf_idf_scores_pd_df\u001b[0m \u001b[0;34m=\u001b[0m \u001b[0mtf_idf_scores_df\u001b[0m\u001b[0;34m.\u001b[0m\u001b[0mtoPandas\u001b[0m\u001b[0;34m(\u001b[0m\u001b[0;34m)\u001b[0m\u001b[0;34m\u001b[0m\u001b[0;34m\u001b[0m\u001b[0m\n\u001b[0m\u001b[1;32m      2\u001b[0m \u001b[0;34m\u001b[0m\u001b[0m\n\u001b[1;32m      3\u001b[0m \u001b[0mpd\u001b[0m\u001b[0;34m.\u001b[0m\u001b[0moption_context\u001b[0m\u001b[0;34m(\u001b[0m\u001b[0;34m'display.max_colwidth'\u001b[0m\u001b[0;34m,\u001b[0m \u001b[0;32mNone\u001b[0m\u001b[0;34m)\u001b[0m\u001b[0;34m\u001b[0m\u001b[0;34m\u001b[0m\u001b[0m\n\u001b[1;32m      4\u001b[0m \u001b[0mtf_idf_scores_pd_df\u001b[0m\u001b[0;34m.\u001b[0m\u001b[0mhead\u001b[0m\u001b[0;34m(\u001b[0m\u001b[0;34m)\u001b[0m\u001b[0;34m\u001b[0m\u001b[0;34m\u001b[0m\u001b[0m\n",
      "\u001b[0;32m/usr/local/spark/python/pyspark/sql/pandas/conversion.py\u001b[0m in \u001b[0;36mtoPandas\u001b[0;34m(self)\u001b[0m\n\u001b[1;32m    206\u001b[0m \u001b[0;34m\u001b[0m\u001b[0m\n\u001b[1;32m    207\u001b[0m         \u001b[0;31m# Below is toPandas without Arrow optimization.\u001b[0m\u001b[0;34m\u001b[0m\u001b[0;34m\u001b[0m\u001b[0m\n\u001b[0;32m--> 208\u001b[0;31m         \u001b[0mpdf\u001b[0m \u001b[0;34m=\u001b[0m \u001b[0mpd\u001b[0m\u001b[0;34m.\u001b[0m\u001b[0mDataFrame\u001b[0m\u001b[0;34m.\u001b[0m\u001b[0mfrom_records\u001b[0m\u001b[0;34m(\u001b[0m\u001b[0mself\u001b[0m\u001b[0;34m.\u001b[0m\u001b[0mcollect\u001b[0m\u001b[0;34m(\u001b[0m\u001b[0;34m)\u001b[0m\u001b[0;34m,\u001b[0m \u001b[0mcolumns\u001b[0m\u001b[0;34m=\u001b[0m\u001b[0mself\u001b[0m\u001b[0;34m.\u001b[0m\u001b[0mcolumns\u001b[0m\u001b[0;34m)\u001b[0m\u001b[0;34m\u001b[0m\u001b[0;34m\u001b[0m\u001b[0m\n\u001b[0m\u001b[1;32m    209\u001b[0m         \u001b[0mcolumn_counter\u001b[0m \u001b[0;34m=\u001b[0m \u001b[0mCounter\u001b[0m\u001b[0;34m(\u001b[0m\u001b[0mself\u001b[0m\u001b[0;34m.\u001b[0m\u001b[0mcolumns\u001b[0m\u001b[0;34m)\u001b[0m\u001b[0;34m\u001b[0m\u001b[0;34m\u001b[0m\u001b[0m\n\u001b[1;32m    210\u001b[0m \u001b[0;34m\u001b[0m\u001b[0m\n",
      "\u001b[0;32m/usr/local/spark/python/pyspark/sql/dataframe.py\u001b[0m in \u001b[0;36mcollect\u001b[0;34m(self)\u001b[0m\n\u001b[1;32m   1214\u001b[0m         \"\"\"\n\u001b[1;32m   1215\u001b[0m         \u001b[0;32mwith\u001b[0m \u001b[0mSCCallSiteSync\u001b[0m\u001b[0;34m(\u001b[0m\u001b[0mself\u001b[0m\u001b[0;34m.\u001b[0m\u001b[0m_sc\u001b[0m\u001b[0;34m)\u001b[0m\u001b[0;34m:\u001b[0m\u001b[0;34m\u001b[0m\u001b[0;34m\u001b[0m\u001b[0m\n\u001b[0;32m-> 1216\u001b[0;31m             \u001b[0msock_info\u001b[0m \u001b[0;34m=\u001b[0m \u001b[0mself\u001b[0m\u001b[0;34m.\u001b[0m\u001b[0m_jdf\u001b[0m\u001b[0;34m.\u001b[0m\u001b[0mcollectToPython\u001b[0m\u001b[0;34m(\u001b[0m\u001b[0;34m)\u001b[0m\u001b[0;34m\u001b[0m\u001b[0;34m\u001b[0m\u001b[0m\n\u001b[0m\u001b[1;32m   1217\u001b[0m         \u001b[0;32mreturn\u001b[0m \u001b[0mlist\u001b[0m\u001b[0;34m(\u001b[0m\u001b[0m_load_from_socket\u001b[0m\u001b[0;34m(\u001b[0m\u001b[0msock_info\u001b[0m\u001b[0;34m,\u001b[0m \u001b[0mBatchedSerializer\u001b[0m\u001b[0;34m(\u001b[0m\u001b[0mCPickleSerializer\u001b[0m\u001b[0;34m(\u001b[0m\u001b[0;34m)\u001b[0m\u001b[0;34m)\u001b[0m\u001b[0;34m)\u001b[0m\u001b[0;34m)\u001b[0m\u001b[0;34m\u001b[0m\u001b[0;34m\u001b[0m\u001b[0m\n\u001b[1;32m   1218\u001b[0m \u001b[0;34m\u001b[0m\u001b[0m\n",
      "\u001b[0;32m/usr/local/spark/python/lib/py4j-0.10.9.7-src.zip/py4j/java_gateway.py\u001b[0m in \u001b[0;36m__call__\u001b[0;34m(self, *args)\u001b[0m\n\u001b[1;32m   1320\u001b[0m \u001b[0;34m\u001b[0m\u001b[0m\n\u001b[1;32m   1321\u001b[0m         \u001b[0manswer\u001b[0m \u001b[0;34m=\u001b[0m \u001b[0mself\u001b[0m\u001b[0;34m.\u001b[0m\u001b[0mgateway_client\u001b[0m\u001b[0;34m.\u001b[0m\u001b[0msend_command\u001b[0m\u001b[0;34m(\u001b[0m\u001b[0mcommand\u001b[0m\u001b[0;34m)\u001b[0m\u001b[0;34m\u001b[0m\u001b[0;34m\u001b[0m\u001b[0m\n\u001b[0;32m-> 1322\u001b[0;31m         return_value = get_return_value(\n\u001b[0m\u001b[1;32m   1323\u001b[0m             answer, self.gateway_client, self.target_id, self.name)\n\u001b[1;32m   1324\u001b[0m \u001b[0;34m\u001b[0m\u001b[0m\n",
      "\u001b[0;32m/usr/local/spark/python/pyspark/errors/exceptions/captured.py\u001b[0m in \u001b[0;36mdeco\u001b[0;34m(*a, **kw)\u001b[0m\n\u001b[1;32m    167\u001b[0m     \u001b[0;32mdef\u001b[0m \u001b[0mdeco\u001b[0m\u001b[0;34m(\u001b[0m\u001b[0;34m*\u001b[0m\u001b[0ma\u001b[0m\u001b[0;34m:\u001b[0m \u001b[0mAny\u001b[0m\u001b[0;34m,\u001b[0m \u001b[0;34m**\u001b[0m\u001b[0mkw\u001b[0m\u001b[0;34m:\u001b[0m \u001b[0mAny\u001b[0m\u001b[0;34m)\u001b[0m \u001b[0;34m->\u001b[0m \u001b[0mAny\u001b[0m\u001b[0;34m:\u001b[0m\u001b[0;34m\u001b[0m\u001b[0;34m\u001b[0m\u001b[0m\n\u001b[1;32m    168\u001b[0m         \u001b[0;32mtry\u001b[0m\u001b[0;34m:\u001b[0m\u001b[0;34m\u001b[0m\u001b[0;34m\u001b[0m\u001b[0m\n\u001b[0;32m--> 169\u001b[0;31m             \u001b[0;32mreturn\u001b[0m \u001b[0mf\u001b[0m\u001b[0;34m(\u001b[0m\u001b[0;34m*\u001b[0m\u001b[0ma\u001b[0m\u001b[0;34m,\u001b[0m \u001b[0;34m**\u001b[0m\u001b[0mkw\u001b[0m\u001b[0;34m)\u001b[0m\u001b[0;34m\u001b[0m\u001b[0;34m\u001b[0m\u001b[0m\n\u001b[0m\u001b[1;32m    170\u001b[0m         \u001b[0;32mexcept\u001b[0m \u001b[0mPy4JJavaError\u001b[0m \u001b[0;32mas\u001b[0m \u001b[0me\u001b[0m\u001b[0;34m:\u001b[0m\u001b[0;34m\u001b[0m\u001b[0;34m\u001b[0m\u001b[0m\n\u001b[1;32m    171\u001b[0m             \u001b[0mconverted\u001b[0m \u001b[0;34m=\u001b[0m \u001b[0mconvert_exception\u001b[0m\u001b[0;34m(\u001b[0m\u001b[0me\u001b[0m\u001b[0;34m.\u001b[0m\u001b[0mjava_exception\u001b[0m\u001b[0;34m)\u001b[0m\u001b[0;34m\u001b[0m\u001b[0;34m\u001b[0m\u001b[0m\n",
      "\u001b[0;32m/usr/local/spark/python/lib/py4j-0.10.9.7-src.zip/py4j/protocol.py\u001b[0m in \u001b[0;36mget_return_value\u001b[0;34m(answer, gateway_client, target_id, name)\u001b[0m\n\u001b[1;32m    324\u001b[0m             \u001b[0mvalue\u001b[0m \u001b[0;34m=\u001b[0m \u001b[0mOUTPUT_CONVERTER\u001b[0m\u001b[0;34m[\u001b[0m\u001b[0mtype\u001b[0m\u001b[0;34m]\u001b[0m\u001b[0;34m(\u001b[0m\u001b[0manswer\u001b[0m\u001b[0;34m[\u001b[0m\u001b[0;36m2\u001b[0m\u001b[0;34m:\u001b[0m\u001b[0;34m]\u001b[0m\u001b[0;34m,\u001b[0m \u001b[0mgateway_client\u001b[0m\u001b[0;34m)\u001b[0m\u001b[0;34m\u001b[0m\u001b[0;34m\u001b[0m\u001b[0m\n\u001b[1;32m    325\u001b[0m             \u001b[0;32mif\u001b[0m \u001b[0manswer\u001b[0m\u001b[0;34m[\u001b[0m\u001b[0;36m1\u001b[0m\u001b[0;34m]\u001b[0m \u001b[0;34m==\u001b[0m \u001b[0mREFERENCE_TYPE\u001b[0m\u001b[0;34m:\u001b[0m\u001b[0;34m\u001b[0m\u001b[0;34m\u001b[0m\u001b[0m\n\u001b[0;32m--> 326\u001b[0;31m                 raise Py4JJavaError(\n\u001b[0m\u001b[1;32m    327\u001b[0m                     \u001b[0;34m\"An error occurred while calling {0}{1}{2}.\\n\"\u001b[0m\u001b[0;34m.\u001b[0m\u001b[0;34m\u001b[0m\u001b[0;34m\u001b[0m\u001b[0m\n\u001b[1;32m    328\u001b[0m                     format(target_id, \".\", name), value)\n",
      "\u001b[0;31mPy4JJavaError\u001b[0m: An error occurred while calling o3613.collectToPython.\n: org.apache.spark.SparkException: Job aborted due to stage failure: Task 97 in stage 910.0 failed 1 times, most recent failure: Lost task 97.0 in stage 910.0 (TID 13818) (10.0.2.15 executor driver): org.apache.spark.SparkException: [FAILED_EXECUTE_UDF] Failed to execute user defined function (HashingTF$$Lambda$5223/1847216846: (array<string>) => struct<type:tinyint,size:int,indices:array<int>,values:array<double>>).\n\tat org.apache.spark.sql.errors.QueryExecutionErrors$.failedExecuteUserDefinedFunctionError(QueryExecutionErrors.scala:217)\n\tat org.apache.spark.sql.errors.QueryExecutionErrors.failedExecuteUserDefinedFunctionError(QueryExecutionErrors.scala)\n\tat org.apache.spark.sql.catalyst.expressions.GeneratedClass$GeneratedIteratorForCodegenStage1.processNext(Unknown Source)\n\tat org.apache.spark.sql.execution.BufferedRowIterator.hasNext(BufferedRowIterator.java:43)\n\tat org.apache.spark.sql.execution.WholeStageCodegenExec$$anon$1.hasNext(WholeStageCodegenExec.scala:760)\n\tat org.apache.spark.sql.execution.SparkPlan.$anonfun$getByteArrayRdd$1(SparkPlan.scala:388)\n\tat org.apache.spark.rdd.RDD.$anonfun$mapPartitionsInternal$2(RDD.scala:888)\n\tat org.apache.spark.rdd.RDD.$anonfun$mapPartitionsInternal$2$adapted(RDD.scala:888)\n\tat org.apache.spark.rdd.MapPartitionsRDD.compute(MapPartitionsRDD.scala:52)\n\tat org.apache.spark.rdd.RDD.computeOrReadCheckpoint(RDD.scala:364)\n\tat org.apache.spark.rdd.RDD.iterator(RDD.scala:328)\n\tat org.apache.spark.scheduler.ResultTask.runTask(ResultTask.scala:92)\n\tat org.apache.spark.TaskContext.runTaskWithListeners(TaskContext.scala:161)\n\tat org.apache.spark.scheduler.Task.run(Task.scala:139)\n\tat org.apache.spark.executor.Executor$TaskRunner.$anonfun$run$3(Executor.scala:554)\n\tat org.apache.spark.util.Utils$.tryWithSafeFinally(Utils.scala:1529)\n\tat org.apache.spark.executor.Executor$TaskRunner.run(Executor.scala:557)\n\tat java.util.concurrent.ThreadPoolExecutor.runWorker(ThreadPoolExecutor.java:1149)\n\tat java.util.concurrent.ThreadPoolExecutor$Worker.run(ThreadPoolExecutor.java:624)\n\tat java.lang.Thread.run(Thread.java:750)\nCaused by: java.lang.OutOfMemoryError: GC overhead limit exceeded\n\tat scala.collection.immutable.Stream$$Lambda$2555/998752031.get$Lambda(Unknown Source)\n\tat java.lang.invoke.LambdaForm$DMH/209813603.invokeStatic_LL_L(LambdaForm$DMH)\n\tat java.lang.invoke.LambdaForm$MH/1717279565.linkToTargetMethod(LambdaForm$MH)\n\tat scala.collection.immutable.Stream.flatMap(Stream.scala:255)\n\tat scala.collection.immutable.Stream.$anonfun$flatMap$1(Stream.scala:497)\n\tat scala.collection.immutable.Stream$$Lambda$2554/791093289.apply(Unknown Source)\n\tat scala.collection.immutable.Stream.$anonfun$append$1(Stream.scala:255)\n\tat scala.collection.immutable.Stream$$Lambda$2555/998752031.apply(Unknown Source)\n\tat scala.collection.immutable.Stream$Cons.tail(Stream.scala:1173)\n\tat scala.collection.immutable.Stream$Cons.tail(Stream.scala:1163)\n\tat scala.collection.immutable.Stream.length(Stream.scala:312)\n\tat scala.collection.SeqLike.size(SeqLike.scala:108)\n\tat scala.collection.SeqLike.size$(SeqLike.scala:108)\n\tat scala.collection.AbstractSeq.size(Seq.scala:45)\n\tat scala.collection.TraversableOnce.toArray(TraversableOnce.scala:341)\n\tat scala.collection.TraversableOnce.toArray$(TraversableOnce.scala:339)\n\tat scala.collection.AbstractTraversable.toArray(Traversable.scala:108)\n\tat org.apache.spark.ml.linalg.Vectors$.sparse(Vectors.scala:273)\n\tat org.apache.spark.ml.feature.HashingTF.$anonfun$transform$3(HashingTF.scala:99)\n\tat org.apache.spark.ml.feature.HashingTF$$Lambda$5252/870395239.apply(Unknown Source)\n\tat org.apache.spark.sql.catalyst.expressions.GeneratedClass$GeneratedIteratorForCodegenStage1.processNext(Unknown Source)\n\tat org.apache.spark.sql.execution.BufferedRowIterator.hasNext(BufferedRowIterator.java:43)\n\tat org.apache.spark.sql.execution.WholeStageCodegenExec$$anon$1.hasNext(WholeStageCodegenExec.scala:760)\n\tat org.apache.spark.sql.execution.SparkPlan.$anonfun$getByteArrayRdd$1(SparkPlan.scala:388)\n\tat org.apache.spark.sql.execution.SparkPlan$$Lambda$2648/344220328.apply(Unknown Source)\n\tat org.apache.spark.rdd.RDD.$anonfun$mapPartitionsInternal$2(RDD.scala:888)\n\tat org.apache.spark.rdd.RDD.$anonfun$mapPartitionsInternal$2$adapted(RDD.scala:888)\n\tat org.apache.spark.rdd.RDD$$Lambda$2645/2002213585.apply(Unknown Source)\n\tat org.apache.spark.rdd.MapPartitionsRDD.compute(MapPartitionsRDD.scala:52)\n\tat org.apache.spark.rdd.RDD.computeOrReadCheckpoint(RDD.scala:364)\n\tat org.apache.spark.rdd.RDD.iterator(RDD.scala:328)\n\tat org.apache.spark.scheduler.ResultTask.runTask(ResultTask.scala:92)\n\nDriver stacktrace:\n\tat org.apache.spark.scheduler.DAGScheduler.failJobAndIndependentStages(DAGScheduler.scala:2785)\n\tat org.apache.spark.scheduler.DAGScheduler.$anonfun$abortStage$2(DAGScheduler.scala:2721)\n\tat org.apache.spark.scheduler.DAGScheduler.$anonfun$abortStage$2$adapted(DAGScheduler.scala:2720)\n\tat scala.collection.mutable.ResizableArray.foreach(ResizableArray.scala:62)\n\tat scala.collection.mutable.ResizableArray.foreach$(ResizableArray.scala:55)\n\tat scala.collection.mutable.ArrayBuffer.foreach(ArrayBuffer.scala:49)\n\tat org.apache.spark.scheduler.DAGScheduler.abortStage(DAGScheduler.scala:2720)\n\tat org.apache.spark.scheduler.DAGScheduler.$anonfun$handleTaskSetFailed$1(DAGScheduler.scala:1206)\n\tat org.apache.spark.scheduler.DAGScheduler.$anonfun$handleTaskSetFailed$1$adapted(DAGScheduler.scala:1206)\n\tat scala.Option.foreach(Option.scala:407)\n\tat org.apache.spark.scheduler.DAGScheduler.handleTaskSetFailed(DAGScheduler.scala:1206)\n\tat org.apache.spark.scheduler.DAGSchedulerEventProcessLoop.doOnReceive(DAGScheduler.scala:2984)\n\tat org.apache.spark.scheduler.DAGSchedulerEventProcessLoop.onReceive(DAGScheduler.scala:2923)\n\tat org.apache.spark.scheduler.DAGSchedulerEventProcessLoop.onReceive(DAGScheduler.scala:2912)\n\tat org.apache.spark.util.EventLoop$$anon$1.run(EventLoop.scala:49)\n\tat org.apache.spark.scheduler.DAGScheduler.runJob(DAGScheduler.scala:971)\n\tat org.apache.spark.SparkContext.runJob(SparkContext.scala:2263)\n\tat org.apache.spark.SparkContext.runJob(SparkContext.scala:2284)\n\tat org.apache.spark.SparkContext.runJob(SparkContext.scala:2303)\n\tat org.apache.spark.SparkContext.runJob(SparkContext.scala:2328)\n\tat org.apache.spark.rdd.RDD.$anonfun$collect$1(RDD.scala:1019)\n\tat org.apache.spark.rdd.RDDOperationScope$.withScope(RDDOperationScope.scala:151)\n\tat org.apache.spark.rdd.RDDOperationScope$.withScope(RDDOperationScope.scala:112)\n\tat org.apache.spark.rdd.RDD.withScope(RDD.scala:405)\n\tat org.apache.spark.rdd.RDD.collect(RDD.scala:1018)\n\tat org.apache.spark.sql.execution.SparkPlan.executeCollect(SparkPlan.scala:448)\n\tat org.apache.spark.sql.Dataset.$anonfun$collectToPython$1(Dataset.scala:4036)\n\tat org.apache.spark.sql.Dataset.$anonfun$withAction$2(Dataset.scala:4206)\n\tat org.apache.spark.sql.execution.QueryExecution$.withInternalError(QueryExecution.scala:526)\n\tat org.apache.spark.sql.Dataset.$anonfun$withAction$1(Dataset.scala:4204)\n\tat org.apache.spark.sql.execution.SQLExecution$.$anonfun$withNewExecutionId$6(SQLExecution.scala:118)\n\tat org.apache.spark.sql.execution.SQLExecution$.withSQLConfPropagated(SQLExecution.scala:195)\n\tat org.apache.spark.sql.execution.SQLExecution$.$anonfun$withNewExecutionId$1(SQLExecution.scala:103)\n\tat org.apache.spark.sql.SparkSession.withActive(SparkSession.scala:827)\n\tat org.apache.spark.sql.execution.SQLExecution$.withNewExecutionId(SQLExecution.scala:65)\n\tat org.apache.spark.sql.Dataset.withAction(Dataset.scala:4204)\n\tat org.apache.spark.sql.Dataset.collectToPython(Dataset.scala:4033)\n\tat sun.reflect.NativeMethodAccessorImpl.invoke0(Native Method)\n\tat sun.reflect.NativeMethodAccessorImpl.invoke(NativeMethodAccessorImpl.java:62)\n\tat sun.reflect.DelegatingMethodAccessorImpl.invoke(DelegatingMethodAccessorImpl.java:43)\n\tat java.lang.reflect.Method.invoke(Method.java:498)\n\tat py4j.reflection.MethodInvoker.invoke(MethodInvoker.java:244)\n\tat py4j.reflection.ReflectionEngine.invoke(ReflectionEngine.java:374)\n\tat py4j.Gateway.invoke(Gateway.java:282)\n\tat py4j.commands.AbstractCommand.invokeMethod(AbstractCommand.java:132)\n\tat py4j.commands.CallCommand.execute(CallCommand.java:79)\n\tat py4j.ClientServerConnection.waitForCommands(ClientServerConnection.java:182)\n\tat py4j.ClientServerConnection.run(ClientServerConnection.java:106)\n\tat java.lang.Thread.run(Thread.java:750)\nCaused by: org.apache.spark.SparkException: [FAILED_EXECUTE_UDF] Failed to execute user defined function (HashingTF$$Lambda$5223/1847216846: (array<string>) => struct<type:tinyint,size:int,indices:array<int>,values:array<double>>).\n\tat org.apache.spark.sql.errors.QueryExecutionErrors$.failedExecuteUserDefinedFunctionError(QueryExecutionErrors.scala:217)\n\tat org.apache.spark.sql.errors.QueryExecutionErrors.failedExecuteUserDefinedFunctionError(QueryExecutionErrors.scala)\n\tat org.apache.spark.sql.catalyst.expressions.GeneratedClass$GeneratedIteratorForCodegenStage1.processNext(Unknown Source)\n\tat org.apache.spark.sql.execution.BufferedRowIterator.hasNext(BufferedRowIterator.java:43)\n\tat org.apache.spark.sql.execution.WholeStageCodegenExec$$anon$1.hasNext(WholeStageCodegenExec.scala:760)\n\tat org.apache.spark.sql.execution.SparkPlan.$anonfun$getByteArrayRdd$1(SparkPlan.scala:388)\n\tat org.apache.spark.rdd.RDD.$anonfun$mapPartitionsInternal$2(RDD.scala:888)\n\tat org.apache.spark.rdd.RDD.$anonfun$mapPartitionsInternal$2$adapted(RDD.scala:888)\n\tat org.apache.spark.rdd.MapPartitionsRDD.compute(MapPartitionsRDD.scala:52)\n\tat org.apache.spark.rdd.RDD.computeOrReadCheckpoint(RDD.scala:364)\n\tat org.apache.spark.rdd.RDD.iterator(RDD.scala:328)\n\tat org.apache.spark.scheduler.ResultTask.runTask(ResultTask.scala:92)\n\tat org.apache.spark.TaskContext.runTaskWithListeners(TaskContext.scala:161)\n\tat org.apache.spark.scheduler.Task.run(Task.scala:139)\n\tat org.apache.spark.executor.Executor$TaskRunner.$anonfun$run$3(Executor.scala:554)\n\tat org.apache.spark.util.Utils$.tryWithSafeFinally(Utils.scala:1529)\n\tat org.apache.spark.executor.Executor$TaskRunner.run(Executor.scala:557)\n\tat java.util.concurrent.ThreadPoolExecutor.runWorker(ThreadPoolExecutor.java:1149)\n\tat java.util.concurrent.ThreadPoolExecutor$Worker.run(ThreadPoolExecutor.java:624)\n\t... 1 more\nCaused by: java.lang.OutOfMemoryError: GC overhead limit exceeded\n\tat scala.collection.immutable.Stream$$Lambda$2555/998752031.get$Lambda(Unknown Source)\n\tat java.lang.invoke.LambdaForm$DMH/209813603.invokeStatic_LL_L(LambdaForm$DMH)\n\tat java.lang.invoke.LambdaForm$MH/1717279565.linkToTargetMethod(LambdaForm$MH)\n\tat scala.collection.immutable.Stream.flatMap(Stream.scala:255)\n\tat scala.collection.immutable.Stream.$anonfun$flatMap$1(Stream.scala:497)\n\tat scala.collection.immutable.Stream$$Lambda$2554/791093289.apply(Unknown Source)\n\tat scala.collection.immutable.Stream.$anonfun$append$1(Stream.scala:255)\n\tat scala.collection.immutable.Stream$$Lambda$2555/998752031.apply(Unknown Source)\n\tat scala.collection.immutable.Stream$Cons.tail(Stream.scala:1173)\n\tat scala.collection.immutable.Stream$Cons.tail(Stream.scala:1163)\n\tat scala.collection.immutable.Stream.length(Stream.scala:312)\n\tat scala.collection.SeqLike.size(SeqLike.scala:108)\n\tat scala.collection.SeqLike.size$(SeqLike.scala:108)\n\tat scala.collection.AbstractSeq.size(Seq.scala:45)\n\tat scala.collection.TraversableOnce.toArray(TraversableOnce.scala:341)\n\tat scala.collection.TraversableOnce.toArray$(TraversableOnce.scala:339)\n\tat scala.collection.AbstractTraversable.toArray(Traversable.scala:108)\n\tat org.apache.spark.ml.linalg.Vectors$.sparse(Vectors.scala:273)\n\tat org.apache.spark.ml.feature.HashingTF.$anonfun$transform$3(HashingTF.scala:99)\n\tat org.apache.spark.ml.feature.HashingTF$$Lambda$5252/870395239.apply(Unknown Source)\n\tat org.apache.spark.sql.catalyst.expressions.GeneratedClass$GeneratedIteratorForCodegenStage1.processNext(Unknown Source)\n\tat org.apache.spark.sql.execution.BufferedRowIterator.hasNext(BufferedRowIterator.java:43)\n\tat org.apache.spark.sql.execution.WholeStageCodegenExec$$anon$1.hasNext(WholeStageCodegenExec.scala:760)\n\tat org.apache.spark.sql.execution.SparkPlan.$anonfun$getByteArrayRdd$1(SparkPlan.scala:388)\n\tat org.apache.spark.sql.execution.SparkPlan$$Lambda$2648/344220328.apply(Unknown Source)\n\tat org.apache.spark.rdd.RDD.$anonfun$mapPartitionsInternal$2(RDD.scala:888)\n\tat org.apache.spark.rdd.RDD.$anonfun$mapPartitionsInternal$2$adapted(RDD.scala:888)\n\tat org.apache.spark.rdd.RDD$$Lambda$2645/2002213585.apply(Unknown Source)\n\tat org.apache.spark.rdd.MapPartitionsRDD.compute(MapPartitionsRDD.scala:52)\n\tat org.apache.spark.rdd.RDD.computeOrReadCheckpoint(RDD.scala:364)\n\tat org.apache.spark.rdd.RDD.iterator(RDD.scala:328)\n\tat org.apache.spark.scheduler.ResultTask.runTask(ResultTask.scala:92)\n"
     ]
    },
    {
     "name": "stderr",
     "output_type": "stream",
     "text": [
      "----------------------------------------\n",
      "Exception occurred during processing of request from ('127.0.0.1', 39974)\n",
      "Traceback (most recent call last):\n",
      "  File \"/usr/lib/python3.10/socketserver.py\", line 316, in _handle_request_noblock\n",
      "    self.process_request(request, client_address)\n",
      "  File \"/usr/lib/python3.10/socketserver.py\", line 347, in process_request\n",
      "    self.finish_request(request, client_address)\n",
      "  File \"/usr/lib/python3.10/socketserver.py\", line 360, in finish_request\n",
      "    self.RequestHandlerClass(request, client_address, self)\n",
      "  File \"/usr/lib/python3.10/socketserver.py\", line 747, in __init__\n",
      "    self.handle()\n",
      "  File \"/usr/local/spark/python/pyspark/accumulators.py\", line 281, in handle\n",
      "    poll(accum_updates)\n",
      "  File \"/usr/local/spark/python/pyspark/accumulators.py\", line 253, in poll\n",
      "    if func():\n",
      "  File \"/usr/local/spark/python/pyspark/accumulators.py\", line 257, in accum_updates\n",
      "    num_updates = read_int(self.rfile)\n",
      "  File \"/usr/local/spark/python/pyspark/serializers.py\", line 596, in read_int\n",
      "    raise EOFError\n",
      "EOFError\n",
      "----------------------------------------\n"
     ]
    }
   ],
   "source": [
    "# Creating a Pandas Dataframe for easier reading\n",
    "tf_idf_scores_pd_df = tf_idf_scores_df.toPandas()\n",
    "\n",
    "pd.option_context('display.max_colwidth', None)\n",
    "tf_idf_scores_pd_df.head()"
   ]
  },
  {
   "cell_type": "code",
   "execution_count": null,
   "id": "571e96b1",
   "metadata": {},
   "outputs": [],
   "source": []
  },
  {
   "cell_type": "code",
   "execution_count": null,
   "id": "56851065",
   "metadata": {},
   "outputs": [],
   "source": []
  },
  {
   "cell_type": "code",
   "execution_count": null,
   "id": "fd544fff",
   "metadata": {},
   "outputs": [],
   "source": []
  },
  {
   "cell_type": "code",
   "execution_count": null,
   "id": "1c86ddde",
   "metadata": {},
   "outputs": [],
   "source": []
  },
  {
   "cell_type": "code",
   "execution_count": null,
   "id": "0609f6b8",
   "metadata": {},
   "outputs": [],
   "source": []
  },
  {
   "cell_type": "code",
   "execution_count": null,
   "id": "c784c561",
   "metadata": {},
   "outputs": [],
   "source": []
  }
 ],
 "metadata": {
  "kernelspec": {
   "display_name": "Python 3 (ipykernel)",
   "language": "python",
   "name": "python3"
  },
  "language_info": {
   "codemirror_mode": {
    "name": "ipython",
    "version": 3
   },
   "file_extension": ".py",
   "mimetype": "text/x-python",
   "name": "python",
   "nbconvert_exporter": "python",
   "pygments_lexer": "ipython3",
   "version": "3.10.12"
  }
 },
 "nbformat": 4,
 "nbformat_minor": 5
}
