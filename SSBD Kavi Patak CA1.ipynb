{
 "cells": [
  {
   "cell_type": "markdown",
   "id": "f46e6e9f",
   "metadata": {},
   "source": [
    "## Twitter Big Data Analysis"
   ]
  },
  {
   "cell_type": "markdown",
   "id": "11ce42e1",
   "metadata": {},
   "source": [
    "### Checking Spark Session"
   ]
  },
  {
   "cell_type": "code",
   "execution_count": 7,
   "id": "81e75da9",
   "metadata": {},
   "outputs": [
    {
     "data": {
      "text/html": [
       "\n",
       "        <div>\n",
       "            <p><b>SparkContext</b></p>\n",
       "\n",
       "            <p><a href=\"http://10.0.2.15:4040\">Spark UI</a></p>\n",
       "\n",
       "            <dl>\n",
       "              <dt>Version</dt>\n",
       "                <dd><code>v3.4.2</code></dd>\n",
       "              <dt>Master</dt>\n",
       "                <dd><code>local[*]</code></dd>\n",
       "              <dt>AppName</dt>\n",
       "                <dd><code>PySparkShell</code></dd>\n",
       "            </dl>\n",
       "        </div>\n",
       "        "
      ],
      "text/plain": [
       "<SparkContext master=local[*] appName=PySparkShell>"
      ]
     },
     "execution_count": 7,
     "metadata": {},
     "output_type": "execute_result"
    }
   ],
   "source": [
    "sc"
   ]
  },
  {
   "cell_type": "markdown",
   "id": "9efb4b97",
   "metadata": {},
   "source": [
    "### Loading in the Data"
   ]
  },
  {
   "cell_type": "code",
   "execution_count": 8,
   "id": "99180bf8",
   "metadata": {},
   "outputs": [],
   "source": [
    "twitter = \"/user1/twitter_training.csv\"\n",
    "\n",
    "twitter_df = spark.read.csv(twitter, header='true', inferSchema='true')\n",
    "twitter_df.createOrReplaceTempView(\"twitter\")"
   ]
  },
  {
   "cell_type": "code",
   "execution_count": 9,
   "id": "215f2f06",
   "metadata": {},
   "outputs": [
    {
     "name": "stdout",
     "output_type": "stream",
     "text": [
      "root\n",
      " |-- 2401: integer (nullable = true)\n",
      " |-- Borderlands: string (nullable = true)\n",
      " |-- Positive: string (nullable = true)\n",
      " |-- im getting on borderlands and i will murder you all ,: string (nullable = true)\n",
      "\n"
     ]
    }
   ],
   "source": [
    "twitter_df.printSchema()"
   ]
  },
  {
   "cell_type": "code",
   "execution_count": 10,
   "id": "d14c34eb",
   "metadata": {},
   "outputs": [],
   "source": [
    "from pyspark.sql.types import StructType, StructField, IntegerType, StringType"
   ]
  },
  {
   "cell_type": "code",
   "execution_count": 11,
   "id": "e50320d6",
   "metadata": {},
   "outputs": [],
   "source": [
    "newSchema = StructType([\\\n",
    "                       StructField(\"tweet_ID\", IntegerType(), True),\n",
    "                       StructField(\"entity\", StringType(), True),\n",
    "                       StructField(\"sentiment\", StringType(), True),\n",
    "                       StructField(\"tweet_content\", StringType(), True)\n",
    "                       ])"
   ]
  },
  {
   "cell_type": "code",
   "execution_count": 12,
   "id": "84b20995",
   "metadata": {},
   "outputs": [],
   "source": [
    "twitter_df = spark.read.format(\"csv\")\\\n",
    "    .schema (newSchema)\\\n",
    "    .option(\"inferSchema\", \"True\")\\\n",
    "    .option(\"path\", twitter)\\\n",
    "    .load()"
   ]
  },
  {
   "cell_type": "code",
   "execution_count": 13,
   "id": "722ddb5a",
   "metadata": {},
   "outputs": [
    {
     "name": "stdout",
     "output_type": "stream",
     "text": [
      "root\n",
      " |-- tweet_ID: integer (nullable = true)\n",
      " |-- entity: string (nullable = true)\n",
      " |-- sentiment: string (nullable = true)\n",
      " |-- tweet_content: string (nullable = true)\n",
      "\n"
     ]
    }
   ],
   "source": [
    "twitter_df.printSchema()"
   ]
  },
  {
   "cell_type": "markdown",
   "id": "cde441c0",
   "metadata": {},
   "source": [
    "### EDA and Preprocessing"
   ]
  },
  {
   "cell_type": "code",
   "execution_count": 14,
   "id": "d5e9f55f",
   "metadata": {
    "scrolled": true
   },
   "outputs": [
    {
     "name": "stdout",
     "output_type": "stream",
     "text": [
      "Count of rows: 74682\n"
     ]
    },
    {
     "name": "stderr",
     "output_type": "stream",
     "text": [
      "\r",
      "[Stage 7:>                                                          (0 + 2) / 2]\r"
     ]
    },
    {
     "name": "stdout",
     "output_type": "stream",
     "text": [
      "Count of distinct rows: 71938\n"
     ]
    },
    {
     "name": "stderr",
     "output_type": "stream",
     "text": [
      "\r",
      "                                                                                \r"
     ]
    }
   ],
   "source": [
    "print('Count of rows: {0}'.format(twitter_df.count()))\n",
    "print('Count of distinct rows: {0}'.format(twitter_df.distinct().count()))"
   ]
  },
  {
   "cell_type": "code",
   "execution_count": 15,
   "id": "848d2f1c",
   "metadata": {},
   "outputs": [
    {
     "name": "stdout",
     "output_type": "stream",
     "text": [
      "+--------+--------------------+----------+--------------------+\n",
      "|tweet_ID|              entity| sentiment|       tweet_content|\n",
      "+--------+--------------------+----------+--------------------+\n",
      "|    2504|         Borderlands|  Positive|    IM SO FUCKING IN|\n",
      "|    2600|         Borderlands|  Positive|I want to say tha...|\n",
      "|    2716|         Borderlands|   Neutral|This would be an ...|\n",
      "|    2729|         Borderlands|   Neutral|back on my dry bo...|\n",
      "|    2741|         Borderlands|  Positive|been mad inactive...|\n",
      "|    2763|         Borderlands|  Negative|Not to say that t...|\n",
      "|    1614|CallOfDutyBlackop...|  Positive|This sounds like ...|\n",
      "|    1638|CallOfDutyBlackop...|  Negative|Gonna fucking be ass|\n",
      "|    1700|CallOfDutyBlackop...|Irrelevant|You can’t say thi...|\n",
      "|    1715|CallOfDutyBlackop...|  Negative|I tried the new a...|\n",
      "|    1765|CallOfDutyBlackop...|  Positive|sooo hyped for wh...|\n",
      "|    1889|CallOfDutyBlackop...|Irrelevant|I give up... Too ...|\n",
      "|    1913|CallOfDutyBlackop...|  Positive|wow they really w...|\n",
      "|     194|              Amazon|  Negative|im calling amazon...|\n",
      "|     195|              Amazon|  Negative|YOU A BOUGHT SOME...|\n",
      "|     212|              Amazon|Irrelevant|@Airtel_Presence ...|\n",
      "|     242|              Amazon|   Neutral|The Pre-Med & the...|\n",
      "|     257|              Amazon|   Neutral|\"y'all complain a...|\n",
      "|     287|              Amazon|   Neutral|Card Against Huma...|\n",
      "|     314|              Amazon|  Negative|Please explain ho...|\n",
      "+--------+--------------------+----------+--------------------+\n",
      "only showing top 20 rows\n",
      "\n"
     ]
    }
   ],
   "source": [
    "twitter_df_preprocessing = twitter_df.dropDuplicates()\n",
    "twitter_df_preprocessing.show()"
   ]
  },
  {
   "cell_type": "code",
   "execution_count": 16,
   "id": "ec2391aa",
   "metadata": {
    "scrolled": true
   },
   "outputs": [
    {
     "name": "stdout",
     "output_type": "stream",
     "text": [
      "Count of rows: 71938\n",
      "Count of distinct rows: 71938\n"
     ]
    }
   ],
   "source": [
    "print('Count of rows: {0}'.format(twitter_df_preprocessing.count()))\n",
    "print('Count of distinct rows: {0}'.format(twitter_df_preprocessing.distinct().count()))"
   ]
  },
  {
   "cell_type": "code",
   "execution_count": 17,
   "id": "fd6db7cd",
   "metadata": {},
   "outputs": [],
   "source": [
    "from pyspark.sql.functions import col, sum as spark_sum"
   ]
  },
  {
   "cell_type": "code",
   "execution_count": 18,
   "id": "98d5c809",
   "metadata": {},
   "outputs": [
    {
     "name": "stdout",
     "output_type": "stream",
     "text": [
      "+--------+------+---------+-------------+\n",
      "|tweet_ID|entity|sentiment|tweet_content|\n",
      "+--------+------+---------+-------------+\n",
      "|       0|     0|        0|          326|\n",
      "+--------+------+---------+-------------+\n",
      "\n"
     ]
    }
   ],
   "source": [
    "# Counting missing values for each feature column\n",
    "missing_values = twitter_df_preprocessing.select(*(spark_sum(col(c).isNull().cast(\"int\")).alias(c) for c in twitter_df_preprocessing.columns))\n",
    "\n",
    "# Displaying the missing value count\n",
    "missing_values.show()"
   ]
  },
  {
   "cell_type": "code",
   "execution_count": 19,
   "id": "68715069",
   "metadata": {},
   "outputs": [],
   "source": [
    "# Dropping rows with missing values\n",
    "twitter_df_preprocessing = twitter_df_preprocessing.dropna()"
   ]
  },
  {
   "cell_type": "code",
   "execution_count": 20,
   "id": "6579fb56",
   "metadata": {},
   "outputs": [
    {
     "name": "stdout",
     "output_type": "stream",
     "text": [
      "+--------+------+---------+-------------+\n",
      "|tweet_ID|entity|sentiment|tweet_content|\n",
      "+--------+------+---------+-------------+\n",
      "|       0|     0|        0|            0|\n",
      "+--------+------+---------+-------------+\n",
      "\n"
     ]
    }
   ],
   "source": [
    "# Counting missing values for each feature column\n",
    "missing_values = twitter_df_preprocessing.select(*(spark_sum(col(c).isNull().cast(\"int\")).alias(c) for c in twitter_df_preprocessing.columns))\n",
    "\n",
    "# Displaying the missing value count\n",
    "missing_values.show()"
   ]
  },
  {
   "cell_type": "code",
   "execution_count": 21,
   "id": "1cc25430",
   "metadata": {},
   "outputs": [
    {
     "name": "stdout",
     "output_type": "stream",
     "text": [
      "root\n",
      " |-- tweet_ID: integer (nullable = true)\n",
      " |-- entity: string (nullable = true)\n",
      " |-- sentiment: string (nullable = true)\n",
      " |-- tweet_content: string (nullable = true)\n",
      "\n"
     ]
    }
   ],
   "source": [
    "# Viewing the schema of the new DataFrame\n",
    "twitter_df_preprocessing.printSchema()"
   ]
  },
  {
   "cell_type": "code",
   "execution_count": 22,
   "id": "00cc3a11",
   "metadata": {
    "scrolled": false
   },
   "outputs": [
    {
     "name": "stdout",
     "output_type": "stream",
     "text": [
      "+--------+--------------------+----------+--------------------+\n",
      "|tweet_ID|              entity| sentiment|       tweet_content|\n",
      "+--------+--------------------+----------+--------------------+\n",
      "|    2504|         Borderlands|  Positive|    IM SO FUCKING IN|\n",
      "|    2600|         Borderlands|  Positive|I want to say tha...|\n",
      "|    2716|         Borderlands|   Neutral|This would be an ...|\n",
      "|    2729|         Borderlands|   Neutral|back on my dry bo...|\n",
      "|    2741|         Borderlands|  Positive|been mad inactive...|\n",
      "|    2763|         Borderlands|  Negative|Not to say that t...|\n",
      "|    1614|CallOfDutyBlackop...|  Positive|This sounds like ...|\n",
      "|    1638|CallOfDutyBlackop...|  Negative|Gonna fucking be ass|\n",
      "|    1700|CallOfDutyBlackop...|Irrelevant|You can’t say thi...|\n",
      "|    1715|CallOfDutyBlackop...|  Negative|I tried the new a...|\n",
      "|    1765|CallOfDutyBlackop...|  Positive|sooo hyped for wh...|\n",
      "|    1889|CallOfDutyBlackop...|Irrelevant|I give up... Too ...|\n",
      "|    1913|CallOfDutyBlackop...|  Positive|wow they really w...|\n",
      "|     194|              Amazon|  Negative|im calling amazon...|\n",
      "|     195|              Amazon|  Negative|YOU A BOUGHT SOME...|\n",
      "|     212|              Amazon|Irrelevant|@Airtel_Presence ...|\n",
      "|     242|              Amazon|   Neutral|The Pre-Med & the...|\n",
      "|     257|              Amazon|   Neutral|\"y'all complain a...|\n",
      "|     287|              Amazon|   Neutral|Card Against Huma...|\n",
      "|     314|              Amazon|  Negative|Please explain ho...|\n",
      "+--------+--------------------+----------+--------------------+\n",
      "only showing top 20 rows\n",
      "\n"
     ]
    }
   ],
   "source": [
    "# Viewing first few rows of the filtered DataFrame\n",
    "twitter_df_preprocessing.show()"
   ]
  },
  {
   "cell_type": "code",
   "execution_count": 23,
   "id": "d5021991",
   "metadata": {},
   "outputs": [
    {
     "name": "stdout",
     "output_type": "stream",
     "text": [
      "The shape of the DataFrame:\n",
      "\n",
      "Number of Rows: 71612\n",
      "Number of Columns: 4\n"
     ]
    }
   ],
   "source": [
    "# Checking the new shape of the DataFrame\n",
    "num_rows = twitter_df_preprocessing.count()\n",
    "num_columns = len(twitter_df_preprocessing.columns)\n",
    "\n",
    "print(\"The shape of the DataFrame:\\n\")\n",
    "print(\"Number of Rows:\", num_rows)\n",
    "print(\"Number of Columns:\", num_columns)"
   ]
  },
  {
   "cell_type": "markdown",
   "id": "ee0d45cf",
   "metadata": {},
   "source": [
    "### EDA : Statistical Analsysis"
   ]
  },
  {
   "cell_type": "code",
   "execution_count": 24,
   "id": "53489598",
   "metadata": {},
   "outputs": [
    {
     "name": "stdout",
     "output_type": "stream",
     "text": [
      "\n",
      "Basic Statistics for Numerical Columns:\n"
     ]
    },
    {
     "name": "stderr",
     "output_type": "stream",
     "text": [
      "24/04/17 00:02:46 WARN package: Truncated the string representation of a plan since it was too large. This behavior can be adjusted by setting 'spark.sql.debug.maxToStringFields'.\n",
      "[Stage 51:=============================>                            (1 + 1) / 2]\r"
     ]
    },
    {
     "name": "stdout",
     "output_type": "stream",
     "text": [
      "+-------+------------------+---------------+----------+--------------------+\n",
      "|summary|          tweet_ID|         entity| sentiment|       tweet_content|\n",
      "+-------+------------------+---------------+----------+--------------------+\n",
      "|  count|             71612|          71612|     71612|               71612|\n",
      "|   mean| 6436.986440819975|           null|      null|  3.2857142857142856|\n",
      "| stddev|3741.9147567754244|           null|      null|   2.054210364052382|\n",
      "|    min|                 1|         Amazon|Irrelevant|                    |\n",
      "|    max|             13200|johnson&johnson|  Positive|🧻 at Home Depot ...|\n",
      "+-------+------------------+---------------+----------+--------------------+\n",
      "\n"
     ]
    },
    {
     "name": "stderr",
     "output_type": "stream",
     "text": [
      "\r",
      "                                                                                \r"
     ]
    }
   ],
   "source": [
    "# Viewing the basic statistics for numerical columns\n",
    "print(\"\\nBasic Statistics for Numerical Columns:\")\n",
    "twitter_df_preprocessing.describe().show()"
   ]
  },
  {
   "cell_type": "code",
   "execution_count": 25,
   "id": "ad9d9db0",
   "metadata": {},
   "outputs": [],
   "source": [
    "# Importing the necessary functions libraries\n",
    "#import pyspark.sql.functions as func"
   ]
  },
  {
   "cell_type": "code",
   "execution_count": 26,
   "id": "7eede4fd",
   "metadata": {},
   "outputs": [
    {
     "name": "stdout",
     "output_type": "stream",
     "text": [
      "+----------+-----+\n",
      "| sentiment|count|\n",
      "+----------+-----+\n",
      "|Irrelevant|12528|\n",
      "|  Positive|19702|\n",
      "|   Neutral|17691|\n",
      "|  Negative|21691|\n",
      "+----------+-----+\n",
      "\n"
     ]
    }
   ],
   "source": [
    "# Calculating the distribution of the sentiment categories\n",
    "sentiment_distribution = twitter_df_preprocessing.groupBy('sentiment').count()\n",
    "\n",
    "# Viweing the distribution\n",
    "sentiment_distribution.show()"
   ]
  },
  {
   "cell_type": "markdown",
   "id": "77567a7b",
   "metadata": {},
   "source": [
    "According to the datafset documentation, 'Irrelevant' messages can be considered as neutral. ((www.kaggle.com, n.d.))"
   ]
  },
  {
   "cell_type": "markdown",
   "id": "a2837b97",
   "metadata": {},
   "source": [
    "### EDA : Frequency Distribution of Sentiment"
   ]
  },
  {
   "cell_type": "code",
   "execution_count": 27,
   "id": "f3fe8fe6",
   "metadata": {},
   "outputs": [],
   "source": [
    "import matplotlib.pyplot as plt"
   ]
  },
  {
   "cell_type": "code",
   "execution_count": 28,
   "id": "31cb26a1",
   "metadata": {},
   "outputs": [],
   "source": [
    "# Converting the Spark DataFrame to a Pandas DataFrame for visuals\n",
    "sentiment_distribution_pd = sentiment_distribution.toPandas()"
   ]
  },
  {
   "cell_type": "code",
   "execution_count": 29,
   "id": "90676aac",
   "metadata": {},
   "outputs": [
    {
     "data": {
      "image/png": "[encoded data removed]",
      "text/plain": [
       "<Figure size 864x576 with 1 Axes>"
      ]
     },
     "metadata": {
      "needs_background": "light"
     },
     "output_type": "display_data"
    }
   ],
   "source": [
    "# Plotting a graph of distribution\n",
    "plt.figure(figsize=(12, 8))\n",
    "plt.bar(sentiment_distribution_pd['sentiment'], sentiment_distribution_pd['count'], color='DarkSlateBlue')\n",
    "plt.title('Distribution of Sentiment Categories', fontsize = 16)\n",
    "plt.xlabel('Sentiment', fontsize = 14)\n",
    "plt.ylabel('Count', fontsize = 14)\n",
    "plt.show()"
   ]
  },
  {
   "cell_type": "code",
   "execution_count": 30,
   "id": "982afe1a",
   "metadata": {},
   "outputs": [],
   "source": [
    "#pip install seaborn"
   ]
  },
  {
   "cell_type": "code",
   "execution_count": 31,
   "id": "252d998c",
   "metadata": {
    "scrolled": false
   },
   "outputs": [
    {
     "name": "stderr",
     "output_type": "stream",
     "text": [
      "/usr/lib/python3/dist-packages/scipy/__init__.py:146: UserWarning: A NumPy version >=1.17.3 and <1.25.0 is required for this version of SciPy (detected version 1.26.4\n",
      "  warnings.warn(f\"A NumPy version >={np_minversion} and <{np_maxversion}\"\n"
     ]
    }
   ],
   "source": [
    "import seaborn as sns"
   ]
  },
  {
   "cell_type": "code",
   "execution_count": 32,
   "id": "3eaa4766",
   "metadata": {},
   "outputs": [],
   "source": [
    "# Selecting a specific entity to analyse\n",
    "entity_of_interest = 'johnson&johnson'"
   ]
  },
  {
   "cell_type": "code",
   "execution_count": 33,
   "id": "06943bd6",
   "metadata": {},
   "outputs": [
    {
     "name": "stdout",
     "output_type": "stream",
     "text": [
      "+--------+---------------+----------+--------------------+\n",
      "|tweet_ID|         entity| sentiment|       tweet_content|\n",
      "+--------+---------------+----------+--------------------+\n",
      "|    6853|johnson&johnson|   Neutral|Adrian Thomas, vi...|\n",
      "|    6866|johnson&johnson|Irrelevant| Vaccines Production|\n",
      "|    6890|johnson&johnson|  Negative|They've had a leg...|\n",
      "|    6909|johnson&johnson|   Neutral|Behind the $55 mi...|\n",
      "|    6940|johnson&johnson|   Neutral|.  TYLENOL Cold H...|\n",
      "|    6944|johnson&johnson|   Neutral|The Missouri Cour...|\n",
      "|    6955|johnson&johnson|  Negative|Johnson & The Joh...|\n",
      "|    6965|johnson&johnson|  Negative|              or wtf|\n",
      "|    6971|johnson&johnson|  Positive|AstraZeneca and J...|\n",
      "|    6973|johnson&johnson|  Positive|       Thank of God.|\n",
      "|    6998|johnson&johnson|  Positive|cock & Johnson Re...|\n",
      "|    7005|johnson&johnson|   Neutral|Johnson & Johnson...|\n",
      "|    7040|johnson&johnson|   Neutral|Transvaginal mesh...|\n",
      "|    7043|johnson&johnson|  Negative|Johnson & Johnson...|\n",
      "|    7121|johnson&johnson|  Negative|Here Here same fo...|\n",
      "|    7128|johnson&johnson|   Neutral|. statnews.com / ...|\n",
      "|    7177|johnson&johnson|Irrelevant|Ya no kan'Excelle...|\n",
      "|    6849|johnson&johnson|  Positive|By early June 202...|\n",
      "|    6893|johnson&johnson|  Positive|If they are so su...|\n",
      "|    6903|johnson&johnson|  Negative|i’ve had the same...|\n",
      "+--------+---------------+----------+--------------------+\n",
      "only showing top 20 rows\n",
      "\n"
     ]
    }
   ],
   "source": [
    "# Filtering the DataFrame \n",
    "johnson_johnson_df = twitter_df_preprocessing.filter(twitter_df_preprocessing.entity == entity_of_interest)\n",
    "\n",
    "johnson_johnson_df.show()"
   ]
  },
  {
   "cell_type": "code",
   "execution_count": 34,
   "id": "8a7b700d",
   "metadata": {},
   "outputs": [
    {
     "name": "stdout",
     "output_type": "stream",
     "text": [
      "+----------+-----+\n",
      "| sentiment|count|\n",
      "+----------+-----+\n",
      "|Irrelevant|  192|\n",
      "|   Neutral| 1001|\n",
      "|  Positive|  252|\n",
      "|  Negative|  809|\n",
      "+----------+-----+\n",
      "\n"
     ]
    }
   ],
   "source": [
    "# Calculating the distribution of sentiment categories\n",
    "johnson_johnson_sentiment_distribution = johnson_johnson_df.groupBy('sentiment').count()\n",
    "johnson_johnson_sentiment_distribution.show()"
   ]
  },
  {
   "cell_type": "code",
   "execution_count": 35,
   "id": "bd1bde89",
   "metadata": {},
   "outputs": [],
   "source": [
    "# Ordering the DataFrame in descending order\n",
    "johnson_johnson_sentiment_distribution = johnson_johnson_sentiment_distribution.orderBy('count', ascending=False)"
   ]
  },
  {
   "cell_type": "code",
   "execution_count": 36,
   "id": "3fbb9e9e",
   "metadata": {},
   "outputs": [],
   "source": [
    "# Converting to Pandas DataFrame for visualization\n",
    "johnson_johnson_sentiment_distribution_pd = johnson_johnson_sentiment_distribution.toPandas()"
   ]
  },
  {
   "cell_type": "code",
   "execution_count": 37,
   "id": "82ea5789",
   "metadata": {},
   "outputs": [
    {
     "name": "stderr",
     "output_type": "stream",
     "text": [
      "/tmp/ipykernel_77150/78352180.py:3: FutureWarning: \n",
      "\n",
      "Passing `palette` without assigning `hue` is deprecated and will be removed in v0.14.0. Assign the `x` variable to `hue` and set `legend=False` for the same effect.\n",
      "\n",
      "  sns.barplot(x='sentiment', y='count', data=johnson_johnson_sentiment_distribution_pd, palette='viridis')\n"
     ]
    },
    {
     "data": {
      "image/png": "[encoded data removed]",
      "text/plain": [
       "<Figure size 864x576 with 1 Axes>"
      ]
     },
     "metadata": {
      "needs_background": "light"
     },
     "output_type": "display_data"
    }
   ],
   "source": [
    "# Creating a Seaborn Bar chart\n",
    "plt.figure(figsize=(12, 8))\n",
    "sns.barplot(x='sentiment', y='count', data=johnson_johnson_sentiment_distribution_pd, palette='viridis')\n",
    "plt.title('Distribution of Sentiment Categories for Johnsons and Johnsons', fontsize = 16)\n",
    "plt.xlabel('Sentiment', fontsize = 14)\n",
    "plt.ylabel('Count', fontsize = 14)\n",
    "plt.show()"
   ]
  },
  {
   "cell_type": "markdown",
   "id": "cfa0746e",
   "metadata": {},
   "source": [
    "One of the main applications and use cases of this asignment is sentiment analysis of big data, whether from a live stream or static source. In order to recreate this, we will remove the sentiment column provided with the dataset and conduct our own sentiment analysis of the data using spark."
   ]
  },
  {
   "cell_type": "code",
   "execution_count": 38,
   "id": "0fa0ccb7",
   "metadata": {},
   "outputs": [],
   "source": [
    "# Dropping the 'sentiment' column\n",
    "twitter_df_preprocessing = twitter_df_preprocessing.drop('sentiment')"
   ]
  },
  {
   "cell_type": "code",
   "execution_count": 39,
   "id": "b98d2157",
   "metadata": {},
   "outputs": [
    {
     "name": "stdout",
     "output_type": "stream",
     "text": [
      "root\n",
      " |-- tweet_ID: integer (nullable = true)\n",
      " |-- entity: string (nullable = true)\n",
      " |-- tweet_content: string (nullable = true)\n",
      "\n"
     ]
    }
   ],
   "source": [
    "twitter_df_preprocessing.printSchema()"
   ]
  },
  {
   "cell_type": "markdown",
   "id": "fcfc9a7c",
   "metadata": {},
   "source": [
    "#### Saving to HDFS"
   ]
  },
  {
   "cell_type": "code",
   "execution_count": 40,
   "id": "fc1237ec",
   "metadata": {},
   "outputs": [],
   "source": [
    "path = \"/user1/twitter2\""
   ]
  },
  {
   "cell_type": "code",
   "execution_count": 41,
   "id": "c1874f7e",
   "metadata": {},
   "outputs": [
    {
     "name": "stderr",
     "output_type": "stream",
     "text": [
      "                                                                                \r"
     ]
    }
   ],
   "source": [
    "twitter_df_preprocessing.write\\\n",
    ".format(\"csv\").mode(\"overwrite\")\\\n",
    ".option(\"path\", path)\\\n",
    ".save()"
   ]
  },
  {
   "cell_type": "markdown",
   "id": "8d967f70",
   "metadata": {},
   "source": [
    "## Reading in  a new Dataset of larger volume"
   ]
  },
  {
   "cell_type": "code",
   "execution_count": 42,
   "id": "50cad3bf",
   "metadata": {},
   "outputs": [
    {
     "name": "stderr",
     "output_type": "stream",
     "text": [
      "                                                                                \r"
     ]
    }
   ],
   "source": [
    "twitter_cs = \"/user1/twcs.csv\"\n",
    "\n",
    "twitter_cs_df = spark.read.csv(twitter_cs, header='true', inferSchema='true')\n",
    "twitter_cs_df.createOrReplaceTempView(\"twitter_cs\")"
   ]
  },
  {
   "cell_type": "code",
   "execution_count": 43,
   "id": "b2945773",
   "metadata": {},
   "outputs": [
    {
     "name": "stdout",
     "output_type": "stream",
     "text": [
      "root\n",
      " |-- tweet_id: string (nullable = true)\n",
      " |-- author_id: string (nullable = true)\n",
      " |-- inbound: string (nullable = true)\n",
      " |-- created_at: string (nullable = true)\n",
      " |-- text: string (nullable = true)\n",
      " |-- response_tweet_id: string (nullable = true)\n",
      " |-- in_response_to_tweet_id: string (nullable = true)\n",
      "\n"
     ]
    }
   ],
   "source": [
    "twitter_cs_df.printSchema()"
   ]
  },
  {
   "cell_type": "code",
   "execution_count": 44,
   "id": "427a9fec",
   "metadata": {},
   "outputs": [
    {
     "name": "stdout",
     "output_type": "stream",
     "text": [
      "+--------+------------+-------+--------------------+--------------------+-----------------+-----------------------+\n",
      "|tweet_id|   author_id|inbound|          created_at|                text|response_tweet_id|in_response_to_tweet_id|\n",
      "+--------+------------+-------+--------------------+--------------------+-----------------+-----------------------+\n",
      "|       1|  sprintcare|  False|Tue Oct 31 22:10:...|@115712 I underst...|                2|                      3|\n",
      "|       2|      115712|   True|Tue Oct 31 22:11:...|@sprintcare and h...|             null|                      1|\n",
      "|       3|      115712|   True|Tue Oct 31 22:08:...|@sprintcare I hav...|                1|                      4|\n",
      "|       4|  sprintcare|  False|Tue Oct 31 21:54:...|@115712 Please se...|                3|                      5|\n",
      "|       5|      115712|   True|Tue Oct 31 21:49:...|  @sprintcare I did.|                4|                      6|\n",
      "|       6|  sprintcare|  False|Tue Oct 31 21:46:...|@115712 Can you p...|              5,7|                      8|\n",
      "|       8|      115712|   True|Tue Oct 31 21:45:...|@sprintcare is th...|           9,6,10|                   null|\n",
      "|      11|  sprintcare|  False|Tue Oct 31 22:10:...|@115713 This is s...|             null|                     12|\n",
      "|      12|      115713|   True|Tue Oct 31 22:04:...|@sprintcare You g...|         11,13,14|                     15|\n",
      "|      15|  sprintcare|  False|Tue Oct 31 20:03:...|@115713 We unders...|               12|                     16|\n",
      "|      16|      115713|   True|Tue Oct 31 20:00:...|@sprintcare Since...|               15|                     17|\n",
      "|      17|  sprintcare|  False|Tue Oct 31 19:59:...|@115713 H there! ...|               16|                     18|\n",
      "|      18|      115713|   True|Tue Oct 31 19:56:...|@115714 y’all lie...|               17|                   null|\n",
      "|      19|  sprintcare|  False|Tue Oct 31 22:10:...|@115715 Please se...|             null|                     20|\n",
      "|      20|      115715|   True|Tue Oct 31 22:03:...|@115714 whenever ...|               19|                   null|\n",
      "|      21|Ask_Spectrum|  False|Tue Oct 31 22:14:...|@115716 What info...|            22,23|                     24|\n",
      "|      22|      115716|   True|Tue Oct 31 22:16:...|@Ask_Spectrum Wou...|               25|                     21|\n",
      "|      25|Ask_Spectrum|  False|Tue Oct 31 22:18:...|@115716 Our depar...|               26|                     22|\n",
      "|      26|      115716|   True|Tue Oct 31 22:19:...|@Ask_Spectrum I r...|               27|                     25|\n",
      "|      27|Ask_Spectrum|  False|Tue Oct 31 22:21:...|@115716 No thank ...|             null|                     26|\n",
      "+--------+------------+-------+--------------------+--------------------+-----------------+-----------------------+\n",
      "only showing top 20 rows\n",
      "\n"
     ]
    }
   ],
   "source": [
    "twitter_cs_df.show()"
   ]
  },
  {
   "cell_type": "markdown",
   "id": "de760fba",
   "metadata": {},
   "source": [
    "### EDA: Characterising, Cleaning and Data Prep"
   ]
  },
  {
   "cell_type": "markdown",
   "id": "fe0f0a43",
   "metadata": {},
   "source": [
    "#### Checking the number of rows and columns"
   ]
  },
  {
   "cell_type": "code",
   "execution_count": 45,
   "id": "d0b05538",
   "metadata": {},
   "outputs": [
    {
     "name": "stderr",
     "output_type": "stream",
     "text": [
      "[Stage 95:=============================>                            (2 + 2) / 4]\r"
     ]
    },
    {
     "name": "stdout",
     "output_type": "stream",
     "text": [
      "The shape of the DataFrame:\n",
      "\n",
      "Number of Rows: 2966469\n",
      "Number of Columns: 7\n"
     ]
    },
    {
     "name": "stderr",
     "output_type": "stream",
     "text": [
      "\r",
      "[Stage 95:===========================================>              (3 + 1) / 4]\r",
      "\r",
      "                                                                                \r"
     ]
    }
   ],
   "source": [
    "# Checking the shape of the DataFrame\n",
    "num_rows = twitter_cs_df.count()\n",
    "num_columns = len(twitter_cs_df.columns)\n",
    "\n",
    "print(\"The shape of the DataFrame:\\n\")\n",
    "print(\"Number of Rows:\", num_rows)\n",
    "print(\"Number of Columns:\", num_columns)"
   ]
  },
  {
   "cell_type": "markdown",
   "id": "b55ce512",
   "metadata": {},
   "source": [
    "#### Checking for missing values"
   ]
  },
  {
   "cell_type": "code",
   "execution_count": 46,
   "id": "3a3a7746",
   "metadata": {},
   "outputs": [],
   "source": [
    "# Importing the required functions\n",
    "from pyspark.sql.functions import col, sum as spark_sum"
   ]
  },
  {
   "cell_type": "code",
   "execution_count": 47,
   "id": "ab155c4c",
   "metadata": {},
   "outputs": [
    {
     "name": "stderr",
     "output_type": "stream",
     "text": [
      "[Stage 98:===========================================>              (3 + 1) / 4]\r"
     ]
    },
    {
     "name": "stdout",
     "output_type": "stream",
     "text": [
      "+--------+---------+-------+----------+------+-----------------+-----------------------+\n",
      "|tweet_id|author_id|inbound|created_at|  text|response_tweet_id|in_response_to_tweet_id|\n",
      "+--------+---------+-------+----------+------+-----------------+-----------------------+\n",
      "|      20|    68072|  86934|    146363|153179|          1271596|                1010542|\n",
      "+--------+---------+-------+----------+------+-----------------+-----------------------+\n",
      "\n"
     ]
    },
    {
     "name": "stderr",
     "output_type": "stream",
     "text": [
      "\r",
      "                                                                                \r"
     ]
    }
   ],
   "source": [
    "# Counting missing values for each feature column\n",
    "missing_values = twitter_cs_df.select(*(spark_sum(col(c).isNull().cast(\"int\")).alias(c) for c in twitter_cs_df.columns))\n",
    "\n",
    "# Displaying the missing value count\n",
    "missing_values.show()"
   ]
  },
  {
   "cell_type": "markdown",
   "id": "ce265c62",
   "metadata": {},
   "source": [
    "We see that every column contains missing values. This is expected for 'response_tweet_id' and 'in_response_to_tweet_id' as not every tweet is in response or receieves a response. The missing values would need to be handled according to the analysis being conducted and the nature of the missing values, whether missing at random (MAR), missing completely at random (MCAR) or missing not at random (MNAR). Mising values may be imputed based on statistical findings, removed, flagged or ignored. Domain knowledge would significantly aid in determining the best method. In developing a predictive model, missing values could significatly impact the models performance. As our intent is to demontrate the effectiveness of processing and analysing big data using Spark, which we intent to do using map-reduce, word count and sentiment analysis of the 'text', we will ignore them for now."
   ]
  },
  {
   "cell_type": "markdown",
   "id": "527f75b2",
   "metadata": {},
   "source": [
    "#### Checking for duplicate rows"
   ]
  },
  {
   "cell_type": "code",
   "execution_count": 48,
   "id": "3e65d1df",
   "metadata": {},
   "outputs": [
    {
     "name": "stderr",
     "output_type": "stream",
     "text": [
      "                                                                                \r"
     ]
    },
    {
     "name": "stdout",
     "output_type": "stream",
     "text": [
      "Count of rows: 2966469\n"
     ]
    },
    {
     "name": "stderr",
     "output_type": "stream",
     "text": [
      "                                                                                \r"
     ]
    },
    {
     "name": "stdout",
     "output_type": "stream",
     "text": [
      "Count of distinct rows: 2954825\n"
     ]
    },
    {
     "name": "stderr",
     "output_type": "stream",
     "text": [
      "[Stage 115:================================>                        (4 + 2) / 7]\r"
     ]
    },
    {
     "name": "stdout",
     "output_type": "stream",
     "text": [
      "There are 11644 duplicate rows.\n"
     ]
    },
    {
     "name": "stderr",
     "output_type": "stream",
     "text": [
      "\r",
      "[Stage 115:================================================>        (6 + 1) / 7]\r",
      "\r",
      "                                                                                \r"
     ]
    }
   ],
   "source": [
    "print('Count of rows: {0}'.format(twitter_cs_df.count()))\n",
    "print('Count of distinct rows: {0}'.format(twitter_cs_df.distinct().count()))\n",
    "dif = ((twitter_cs_df.count()) - (twitter_cs_df.distinct().count()))\n",
    "print(f'There are {dif} duplicate rows.')"
   ]
  },
  {
   "cell_type": "code",
   "execution_count": 49,
   "id": "034c02fb",
   "metadata": {},
   "outputs": [],
   "source": [
    "# # Remove duplicate rows\n",
    "# twitter_cs_df_no_duplicates = twitter_cs_df.dropDuplicates()\n",
    "\n",
    "# # Check the shape of the DataFrame after removing duplicates\n",
    "# num_rows_no_duplicates = twitter_cs_df_no_duplicates.count()\n",
    "# num_columns_no_duplicates = len(twitter_cs_df_no_duplicates.columns)\n",
    "\n",
    "# print(\"The shape of the DataFrame after removing duplicates:\\n\")\n",
    "# print(\"Number of Rows:\", num_rows_no_duplicates)\n",
    "# print(\"Number of Columns:\", num_columns_no_duplicates)"
   ]
  },
  {
   "cell_type": "code",
   "execution_count": 50,
   "id": "ec33676e",
   "metadata": {
    "scrolled": true
   },
   "outputs": [
    {
     "name": "stdout",
     "output_type": "stream",
     "text": [
      "Top 20 duplicates based on column 'tweet_id' in descending order of count:\n"
     ]
    },
    {
     "name": "stderr",
     "output_type": "stream",
     "text": [
      "                                                                                \r"
     ]
    },
    {
     "name": "stdout",
     "output_type": "stream",
     "text": [
      "+--------------------+-----+\n",
      "|            tweet_id|count|\n",
      "+--------------------+-----+\n",
      "|             Regards| 4484|\n",
      "|                Rgds| 1808|\n",
      "|               ^HSB\"| 1421|\n",
      "|               ^ACM\"|  980|\n",
      "|               ^ADP\"|  956|\n",
      "|               ^NHP\"|  918|\n",
      "|             -Andre\"|  913|\n",
      "|               ^TXA\"|  852|\n",
      "| https://t.co/EYp...|  846|\n",
      "|           Darshan.\"|  829|\n",
      "|               ^JAY\"|  807|\n",
      "|               ^TDC\"|  767|\n",
      "|               ^FEM\"|  745|\n",
      "|               ^BAB\"|  719|\n",
      "|              Thanks|  656|\n",
      "|             Amruta\"|  534|\n",
      "|               ^TNT\"|  518|\n",
      "|                ^RR\"|  508|\n",
      "|                ^MD\"|  496|\n",
      "|               ^CAR\"|  453|\n",
      "+--------------------+-----+\n",
      "only showing top 20 rows\n",
      "\n",
      "Top 20 duplicates based on column 'author_id' in descending order of count:\n"
     ]
    },
    {
     "name": "stderr",
     "output_type": "stream",
     "text": [
      "                                                                                \r"
     ]
    },
    {
     "name": "stdout",
     "output_type": "stream",
     "text": [
      "+---------------+------+\n",
      "|      author_id| count|\n",
      "+---------------+------+\n",
      "|     AmazonHelp|169840|\n",
      "|   AppleSupport|106860|\n",
      "|           null| 68072|\n",
      "|   Uber_Support| 56270|\n",
      "|   SpotifyCares| 43265|\n",
      "|          Delta| 42253|\n",
      "|          Tesco| 38573|\n",
      "|    AmericanAir| 36764|\n",
      "|    TMobileHelp| 34317|\n",
      "|   comcastcares| 33031|\n",
      "|British_Airways| 29361|\n",
      "|   SouthwestAir| 28977|\n",
      "|   VirginTrains| 27817|\n",
      "|   Ask_Spectrum| 25860|\n",
      "|    XboxSupport| 24557|\n",
      "|     sprintcare| 22381|\n",
      "|   hulu_support| 21872|\n",
      "|     sainsburys| 19466|\n",
      "|        GWRHelp| 19364|\n",
      "| AskPlayStation| 19098|\n",
      "+---------------+------+\n",
      "only showing top 20 rows\n",
      "\n",
      "Top 20 duplicates based on column 'inbound' in descending order of count:\n"
     ]
    },
    {
     "name": "stderr",
     "output_type": "stream",
     "text": [
      "                                                                                \r"
     ]
    },
    {
     "name": "stdout",
     "output_type": "stream",
     "text": [
      "+--------------------+-------+\n",
      "|             inbound|  count|\n",
      "+--------------------+-------+\n",
      "|                True|1537843|\n",
      "|               False|1273931|\n",
      "|                null|  86934|\n",
      "|                5965|     19|\n",
      "|              514494|     17|\n",
      "|                    |     13|\n",
      "|              961019|     10|\n",
      "| as we consider i...|      8|\n",
      "|             1296040|      8|\n",
      "|              625011|      8|\n",
      "|               50714|      7|\n",
      "|               32886|      7|\n",
      "|              727482|      7|\n",
      "|              776192|      7|\n",
      "|              691490|      6|\n",
      "|              778409|      6|\n",
      "|               37012|      6|\n",
      "|              323165|      6|\n",
      "| so kindly reply ...|      6|\n",
      "|               19137|      6|\n",
      "+--------------------+-------+\n",
      "only showing top 20 rows\n",
      "\n",
      "Top 20 duplicates based on column 'created_at' in descending order of count:\n"
     ]
    },
    {
     "name": "stderr",
     "output_type": "stream",
     "text": [
      "                                                                                \r"
     ]
    },
    {
     "name": "stdout",
     "output_type": "stream",
     "text": [
      "+--------------------+------+\n",
      "|          created_at| count|\n",
      "+--------------------+------+\n",
      "|                null|146363|\n",
      "|Wed Oct 18 10:15:...|    18|\n",
      "|Sat Dec 02 00:53:...|    15|\n",
      "|Fri Dec 01 19:18:...|    15|\n",
      "|Sun Nov 26 16:33:...|    14|\n",
      "|Fri Dec 01 19:23:...|    13|\n",
      "|Sun Nov 19 23:29:...|    13|\n",
      "|Fri Oct 27 13:00:...|    13|\n",
      "|Sun Oct 08 10:32:...|    12|\n",
      "|Sun Dec 03 17:43:...|    12|\n",
      "|Sat Nov 25 14:00:...|    12|\n",
      "|Sun Nov 26 16:33:...|    12|\n",
      "|Thu Nov 16 14:00:...|    12|\n",
      "|Thu Oct 12 13:09:...|    11|\n",
      "|Tue Oct 17 16:24:...|    11|\n",
      "|Thu Oct 05 04:22:...|    11|\n",
      "|Thu Oct 12 17:48:...|    11|\n",
      "|Fri Nov 03 18:48:...|    11|\n",
      "|Mon Nov 06 14:00:...|    11|\n",
      "|Mon Oct 16 18:18:...|    11|\n",
      "+--------------------+------+\n",
      "only showing top 20 rows\n",
      "\n",
      "Top 20 duplicates based on column 'text' in descending order of count:\n"
     ]
    },
    {
     "name": "stderr",
     "output_type": "stream",
     "text": [
      "                                                                                \r"
     ]
    },
    {
     "name": "stdout",
     "output_type": "stream",
     "text": [
      "+--------------------+------+\n",
      "|                text| count|\n",
      "+--------------------+------+\n",
      "|                null|153179|\n",
      "|       @ComcastCares|  3051|\n",
      "|     @AirAsiaSupport|   418|\n",
      "|            @115850 |   344|\n",
      "|@Uber_Support __e...|   315|\n",
      "|      @Uber_Support |   298|\n",
      "|@azuresupport #az...|   290|\n",
      "|        @AmazonHelp |   267|\n",
      "|      @AppleSupport |   256|\n",
      "|    @AirAsiaSupport |   222|\n",
      "|@HPSupport [TYPE ...|   202|\n",
      "|    @AskPlayStation |   188|\n",
      "| @VerizonSupport Yes|   179|\n",
      "|@AppleSupport 11.0.3|   177|\n",
      "|        @idea_cares |   176|\n",
      "|    @Safaricom_Care |   172|\n",
      "|     @AmazonHelp Yes|   165|\n",
      "|@ComcastCares: #m...|   150|\n",
      "|       @AppleSupport|   147|\n",
      "|  @Uber_Support Done|   142|\n",
      "+--------------------+------+\n",
      "only showing top 20 rows\n",
      "\n",
      "Top 20 duplicates based on column 'response_tweet_id' in descending order of count:\n"
     ]
    },
    {
     "name": "stderr",
     "output_type": "stream",
     "text": [
      "[Stage 134:==========================================>              (3 + 1) / 4]\r"
     ]
    },
    {
     "name": "stdout",
     "output_type": "stream",
     "text": [
      "+--------------------+-------+\n",
      "|   response_tweet_id|  count|\n",
      "+--------------------+-------+\n",
      "|                null|1271596|\n",
      "| then change it b...|     13|\n",
      "|             right?\"|     11|\n",
      "| and entering you...|     10|\n",
      "| please visit; ht...|      9|\n",
      "|            please?\"|      7|\n",
      "|                   F|      7|\n",
      "|               etc.\"|      6|\n",
      "|                ^AK\"|      6|\n",
      "|              though|      5|\n",
      "| please try again...|      5|\n",
      "|                 M-F|      5|\n",
      "|            thanks!\"|      5|\n",
      "|            thanks.\"|      5|\n",
      "|                   -|      5|\n",
      "|          start over|      5|\n",
      "|         thank you.\"|      4|\n",
      "|       Monday-Friday|      4|\n",
      "| and then select ...|      4|\n",
      "| Weekly and Month...|      4|\n",
      "+--------------------+-------+\n",
      "only showing top 20 rows\n",
      "\n",
      "Top 20 duplicates based on column 'in_response_to_tweet_id' in descending order of count:\n"
     ]
    },
    {
     "name": "stderr",
     "output_type": "stream",
     "text": [
      "[Stage 137:==========================================>              (3 + 1) / 4]\r"
     ]
    },
    {
     "name": "stdout",
     "output_type": "stream",
     "text": [
      "+-----------------------+-------+\n",
      "|in_response_to_tweet_id|  count|\n",
      "+-----------------------+-------+\n",
      "|                   null|1010542|\n",
      "|                 625011|    827|\n",
      "|                 776192|    552|\n",
      "|                  37012|    291|\n",
      "|                  87814|    171|\n",
      "|                   5965|    164|\n",
      "|                2390546|    163|\n",
      "|                  56184|    160|\n",
      "|                 677161|    137|\n",
      "|                 615427|    136|\n",
      "|                    409|    133|\n",
      "|                 692392|    129|\n",
      "|                2572370|    127|\n",
      "|                 414715|    121|\n",
      "|                 189825|    117|\n",
      "|                  15807|    116|\n",
      "|                   5159|    114|\n",
      "|                  19541|    107|\n",
      "|                  82436|    104|\n",
      "|                1343823|    102|\n",
      "+-----------------------+-------+\n",
      "only showing top 20 rows\n",
      "\n"
     ]
    },
    {
     "name": "stderr",
     "output_type": "stream",
     "text": [
      "\r",
      "                                                                                \r"
     ]
    }
   ],
   "source": [
    "# List of columns that we want to iterate through\n",
    "columns_to_check = twitter_cs_df.columns\n",
    "\n",
    "#  for loop to iterate through each column to identify duplicate rows\n",
    "for col_name in columns_to_check:\n",
    "    \n",
    "    # Grouping the current column and the count occurrences\n",
    "    duplicate_rows = twitter_cs_df.groupBy(col_name).count().where('count > 1')\n",
    "    \n",
    "    # Sorting in descending order and display the top 20\n",
    "    print(f\"Top 20 duplicates based on column '{col_name}' in descending order of count:\")\n",
    "    duplicate_rows.orderBy(col(\"count\").desc()).show(n=20)"
   ]
  },
  {
   "cell_type": "markdown",
   "id": "8803beda",
   "metadata": {},
   "source": [
    "Again we find that the dataset contains numerous duplicate entries per column. This is to be expected as the same identifiers for 'author_id', 'response_tweet_id' and 'in_response_to_tweet_id' are being used to track teweets. 'inbound' is expected to be a catergorical varaible of either True or False but appears to conatin other values, while 'tweet_id' is expected to be unique and of integer type but also contains mixed values. As with the missing values, this would need to be handled based on the intended use. Ignoring them should not affect our sentiment or word frequency analysis, but we will clean the dataset to aid in further EDA with graphics. "
   ]
  },
  {
   "cell_type": "markdown",
   "id": "336c87d4",
   "metadata": {},
   "source": [
    "### Preprocessing: Data Types and Null values"
   ]
  },
  {
   "cell_type": "markdown",
   "id": "bea1e635",
   "metadata": {},
   "source": [
    " Type casting the 'tweet_id', 'response_tweet_id', and 'in_response_to_tweet_id' to there correct integer datatypes."
   ]
  },
  {
   "cell_type": "code",
   "execution_count": 51,
   "id": "04cf99ba",
   "metadata": {},
   "outputs": [],
   "source": [
    "# Converting tweet_id column to integer and dropping rows/filtering with non-integer values\n",
    "twitter_cs_preprocessing_df = twitter_cs_df.withColumn(\"tweet_id\", col(\"tweet_id\").cast(\"int\")) \\\n",
    "    .filter(col(\"tweet_id\").isNotNull())"
   ]
  },
  {
   "cell_type": "code",
   "execution_count": 52,
   "id": "e57d0f05",
   "metadata": {},
   "outputs": [],
   "source": [
    "from pyspark.sql.functions import col, when"
   ]
  },
  {
   "cell_type": "code",
   "execution_count": 53,
   "id": "a93632b0",
   "metadata": {},
   "outputs": [],
   "source": [
    "# Type Casting 'response_tweet_id' column to integer and replace missing values with 'None'\n",
    "twitter_cs_preprocessing_df = twitter_cs_preprocessing_df.withColumn(\"response_tweet_id\", \\\n",
    "    when(col(\"response_tweet_id\").isNull(), None).otherwise(col(\"response_tweet_id\").cast(\"int\")))"
   ]
  },
  {
   "cell_type": "code",
   "execution_count": 54,
   "id": "41b4bc08",
   "metadata": {},
   "outputs": [],
   "source": [
    "# Type Casting 'in_response_to_tweet_id' column to integer and replace missing values with 'None'\n",
    "twitter_cs_preprocessing_df = twitter_cs_preprocessing_df.withColumn(\"in_response_to_tweet_id\", \\\n",
    "    when(col(\"in_response_to_tweet_id\").isNull(), None).otherwise(col(\"in_response_to_tweet_id\").cast(\"int\")))"
   ]
  },
  {
   "cell_type": "code",
   "execution_count": 55,
   "id": "9fce0713",
   "metadata": {},
   "outputs": [
    {
     "name": "stdout",
     "output_type": "stream",
     "text": [
      "root\n",
      " |-- tweet_id: integer (nullable = true)\n",
      " |-- author_id: string (nullable = true)\n",
      " |-- inbound: string (nullable = true)\n",
      " |-- created_at: string (nullable = true)\n",
      " |-- text: string (nullable = true)\n",
      " |-- response_tweet_id: integer (nullable = true)\n",
      " |-- in_response_to_tweet_id: integer (nullable = true)\n",
      "\n"
     ]
    }
   ],
   "source": [
    "# Viewing the changes\n",
    "twitter_cs_preprocessing_df.printSchema()"
   ]
  },
  {
   "cell_type": "code",
   "execution_count": 56,
   "id": "9fb52128",
   "metadata": {},
   "outputs": [
    {
     "name": "stderr",
     "output_type": "stream",
     "text": [
      "[Stage 140:============================>                            (2 + 2) / 4]\r"
     ]
    },
    {
     "name": "stdout",
     "output_type": "stream",
     "text": [
      "The shape of the DataFrame:\n",
      "\n",
      "Number of Rows: 2812304\n",
      "Number of Columns: 7\n"
     ]
    },
    {
     "name": "stderr",
     "output_type": "stream",
     "text": [
      "\r",
      "[Stage 140:==========================================>              (3 + 1) / 4]\r",
      "\r",
      "                                                                                \r"
     ]
    }
   ],
   "source": [
    "# Checking the new shape of the DataFrame\n",
    "num_rows = twitter_cs_preprocessing_df.count()\n",
    "num_columns = len(twitter_cs_preprocessing_df.columns)\n",
    "\n",
    "print(\"The shape of the DataFrame:\\n\")\n",
    "print(\"Number of Rows:\", num_rows)\n",
    "print(\"Number of Columns:\", num_columns)"
   ]
  },
  {
   "cell_type": "markdown",
   "id": "883ad59e",
   "metadata": {},
   "source": [
    " Cleaning the 'inbound' column which should only contain 'True' and 'False' values but imputing others with 'Unknown'"
   ]
  },
  {
   "cell_type": "code",
   "execution_count": 57,
   "id": "6c2a8e0f",
   "metadata": {},
   "outputs": [],
   "source": [
    "# Importing sparksql function\n",
    "from pyspark.sql.functions import when"
   ]
  },
  {
   "cell_type": "code",
   "execution_count": 58,
   "id": "717bf726",
   "metadata": {},
   "outputs": [],
   "source": [
    "# Replace values other than 'True' or 'False', including null, with 'Unknown'\n",
    "twitter_cs_preprocessing_df = twitter_cs_preprocessing_df.withColumn(\"inbound\", when((col(\"inbound\") == \"True\") | \n",
    "                                                         (col(\"inbound\") == \"False\"), \n",
    "                                                         col(\"inbound\")).otherwise(\"Unknown\"))"
   ]
  },
  {
   "cell_type": "code",
   "execution_count": 59,
   "id": "d08abbee",
   "metadata": {
    "scrolled": true
   },
   "outputs": [
    {
     "name": "stderr",
     "output_type": "stream",
     "text": [
      "[Stage 143:============================>                            (2 + 2) / 4]\r"
     ]
    },
    {
     "name": "stdout",
     "output_type": "stream",
     "text": [
      "Unique values and their counts in 'inbound' column:\n",
      "False: 1273931\n",
      "Unknown: 530\n",
      "True: 1537843\n"
     ]
    },
    {
     "name": "stderr",
     "output_type": "stream",
     "text": [
      "\r",
      "[Stage 143:==========================================>              (3 + 1) / 4]\r",
      "\r",
      "                                                                                \r"
     ]
    }
   ],
   "source": [
    "unique_inbound_values = twitter_cs_preprocessing_df.groupBy(\"inbound\").count().collect()\n",
    "print(\"Unique values and their counts in 'inbound' column:\")\n",
    "for row in unique_inbound_values:\n",
    "    print(f\"{row['inbound']}: {row['count']}\")"
   ]
  },
  {
   "cell_type": "markdown",
   "id": "f0e1b8e2",
   "metadata": {},
   "source": [
    "Type casting the 'created_at' column to its correct data type datetime using timestamp"
   ]
  },
  {
   "cell_type": "code",
   "execution_count": 60,
   "id": "199238fb",
   "metadata": {},
   "outputs": [],
   "source": [
    "from pyspark.sql.functions import to_timestamp"
   ]
  },
  {
   "cell_type": "code",
   "execution_count": 61,
   "id": "25fe34f7",
   "metadata": {},
   "outputs": [],
   "source": [
    "spark.conf.set(\"spark.sql.legacy.timeParserPolicy\", \"LEGACY\")"
   ]
  },
  {
   "cell_type": "code",
   "execution_count": 62,
   "id": "943ecba4",
   "metadata": {},
   "outputs": [],
   "source": [
    "# Casting 'created_at' column to datetime\n",
    "twitter_cs_preprocessing_df = twitter_cs_preprocessing_df.withColumn(\"created_at\", \\\n",
    "    to_timestamp(\"created_at\", \"EEE MMM dd HH:mm:ss Z yyyy\"))"
   ]
  },
  {
   "cell_type": "code",
   "execution_count": 63,
   "id": "cceb9623",
   "metadata": {
    "scrolled": false
   },
   "outputs": [
    {
     "name": "stdout",
     "output_type": "stream",
     "text": [
      "+--------+------------+-------+-------------------+--------------------+-----------------+-----------------------+\n",
      "|tweet_id|   author_id|inbound|         created_at|                text|response_tweet_id|in_response_to_tweet_id|\n",
      "+--------+------------+-------+-------------------+--------------------+-----------------+-----------------------+\n",
      "|       1|  sprintcare|  False|2017-10-31 22:10:47|@115712 I underst...|                2|                      3|\n",
      "|       2|      115712|   True|2017-10-31 22:11:45|@sprintcare and h...|             null|                      1|\n",
      "|       3|      115712|   True|2017-10-31 22:08:27|@sprintcare I hav...|                1|                      4|\n",
      "|       4|  sprintcare|  False|2017-10-31 21:54:49|@115712 Please se...|                3|                      5|\n",
      "|       5|      115712|   True|2017-10-31 21:49:35|  @sprintcare I did.|                4|                      6|\n",
      "|       6|  sprintcare|  False|2017-10-31 21:46:24|@115712 Can you p...|             null|                      8|\n",
      "|       8|      115712|   True|2017-10-31 21:45:10|@sprintcare is th...|             null|                   null|\n",
      "|      11|  sprintcare|  False|2017-10-31 22:10:35|@115713 This is s...|             null|                     12|\n",
      "|      12|      115713|   True|2017-10-31 22:04:47|@sprintcare You g...|             null|                     15|\n",
      "|      15|  sprintcare|  False|2017-10-31 20:03:31|@115713 We unders...|               12|                     16|\n",
      "|      16|      115713|   True|2017-10-31 20:00:43|@sprintcare Since...|               15|                     17|\n",
      "|      17|  sprintcare|  False|2017-10-31 19:59:13|@115713 H there! ...|               16|                     18|\n",
      "|      18|      115713|   True|2017-10-31 19:56:01|@115714 y’all lie...|               17|                   null|\n",
      "|      19|  sprintcare|  False|2017-10-31 22:10:10|@115715 Please se...|             null|                     20|\n",
      "|      20|      115715|   True|2017-10-31 22:03:34|@115714 whenever ...|               19|                   null|\n",
      "|      21|Ask_Spectrum|  False|2017-10-31 22:14:37|@115716 What info...|             null|                     24|\n",
      "|      22|      115716|   True|2017-10-31 22:16:48|@Ask_Spectrum Wou...|               25|                     21|\n",
      "|      25|Ask_Spectrum|  False|2017-10-31 22:18:28|@115716 Our depar...|               26|                     22|\n",
      "|      26|      115716|   True|2017-10-31 22:19:56|@Ask_Spectrum I r...|               27|                     25|\n",
      "|      27|Ask_Spectrum|  False|2017-10-31 22:21:26|@115716 No thank ...|             null|                     26|\n",
      "+--------+------------+-------+-------------------+--------------------+-----------------+-----------------------+\n",
      "only showing top 20 rows\n",
      "\n"
     ]
    }
   ],
   "source": [
    "twitter_cs_preprocessing_df.show()"
   ]
  },
  {
   "cell_type": "code",
   "execution_count": 64,
   "id": "08b76744",
   "metadata": {},
   "outputs": [
    {
     "name": "stdout",
     "output_type": "stream",
     "text": [
      "root\n",
      " |-- tweet_id: integer (nullable = true)\n",
      " |-- author_id: string (nullable = true)\n",
      " |-- inbound: string (nullable = true)\n",
      " |-- created_at: timestamp (nullable = true)\n",
      " |-- text: string (nullable = true)\n",
      " |-- response_tweet_id: integer (nullable = true)\n",
      " |-- in_response_to_tweet_id: integer (nullable = true)\n",
      "\n"
     ]
    }
   ],
   "source": [
    "# Viewing the changes\n",
    "twitter_cs_preprocessing_df.printSchema()"
   ]
  },
  {
   "cell_type": "markdown",
   "id": "3c93cc3d",
   "metadata": {},
   "source": [
    "### EDA: Statistical Description"
   ]
  },
  {
   "cell_type": "code",
   "execution_count": 65,
   "id": "2f7c2d06",
   "metadata": {
    "scrolled": false
   },
   "outputs": [
    {
     "name": "stdout",
     "output_type": "stream",
     "text": [
      "\n",
      "Basic Statistics for Numerical Columns:\n"
     ]
    },
    {
     "name": "stderr",
     "output_type": "stream",
     "text": [
      "[Stage 147:==========================================>              (3 + 1) / 4]\r"
     ]
    },
    {
     "name": "stdout",
     "output_type": "stream",
     "text": [
      "+-------+------------------+------------------+-------+-------------------+------------------+-----------------------+\n",
      "|summary|          tweet_id|         author_id|inbound|               text| response_tweet_id|in_response_to_tweet_id|\n",
      "+-------+------------------+------------------+-------+-------------------+------------------+-----------------------+\n",
      "|  count|           2812304|           2811828|2812304|            2811783|           1477184|                1953086|\n",
      "|   mean|1508979.4198792165|423300.33347682294|   null|  1.3826924659675E9|1514870.6502284075|     1463420.6321385745|\n",
      "| stddev|2176779.8277876023|207169.43218544274|   null|3.174050310345598E9| 865950.1322858942|      864586.6791693122|\n",
      "|    min|             -2017|              1331|  False|              69.61|                 1|                      0|\n",
      "|    max|        1403649393|        sprintcare|Unknown|        🧕🏽 @delta|           2987947|                2987950|\n",
      "+-------+------------------+------------------+-------+-------------------+------------------+-----------------------+\n",
      "\n"
     ]
    },
    {
     "name": "stderr",
     "output_type": "stream",
     "text": [
      "\r",
      "                                                                                \r"
     ]
    }
   ],
   "source": [
    "# Viewing the basic statistics for numerical columns\n",
    "print(\"\\nBasic Statistics for Numerical Columns:\")\n",
    "twitter_cs_preprocessing_df.describe().show()"
   ]
  },
  {
   "cell_type": "code",
   "execution_count": 66,
   "id": "1d38cb42",
   "metadata": {},
   "outputs": [
    {
     "name": "stderr",
     "output_type": "stream",
     "text": [
      "[Stage 150:==========================================>              (3 + 1) / 4]\r"
     ]
    },
    {
     "name": "stdout",
     "output_type": "stream",
     "text": [
      "\n",
      "Basic Statistics for Numerical Columns:\n"
     ]
    },
    {
     "name": "stderr",
     "output_type": "stream",
     "text": [
      "\r",
      "                                                                                \r"
     ]
    },
    {
     "data": {
      "text/html": [
       "<div>\n",
       "<style scoped>\n",
       "    .dataframe tbody tr th:only-of-type {\n",
       "        vertical-align: middle;\n",
       "    }\n",
       "\n",
       "    .dataframe tbody tr th {\n",
       "        vertical-align: top;\n",
       "    }\n",
       "\n",
       "    .dataframe thead th {\n",
       "        text-align: right;\n",
       "    }\n",
       "</style>\n",
       "<table border=\"1\" class=\"dataframe\">\n",
       "  <thead>\n",
       "    <tr style=\"text-align: right;\">\n",
       "      <th></th>\n",
       "      <th>summary</th>\n",
       "      <th>tweet_id</th>\n",
       "      <th>author_id</th>\n",
       "      <th>inbound</th>\n",
       "      <th>text</th>\n",
       "      <th>response_tweet_id</th>\n",
       "      <th>in_response_to_tweet_id</th>\n",
       "    </tr>\n",
       "  </thead>\n",
       "  <tbody>\n",
       "    <tr>\n",
       "      <th>0</th>\n",
       "      <td>count</td>\n",
       "      <td>2812304</td>\n",
       "      <td>2811828</td>\n",
       "      <td>2812304</td>\n",
       "      <td>2811783</td>\n",
       "      <td>1477184</td>\n",
       "      <td>1953086</td>\n",
       "    </tr>\n",
       "    <tr>\n",
       "      <th>1</th>\n",
       "      <td>mean</td>\n",
       "      <td>1508979.4198792165</td>\n",
       "      <td>423300.33347682294</td>\n",
       "      <td>None</td>\n",
       "      <td>1.3826924659675E9</td>\n",
       "      <td>1514870.6502284075</td>\n",
       "      <td>1463420.6321385745</td>\n",
       "    </tr>\n",
       "    <tr>\n",
       "      <th>2</th>\n",
       "      <td>stddev</td>\n",
       "      <td>2176779.8277876023</td>\n",
       "      <td>207169.43218544274</td>\n",
       "      <td>None</td>\n",
       "      <td>3.174050310345598E9</td>\n",
       "      <td>865950.1322858942</td>\n",
       "      <td>864586.6791693122</td>\n",
       "    </tr>\n",
       "    <tr>\n",
       "      <th>3</th>\n",
       "      <td>min</td>\n",
       "      <td>-2017</td>\n",
       "      <td>1331</td>\n",
       "      <td>False</td>\n",
       "      <td>69.61</td>\n",
       "      <td>1</td>\n",
       "      <td>0</td>\n",
       "    </tr>\n",
       "    <tr>\n",
       "      <th>4</th>\n",
       "      <td>max</td>\n",
       "      <td>1403649393</td>\n",
       "      <td>sprintcare</td>\n",
       "      <td>Unknown</td>\n",
       "      <td>🧕🏽 @delta</td>\n",
       "      <td>2987947</td>\n",
       "      <td>2987950</td>\n",
       "    </tr>\n",
       "  </tbody>\n",
       "</table>\n",
       "</div>"
      ],
      "text/plain": [
       "  summary            tweet_id           author_id  inbound  \\\n",
       "0   count             2812304             2811828  2812304   \n",
       "1    mean  1508979.4198792165  423300.33347682294     None   \n",
       "2  stddev  2176779.8277876023  207169.43218544274     None   \n",
       "3     min               -2017                1331    False   \n",
       "4     max          1403649393          sprintcare  Unknown   \n",
       "\n",
       "                  text   response_tweet_id in_response_to_tweet_id  \n",
       "0              2811783             1477184                 1953086  \n",
       "1    1.3826924659675E9  1514870.6502284075      1463420.6321385745  \n",
       "2  3.174050310345598E9   865950.1322858942       864586.6791693122  \n",
       "3                69.61                   1                       0  \n",
       "4            🧕🏽 @delta             2987947                 2987950  "
      ]
     },
     "execution_count": 66,
     "metadata": {},
     "output_type": "execute_result"
    }
   ],
   "source": [
    "# Convert Spark DataFrame to Pandas DataFrame\n",
    "statistics_pd = twitter_cs_preprocessing_df.describe().toPandas()\n",
    "\n",
    "# Display the Pandas DataFrame\n",
    "print(\"\\nBasic Statistics for Numerical Columns:\")\n",
    "statistics_pd"
   ]
  },
  {
   "cell_type": "markdown",
   "id": "e3e6e95a",
   "metadata": {},
   "source": [
    "### EDA: with Graphics"
   ]
  },
  {
   "cell_type": "code",
   "execution_count": 67,
   "id": "386ddb0e",
   "metadata": {},
   "outputs": [
    {
     "name": "stderr",
     "output_type": "stream",
     "text": [
      "[Stage 153:==========================================>              (3 + 1) / 4]\r"
     ]
    },
    {
     "name": "stdout",
     "output_type": "stream",
     "text": [
      "+---------------+------+\n",
      "|      author_id| count|\n",
      "+---------------+------+\n",
      "|     AmazonHelp|169840|\n",
      "|   AppleSupport|106860|\n",
      "|   Uber_Support| 56270|\n",
      "|   SpotifyCares| 43265|\n",
      "|          Delta| 42253|\n",
      "|          Tesco| 38573|\n",
      "|    AmericanAir| 36764|\n",
      "|    TMobileHelp| 34317|\n",
      "|   comcastcares| 33031|\n",
      "|British_Airways| 29361|\n",
      "|   SouthwestAir| 28977|\n",
      "|   VirginTrains| 27817|\n",
      "|   Ask_Spectrum| 25860|\n",
      "|    XboxSupport| 24557|\n",
      "|     sprintcare| 22381|\n",
      "|   hulu_support| 21872|\n",
      "|     sainsburys| 19466|\n",
      "|        GWRHelp| 19364|\n",
      "| AskPlayStation| 19098|\n",
      "| ChipotleTweets| 18749|\n",
      "+---------------+------+\n",
      "only showing top 20 rows\n",
      "\n"
     ]
    },
    {
     "name": "stderr",
     "output_type": "stream",
     "text": [
      "\r",
      "                                                                                \r"
     ]
    }
   ],
   "source": [
    "# Grouping by author_id and counting the occurrences\n",
    "author_counts = twitter_cs_preprocessing_df.groupBy(\"author_id\").count().orderBy(\"count\", ascending=False)\n",
    "author_counts.show()"
   ]
  },
  {
   "cell_type": "code",
   "execution_count": 68,
   "id": "4847e462",
   "metadata": {},
   "outputs": [],
   "source": [
    "# Importing libraries for visuals\n",
    "import matplotlib.pyplot as plt\n",
    "import seaborn as sns"
   ]
  },
  {
   "cell_type": "code",
   "execution_count": 69,
   "id": "dd679974",
   "metadata": {},
   "outputs": [
    {
     "name": "stderr",
     "output_type": "stream",
     "text": [
      "                                                                                \r"
     ]
    }
   ],
   "source": [
    "# Converting to Pandas DataFrame and limiting to the top 15 authors\n",
    "top_authors_pd = author_counts.limit(20).toPandas()"
   ]
  },
  {
   "cell_type": "code",
   "execution_count": 70,
   "id": "ed4c6391",
   "metadata": {},
   "outputs": [],
   "source": [
    "# Filtering out null values before plotting\n",
    "top_authors_pd_filtered = top_authors_pd[top_authors_pd['author_id'].notna()]"
   ]
  },
  {
   "cell_type": "code",
   "execution_count": 71,
   "id": "4e42c07a",
   "metadata": {},
   "outputs": [
    {
     "name": "stderr",
     "output_type": "stream",
     "text": [
      "/tmp/ipykernel_77150/2704774328.py:3: FutureWarning: \n",
      "\n",
      "Passing `palette` without assigning `hue` is deprecated and will be removed in v0.14.0. Assign the `x` variable to `hue` and set `legend=False` for the same effect.\n",
      "\n",
      "  sns.barplot(x = top_authors_pd_filtered[\"author_id\"], y = top_authors_pd_filtered[\"count\"], palette='viridis')\n"
     ]
    },
    {
     "data": {
      "image/png": "[encoded data removed]",
      "text/plain": [
       "<Figure size 1080x720 with 1 Axes>"
      ]
     },
     "metadata": {
      "needs_background": "light"
     },
     "output_type": "display_data"
    }
   ],
   "source": [
    "# Plotting the distribution of top 120 tweet authors\n",
    "plt.figure(figsize=(15, 10))\n",
    "sns.barplot(x = top_authors_pd_filtered[\"author_id\"], y = top_authors_pd_filtered[\"count\"], palette='viridis')\n",
    "plt.xlabel('Author ID', fontsize = 15)\n",
    "plt.ylabel('Number of Tweets', fontsize = 15)\n",
    "plt.title('Distribution of Top 15 Tweet Authors', fontsize = 18)\n",
    "plt.xticks(rotation=45, ha='right') \n",
    "plt.tight_layout()\n",
    "plt.show()"
   ]
  },
  {
   "cell_type": "markdown",
   "id": "f6b55b38",
   "metadata": {},
   "source": [
    "From the information within this dataset we find that AmazonHelp and AppleSupport customer support are the most frequently tweeting customer support teams with almost twice as meany as the remaining top 20 combined."
   ]
  },
  {
   "cell_type": "code",
   "execution_count": 72,
   "id": "f1e4968a",
   "metadata": {
    "scrolled": false
   },
   "outputs": [
    {
     "name": "stderr",
     "output_type": "stream",
     "text": [
      "                                                                                \r"
     ]
    }
   ],
   "source": [
    "# Grouping the data by 'inbound' column and counting the occurrences\n",
    "inbound_outbound_counts = twitter_cs_preprocessing_df.groupBy(\"inbound\").count().toPandas()"
   ]
  },
  {
   "cell_type": "code",
   "execution_count": 73,
   "id": "abf59c62",
   "metadata": {},
   "outputs": [],
   "source": [
    "# Sorting the DataFrame by count in descending order\n",
    "inbound_outbound_counts = inbound_outbound_counts.sort_values(by=\"count\", ascending=False)"
   ]
  },
  {
   "cell_type": "code",
   "execution_count": 74,
   "id": "2f0db627",
   "metadata": {},
   "outputs": [],
   "source": [
    "# Converting counts to millions for readability\n",
    "inbound_outbound_counts[\"count_millions\"] = inbound_outbound_counts[\"count\"] / 1000000"
   ]
  },
  {
   "cell_type": "code",
   "execution_count": 75,
   "id": "abd42279",
   "metadata": {},
   "outputs": [
    {
     "name": "stderr",
     "output_type": "stream",
     "text": [
      "/tmp/ipykernel_77150/40282955.py:3: FutureWarning: \n",
      "\n",
      "Passing `palette` without assigning `hue` is deprecated and will be removed in v0.14.0. Assign the `x` variable to `hue` and set `legend=False` for the same effect.\n",
      "\n",
      "  ax = sns.barplot(data = inbound_outbound_counts, x = \"inbound\", y = \"count_millions\", palette='Dark2')\n"
     ]
    },
    {
     "data": {
      "image/png": "[encoded data removed]",
      "text/plain": [
       "<Figure size 1080x720 with 1 Axes>"
      ]
     },
     "metadata": {
      "needs_background": "light"
     },
     "output_type": "display_data"
    }
   ],
   "source": [
    "# Plotting the distribution of 'inbound'\n",
    "plt.figure(figsize=(15, 10))\n",
    "ax = sns.barplot(data = inbound_outbound_counts, x = \"inbound\", y = \"count_millions\", palette='Dark2')\n",
    "plt.xlabel('Inbound', fontsize = 15)\n",
    "plt.ylabel('Number of Tweets (Millions)', fontsize = 15)\n",
    "plt.title('Distribution of Inbound to Customer Support vs. Outbound Tweets', fontsize = 18)\n",
    "for index, value in enumerate(inbound_outbound_counts[\"count_millions\"]):\n",
    "    plt.text(index, value, str(value), ha ='center', va = 'bottom',  fontsize=10)\n",
    "\n",
    "plt.show()"
   ]
  },
  {
   "cell_type": "markdown",
   "id": "db5d157e",
   "metadata": {},
   "source": [
    "Based on the visual above we find that customer support teams do not respond to every tweet directed there way."
   ]
  },
  {
   "cell_type": "code",
   "execution_count": 76,
   "id": "5388207a",
   "metadata": {},
   "outputs": [],
   "source": [
    "from pyspark.sql.functions import length"
   ]
  },
  {
   "cell_type": "code",
   "execution_count": 77,
   "id": "6f9e4118",
   "metadata": {
    "scrolled": true
   },
   "outputs": [],
   "source": [
    "# Calculating lengths of each tweet\n",
    "twitter_cs_preprocessing_df2 = twitter_cs_preprocessing_df.withColumn(\"tweet_length\", length(\"text\"))"
   ]
  },
  {
   "cell_type": "code",
   "execution_count": 78,
   "id": "6e63d42f",
   "metadata": {},
   "outputs": [
    {
     "name": "stdout",
     "output_type": "stream",
     "text": [
      "+--------+------------+-------+--------------+--------------+-----------------+-----------------------+------------+\n",
      "|tweet_id|   author_id|inbound|    created_at|          text|response_tweet_id|in_response_to_tweet_id|tweet_length|\n",
      "+--------+------------+-------+--------------+--------------+-----------------+-----------------------+------------+\n",
      "|       1|  sprintcare|  False|2017-10-31 ...|@115712 I u...|                2|                      3|         121|\n",
      "|       2|      115712|   True|2017-10-31 ...|@sprintcare...|             null|                      1|          45|\n",
      "|       3|      115712|   True|2017-10-31 ...|@sprintcare...|                1|                      4|          82|\n",
      "|       4|  sprintcare|  False|2017-10-31 ...|@115712 Ple...|                3|                      5|         124|\n",
      "|       5|      115712|   True|2017-10-31 ...|@sprintcare...|                4|                      6|          18|\n",
      "|       6|  sprintcare|  False|2017-10-31 ...|@115712 Can...|             null|                      8|         104|\n",
      "|       8|      115712|   True|2017-10-31 ...|@sprintcare...|             null|                   null|          41|\n",
      "|      11|  sprintcare|  False|2017-10-31 ...|@115713 Thi...|             null|                     12|          99|\n",
      "|      12|      115713|   True|2017-10-31 ...|@sprintcare...|             null|                     15|          89|\n",
      "|      15|  sprintcare|  False|2017-10-31 ...|@115713 We ...|               12|                     16|         132|\n",
      "|      16|      115713|   True|2017-10-31 ...|@sprintcare...|               15|                     17|          53|\n",
      "|      17|  sprintcare|  False|2017-10-31 ...|@115713 H t...|               16|                     18|         115|\n",
      "|      18|      115713|   True|2017-10-31 ...|@115714 y’a...|               17|                   null|          93|\n",
      "|      19|  sprintcare|  False|2017-10-31 ...|@115715 Ple...|             null|                     20|         100|\n",
      "|      20|      115715|   True|2017-10-31 ...|@115714 whe...|               19|                   null|         164|\n",
      "|      21|Ask_Spectrum|  False|2017-10-31 ...|@115716 Wha...|             null|                     24|          42|\n",
      "|      22|      115716|   True|2017-10-31 ...|@Ask_Spectr...|               25|                     21|         104|\n",
      "|      25|Ask_Spectrum|  False|2017-10-31 ...|@115716 Our...|               26|                     22|         148|\n",
      "|      26|      115716|   True|2017-10-31 ...|@Ask_Spectr...|               27|                     25|          79|\n",
      "|      27|Ask_Spectrum|  False|2017-10-31 ...|@115716 No ...|             null|                     26|          25|\n",
      "+--------+------------+-------+--------------+--------------+-----------------+-----------------------+------------+\n",
      "only showing top 20 rows\n",
      "\n"
     ]
    }
   ],
   "source": [
    "twitter_cs_preprocessing_df2.show(truncate = 14)"
   ]
  },
  {
   "cell_type": "code",
   "execution_count": 79,
   "id": "5b646a85",
   "metadata": {},
   "outputs": [
    {
     "name": "stdout",
     "output_type": "stream",
     "text": [
      "+--------------------------------------------------------------------------------------------------------------------------------------------------------------------+------------+\n",
      "|text                                                                                                                                                                |tweet_length|\n",
      "+--------------------------------------------------------------------------------------------------------------------------------------------------------------------+------------+\n",
      "|@115712 I understand. I would like to assist you. We would need to get you into a private secured link to further assist.                                           |121         |\n",
      "|@sprintcare and how do you propose we do that                                                                                                                       |45          |\n",
      "|@sprintcare I have sent several private messages and no one is responding as usual                                                                                  |82          |\n",
      "|@115712 Please send us a Private Message so that we can further assist you. Just click ‘Message’ at the top of your profile.                                        |124         |\n",
      "|@sprintcare I did.                                                                                                                                                  |18          |\n",
      "|@115712 Can you please send us a private message, so that I can gain further details about your account?                                                            |104         |\n",
      "|@sprintcare is the worst customer service                                                                                                                           |41          |\n",
      "|@115713 This is saddening to hear. Please shoot us a DM, so that we can look into this for you. -KC                                                                 |99          |\n",
      "|@sprintcare You gonna magically change your connectivity for me and my whole family ? 🤥 💯                                                                         |89          |\n",
      "|@115713 We understand your concerns and we'd like for you to please send us a Direct Message, so that we can further assist you. -AA                                |132         |\n",
      "|@sprintcare Since I signed up with you....Since day 1                                                                                                               |53          |\n",
      "|@115713 H there! We'd definitely like to work with you on this, how long have you been experiencing this issue? -AA                                                 |115         |\n",
      "|@115714 y’all lie about your “great” connection. 5 bars LTE, still won’t load something. Smh.                                                                       |93          |\n",
      "|@115715 Please send me a private message so that I can send you the link to access your account. -FR                                                                |100         |\n",
      "|@115714 whenever I contact customer support, they tell me I have shortcode enabled on my account, but I have never in the 4 years I've tried https://t.co/0G98RtNxPK|164         |\n",
      "|@115716 What information is incorrect? ^JK                                                                                                                          |42          |\n",
      "|@Ask_Spectrum Would you like me to email you a copy of one since Spectrum is not updating your training?                                                            |104         |\n",
      "|@115716 Our department is part of the corporate office.  If you're particular area has gone to this format, we were unawa... https://t.co/P7XCmTzPQj                |148         |\n",
      "|@Ask_Spectrum I received this from your corporate office would you like a copy?                                                                                     |79          |\n",
      "|@115716 No thank you. ^JK                                                                                                                                           |25          |\n",
      "+--------------------------------------------------------------------------------------------------------------------------------------------------------------------+------------+\n",
      "only showing top 20 rows\n",
      "\n"
     ]
    }
   ],
   "source": [
    "twitter_cs_preprocessing_df2.select('text', 'tweet_length').show(truncate=False)"
   ]
  },
  {
   "cell_type": "code",
   "execution_count": 80,
   "id": "93e63131",
   "metadata": {},
   "outputs": [
    {
     "name": "stderr",
     "output_type": "stream",
     "text": [
      "                                                                                \r"
     ]
    }
   ],
   "source": [
    "# Converting from Spark DataFrame to Pandas DataFrame for plotting\n",
    "tweet_length_pd = twitter_cs_preprocessing_df2.select(\"tweet_length\").toPandas()"
   ]
  },
  {
   "cell_type": "code",
   "execution_count": 81,
   "id": "71600a4c",
   "metadata": {},
   "outputs": [
    {
     "data": {
      "text/plain": [
       "count   2811783.00\n",
       "mean        111.34\n",
       "std          52.26\n",
       "min           1.00\n",
       "25%          75.00\n",
       "50%         113.00\n",
       "75%         139.00\n",
       "max         513.00\n",
       "Name: tweet_length, dtype: float64"
      ]
     },
     "execution_count": 81,
     "metadata": {},
     "output_type": "execute_result"
    }
   ],
   "source": [
    "import pandas as pd\n",
    "\n",
    "# Disabling scientific notation\n",
    "pd.options.display.float_format = '{:.2f}'.format\n",
    "\n",
    "tweet_length_pd['tweet_length'].describe()"
   ]
  },
  {
   "cell_type": "code",
   "execution_count": 82,
   "id": "e5befde8",
   "metadata": {},
   "outputs": [
    {
     "data": {
      "image/png": "[encoded data removed]",
      "text/plain": [
       "<Figure size 1080x720 with 1 Axes>"
      ]
     },
     "metadata": {
      "needs_background": "light"
     },
     "output_type": "display_data"
    }
   ],
   "source": [
    "plt.figure(figsize=(15, 10))\n",
    "plt.hist(tweet_length_pd[\"tweet_length\"], bins=50, color='SeaGreen', edgecolor='black')\n",
    "plt.xlabel('Tweet Length (Characters)', fontsize = 15)\n",
    "plt.ylabel('Frequency', fontsize = 15)\n",
    "plt.title('Histogram of Tweet Lengths', fontsize = 18)\n",
    "plt.grid(True)\n",
    "plt.show()"
   ]
  },
  {
   "cell_type": "markdown",
   "id": "e10fb132",
   "metadata": {},
   "source": [
    "We find that the distribution of characters for tweets is right skewed. Most tweets contain around 111 characters with a standard deviation of around 52 characters. There are outliers with over 500 characters."
   ]
  },
  {
   "cell_type": "code",
   "execution_count": 83,
   "id": "0ad424d2",
   "metadata": {},
   "outputs": [],
   "source": [
    "#from pyspark.sql.functions import year, month\n",
    "from pyspark.sql import functions as F\n",
    "from pyspark.sql.functions import col, date_format, dayofweek, month, year"
   ]
  },
  {
   "cell_type": "code",
   "execution_count": 84,
   "id": "bde953db",
   "metadata": {},
   "outputs": [],
   "source": [
    "twitter_cs_preprocessing_df3 = twitter_cs_preprocessing_df2.filter(col(\"created_at\").isNotNull())\n",
    "\n",
    "# Engineering new columns for plotting\n",
    "twitter_cs_preprocessing_df3 = twitter_cs_preprocessing_df3.withColumn(\"day_of_week\", dayofweek(\"created_at\"))\n",
    "twitter_cs_preprocessing_df3 = twitter_cs_preprocessing_df3.withColumn(\"month\", month(\"created_at\"))\n",
    "twitter_cs_preprocessing_df3 = twitter_cs_preprocessing_df3.withColumn(\"year\", year(\"created_at\"))"
   ]
  },
  {
   "cell_type": "code",
   "execution_count": 85,
   "id": "be9f36cc",
   "metadata": {},
   "outputs": [],
   "source": [
    "# Grouping by and counting tweets by the days of the week\n",
    "tweets_by_day_of_week = twitter_cs_preprocessing_df3.groupBy(\"day_of_week\").count().orderBy(\"day_of_week\")"
   ]
  },
  {
   "cell_type": "code",
   "execution_count": 86,
   "id": "88d25dc6",
   "metadata": {},
   "outputs": [
    {
     "name": "stderr",
     "output_type": "stream",
     "text": [
      "                                                                                \r"
     ]
    }
   ],
   "source": [
    "tweets_by_day_of_week_pd = tweets_by_day_of_week.toPandas()"
   ]
  },
  {
   "cell_type": "code",
   "execution_count": 87,
   "id": "59a29193",
   "metadata": {},
   "outputs": [
    {
     "name": "stderr",
     "output_type": "stream",
     "text": [
      "/tmp/ipykernel_77150/3077784446.py:2: FutureWarning: \n",
      "\n",
      "Passing `palette` without assigning `hue` is deprecated and will be removed in v0.14.0. Assign the `x` variable to `hue` and set `legend=False` for the same effect.\n",
      "\n",
      "  sns.barplot(x=\"day_of_week\", y=\"count\", data=tweets_by_day_of_week_pd, palette=\"Dark2\")\n"
     ]
    },
    {
     "data": {
      "image/png": "[encoded data removed]",
      "text/plain": [
       "<Figure size 864x576 with 1 Axes>"
      ]
     },
     "metadata": {
      "needs_background": "light"
     },
     "output_type": "display_data"
    }
   ],
   "source": [
    "plt.figure(figsize=(12, 8))\n",
    "sns.barplot(x=\"day_of_week\", y=\"count\", data=tweets_by_day_of_week_pd, palette=\"Dark2\")\n",
    "plt.xlabel('Day of the Week', fontsize = 15)\n",
    "plt.ylabel('Number of Tweets', fontsize = 15)\n",
    "plt.title('Number of Tweets by Day of the Week', fontsize = 18)\n",
    "plt.xticks(range(0, 7), ['Monday', 'Tuesday', 'Wednesday', 'Thursday', 'Friday', 'Saturday', 'Sunday'])\n",
    "plt.grid(axis = 'y')\n",
    "plt.tight_layout()\n",
    "plt.show()"
   ]
  },
  {
   "cell_type": "markdown",
   "id": "a90c3015",
   "metadata": {},
   "source": [
    "From the visual above we find that the fewest tweet to and from customer support occur on a Monday and Sunday, while Thursday, Friday and Saturday produce the highest traffic. This is useful information when allocating resources for customer support."
   ]
  },
  {
   "cell_type": "code",
   "execution_count": 88,
   "id": "19d86029",
   "metadata": {},
   "outputs": [
    {
     "name": "stderr",
     "output_type": "stream",
     "text": [
      "[Stage 173:============================>                            (2 + 2) / 4]\r"
     ]
    },
    {
     "name": "stdout",
     "output_type": "stream",
     "text": [
      "The shape of the DataFrame:\n",
      "\n",
      "Number of Rows: 2812304\n",
      "Number of Columns: 7\n"
     ]
    },
    {
     "name": "stderr",
     "output_type": "stream",
     "text": [
      "\r",
      "[Stage 173:==========================================>              (3 + 1) / 4]\r",
      "\r",
      "                                                                                \r"
     ]
    }
   ],
   "source": [
    "# Checking the new shape of the DataFrame\n",
    "num_rows = twitter_cs_preprocessing_df.count()\n",
    "num_columns = len(twitter_cs_preprocessing_df.columns)\n",
    "\n",
    "print(\"The shape of the DataFrame:\\n\")\n",
    "print(\"Number of Rows:\", num_rows)\n",
    "print(\"Number of Columns:\", num_columns)"
   ]
  },
  {
   "cell_type": "code",
   "execution_count": 89,
   "id": "76dcd1da",
   "metadata": {},
   "outputs": [
    {
     "name": "stdout",
     "output_type": "stream",
     "text": [
      "root\n",
      " |-- tweet_id: integer (nullable = true)\n",
      " |-- author_id: string (nullable = true)\n",
      " |-- inbound: string (nullable = true)\n",
      " |-- created_at: timestamp (nullable = true)\n",
      " |-- text: string (nullable = true)\n",
      " |-- response_tweet_id: integer (nullable = true)\n",
      " |-- in_response_to_tweet_id: integer (nullable = true)\n",
      "\n"
     ]
    }
   ],
   "source": [
    "# Viewing the changes\n",
    "twitter_cs_preprocessing_df.printSchema()"
   ]
  },
  {
   "cell_type": "code",
   "execution_count": 90,
   "id": "549d19e8",
   "metadata": {
    "scrolled": false
   },
   "outputs": [
    {
     "name": "stdout",
     "output_type": "stream",
     "text": [
      "+--------+------------+-------+-------------------+--------------------+-----------------+-----------------------+\n",
      "|tweet_id|   author_id|inbound|         created_at|                text|response_tweet_id|in_response_to_tweet_id|\n",
      "+--------+------------+-------+-------------------+--------------------+-----------------+-----------------------+\n",
      "|       1|  sprintcare|  False|2017-10-31 22:10:47|@115712 I underst...|                2|                      3|\n",
      "|       2|      115712|   True|2017-10-31 22:11:45|@sprintcare and h...|             null|                      1|\n",
      "|       3|      115712|   True|2017-10-31 22:08:27|@sprintcare I hav...|                1|                      4|\n",
      "|       4|  sprintcare|  False|2017-10-31 21:54:49|@115712 Please se...|                3|                      5|\n",
      "|       5|      115712|   True|2017-10-31 21:49:35|  @sprintcare I did.|                4|                      6|\n",
      "|       6|  sprintcare|  False|2017-10-31 21:46:24|@115712 Can you p...|             null|                      8|\n",
      "|       8|      115712|   True|2017-10-31 21:45:10|@sprintcare is th...|             null|                   null|\n",
      "|      11|  sprintcare|  False|2017-10-31 22:10:35|@115713 This is s...|             null|                     12|\n",
      "|      12|      115713|   True|2017-10-31 22:04:47|@sprintcare You g...|             null|                     15|\n",
      "|      15|  sprintcare|  False|2017-10-31 20:03:31|@115713 We unders...|               12|                     16|\n",
      "|      16|      115713|   True|2017-10-31 20:00:43|@sprintcare Since...|               15|                     17|\n",
      "|      17|  sprintcare|  False|2017-10-31 19:59:13|@115713 H there! ...|               16|                     18|\n",
      "|      18|      115713|   True|2017-10-31 19:56:01|@115714 y’all lie...|               17|                   null|\n",
      "|      19|  sprintcare|  False|2017-10-31 22:10:10|@115715 Please se...|             null|                     20|\n",
      "|      20|      115715|   True|2017-10-31 22:03:34|@115714 whenever ...|               19|                   null|\n",
      "|      21|Ask_Spectrum|  False|2017-10-31 22:14:37|@115716 What info...|             null|                     24|\n",
      "|      22|      115716|   True|2017-10-31 22:16:48|@Ask_Spectrum Wou...|               25|                     21|\n",
      "|      25|Ask_Spectrum|  False|2017-10-31 22:18:28|@115716 Our depar...|               26|                     22|\n",
      "|      26|      115716|   True|2017-10-31 22:19:56|@Ask_Spectrum I r...|               27|                     25|\n",
      "|      27|Ask_Spectrum|  False|2017-10-31 22:21:26|@115716 No thank ...|             null|                     26|\n",
      "+--------+------------+-------+-------------------+--------------------+-----------------+-----------------------+\n",
      "only showing top 20 rows\n",
      "\n"
     ]
    }
   ],
   "source": [
    "twitter_cs_preprocessing_df.show()  "
   ]
  },
  {
   "cell_type": "code",
   "execution_count": 91,
   "id": "e3924db5",
   "metadata": {},
   "outputs": [
    {
     "name": "stdout",
     "output_type": "stream",
     "text": [
      "+--------+------------+-------+--------------+--------------+-----------------+-----------------------+------------+\n",
      "|tweet_id|   author_id|inbound|    created_at|          text|response_tweet_id|in_response_to_tweet_id|tweet_length|\n",
      "+--------+------------+-------+--------------+--------------+-----------------+-----------------------+------------+\n",
      "|       1|  sprintcare|  False|2017-10-31 ...|@115712 I u...|                2|                      3|         121|\n",
      "|       2|      115712|   True|2017-10-31 ...|@sprintcare...|             null|                      1|          45|\n",
      "|       3|      115712|   True|2017-10-31 ...|@sprintcare...|                1|                      4|          82|\n",
      "|       4|  sprintcare|  False|2017-10-31 ...|@115712 Ple...|                3|                      5|         124|\n",
      "|       5|      115712|   True|2017-10-31 ...|@sprintcare...|                4|                      6|          18|\n",
      "|       6|  sprintcare|  False|2017-10-31 ...|@115712 Can...|             null|                      8|         104|\n",
      "|       8|      115712|   True|2017-10-31 ...|@sprintcare...|             null|                   null|          41|\n",
      "|      11|  sprintcare|  False|2017-10-31 ...|@115713 Thi...|             null|                     12|          99|\n",
      "|      12|      115713|   True|2017-10-31 ...|@sprintcare...|             null|                     15|          89|\n",
      "|      15|  sprintcare|  False|2017-10-31 ...|@115713 We ...|               12|                     16|         132|\n",
      "|      16|      115713|   True|2017-10-31 ...|@sprintcare...|               15|                     17|          53|\n",
      "|      17|  sprintcare|  False|2017-10-31 ...|@115713 H t...|               16|                     18|         115|\n",
      "|      18|      115713|   True|2017-10-31 ...|@115714 y’a...|               17|                   null|          93|\n",
      "|      19|  sprintcare|  False|2017-10-31 ...|@115715 Ple...|             null|                     20|         100|\n",
      "|      20|      115715|   True|2017-10-31 ...|@115714 whe...|               19|                   null|         164|\n",
      "|      21|Ask_Spectrum|  False|2017-10-31 ...|@115716 Wha...|             null|                     24|          42|\n",
      "|      22|      115716|   True|2017-10-31 ...|@Ask_Spectr...|               25|                     21|         104|\n",
      "|      25|Ask_Spectrum|  False|2017-10-31 ...|@115716 Our...|               26|                     22|         148|\n",
      "|      26|      115716|   True|2017-10-31 ...|@Ask_Spectr...|               27|                     25|          79|\n",
      "|      27|Ask_Spectrum|  False|2017-10-31 ...|@115716 No ...|             null|                     26|          25|\n",
      "+--------+------------+-------+--------------+--------------+-----------------+-----------------------+------------+\n",
      "only showing top 20 rows\n",
      "\n"
     ]
    }
   ],
   "source": [
    "twitter_cs_preprocessing_df2.show(truncate=14)"
   ]
  },
  {
   "cell_type": "markdown",
   "id": "a7b68542",
   "metadata": {},
   "source": [
    "### Writing to HDFS"
   ]
  },
  {
   "cell_type": "code",
   "execution_count": 101,
   "id": "91c91f20",
   "metadata": {},
   "outputs": [
    {
     "name": "stderr",
     "output_type": "stream",
     "text": [
      "                                                                                \r"
     ]
    }
   ],
   "source": [
    "# Save DataFrame as CSV\n",
    "csv_path = \"hdfs://localhost:9000/user1/twitter_customer_support/data.csv\"\n",
    "twitter_cs_preprocessing_df.write.csv(csv_path, mode=\"overwrite\", header=True)\n",
    "\n",
    "# Save Schema as Text File\n",
    "schema_path = \"hdfs://localhost:9000/user1/twitter_customer_support/schema.txt\"\n",
    "schema_str = str(twitter_cs_preprocessing_df.schema)\n",
    "sc.parallelize([schema_str]).saveAsTextFile(schema_path)"
   ]
  },
  {
   "cell_type": "code",
   "execution_count": 107,
   "id": "9c733ba3",
   "metadata": {},
   "outputs": [
    {
     "ename": "FileNotFoundError",
     "evalue": "[Errno 2] No such file or directory: 'hdfs://localhost:9000/user1/twitter_customer_support/schema.json'",
     "output_type": "error",
     "traceback": [
      "\u001b[0;31m---------------------------------------------------------------------------\u001b[0m",
      "\u001b[0;31mFileNotFoundError\u001b[0m                         Traceback (most recent call last)",
      "\u001b[0;32m/tmp/ipykernel_77150/3627727745.py\u001b[0m in \u001b[0;36m<module>\u001b[0;34m\u001b[0m\n\u001b[1;32m      5\u001b[0m \u001b[0mschema_path\u001b[0m \u001b[0;34m=\u001b[0m \u001b[0;34m\"hdfs://localhost:9000/user1/twitter_customer_support/schema.json\"\u001b[0m\u001b[0;34m\u001b[0m\u001b[0;34m\u001b[0m\u001b[0m\n\u001b[1;32m      6\u001b[0m \u001b[0;34m\u001b[0m\u001b[0m\n\u001b[0;32m----> 7\u001b[0;31m \u001b[0;32mwith\u001b[0m \u001b[0mopen\u001b[0m\u001b[0;34m(\u001b[0m\u001b[0mschema_path\u001b[0m\u001b[0;34m,\u001b[0m \u001b[0;34m\"w\"\u001b[0m\u001b[0;34m)\u001b[0m \u001b[0;32mas\u001b[0m \u001b[0mfile\u001b[0m\u001b[0;34m:\u001b[0m\u001b[0;34m\u001b[0m\u001b[0;34m\u001b[0m\u001b[0m\n\u001b[0m\u001b[1;32m      8\u001b[0m     \u001b[0mfile\u001b[0m\u001b[0;34m.\u001b[0m\u001b[0mwrite\u001b[0m\u001b[0;34m(\u001b[0m\u001b[0mschema_json\u001b[0m\u001b[0;34m)\u001b[0m\u001b[0;34m\u001b[0m\u001b[0;34m\u001b[0m\u001b[0m\n",
      "\u001b[0;31mFileNotFoundError\u001b[0m: [Errno 2] No such file or directory: 'hdfs://localhost:9000/user1/twitter_customer_support/schema.json'"
     ]
    }
   ],
   "source": [
    "# Save Schema as JSON\n",
    "import json\n",
    "\n",
    "schema_json = twitter_cs_preprocessing_df.schema.json()\n",
    "schema_path = \"hdfs://localhost:9000/user1/twitter_customer_support/schema.json\"\n",
    "\n",
    "with open(schema_path, \"w\") as file:\n",
    "    file.write(schema_json)"
   ]
  },
  {
   "cell_type": "code",
   "execution_count": 108,
   "id": "f5d6a492",
   "metadata": {},
   "outputs": [],
   "source": [
    "import json\n",
    "import os\n",
    "\n",
    "schema_json = twitter_cs_preprocessing_df.schema.json()\n",
    "\n",
    "# Specify the directory path\n",
    "directory_path = \"hdfs://localhost:9000/user1/twitter_customer_support/\"\n",
    "\n",
    "# Create the directory if it does not exist\n",
    "os.makedirs(directory_path, exist_ok=True)\n",
    "\n",
    "# Specify the schema JSON file path\n",
    "schema_path = os.path.join(directory_path, \"schema.json\")\n",
    "\n",
    "# Save the schema JSON file\n",
    "with open(schema_path, \"w\") as file:\n",
    "    file.write(schema_json)\n"
   ]
  },
  {
   "cell_type": "code",
   "execution_count": 104,
   "id": "f380c3eb",
   "metadata": {},
   "outputs": [
    {
     "ename": "FileNotFoundError",
     "evalue": "[Errno 2] No such file or directory: 'hdfs://localhost:9000/user1/twitter_customer_support/schema.txt'",
     "output_type": "error",
     "traceback": [
      "\u001b[0;31m---------------------------------------------------------------------------\u001b[0m",
      "\u001b[0;31mFileNotFoundError\u001b[0m                         Traceback (most recent call last)",
      "\u001b[0;32m/tmp/ipykernel_77150/1778892561.py\u001b[0m in \u001b[0;36m<module>\u001b[0;34m\u001b[0m\n\u001b[1;32m      5\u001b[0m \u001b[0;34m\u001b[0m\u001b[0m\n\u001b[1;32m      6\u001b[0m \u001b[0;31m# Write JSON string to text file\u001b[0m\u001b[0;34m\u001b[0m\u001b[0;34m\u001b[0m\u001b[0m\n\u001b[0;32m----> 7\u001b[0;31m \u001b[0;32mwith\u001b[0m \u001b[0mopen\u001b[0m\u001b[0;34m(\u001b[0m\u001b[0mschema_path\u001b[0m\u001b[0;34m,\u001b[0m \u001b[0;34m\"w\"\u001b[0m\u001b[0;34m)\u001b[0m \u001b[0;32mas\u001b[0m \u001b[0mfile\u001b[0m\u001b[0;34m:\u001b[0m\u001b[0;34m\u001b[0m\u001b[0;34m\u001b[0m\u001b[0m\n\u001b[0m\u001b[1;32m      8\u001b[0m     \u001b[0mfile\u001b[0m\u001b[0;34m.\u001b[0m\u001b[0mwrite\u001b[0m\u001b[0;34m(\u001b[0m\u001b[0mschema_json\u001b[0m\u001b[0;34m)\u001b[0m\u001b[0;34m\u001b[0m\u001b[0;34m\u001b[0m\u001b[0m\n",
      "\u001b[0;31mFileNotFoundError\u001b[0m: [Errno 2] No such file or directory: 'hdfs://localhost:9000/user1/twitter_customer_support/schema.txt'"
     ]
    }
   ],
   "source": [
    "schema_path = \"hdfs://localhost:9000/user1/twitter_customer_support/schema.txt\"\n",
    "\n",
    "# Convert schema to JSON string\n",
    "schema_json = twitter_cs_preprocessing_df.schema.json()\n",
    "\n",
    "# Write JSON string to text file\n",
    "with open(schema_path, \"w\") as file:\n",
    "    file.write(schema_json)"
   ]
  },
  {
   "cell_type": "code",
   "execution_count": 105,
   "id": "768e8c14",
   "metadata": {},
   "outputs": [
    {
     "ename": "Py4JJavaError",
     "evalue": "An error occurred while calling o480.saveAsTextFile.\n: org.apache.hadoop.mapred.FileAlreadyExistsException: Output directory hdfs://localhost:9000/user1/twitter_customer_support/schema.txt already exists\n\tat org.apache.hadoop.mapred.FileOutputFormat.checkOutputSpecs(FileOutputFormat.java:131)\n\tat org.apache.spark.internal.io.HadoopMapRedWriteConfigUtil.assertConf(SparkHadoopWriter.scala:299)\n\tat org.apache.spark.internal.io.SparkHadoopWriter$.write(SparkHadoopWriter.scala:71)\n\tat org.apache.spark.rdd.PairRDDFunctions.$anonfun$saveAsHadoopDataset$1(PairRDDFunctions.scala:1091)\n\tat scala.runtime.java8.JFunction0$mcV$sp.apply(JFunction0$mcV$sp.java:23)\n\tat org.apache.spark.rdd.RDDOperationScope$.withScope(RDDOperationScope.scala:151)\n\tat org.apache.spark.rdd.RDDOperationScope$.withScope(RDDOperationScope.scala:112)\n\tat org.apache.spark.rdd.RDD.withScope(RDD.scala:405)\n\tat org.apache.spark.rdd.PairRDDFunctions.saveAsHadoopDataset(PairRDDFunctions.scala:1089)\n\tat org.apache.spark.rdd.PairRDDFunctions.$anonfun$saveAsHadoopFile$4(PairRDDFunctions.scala:1062)\n\tat scala.runtime.java8.JFunction0$mcV$sp.apply(JFunction0$mcV$sp.java:23)\n\tat org.apache.spark.rdd.RDDOperationScope$.withScope(RDDOperationScope.scala:151)\n\tat org.apache.spark.rdd.RDDOperationScope$.withScope(RDDOperationScope.scala:112)\n\tat org.apache.spark.rdd.RDD.withScope(RDD.scala:405)\n\tat org.apache.spark.rdd.PairRDDFunctions.saveAsHadoopFile(PairRDDFunctions.scala:1027)\n\tat org.apache.spark.rdd.PairRDDFunctions.$anonfun$saveAsHadoopFile$3(PairRDDFunctions.scala:1009)\n\tat scala.runtime.java8.JFunction0$mcV$sp.apply(JFunction0$mcV$sp.java:23)\n\tat org.apache.spark.rdd.RDDOperationScope$.withScope(RDDOperationScope.scala:151)\n\tat org.apache.spark.rdd.RDDOperationScope$.withScope(RDDOperationScope.scala:112)\n\tat org.apache.spark.rdd.RDD.withScope(RDD.scala:405)\n\tat org.apache.spark.rdd.PairRDDFunctions.saveAsHadoopFile(PairRDDFunctions.scala:1008)\n\tat org.apache.spark.rdd.PairRDDFunctions.$anonfun$saveAsHadoopFile$2(PairRDDFunctions.scala:965)\n\tat scala.runtime.java8.JFunction0$mcV$sp.apply(JFunction0$mcV$sp.java:23)\n\tat org.apache.spark.rdd.RDDOperationScope$.withScope(RDDOperationScope.scala:151)\n\tat org.apache.spark.rdd.RDDOperationScope$.withScope(RDDOperationScope.scala:112)\n\tat org.apache.spark.rdd.RDD.withScope(RDD.scala:405)\n\tat org.apache.spark.rdd.PairRDDFunctions.saveAsHadoopFile(PairRDDFunctions.scala:963)\n\tat org.apache.spark.rdd.RDD.$anonfun$saveAsTextFile$2(RDD.scala:1593)\n\tat scala.runtime.java8.JFunction0$mcV$sp.apply(JFunction0$mcV$sp.java:23)\n\tat org.apache.spark.rdd.RDDOperationScope$.withScope(RDDOperationScope.scala:151)\n\tat org.apache.spark.rdd.RDDOperationScope$.withScope(RDDOperationScope.scala:112)\n\tat org.apache.spark.rdd.RDD.withScope(RDD.scala:405)\n\tat org.apache.spark.rdd.RDD.saveAsTextFile(RDD.scala:1593)\n\tat org.apache.spark.rdd.RDD.$anonfun$saveAsTextFile$1(RDD.scala:1579)\n\tat scala.runtime.java8.JFunction0$mcV$sp.apply(JFunction0$mcV$sp.java:23)\n\tat org.apache.spark.rdd.RDDOperationScope$.withScope(RDDOperationScope.scala:151)\n\tat org.apache.spark.rdd.RDDOperationScope$.withScope(RDDOperationScope.scala:112)\n\tat org.apache.spark.rdd.RDD.withScope(RDD.scala:405)\n\tat org.apache.spark.rdd.RDD.saveAsTextFile(RDD.scala:1579)\n\tat org.apache.spark.api.java.JavaRDDLike.saveAsTextFile(JavaRDDLike.scala:564)\n\tat org.apache.spark.api.java.JavaRDDLike.saveAsTextFile$(JavaRDDLike.scala:563)\n\tat org.apache.spark.api.java.AbstractJavaRDDLike.saveAsTextFile(JavaRDDLike.scala:45)\n\tat sun.reflect.NativeMethodAccessorImpl.invoke0(Native Method)\n\tat sun.reflect.NativeMethodAccessorImpl.invoke(NativeMethodAccessorImpl.java:62)\n\tat sun.reflect.DelegatingMethodAccessorImpl.invoke(DelegatingMethodAccessorImpl.java:43)\n\tat java.lang.reflect.Method.invoke(Method.java:498)\n\tat py4j.reflection.MethodInvoker.invoke(MethodInvoker.java:244)\n\tat py4j.reflection.ReflectionEngine.invoke(ReflectionEngine.java:374)\n\tat py4j.Gateway.invoke(Gateway.java:282)\n\tat py4j.commands.AbstractCommand.invokeMethod(AbstractCommand.java:132)\n\tat py4j.commands.CallCommand.execute(CallCommand.java:79)\n\tat py4j.ClientServerConnection.waitForCommands(ClientServerConnection.java:182)\n\tat py4j.ClientServerConnection.run(ClientServerConnection.java:106)\n\tat java.lang.Thread.run(Thread.java:750)\n",
     "output_type": "error",
     "traceback": [
      "\u001b[0;31m---------------------------------------------------------------------------\u001b[0m",
      "\u001b[0;31mPy4JJavaError\u001b[0m                             Traceback (most recent call last)",
      "\u001b[0;32m/tmp/ipykernel_77150/3437956034.py\u001b[0m in \u001b[0;36m<module>\u001b[0;34m\u001b[0m\n\u001b[1;32m      8\u001b[0m \u001b[0;34m\u001b[0m\u001b[0m\n\u001b[1;32m      9\u001b[0m \u001b[0;31m# Save the RDD as a text file in HDFS\u001b[0m\u001b[0;34m\u001b[0m\u001b[0;34m\u001b[0m\u001b[0m\n\u001b[0;32m---> 10\u001b[0;31m \u001b[0mschema_rdd\u001b[0m\u001b[0;34m.\u001b[0m\u001b[0msaveAsTextFile\u001b[0m\u001b[0;34m(\u001b[0m\u001b[0mschema_path\u001b[0m\u001b[0;34m)\u001b[0m\u001b[0;34m\u001b[0m\u001b[0;34m\u001b[0m\u001b[0m\n\u001b[0m",
      "\u001b[0;32m/usr/local/spark/python/pyspark/rdd.py\u001b[0m in \u001b[0;36msaveAsTextFile\u001b[0;34m(self, path, compressionCodecClass)\u001b[0m\n\u001b[1;32m   3404\u001b[0m             \u001b[0mkeyed\u001b[0m\u001b[0;34m.\u001b[0m\u001b[0m_jrdd\u001b[0m\u001b[0;34m.\u001b[0m\u001b[0mmap\u001b[0m\u001b[0;34m(\u001b[0m\u001b[0mself\u001b[0m\u001b[0;34m.\u001b[0m\u001b[0mctx\u001b[0m\u001b[0;34m.\u001b[0m\u001b[0m_jvm\u001b[0m\u001b[0;34m.\u001b[0m\u001b[0mBytesToString\u001b[0m\u001b[0;34m(\u001b[0m\u001b[0;34m)\u001b[0m\u001b[0;34m)\u001b[0m\u001b[0;34m.\u001b[0m\u001b[0msaveAsTextFile\u001b[0m\u001b[0;34m(\u001b[0m\u001b[0mpath\u001b[0m\u001b[0;34m,\u001b[0m \u001b[0mcompressionCodec\u001b[0m\u001b[0;34m)\u001b[0m\u001b[0;34m\u001b[0m\u001b[0;34m\u001b[0m\u001b[0m\n\u001b[1;32m   3405\u001b[0m         \u001b[0;32melse\u001b[0m\u001b[0;34m:\u001b[0m\u001b[0;34m\u001b[0m\u001b[0;34m\u001b[0m\u001b[0m\n\u001b[0;32m-> 3406\u001b[0;31m             \u001b[0mkeyed\u001b[0m\u001b[0;34m.\u001b[0m\u001b[0m_jrdd\u001b[0m\u001b[0;34m.\u001b[0m\u001b[0mmap\u001b[0m\u001b[0;34m(\u001b[0m\u001b[0mself\u001b[0m\u001b[0;34m.\u001b[0m\u001b[0mctx\u001b[0m\u001b[0;34m.\u001b[0m\u001b[0m_jvm\u001b[0m\u001b[0;34m.\u001b[0m\u001b[0mBytesToString\u001b[0m\u001b[0;34m(\u001b[0m\u001b[0;34m)\u001b[0m\u001b[0;34m)\u001b[0m\u001b[0;34m.\u001b[0m\u001b[0msaveAsTextFile\u001b[0m\u001b[0;34m(\u001b[0m\u001b[0mpath\u001b[0m\u001b[0;34m)\u001b[0m\u001b[0;34m\u001b[0m\u001b[0;34m\u001b[0m\u001b[0m\n\u001b[0m\u001b[1;32m   3407\u001b[0m \u001b[0;34m\u001b[0m\u001b[0m\n\u001b[1;32m   3408\u001b[0m     \u001b[0;31m# Pair functions\u001b[0m\u001b[0;34m\u001b[0m\u001b[0;34m\u001b[0m\u001b[0m\n",
      "\u001b[0;32m/usr/local/spark/python/lib/py4j-0.10.9.7-src.zip/py4j/java_gateway.py\u001b[0m in \u001b[0;36m__call__\u001b[0;34m(self, *args)\u001b[0m\n\u001b[1;32m   1320\u001b[0m \u001b[0;34m\u001b[0m\u001b[0m\n\u001b[1;32m   1321\u001b[0m         \u001b[0manswer\u001b[0m \u001b[0;34m=\u001b[0m \u001b[0mself\u001b[0m\u001b[0;34m.\u001b[0m\u001b[0mgateway_client\u001b[0m\u001b[0;34m.\u001b[0m\u001b[0msend_command\u001b[0m\u001b[0;34m(\u001b[0m\u001b[0mcommand\u001b[0m\u001b[0;34m)\u001b[0m\u001b[0;34m\u001b[0m\u001b[0;34m\u001b[0m\u001b[0m\n\u001b[0;32m-> 1322\u001b[0;31m         return_value = get_return_value(\n\u001b[0m\u001b[1;32m   1323\u001b[0m             answer, self.gateway_client, self.target_id, self.name)\n\u001b[1;32m   1324\u001b[0m \u001b[0;34m\u001b[0m\u001b[0m\n",
      "\u001b[0;32m/usr/local/spark/python/pyspark/errors/exceptions/captured.py\u001b[0m in \u001b[0;36mdeco\u001b[0;34m(*a, **kw)\u001b[0m\n\u001b[1;32m    167\u001b[0m     \u001b[0;32mdef\u001b[0m \u001b[0mdeco\u001b[0m\u001b[0;34m(\u001b[0m\u001b[0;34m*\u001b[0m\u001b[0ma\u001b[0m\u001b[0;34m:\u001b[0m \u001b[0mAny\u001b[0m\u001b[0;34m,\u001b[0m \u001b[0;34m**\u001b[0m\u001b[0mkw\u001b[0m\u001b[0;34m:\u001b[0m \u001b[0mAny\u001b[0m\u001b[0;34m)\u001b[0m \u001b[0;34m->\u001b[0m \u001b[0mAny\u001b[0m\u001b[0;34m:\u001b[0m\u001b[0;34m\u001b[0m\u001b[0;34m\u001b[0m\u001b[0m\n\u001b[1;32m    168\u001b[0m         \u001b[0;32mtry\u001b[0m\u001b[0;34m:\u001b[0m\u001b[0;34m\u001b[0m\u001b[0;34m\u001b[0m\u001b[0m\n\u001b[0;32m--> 169\u001b[0;31m             \u001b[0;32mreturn\u001b[0m \u001b[0mf\u001b[0m\u001b[0;34m(\u001b[0m\u001b[0;34m*\u001b[0m\u001b[0ma\u001b[0m\u001b[0;34m,\u001b[0m \u001b[0;34m**\u001b[0m\u001b[0mkw\u001b[0m\u001b[0;34m)\u001b[0m\u001b[0;34m\u001b[0m\u001b[0;34m\u001b[0m\u001b[0m\n\u001b[0m\u001b[1;32m    170\u001b[0m         \u001b[0;32mexcept\u001b[0m \u001b[0mPy4JJavaError\u001b[0m \u001b[0;32mas\u001b[0m \u001b[0me\u001b[0m\u001b[0;34m:\u001b[0m\u001b[0;34m\u001b[0m\u001b[0;34m\u001b[0m\u001b[0m\n\u001b[1;32m    171\u001b[0m             \u001b[0mconverted\u001b[0m \u001b[0;34m=\u001b[0m \u001b[0mconvert_exception\u001b[0m\u001b[0;34m(\u001b[0m\u001b[0me\u001b[0m\u001b[0;34m.\u001b[0m\u001b[0mjava_exception\u001b[0m\u001b[0;34m)\u001b[0m\u001b[0;34m\u001b[0m\u001b[0;34m\u001b[0m\u001b[0m\n",
      "\u001b[0;32m/usr/local/spark/python/lib/py4j-0.10.9.7-src.zip/py4j/protocol.py\u001b[0m in \u001b[0;36mget_return_value\u001b[0;34m(answer, gateway_client, target_id, name)\u001b[0m\n\u001b[1;32m    324\u001b[0m             \u001b[0mvalue\u001b[0m \u001b[0;34m=\u001b[0m \u001b[0mOUTPUT_CONVERTER\u001b[0m\u001b[0;34m[\u001b[0m\u001b[0mtype\u001b[0m\u001b[0;34m]\u001b[0m\u001b[0;34m(\u001b[0m\u001b[0manswer\u001b[0m\u001b[0;34m[\u001b[0m\u001b[0;36m2\u001b[0m\u001b[0;34m:\u001b[0m\u001b[0;34m]\u001b[0m\u001b[0;34m,\u001b[0m \u001b[0mgateway_client\u001b[0m\u001b[0;34m)\u001b[0m\u001b[0;34m\u001b[0m\u001b[0;34m\u001b[0m\u001b[0m\n\u001b[1;32m    325\u001b[0m             \u001b[0;32mif\u001b[0m \u001b[0manswer\u001b[0m\u001b[0;34m[\u001b[0m\u001b[0;36m1\u001b[0m\u001b[0;34m]\u001b[0m \u001b[0;34m==\u001b[0m \u001b[0mREFERENCE_TYPE\u001b[0m\u001b[0;34m:\u001b[0m\u001b[0;34m\u001b[0m\u001b[0;34m\u001b[0m\u001b[0m\n\u001b[0;32m--> 326\u001b[0;31m                 raise Py4JJavaError(\n\u001b[0m\u001b[1;32m    327\u001b[0m                     \u001b[0;34m\"An error occurred while calling {0}{1}{2}.\\n\"\u001b[0m\u001b[0;34m.\u001b[0m\u001b[0;34m\u001b[0m\u001b[0;34m\u001b[0m\u001b[0m\n\u001b[1;32m    328\u001b[0m                     format(target_id, \".\", name), value)\n",
      "\u001b[0;31mPy4JJavaError\u001b[0m: An error occurred while calling o480.saveAsTextFile.\n: org.apache.hadoop.mapred.FileAlreadyExistsException: Output directory hdfs://localhost:9000/user1/twitter_customer_support/schema.txt already exists\n\tat org.apache.hadoop.mapred.FileOutputFormat.checkOutputSpecs(FileOutputFormat.java:131)\n\tat org.apache.spark.internal.io.HadoopMapRedWriteConfigUtil.assertConf(SparkHadoopWriter.scala:299)\n\tat org.apache.spark.internal.io.SparkHadoopWriter$.write(SparkHadoopWriter.scala:71)\n\tat org.apache.spark.rdd.PairRDDFunctions.$anonfun$saveAsHadoopDataset$1(PairRDDFunctions.scala:1091)\n\tat scala.runtime.java8.JFunction0$mcV$sp.apply(JFunction0$mcV$sp.java:23)\n\tat org.apache.spark.rdd.RDDOperationScope$.withScope(RDDOperationScope.scala:151)\n\tat org.apache.spark.rdd.RDDOperationScope$.withScope(RDDOperationScope.scala:112)\n\tat org.apache.spark.rdd.RDD.withScope(RDD.scala:405)\n\tat org.apache.spark.rdd.PairRDDFunctions.saveAsHadoopDataset(PairRDDFunctions.scala:1089)\n\tat org.apache.spark.rdd.PairRDDFunctions.$anonfun$saveAsHadoopFile$4(PairRDDFunctions.scala:1062)\n\tat scala.runtime.java8.JFunction0$mcV$sp.apply(JFunction0$mcV$sp.java:23)\n\tat org.apache.spark.rdd.RDDOperationScope$.withScope(RDDOperationScope.scala:151)\n\tat org.apache.spark.rdd.RDDOperationScope$.withScope(RDDOperationScope.scala:112)\n\tat org.apache.spark.rdd.RDD.withScope(RDD.scala:405)\n\tat org.apache.spark.rdd.PairRDDFunctions.saveAsHadoopFile(PairRDDFunctions.scala:1027)\n\tat org.apache.spark.rdd.PairRDDFunctions.$anonfun$saveAsHadoopFile$3(PairRDDFunctions.scala:1009)\n\tat scala.runtime.java8.JFunction0$mcV$sp.apply(JFunction0$mcV$sp.java:23)\n\tat org.apache.spark.rdd.RDDOperationScope$.withScope(RDDOperationScope.scala:151)\n\tat org.apache.spark.rdd.RDDOperationScope$.withScope(RDDOperationScope.scala:112)\n\tat org.apache.spark.rdd.RDD.withScope(RDD.scala:405)\n\tat org.apache.spark.rdd.PairRDDFunctions.saveAsHadoopFile(PairRDDFunctions.scala:1008)\n\tat org.apache.spark.rdd.PairRDDFunctions.$anonfun$saveAsHadoopFile$2(PairRDDFunctions.scala:965)\n\tat scala.runtime.java8.JFunction0$mcV$sp.apply(JFunction0$mcV$sp.java:23)\n\tat org.apache.spark.rdd.RDDOperationScope$.withScope(RDDOperationScope.scala:151)\n\tat org.apache.spark.rdd.RDDOperationScope$.withScope(RDDOperationScope.scala:112)\n\tat org.apache.spark.rdd.RDD.withScope(RDD.scala:405)\n\tat org.apache.spark.rdd.PairRDDFunctions.saveAsHadoopFile(PairRDDFunctions.scala:963)\n\tat org.apache.spark.rdd.RDD.$anonfun$saveAsTextFile$2(RDD.scala:1593)\n\tat scala.runtime.java8.JFunction0$mcV$sp.apply(JFunction0$mcV$sp.java:23)\n\tat org.apache.spark.rdd.RDDOperationScope$.withScope(RDDOperationScope.scala:151)\n\tat org.apache.spark.rdd.RDDOperationScope$.withScope(RDDOperationScope.scala:112)\n\tat org.apache.spark.rdd.RDD.withScope(RDD.scala:405)\n\tat org.apache.spark.rdd.RDD.saveAsTextFile(RDD.scala:1593)\n\tat org.apache.spark.rdd.RDD.$anonfun$saveAsTextFile$1(RDD.scala:1579)\n\tat scala.runtime.java8.JFunction0$mcV$sp.apply(JFunction0$mcV$sp.java:23)\n\tat org.apache.spark.rdd.RDDOperationScope$.withScope(RDDOperationScope.scala:151)\n\tat org.apache.spark.rdd.RDDOperationScope$.withScope(RDDOperationScope.scala:112)\n\tat org.apache.spark.rdd.RDD.withScope(RDD.scala:405)\n\tat org.apache.spark.rdd.RDD.saveAsTextFile(RDD.scala:1579)\n\tat org.apache.spark.api.java.JavaRDDLike.saveAsTextFile(JavaRDDLike.scala:564)\n\tat org.apache.spark.api.java.JavaRDDLike.saveAsTextFile$(JavaRDDLike.scala:563)\n\tat org.apache.spark.api.java.AbstractJavaRDDLike.saveAsTextFile(JavaRDDLike.scala:45)\n\tat sun.reflect.NativeMethodAccessorImpl.invoke0(Native Method)\n\tat sun.reflect.NativeMethodAccessorImpl.invoke(NativeMethodAccessorImpl.java:62)\n\tat sun.reflect.DelegatingMethodAccessorImpl.invoke(DelegatingMethodAccessorImpl.java:43)\n\tat java.lang.reflect.Method.invoke(Method.java:498)\n\tat py4j.reflection.MethodInvoker.invoke(MethodInvoker.java:244)\n\tat py4j.reflection.ReflectionEngine.invoke(ReflectionEngine.java:374)\n\tat py4j.Gateway.invoke(Gateway.java:282)\n\tat py4j.commands.AbstractCommand.invokeMethod(AbstractCommand.java:132)\n\tat py4j.commands.CallCommand.execute(CallCommand.java:79)\n\tat py4j.ClientServerConnection.waitForCommands(ClientServerConnection.java:182)\n\tat py4j.ClientServerConnection.run(ClientServerConnection.java:106)\n\tat java.lang.Thread.run(Thread.java:750)\n"
     ]
    }
   ],
   "source": [
    "schema_path = \"hdfs://localhost:9000/user1/twitter_customer_support/schema.txt\"\n",
    "\n",
    "# Convert schema to JSON string\n",
    "schema_json = twitter_cs_preprocessing_df.schema.json()\n",
    "\n",
    "# Create an RDD with a single element containing the schema JSON string\n",
    "schema_rdd = sc.parallelize([schema_json])\n",
    "\n",
    "# Save the RDD as a text file in HDFS\n",
    "schema_rdd.saveAsTextFile(schema_path)"
   ]
  },
  {
   "cell_type": "code",
   "execution_count": null,
   "id": "f4b612f6",
   "metadata": {},
   "outputs": [],
   "source": []
  },
  {
   "cell_type": "code",
   "execution_count": null,
   "id": "e7bcdaf9",
   "metadata": {},
   "outputs": [],
   "source": []
  },
  {
   "cell_type": "code",
   "execution_count": 92,
   "id": "95504cc1",
   "metadata": {},
   "outputs": [],
   "source": [
    "path = \"/user1/twitter_customer_support\""
   ]
  },
  {
   "cell_type": "code",
   "execution_count": 93,
   "id": "92bab908",
   "metadata": {},
   "outputs": [
    {
     "name": "stderr",
     "output_type": "stream",
     "text": [
      "                                                                                \r"
     ]
    }
   ],
   "source": [
    "# Saving the dataframe as a csv\n",
    "twitter_cs_preprocessing_df.write\\\n",
    ".format(\"csv\").mode(\"overwrite\")\\\n",
    ".option(\"path\", path)\\\n",
    ".save()"
   ]
  },
  {
   "cell_type": "code",
   "execution_count": null,
   "id": "0cc5b99c",
   "metadata": {},
   "outputs": [],
   "source": [
    "hdfs://localhost:9000/user1/twitter_customer_support.csv"
   ]
  },
  {
   "cell_type": "code",
   "execution_count": 100,
   "id": "c91da351",
   "metadata": {},
   "outputs": [
    {
     "ename": "FileNotFoundError",
     "evalue": "[Errno 2] No such file or directory: 'hdfs://localhost:9000/user1/twitter_customer_support/schema.txt'",
     "output_type": "error",
     "traceback": [
      "\u001b[0;31m---------------------------------------------------------------------------\u001b[0m",
      "\u001b[0;31mFileNotFoundError\u001b[0m                         Traceback (most recent call last)",
      "\u001b[0;32m/tmp/ipykernel_77150/1439636963.py\u001b[0m in \u001b[0;36m<module>\u001b[0;34m\u001b[0m\n\u001b[1;32m      1\u001b[0m \u001b[0;31m# Saving the schema as a text file\u001b[0m\u001b[0;34m\u001b[0m\u001b[0;34m\u001b[0m\u001b[0m\n\u001b[1;32m      2\u001b[0m \u001b[0mschema_path\u001b[0m \u001b[0;34m=\u001b[0m \u001b[0;34m\"hdfs://localhost:9000/user1/twitter_customer_support/schema.txt\"\u001b[0m\u001b[0;34m\u001b[0m\u001b[0;34m\u001b[0m\u001b[0m\n\u001b[0;32m----> 3\u001b[0;31m \u001b[0;32mwith\u001b[0m \u001b[0mopen\u001b[0m\u001b[0;34m(\u001b[0m\u001b[0mschema_path\u001b[0m\u001b[0;34m,\u001b[0m \u001b[0;34m\"w\"\u001b[0m\u001b[0;34m)\u001b[0m \u001b[0;32mas\u001b[0m \u001b[0mfile\u001b[0m\u001b[0;34m:\u001b[0m\u001b[0;34m\u001b[0m\u001b[0;34m\u001b[0m\u001b[0m\n\u001b[0m\u001b[1;32m      4\u001b[0m     \u001b[0mfile\u001b[0m\u001b[0;34m.\u001b[0m\u001b[0mwrite\u001b[0m\u001b[0;34m(\u001b[0m\u001b[0mstr\u001b[0m\u001b[0;34m(\u001b[0m\u001b[0mtwitter_cs_preprocessing_df\u001b[0m\u001b[0;34m.\u001b[0m\u001b[0mschema\u001b[0m\u001b[0;34m)\u001b[0m\u001b[0;34m)\u001b[0m\u001b[0;34m\u001b[0m\u001b[0;34m\u001b[0m\u001b[0m\n",
      "\u001b[0;31mFileNotFoundError\u001b[0m: [Errno 2] No such file or directory: 'hdfs://localhost:9000/user1/twitter_customer_support/schema.txt'"
     ]
    }
   ],
   "source": [
    "# Saving the schema as a text file\n",
    "schema_path = \"hdfs://localhost:9000/user1/twitter_customer_support/schema.txt\"\n",
    "with open(schema_path, \"w\") as file:\n",
    "    file.write(str(twitter_cs_preprocessing_df.schema))"
   ]
  },
  {
   "cell_type": "markdown",
   "id": "e5c4dd01",
   "metadata": {},
   "source": [
    "### Reading from HDFS"
   ]
  },
  {
   "cell_type": "code",
   "execution_count": 113,
   "id": "dbc2513c",
   "metadata": {},
   "outputs": [],
   "source": [
    "# Specify the CSV file path\n",
    "csv_path = \"hdfs://localhost:9000/user1/twitter_customer_support/data.csv\"\n",
    "\n",
    "# Read the CSV file into a DataFrame\n",
    "df_with_schema = spark.read.csv(csv_path, header=True)\n",
    "\n",
    "# Specify the schema JSON file path\n",
    "schema_path = \"hdfs://localhost:9000/user1/twitter_customer_support/schema.json\"\n",
    "\n",
    "# Read the schema JSON file\n",
    "with open(schema_path, \"r\") as file:\n",
    "    schema_json = file.read()\n",
    "\n",
    "# Parse the schema JSON string into a StructType object\n",
    "parsed_schema = StructType.fromJson(json.loads(schema_json))\n",
    "\n",
    "# Apply the parsed schema to the DataFrame\n",
    "for field in parsed_schema:\n",
    "    df_with_schema = df_with_schema.withColumnRenamed(field.name, field.name)\n",
    "\n",
    "# Alternatively, you can use selectExpr\n",
    "# exprs = [f\"{field.name} AS {field.name}\" for field in parsed_schema]\n",
    "# df_with_schema = df_with_schema.selectExpr(*exprs)\n"
   ]
  },
  {
   "cell_type": "code",
   "execution_count": 103,
   "id": "7449faaf",
   "metadata": {},
   "outputs": [
    {
     "ename": "JSONDecodeError",
     "evalue": "Expecting value: line 1 column 1 (char 0)",
     "output_type": "error",
     "traceback": [
      "\u001b[0;31m---------------------------------------------------------------------------\u001b[0m",
      "\u001b[0;31mJSONDecodeError\u001b[0m                           Traceback (most recent call last)",
      "\u001b[0;32m/tmp/ipykernel_77150/1598840652.py\u001b[0m in \u001b[0;36m<module>\u001b[0;34m\u001b[0m\n\u001b[1;32m      9\u001b[0m \u001b[0mschema_rdd\u001b[0m \u001b[0;34m=\u001b[0m \u001b[0msc\u001b[0m\u001b[0;34m.\u001b[0m\u001b[0mtextFile\u001b[0m\u001b[0;34m(\u001b[0m\u001b[0mschema_path\u001b[0m\u001b[0;34m)\u001b[0m\u001b[0;34m\u001b[0m\u001b[0;34m\u001b[0m\u001b[0m\n\u001b[1;32m     10\u001b[0m \u001b[0mschema_str\u001b[0m \u001b[0;34m=\u001b[0m \u001b[0mschema_rdd\u001b[0m\u001b[0;34m.\u001b[0m\u001b[0mcollect\u001b[0m\u001b[0;34m(\u001b[0m\u001b[0;34m)\u001b[0m\u001b[0;34m[\u001b[0m\u001b[0;36m0\u001b[0m\u001b[0;34m]\u001b[0m  \u001b[0;31m# Assuming schema is stored in a single line\u001b[0m\u001b[0;34m\u001b[0m\u001b[0;34m\u001b[0m\u001b[0m\n\u001b[0;32m---> 11\u001b[0;31m \u001b[0mparsed_schema\u001b[0m \u001b[0;34m=\u001b[0m \u001b[0mStructType\u001b[0m\u001b[0;34m.\u001b[0m\u001b[0mfromJson\u001b[0m\u001b[0;34m(\u001b[0m\u001b[0mjson\u001b[0m\u001b[0;34m.\u001b[0m\u001b[0mloads\u001b[0m\u001b[0;34m(\u001b[0m\u001b[0mschema_str\u001b[0m\u001b[0;34m)\u001b[0m\u001b[0;34m)\u001b[0m\u001b[0;34m\u001b[0m\u001b[0;34m\u001b[0m\u001b[0m\n\u001b[0m\u001b[1;32m     12\u001b[0m \u001b[0;34m\u001b[0m\u001b[0m\n\u001b[1;32m     13\u001b[0m \u001b[0;31m# Apply Schema to DataFrame\u001b[0m\u001b[0;34m\u001b[0m\u001b[0;34m\u001b[0m\u001b[0m\n",
      "\u001b[0;32m/usr/lib/python3.10/json/__init__.py\u001b[0m in \u001b[0;36mloads\u001b[0;34m(s, cls, object_hook, parse_float, parse_int, parse_constant, object_pairs_hook, **kw)\u001b[0m\n\u001b[1;32m    344\u001b[0m             \u001b[0mparse_int\u001b[0m \u001b[0;32mis\u001b[0m \u001b[0;32mNone\u001b[0m \u001b[0;32mand\u001b[0m \u001b[0mparse_float\u001b[0m \u001b[0;32mis\u001b[0m \u001b[0;32mNone\u001b[0m \u001b[0;32mand\u001b[0m\u001b[0;34m\u001b[0m\u001b[0;34m\u001b[0m\u001b[0m\n\u001b[1;32m    345\u001b[0m             parse_constant is None and object_pairs_hook is None and not kw):\n\u001b[0;32m--> 346\u001b[0;31m         \u001b[0;32mreturn\u001b[0m \u001b[0m_default_decoder\u001b[0m\u001b[0;34m.\u001b[0m\u001b[0mdecode\u001b[0m\u001b[0;34m(\u001b[0m\u001b[0ms\u001b[0m\u001b[0;34m)\u001b[0m\u001b[0;34m\u001b[0m\u001b[0;34m\u001b[0m\u001b[0m\n\u001b[0m\u001b[1;32m    347\u001b[0m     \u001b[0;32mif\u001b[0m \u001b[0mcls\u001b[0m \u001b[0;32mis\u001b[0m \u001b[0;32mNone\u001b[0m\u001b[0;34m:\u001b[0m\u001b[0;34m\u001b[0m\u001b[0;34m\u001b[0m\u001b[0m\n\u001b[1;32m    348\u001b[0m         \u001b[0mcls\u001b[0m \u001b[0;34m=\u001b[0m \u001b[0mJSONDecoder\u001b[0m\u001b[0;34m\u001b[0m\u001b[0;34m\u001b[0m\u001b[0m\n",
      "\u001b[0;32m/usr/lib/python3.10/json/decoder.py\u001b[0m in \u001b[0;36mdecode\u001b[0;34m(self, s, _w)\u001b[0m\n\u001b[1;32m    335\u001b[0m \u001b[0;34m\u001b[0m\u001b[0m\n\u001b[1;32m    336\u001b[0m         \"\"\"\n\u001b[0;32m--> 337\u001b[0;31m         \u001b[0mobj\u001b[0m\u001b[0;34m,\u001b[0m \u001b[0mend\u001b[0m \u001b[0;34m=\u001b[0m \u001b[0mself\u001b[0m\u001b[0;34m.\u001b[0m\u001b[0mraw_decode\u001b[0m\u001b[0;34m(\u001b[0m\u001b[0ms\u001b[0m\u001b[0;34m,\u001b[0m \u001b[0midx\u001b[0m\u001b[0;34m=\u001b[0m\u001b[0m_w\u001b[0m\u001b[0;34m(\u001b[0m\u001b[0ms\u001b[0m\u001b[0;34m,\u001b[0m \u001b[0;36m0\u001b[0m\u001b[0;34m)\u001b[0m\u001b[0;34m.\u001b[0m\u001b[0mend\u001b[0m\u001b[0;34m(\u001b[0m\u001b[0;34m)\u001b[0m\u001b[0;34m)\u001b[0m\u001b[0;34m\u001b[0m\u001b[0;34m\u001b[0m\u001b[0m\n\u001b[0m\u001b[1;32m    338\u001b[0m         \u001b[0mend\u001b[0m \u001b[0;34m=\u001b[0m \u001b[0m_w\u001b[0m\u001b[0;34m(\u001b[0m\u001b[0ms\u001b[0m\u001b[0;34m,\u001b[0m \u001b[0mend\u001b[0m\u001b[0;34m)\u001b[0m\u001b[0;34m.\u001b[0m\u001b[0mend\u001b[0m\u001b[0;34m(\u001b[0m\u001b[0;34m)\u001b[0m\u001b[0;34m\u001b[0m\u001b[0;34m\u001b[0m\u001b[0m\n\u001b[1;32m    339\u001b[0m         \u001b[0;32mif\u001b[0m \u001b[0mend\u001b[0m \u001b[0;34m!=\u001b[0m \u001b[0mlen\u001b[0m\u001b[0;34m(\u001b[0m\u001b[0ms\u001b[0m\u001b[0;34m)\u001b[0m\u001b[0;34m:\u001b[0m\u001b[0;34m\u001b[0m\u001b[0;34m\u001b[0m\u001b[0m\n",
      "\u001b[0;32m/usr/lib/python3.10/json/decoder.py\u001b[0m in \u001b[0;36mraw_decode\u001b[0;34m(self, s, idx)\u001b[0m\n\u001b[1;32m    353\u001b[0m             \u001b[0mobj\u001b[0m\u001b[0;34m,\u001b[0m \u001b[0mend\u001b[0m \u001b[0;34m=\u001b[0m \u001b[0mself\u001b[0m\u001b[0;34m.\u001b[0m\u001b[0mscan_once\u001b[0m\u001b[0;34m(\u001b[0m\u001b[0ms\u001b[0m\u001b[0;34m,\u001b[0m \u001b[0midx\u001b[0m\u001b[0;34m)\u001b[0m\u001b[0;34m\u001b[0m\u001b[0;34m\u001b[0m\u001b[0m\n\u001b[1;32m    354\u001b[0m         \u001b[0;32mexcept\u001b[0m \u001b[0mStopIteration\u001b[0m \u001b[0;32mas\u001b[0m \u001b[0merr\u001b[0m\u001b[0;34m:\u001b[0m\u001b[0;34m\u001b[0m\u001b[0;34m\u001b[0m\u001b[0m\n\u001b[0;32m--> 355\u001b[0;31m             \u001b[0;32mraise\u001b[0m \u001b[0mJSONDecodeError\u001b[0m\u001b[0;34m(\u001b[0m\u001b[0;34m\"Expecting value\"\u001b[0m\u001b[0;34m,\u001b[0m \u001b[0ms\u001b[0m\u001b[0;34m,\u001b[0m \u001b[0merr\u001b[0m\u001b[0;34m.\u001b[0m\u001b[0mvalue\u001b[0m\u001b[0;34m)\u001b[0m \u001b[0;32mfrom\u001b[0m \u001b[0;32mNone\u001b[0m\u001b[0;34m\u001b[0m\u001b[0;34m\u001b[0m\u001b[0m\n\u001b[0m\u001b[1;32m    356\u001b[0m         \u001b[0;32mreturn\u001b[0m \u001b[0mobj\u001b[0m\u001b[0;34m,\u001b[0m \u001b[0mend\u001b[0m\u001b[0;34m\u001b[0m\u001b[0;34m\u001b[0m\u001b[0m\n",
      "\u001b[0;31mJSONDecodeError\u001b[0m: Expecting value: line 1 column 1 (char 0)"
     ]
    }
   ],
   "source": [
    "from pyspark.sql.types import StructType\n",
    "import json \n",
    "# Read CSV File\n",
    "csv_path = \"hdfs://localhost:9000/user1/twitter_customer_support/data.csv\"\n",
    "df_with_schema = spark.read.csv(csv_path, header=True)\n",
    "\n",
    "# Read Schema Text File\n",
    "schema_path = \"hdfs://localhost:9000/user1/twitter_customer_support/schema.txt\"\n",
    "schema_rdd = sc.textFile(schema_path)\n",
    "schema_str = schema_rdd.collect()[0]  # Assuming schema is stored in a single line\n",
    "parsed_schema = StructType.fromJson(json.loads(schema_str))\n",
    "\n",
    "# Apply Schema to DataFrame\n",
    "df_with_schema = df_with_schema.schema(parsed_schema)"
   ]
  },
  {
   "cell_type": "code",
   "execution_count": 109,
   "id": "e7d4d743",
   "metadata": {},
   "outputs": [
    {
     "ename": "JSONDecodeError",
     "evalue": "Expecting value: line 1 column 1 (char 0)",
     "output_type": "error",
     "traceback": [
      "\u001b[0;31m---------------------------------------------------------------------------\u001b[0m",
      "\u001b[0;31mJSONDecodeError\u001b[0m                           Traceback (most recent call last)",
      "\u001b[0;32m/tmp/ipykernel_77150/773700559.py\u001b[0m in \u001b[0;36m<module>\u001b[0;34m\u001b[0m\n\u001b[1;32m     11\u001b[0m \u001b[0;34m\u001b[0m\u001b[0m\n\u001b[1;32m     12\u001b[0m \u001b[0;31m# Parse JSON schema string\u001b[0m\u001b[0;34m\u001b[0m\u001b[0;34m\u001b[0m\u001b[0m\n\u001b[0;32m---> 13\u001b[0;31m \u001b[0mparsed_schema\u001b[0m \u001b[0;34m=\u001b[0m \u001b[0mStructType\u001b[0m\u001b[0;34m.\u001b[0m\u001b[0mfromJson\u001b[0m\u001b[0;34m(\u001b[0m\u001b[0mjson\u001b[0m\u001b[0;34m.\u001b[0m\u001b[0mloads\u001b[0m\u001b[0;34m(\u001b[0m\u001b[0mschema_str\u001b[0m\u001b[0;34m)\u001b[0m\u001b[0;34m)\u001b[0m\u001b[0;34m\u001b[0m\u001b[0;34m\u001b[0m\u001b[0m\n\u001b[0m\u001b[1;32m     14\u001b[0m \u001b[0;34m\u001b[0m\u001b[0m\n\u001b[1;32m     15\u001b[0m \u001b[0;31m# Apply Schema to DataFrame\u001b[0m\u001b[0;34m\u001b[0m\u001b[0;34m\u001b[0m\u001b[0m\n",
      "\u001b[0;32m/usr/lib/python3.10/json/__init__.py\u001b[0m in \u001b[0;36mloads\u001b[0;34m(s, cls, object_hook, parse_float, parse_int, parse_constant, object_pairs_hook, **kw)\u001b[0m\n\u001b[1;32m    344\u001b[0m             \u001b[0mparse_int\u001b[0m \u001b[0;32mis\u001b[0m \u001b[0;32mNone\u001b[0m \u001b[0;32mand\u001b[0m \u001b[0mparse_float\u001b[0m \u001b[0;32mis\u001b[0m \u001b[0;32mNone\u001b[0m \u001b[0;32mand\u001b[0m\u001b[0;34m\u001b[0m\u001b[0;34m\u001b[0m\u001b[0m\n\u001b[1;32m    345\u001b[0m             parse_constant is None and object_pairs_hook is None and not kw):\n\u001b[0;32m--> 346\u001b[0;31m         \u001b[0;32mreturn\u001b[0m \u001b[0m_default_decoder\u001b[0m\u001b[0;34m.\u001b[0m\u001b[0mdecode\u001b[0m\u001b[0;34m(\u001b[0m\u001b[0ms\u001b[0m\u001b[0;34m)\u001b[0m\u001b[0;34m\u001b[0m\u001b[0;34m\u001b[0m\u001b[0m\n\u001b[0m\u001b[1;32m    347\u001b[0m     \u001b[0;32mif\u001b[0m \u001b[0mcls\u001b[0m \u001b[0;32mis\u001b[0m \u001b[0;32mNone\u001b[0m\u001b[0;34m:\u001b[0m\u001b[0;34m\u001b[0m\u001b[0;34m\u001b[0m\u001b[0m\n\u001b[1;32m    348\u001b[0m         \u001b[0mcls\u001b[0m \u001b[0;34m=\u001b[0m \u001b[0mJSONDecoder\u001b[0m\u001b[0;34m\u001b[0m\u001b[0;34m\u001b[0m\u001b[0m\n",
      "\u001b[0;32m/usr/lib/python3.10/json/decoder.py\u001b[0m in \u001b[0;36mdecode\u001b[0;34m(self, s, _w)\u001b[0m\n\u001b[1;32m    335\u001b[0m \u001b[0;34m\u001b[0m\u001b[0m\n\u001b[1;32m    336\u001b[0m         \"\"\"\n\u001b[0;32m--> 337\u001b[0;31m         \u001b[0mobj\u001b[0m\u001b[0;34m,\u001b[0m \u001b[0mend\u001b[0m \u001b[0;34m=\u001b[0m \u001b[0mself\u001b[0m\u001b[0;34m.\u001b[0m\u001b[0mraw_decode\u001b[0m\u001b[0;34m(\u001b[0m\u001b[0ms\u001b[0m\u001b[0;34m,\u001b[0m \u001b[0midx\u001b[0m\u001b[0;34m=\u001b[0m\u001b[0m_w\u001b[0m\u001b[0;34m(\u001b[0m\u001b[0ms\u001b[0m\u001b[0;34m,\u001b[0m \u001b[0;36m0\u001b[0m\u001b[0;34m)\u001b[0m\u001b[0;34m.\u001b[0m\u001b[0mend\u001b[0m\u001b[0;34m(\u001b[0m\u001b[0;34m)\u001b[0m\u001b[0;34m)\u001b[0m\u001b[0;34m\u001b[0m\u001b[0;34m\u001b[0m\u001b[0m\n\u001b[0m\u001b[1;32m    338\u001b[0m         \u001b[0mend\u001b[0m \u001b[0;34m=\u001b[0m \u001b[0m_w\u001b[0m\u001b[0;34m(\u001b[0m\u001b[0ms\u001b[0m\u001b[0;34m,\u001b[0m \u001b[0mend\u001b[0m\u001b[0;34m)\u001b[0m\u001b[0;34m.\u001b[0m\u001b[0mend\u001b[0m\u001b[0;34m(\u001b[0m\u001b[0;34m)\u001b[0m\u001b[0;34m\u001b[0m\u001b[0;34m\u001b[0m\u001b[0m\n\u001b[1;32m    339\u001b[0m         \u001b[0;32mif\u001b[0m \u001b[0mend\u001b[0m \u001b[0;34m!=\u001b[0m \u001b[0mlen\u001b[0m\u001b[0;34m(\u001b[0m\u001b[0ms\u001b[0m\u001b[0;34m)\u001b[0m\u001b[0;34m:\u001b[0m\u001b[0;34m\u001b[0m\u001b[0;34m\u001b[0m\u001b[0m\n",
      "\u001b[0;32m/usr/lib/python3.10/json/decoder.py\u001b[0m in \u001b[0;36mraw_decode\u001b[0;34m(self, s, idx)\u001b[0m\n\u001b[1;32m    353\u001b[0m             \u001b[0mobj\u001b[0m\u001b[0;34m,\u001b[0m \u001b[0mend\u001b[0m \u001b[0;34m=\u001b[0m \u001b[0mself\u001b[0m\u001b[0;34m.\u001b[0m\u001b[0mscan_once\u001b[0m\u001b[0;34m(\u001b[0m\u001b[0ms\u001b[0m\u001b[0;34m,\u001b[0m \u001b[0midx\u001b[0m\u001b[0;34m)\u001b[0m\u001b[0;34m\u001b[0m\u001b[0;34m\u001b[0m\u001b[0m\n\u001b[1;32m    354\u001b[0m         \u001b[0;32mexcept\u001b[0m \u001b[0mStopIteration\u001b[0m \u001b[0;32mas\u001b[0m \u001b[0merr\u001b[0m\u001b[0;34m:\u001b[0m\u001b[0;34m\u001b[0m\u001b[0;34m\u001b[0m\u001b[0m\n\u001b[0;32m--> 355\u001b[0;31m             \u001b[0;32mraise\u001b[0m \u001b[0mJSONDecodeError\u001b[0m\u001b[0;34m(\u001b[0m\u001b[0;34m\"Expecting value\"\u001b[0m\u001b[0;34m,\u001b[0m \u001b[0ms\u001b[0m\u001b[0;34m,\u001b[0m \u001b[0merr\u001b[0m\u001b[0;34m.\u001b[0m\u001b[0mvalue\u001b[0m\u001b[0;34m)\u001b[0m \u001b[0;32mfrom\u001b[0m \u001b[0;32mNone\u001b[0m\u001b[0;34m\u001b[0m\u001b[0;34m\u001b[0m\u001b[0m\n\u001b[0m\u001b[1;32m    356\u001b[0m         \u001b[0;32mreturn\u001b[0m \u001b[0mobj\u001b[0m\u001b[0;34m,\u001b[0m \u001b[0mend\u001b[0m\u001b[0;34m\u001b[0m\u001b[0;34m\u001b[0m\u001b[0m\n",
      "\u001b[0;31mJSONDecodeError\u001b[0m: Expecting value: line 1 column 1 (char 0)"
     ]
    }
   ],
   "source": [
    "from pyspark.sql.types import StructType\n",
    "\n",
    "# Read CSV File\n",
    "csv_path = \"hdfs://localhost:9000/user1/twitter_customer_support/data.csv\"\n",
    "df_with_schema = spark.read.csv(csv_path, header=True)\n",
    "\n",
    "# Read Schema Text File\n",
    "schema_path = \"hdfs://localhost:9000/user1/twitter_customer_support/schema.txt\"\n",
    "schema_rdd = sc.textFile(schema_path)\n",
    "schema_str = schema_rdd.collect()[0]  # Assuming schema is stored in a single line\n",
    "\n",
    "# Parse JSON schema string\n",
    "parsed_schema = StructType.fromJson(json.loads(schema_str))\n",
    "\n",
    "# Apply Schema to DataFrame\n",
    "df_with_schema = df_with_schema.schema(parsed_schema)"
   ]
  },
  {
   "cell_type": "code",
   "execution_count": null,
   "id": "a0d5bd54",
   "metadata": {},
   "outputs": [],
   "source": []
  },
  {
   "cell_type": "code",
   "execution_count": null,
   "id": "f08c775f",
   "metadata": {},
   "outputs": [],
   "source": []
  },
  {
   "cell_type": "code",
   "execution_count": null,
   "id": "4a5ba37c",
   "metadata": {},
   "outputs": [],
   "source": []
  },
  {
   "cell_type": "code",
   "execution_count": null,
   "id": "968a8f98",
   "metadata": {},
   "outputs": [],
   "source": []
  },
  {
   "cell_type": "code",
   "execution_count": 95,
   "id": "750fb7e6",
   "metadata": {},
   "outputs": [],
   "source": [
    "# Defining the HDFS path where the CSV file and schema file are saved\n",
    "path = \"/user1/twitter_customer_support\""
   ]
  },
  {
   "cell_type": "code",
   "execution_count": null,
   "id": "e5f2e165",
   "metadata": {},
   "outputs": [],
   "source": [
    "# Reading the schema from the saved schema file\n",
    "schema_path = path + \"/schema.txt\"\n",
    "with open(schema_path, \"r\") as file:\n",
    "    schema_str = file.read()"
   ]
  },
  {
   "cell_type": "code",
   "execution_count": null,
   "id": "59f0859d",
   "metadata": {},
   "outputs": [],
   "source": [
    "from pyspark.sql.types import StructType"
   ]
  },
  {
   "cell_type": "code",
   "execution_count": null,
   "id": "cc4096db",
   "metadata": {},
   "outputs": [],
   "source": [
    "# Converting schema string back to a StructType object\n",
    "saved_schema = StructType.fromJson(eval(schema_str))"
   ]
  },
  {
   "cell_type": "code",
   "execution_count": 97,
   "id": "dc177980",
   "metadata": {},
   "outputs": [
    {
     "ename": "AnalysisException",
     "evalue": "[PATH_NOT_FOUND] Path does not exist: hdfs://localhost:9000/user1/twitter_customer_support.csv.",
     "output_type": "error",
     "traceback": [
      "\u001b[0;31m---------------------------------------------------------------------------\u001b[0m",
      "\u001b[0;31mAnalysisException\u001b[0m                         Traceback (most recent call last)",
      "\u001b[0;32m/tmp/ipykernel_77150/3082197390.py\u001b[0m in \u001b[0;36m<module>\u001b[0;34m\u001b[0m\n\u001b[1;32m      3\u001b[0m     \u001b[0;34m.\u001b[0m\u001b[0mformat\u001b[0m\u001b[0;34m(\u001b[0m\u001b[0;34m\"csv\"\u001b[0m\u001b[0;34m)\u001b[0m\u001b[0;31m \u001b[0m\u001b[0;31m\\\u001b[0m\u001b[0;34m\u001b[0m\u001b[0;34m\u001b[0m\u001b[0m\n\u001b[1;32m      4\u001b[0m     \u001b[0;34m.\u001b[0m\u001b[0moption\u001b[0m\u001b[0;34m(\u001b[0m\u001b[0;34m\"header\"\u001b[0m\u001b[0;34m,\u001b[0m \u001b[0;34m\"true\"\u001b[0m\u001b[0;34m)\u001b[0m\u001b[0;31m \u001b[0m\u001b[0;31m\\\u001b[0m\u001b[0;34m\u001b[0m\u001b[0;34m\u001b[0m\u001b[0m\n\u001b[0;32m----> 5\u001b[0;31m     \u001b[0;34m.\u001b[0m\u001b[0mload\u001b[0m\u001b[0;34m(\u001b[0m\u001b[0mpath\u001b[0m\u001b[0;34m)\u001b[0m\u001b[0;34m\u001b[0m\u001b[0;34m\u001b[0m\u001b[0m\n\u001b[0m",
      "\u001b[0;32m/usr/local/spark/python/pyspark/sql/readwriter.py\u001b[0m in \u001b[0;36mload\u001b[0;34m(self, path, format, schema, **options)\u001b[0m\n\u001b[1;32m    298\u001b[0m         \u001b[0mself\u001b[0m\u001b[0;34m.\u001b[0m\u001b[0moptions\u001b[0m\u001b[0;34m(\u001b[0m\u001b[0;34m**\u001b[0m\u001b[0moptions\u001b[0m\u001b[0;34m)\u001b[0m\u001b[0;34m\u001b[0m\u001b[0;34m\u001b[0m\u001b[0m\n\u001b[1;32m    299\u001b[0m         \u001b[0;32mif\u001b[0m \u001b[0misinstance\u001b[0m\u001b[0;34m(\u001b[0m\u001b[0mpath\u001b[0m\u001b[0;34m,\u001b[0m \u001b[0mstr\u001b[0m\u001b[0;34m)\u001b[0m\u001b[0;34m:\u001b[0m\u001b[0;34m\u001b[0m\u001b[0;34m\u001b[0m\u001b[0m\n\u001b[0;32m--> 300\u001b[0;31m             \u001b[0;32mreturn\u001b[0m \u001b[0mself\u001b[0m\u001b[0;34m.\u001b[0m\u001b[0m_df\u001b[0m\u001b[0;34m(\u001b[0m\u001b[0mself\u001b[0m\u001b[0;34m.\u001b[0m\u001b[0m_jreader\u001b[0m\u001b[0;34m.\u001b[0m\u001b[0mload\u001b[0m\u001b[0;34m(\u001b[0m\u001b[0mpath\u001b[0m\u001b[0;34m)\u001b[0m\u001b[0;34m)\u001b[0m\u001b[0;34m\u001b[0m\u001b[0;34m\u001b[0m\u001b[0m\n\u001b[0m\u001b[1;32m    301\u001b[0m         \u001b[0;32melif\u001b[0m \u001b[0mpath\u001b[0m \u001b[0;32mis\u001b[0m \u001b[0;32mnot\u001b[0m \u001b[0;32mNone\u001b[0m\u001b[0;34m:\u001b[0m\u001b[0;34m\u001b[0m\u001b[0;34m\u001b[0m\u001b[0m\n\u001b[1;32m    302\u001b[0m             \u001b[0;32mif\u001b[0m \u001b[0mtype\u001b[0m\u001b[0;34m(\u001b[0m\u001b[0mpath\u001b[0m\u001b[0;34m)\u001b[0m \u001b[0;34m!=\u001b[0m \u001b[0mlist\u001b[0m\u001b[0;34m:\u001b[0m\u001b[0;34m\u001b[0m\u001b[0;34m\u001b[0m\u001b[0m\n",
      "\u001b[0;32m/usr/local/spark/python/lib/py4j-0.10.9.7-src.zip/py4j/java_gateway.py\u001b[0m in \u001b[0;36m__call__\u001b[0;34m(self, *args)\u001b[0m\n\u001b[1;32m   1320\u001b[0m \u001b[0;34m\u001b[0m\u001b[0m\n\u001b[1;32m   1321\u001b[0m         \u001b[0manswer\u001b[0m \u001b[0;34m=\u001b[0m \u001b[0mself\u001b[0m\u001b[0;34m.\u001b[0m\u001b[0mgateway_client\u001b[0m\u001b[0;34m.\u001b[0m\u001b[0msend_command\u001b[0m\u001b[0;34m(\u001b[0m\u001b[0mcommand\u001b[0m\u001b[0;34m)\u001b[0m\u001b[0;34m\u001b[0m\u001b[0;34m\u001b[0m\u001b[0m\n\u001b[0;32m-> 1322\u001b[0;31m         return_value = get_return_value(\n\u001b[0m\u001b[1;32m   1323\u001b[0m             answer, self.gateway_client, self.target_id, self.name)\n\u001b[1;32m   1324\u001b[0m \u001b[0;34m\u001b[0m\u001b[0m\n",
      "\u001b[0;32m/usr/local/spark/python/pyspark/errors/exceptions/captured.py\u001b[0m in \u001b[0;36mdeco\u001b[0;34m(*a, **kw)\u001b[0m\n\u001b[1;32m    173\u001b[0m                 \u001b[0;31m# Hide where the exception came from that shows a non-Pythonic\u001b[0m\u001b[0;34m\u001b[0m\u001b[0;34m\u001b[0m\u001b[0m\n\u001b[1;32m    174\u001b[0m                 \u001b[0;31m# JVM exception message.\u001b[0m\u001b[0;34m\u001b[0m\u001b[0;34m\u001b[0m\u001b[0m\n\u001b[0;32m--> 175\u001b[0;31m                 \u001b[0;32mraise\u001b[0m \u001b[0mconverted\u001b[0m \u001b[0;32mfrom\u001b[0m \u001b[0;32mNone\u001b[0m\u001b[0;34m\u001b[0m\u001b[0;34m\u001b[0m\u001b[0m\n\u001b[0m\u001b[1;32m    176\u001b[0m             \u001b[0;32melse\u001b[0m\u001b[0;34m:\u001b[0m\u001b[0;34m\u001b[0m\u001b[0;34m\u001b[0m\u001b[0m\n\u001b[1;32m    177\u001b[0m                 \u001b[0;32mraise\u001b[0m\u001b[0;34m\u001b[0m\u001b[0;34m\u001b[0m\u001b[0m\n",
      "\u001b[0;31mAnalysisException\u001b[0m: [PATH_NOT_FOUND] Path does not exist: hdfs://localhost:9000/user1/twitter_customer_support.csv."
     ]
    }
   ],
   "source": [
    "# Reading in the CSV file with the saved schema\n",
    "twitter_cs_preprocessing_df = spark.read \\\n",
    "    .format(\"csv\") \\\n",
    "    .schema(saved_schema) \\\n",
    "    .option(\"header\", \"true\") \\\n",
    "    .load(path)\n"
   ]
  },
  {
   "cell_type": "code",
   "execution_count": 114,
   "id": "8948830e",
   "metadata": {},
   "outputs": [
    {
     "name": "stdout",
     "output_type": "stream",
     "text": [
      "root\n",
      " |-- tweet_id: string (nullable = true)\n",
      " |-- author_id: string (nullable = true)\n",
      " |-- inbound: string (nullable = true)\n",
      " |-- created_at: string (nullable = true)\n",
      " |-- text: string (nullable = true)\n",
      " |-- response_tweet_id: string (nullable = true)\n",
      " |-- in_response_to_tweet_id: string (nullable = true)\n",
      "\n"
     ]
    }
   ],
   "source": [
    "df_with_schema.printSchema()"
   ]
  },
  {
   "cell_type": "markdown",
   "id": "a5867f24",
   "metadata": {},
   "source": [
    "### Reading from HBase"
   ]
  },
  {
   "cell_type": "code",
   "execution_count": null,
   "id": "3044f2d0",
   "metadata": {},
   "outputs": [],
   "source": [
    "# hbase_df = spark.read \\\n",
    "#     .format(\"org.apache.spark.sql.execution.datasources.hbase\") \\\n",
    "#     .option(\"hbase.table\", \"your_hbase_table\") \\\n",
    "#     .option(\"hbase.columns.mapping\", \"cf:col1,cf:col2\") \\\n",
    "#     .load()\n"
   ]
  },
  {
   "cell_type": "code",
   "execution_count": null,
   "id": "c1234f5b",
   "metadata": {},
   "outputs": [],
   "source": [
    "# # Show the DataFrame\n",
    "# hbase_df.show()"
   ]
  },
  {
   "cell_type": "code",
   "execution_count": null,
   "id": "aa302aae",
   "metadata": {},
   "outputs": [],
   "source": [
    "# # Viewing the Schema\n",
    "# hbase_df.printSchema()"
   ]
  },
  {
   "cell_type": "code",
   "execution_count": null,
   "id": "489fa535",
   "metadata": {},
   "outputs": [],
   "source": [
    "# df_cached = hbase_df.cache()\n",
    "# print(df_cached.count())"
   ]
  },
  {
   "cell_type": "markdown",
   "id": "ba81d571",
   "metadata": {},
   "source": [
    "### Word Count"
   ]
  },
  {
   "cell_type": "markdown",
   "id": "9945ef7a",
   "metadata": {},
   "source": [
    "On reading in the data we will now cache the Spark Dataframe to memory for faster access. This is one of the key features of Apache Spark which allow up to 100 times quicker processing than Hadoop Map-Reduce."
   ]
  },
  {
   "cell_type": "code",
   "execution_count": null,
   "id": "26f09072",
   "metadata": {
    "scrolled": false
   },
   "outputs": [],
   "source": [
    "df_cached = twitter_cs_preprocessing_df.cache()"
   ]
  },
  {
   "cell_type": "markdown",
   "id": "312f7db9",
   "metadata": {},
   "source": [
    "We will drop any null values within the 'text' column before tekenising the feature. The tokeniser function is provided by Sparks Machine Learning library. Another benefit provided over Hadoop Map-reduce."
   ]
  },
  {
   "cell_type": "code",
   "execution_count": null,
   "id": "ed00a789",
   "metadata": {},
   "outputs": [],
   "source": [
    "df_cached = df_cached.dropna(subset=['text'])"
   ]
  },
  {
   "cell_type": "code",
   "execution_count": null,
   "id": "ca81926b",
   "metadata": {},
   "outputs": [],
   "source": [
    "from pyspark.ml.feature import Tokenizer"
   ]
  },
  {
   "cell_type": "code",
   "execution_count": null,
   "id": "8682a797",
   "metadata": {},
   "outputs": [],
   "source": [
    "tokenizer = Tokenizer(inputCol = 'text',\n",
    "                     outputCol = 'words')"
   ]
  },
  {
   "cell_type": "code",
   "execution_count": null,
   "id": "6f4940f8",
   "metadata": {},
   "outputs": [],
   "source": [
    "df_cached = tokenizer.transform(df_cached)"
   ]
  },
  {
   "cell_type": "code",
   "execution_count": null,
   "id": "59a7e762",
   "metadata": {},
   "outputs": [],
   "source": [
    "df_cached.show(truncate=12)"
   ]
  },
  {
   "cell_type": "code",
   "execution_count": null,
   "id": "d3fb8918",
   "metadata": {},
   "outputs": [],
   "source": [
    "from pyspark.sql.functions import udf\n",
    "from pyspark.sql.types import IntegerType"
   ]
  },
  {
   "cell_type": "markdown",
   "id": "024d4b65",
   "metadata": {},
   "source": [
    "Will will use User Defined Function (UDF) to demonstrate another feature in SparkSQL. UDF's allow us to customise functions in languages like Java, Scala or in ur case Python. Here we call the udf count_tokens which will count the number of words as integers in the words array column thats generated by the tokenizer."
   ]
  },
  {
   "cell_type": "code",
   "execution_count": null,
   "id": "2609f21f",
   "metadata": {},
   "outputs": [],
   "source": [
    "count_tokens = udf(lambda words: len(words), IntegerType())"
   ]
  },
  {
   "cell_type": "markdown",
   "id": "284146ec",
   "metadata": {},
   "source": [
    "On applying the udf we create a new colum 'num_words' for the number of words within 'word' and keep the df in memory."
   ]
  },
  {
   "cell_type": "code",
   "execution_count": null,
   "id": "76a9dbda",
   "metadata": {},
   "outputs": [],
   "source": [
    "df_cached = df_cached.withColumn('num_words', count_tokens(df_cached.words)).cache()"
   ]
  },
  {
   "cell_type": "markdown",
   "id": "3108f6aa",
   "metadata": {},
   "source": [
    "Viewing the changes following tokenising and word count to the Schema."
   ]
  },
  {
   "cell_type": "code",
   "execution_count": null,
   "id": "33212169",
   "metadata": {
    "scrolled": true
   },
   "outputs": [],
   "source": [
    "df_cached.printSchema()"
   ]
  },
  {
   "cell_type": "code",
   "execution_count": null,
   "id": "b9ec30ee",
   "metadata": {
    "scrolled": false
   },
   "outputs": [],
   "source": [
    "df_cached.show(truncate=10)"
   ]
  },
  {
   "cell_type": "markdown",
   "id": "b8d88aa0",
   "metadata": {},
   "source": [
    "The warning highlights that the memory thats been allocated to Spark is insufficient. Spark computed that the RDD rdd_412_0 would require approximately 248.5 MiB of memory to cache, but as there was not enough available, it persisted the RDD to disk instead of caching it entirely in memory.\n",
    "\n",
    "While we haven't directly used RDDs in the code, Spark DataFrames, which are built on top of RDDs, automatically manage partitions and parallelism. Spark distributes the data across partitions and executes operations in parallel, optimizing resource utilization.\n",
    "\n",
    "Persisting RDDs to disk instead of caching them in memory can affect performance, as reading data from disk is slower compared to reading from memory. "
   ]
  },
  {
   "cell_type": "code",
   "execution_count": null,
   "id": "bfa8829f",
   "metadata": {
    "scrolled": true
   },
   "outputs": [],
   "source": [
    "df_cached.select('words', 'num_words').show(truncate=False)"
   ]
  },
  {
   "cell_type": "code",
   "execution_count": null,
   "id": "8f11e4a2",
   "metadata": {
    "scrolled": true
   },
   "outputs": [],
   "source": [
    "# # Converting from Spark DataFrame to Pandas DataFrame for plotting\n",
    "# num_words_pd = df_cached.select(\"num_words\").toPandas()"
   ]
  },
  {
   "cell_type": "markdown",
   "id": "711bf15f",
   "metadata": {},
   "source": [
    "It seems that the data is too large to fit into memory, resulting in an out-of-memory error. Applying the same code earlier for characters instead of words did not result in this error. It could be that words require more memory as characters are stored in bytes or that more resources were available at the time. Either way its a memory issue and attempting this process on a cached dataframe has used all available memory and failed to execute."
   ]
  },
  {
   "cell_type": "markdown",
   "id": "ae2809ca",
   "metadata": {},
   "source": [
    "There are a number of ways around this including the proper use of cluster, providing more memory,or even sampling and processing in chunks. Although processing time will be increased, we will continue bypersisting the dataframe to disk."
   ]
  },
  {
   "cell_type": "code",
   "execution_count": null,
   "id": "7ed89bdc",
   "metadata": {},
   "outputs": [],
   "source": [
    "from pyspark.storagelevel import StorageLevel"
   ]
  },
  {
   "cell_type": "code",
   "execution_count": null,
   "id": "57aba00b",
   "metadata": {
    "scrolled": true
   },
   "outputs": [],
   "source": [
    "# Persisting the DataFrame to disk before processing\n",
    "df_cached.persist(storageLevel=StorageLevel.DISK_ONLY)"
   ]
  },
  {
   "cell_type": "code",
   "execution_count": null,
   "id": "56baabb3",
   "metadata": {
    "scrolled": true
   },
   "outputs": [],
   "source": [
    "# Converting from Spark DataFrame to Pandas DataFrame for plotting\n",
    "num_words_pd = df_cached.select(\"num_words\").toPandas()"
   ]
  },
  {
   "cell_type": "code",
   "execution_count": null,
   "id": "fb2573c6",
   "metadata": {},
   "outputs": [],
   "source": [
    "# Plotting\n",
    "num_words_pd['num_words'].describe()\n",
    "plt.figure(figsize=(15, 10))\n",
    "plt.hist(num_words_pd[\"num_words\"], bins=50, color='SeaGreen', edgecolor='black')\n",
    "plt.xlabel('Tweet Length (Words)', fontsize=15)\n",
    "plt.ylabel('Frequency', fontsize=15)\n",
    "plt.title('Histogram of Tweet Lengths by Words', fontsize=18)\n",
    "plt.grid(True)\n",
    "plt.show()"
   ]
  },
  {
   "cell_type": "code",
   "execution_count": null,
   "id": "225c4770",
   "metadata": {},
   "outputs": [],
   "source": []
  },
  {
   "cell_type": "code",
   "execution_count": null,
   "id": "4a82dd58",
   "metadata": {},
   "outputs": [],
   "source": [
    "num_bins = 50\n",
    "\n",
    "# Extract the column 'num_words' from the DataFrame and convert it to a list\n",
    "num_words_list = df_cached.select(\"num_words\").rdd.flatMap(lambda x: x).collect()\n",
    "\n",
    "# Plot the histogram directly from the list of values\n",
    "plt.figure(figsize=(15, 10))\n",
    "plt.hist(num_words_list, bins=num_bins, color='SeaGreen', edgecolor='black')\n",
    "plt.xlabel('Tweet Length (Words)', fontsize=15)\n",
    "plt.ylabel('Frequency', fontsize=15)\n",
    "plt.title('Histogram of Tweet Lengths by Words', fontsize=18)\n",
    "plt.grid(True)\n",
    "plt.show()"
   ]
  },
  {
   "cell_type": "code",
   "execution_count": null,
   "id": "d4d591da",
   "metadata": {},
   "outputs": [],
   "source": [
    "# Extract the column 'num_words' from the DataFrame and convert it to a list\n",
    "num_words_list = df_cached.select(\"num_words\").rdd.flatMap(lambda x: x).collect()\n",
    "\n",
    "# Plot the histogram directly from the list of values\n",
    "plt.figure(figsize=(15, 10))\n",
    "plt.hist(num_words_list, bins=50, color='SeaGreen', edgecolor='black')\n",
    "plt.xlabel('Tweet Length (Words)', fontsize=15)\n",
    "plt.ylabel('Frequency', fontsize=15)\n",
    "plt.title('Histogram of Tweet Lengths by Words', fontsize=18)\n",
    "plt.grid(True)\n",
    "plt.show()"
   ]
  },
  {
   "cell_type": "code",
   "execution_count": null,
   "id": "dae5ce59",
   "metadata": {},
   "outputs": [],
   "source": []
  },
  {
   "cell_type": "code",
   "execution_count": null,
   "id": "54bbbf21",
   "metadata": {},
   "outputs": [],
   "source": []
  },
  {
   "cell_type": "code",
   "execution_count": null,
   "id": "4889f3b9",
   "metadata": {},
   "outputs": [],
   "source": []
  },
  {
   "cell_type": "code",
   "execution_count": null,
   "id": "ad0d561e",
   "metadata": {},
   "outputs": [],
   "source": [
    "num_words_pd['num_words'].describe()"
   ]
  },
  {
   "cell_type": "code",
   "execution_count": null,
   "id": "3bcbeaf4",
   "metadata": {},
   "outputs": [],
   "source": [
    "# Converting from Spark DataFrame to Pandas DataFrame for plotting\n",
    "num_words_pd = df_cached.select(\"num_words\").toPandas()\n",
    "\n",
    "num_words_pd['num_words'].describe()\n",
    "\n",
    "plt.figure(figsize=(15, 10))\n",
    "plt.hist(num_words_pd[\"num_words\"], bins=50, color='SeaGreen', edgecolor='black')\n",
    "plt.xlabel('Tweet Length (Words)', fontsize = 15)\n",
    "plt.ylabel('Frequency', fontsize = 15)\n",
    "plt.title('Histogram of Tweet Lengths by Words', fontsize = 18)\n",
    "plt.grid(True)\n",
    "plt.show()"
   ]
  },
  {
   "cell_type": "markdown",
   "id": "f3fd7dfb",
   "metadata": {},
   "source": [
    "### Word Frequency "
   ]
  },
  {
   "cell_type": "code",
   "execution_count": null,
   "id": "077e1616",
   "metadata": {},
   "outputs": [],
   "source": []
  },
  {
   "cell_type": "code",
   "execution_count": null,
   "id": "e6c1fe30",
   "metadata": {},
   "outputs": [],
   "source": []
  },
  {
   "cell_type": "code",
   "execution_count": null,
   "id": "4743d7f2",
   "metadata": {},
   "outputs": [],
   "source": []
  }
 ],
 "metadata": {
  "kernelspec": {
   "display_name": "Python 3 (ipykernel)",
   "language": "python",
   "name": "python3"
  },
  "language_info": {
   "codemirror_mode": {
    "name": "ipython",
    "version": 3
   },
   "file_extension": ".py",
   "mimetype": "text/x-python",
   "name": "python",
   "nbconvert_exporter": "python",
   "pygments_lexer": "ipython3",
   "version": "3.10.12"
  }
 },
 "nbformat": 4,
 "nbformat_minor": 5
}
