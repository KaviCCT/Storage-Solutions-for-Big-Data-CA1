{
 "cells": [
  {
   "cell_type": "markdown",
   "id": "f46e6e9f",
   "metadata": {},
   "source": [
    "## Twitter Big Data Analysis"
   ]
  },
  {
   "cell_type": "markdown",
   "id": "11ce42e1",
   "metadata": {},
   "source": [
    "### Checking Spark Session"
   ]
  },
  {
   "cell_type": "code",
   "execution_count": 47,
   "id": "81e75da9",
   "metadata": {},
   "outputs": [
    {
     "data": {
      "text/html": [
       "\n",
       "        <div>\n",
       "            <p><b>SparkContext</b></p>\n",
       "\n",
       "            <p><a href=\"http://10.0.2.15:4040\">Spark UI</a></p>\n",
       "\n",
       "            <dl>\n",
       "              <dt>Version</dt>\n",
       "                <dd><code>v3.4.2</code></dd>\n",
       "              <dt>Master</dt>\n",
       "                <dd><code>local[*]</code></dd>\n",
       "              <dt>AppName</dt>\n",
       "                <dd><code>PySparkShell</code></dd>\n",
       "            </dl>\n",
       "        </div>\n",
       "        "
      ],
      "text/plain": [
       "<SparkContext master=local[*] appName=PySparkShell>"
      ]
     },
     "execution_count": 47,
     "metadata": {},
     "output_type": "execute_result"
    }
   ],
   "source": [
    "sc"
   ]
  },
  {
   "cell_type": "markdown",
   "id": "9efb4b97",
   "metadata": {},
   "source": [
    "### Loading in the Data"
   ]
  },
  {
   "cell_type": "code",
   "execution_count": 1,
   "id": "99180bf8",
   "metadata": {},
   "outputs": [
    {
     "name": "stderr",
     "output_type": "stream",
     "text": [
      "                                                                                \r"
     ]
    }
   ],
   "source": [
    "twitter = \"/user1/twitter_training.csv\"\n",
    "\n",
    "twitter_df = spark.read.csv(twitter, header='true', inferSchema='true')\n",
    "twitter_df.createOrReplaceTempView(\"twitter\")"
   ]
  },
  {
   "cell_type": "code",
   "execution_count": 2,
   "id": "215f2f06",
   "metadata": {},
   "outputs": [
    {
     "name": "stdout",
     "output_type": "stream",
     "text": [
      "root\n",
      " |-- 2401: integer (nullable = true)\n",
      " |-- Borderlands: string (nullable = true)\n",
      " |-- Positive: string (nullable = true)\n",
      " |-- im getting on borderlands and i will murder you all ,: string (nullable = true)\n",
      "\n"
     ]
    }
   ],
   "source": [
    "twitter_df.printSchema()"
   ]
  },
  {
   "cell_type": "code",
   "execution_count": 3,
   "id": "d14c34eb",
   "metadata": {},
   "outputs": [],
   "source": [
    "from pyspark.sql.types import StructType, StructField, IntegerType, StringType"
   ]
  },
  {
   "cell_type": "code",
   "execution_count": 4,
   "id": "e50320d6",
   "metadata": {},
   "outputs": [],
   "source": [
    "newSchema = StructType([\\\n",
    "                       StructField(\"tweet_ID\", IntegerType(), True),\n",
    "                       StructField(\"entity\", StringType(), True),\n",
    "                       StructField(\"sentiment\", StringType(), True),\n",
    "                       StructField(\"tweet_content\", StringType(), True)\n",
    "                       ])"
   ]
  },
  {
   "cell_type": "code",
   "execution_count": 5,
   "id": "84b20995",
   "metadata": {},
   "outputs": [],
   "source": [
    "twitter_df = spark.read.format(\"csv\")\\\n",
    "    .schema (newSchema)\\\n",
    "    .option(\"inferSchema\", \"True\")\\\n",
    "    .option(\"path\", twitter)\\\n",
    "    .load()"
   ]
  },
  {
   "cell_type": "code",
   "execution_count": 6,
   "id": "722ddb5a",
   "metadata": {},
   "outputs": [
    {
     "name": "stdout",
     "output_type": "stream",
     "text": [
      "root\n",
      " |-- tweet_ID: integer (nullable = true)\n",
      " |-- entity: string (nullable = true)\n",
      " |-- sentiment: string (nullable = true)\n",
      " |-- tweet_content: string (nullable = true)\n",
      "\n"
     ]
    }
   ],
   "source": [
    "twitter_df.printSchema()"
   ]
  },
  {
   "cell_type": "markdown",
   "id": "cde441c0",
   "metadata": {},
   "source": [
    "### EDA and Preprocessing"
   ]
  },
  {
   "cell_type": "code",
   "execution_count": 7,
   "id": "d5e9f55f",
   "metadata": {
    "scrolled": true
   },
   "outputs": [
    {
     "name": "stdout",
     "output_type": "stream",
     "text": [
      "Count of rows: 74682\n"
     ]
    },
    {
     "name": "stderr",
     "output_type": "stream",
     "text": [
      "\r",
      "[Stage 5:>                                                          (0 + 2) / 2]\r"
     ]
    },
    {
     "name": "stdout",
     "output_type": "stream",
     "text": [
      "Count of distinct rows: 71938\n"
     ]
    },
    {
     "name": "stderr",
     "output_type": "stream",
     "text": [
      "\r",
      "                                                                                \r"
     ]
    }
   ],
   "source": [
    "print('Count of rows: {0}'.format(twitter_df.count()))\n",
    "print('Count of distinct rows: {0}'.format(twitter_df.distinct().count()))"
   ]
  },
  {
   "cell_type": "code",
   "execution_count": 8,
   "id": "848d2f1c",
   "metadata": {},
   "outputs": [
    {
     "name": "stderr",
     "output_type": "stream",
     "text": [
      "\r",
      "[Stage 11:=============================>                            (1 + 1) / 2]\r"
     ]
    },
    {
     "name": "stdout",
     "output_type": "stream",
     "text": [
      "+--------+--------------------+----------+--------------------+\n",
      "|tweet_ID|              entity| sentiment|       tweet_content|\n",
      "+--------+--------------------+----------+--------------------+\n",
      "|    2504|         Borderlands|  Positive|    IM SO FUCKING IN|\n",
      "|    2600|         Borderlands|  Positive|I want to say tha...|\n",
      "|    2716|         Borderlands|   Neutral|This would be an ...|\n",
      "|    2729|         Borderlands|   Neutral|back on my dry bo...|\n",
      "|    2741|         Borderlands|  Positive|been mad inactive...|\n",
      "|    2763|         Borderlands|  Negative|Not to say that t...|\n",
      "|    1614|CallOfDutyBlackop...|  Positive|This sounds like ...|\n",
      "|    1638|CallOfDutyBlackop...|  Negative|Gonna fucking be ass|\n",
      "|    1700|CallOfDutyBlackop...|Irrelevant|You can’t say thi...|\n",
      "|    1715|CallOfDutyBlackop...|  Negative|I tried the new a...|\n",
      "|    1765|CallOfDutyBlackop...|  Positive|sooo hyped for wh...|\n",
      "|    1889|CallOfDutyBlackop...|Irrelevant|I give up... Too ...|\n",
      "|    1913|CallOfDutyBlackop...|  Positive|wow they really w...|\n",
      "|     194|              Amazon|  Negative|im calling amazon...|\n",
      "|     195|              Amazon|  Negative|YOU A BOUGHT SOME...|\n",
      "|     212|              Amazon|Irrelevant|@Airtel_Presence ...|\n",
      "|     242|              Amazon|   Neutral|The Pre-Med & the...|\n",
      "|     257|              Amazon|   Neutral|\"y'all complain a...|\n",
      "|     287|              Amazon|   Neutral|Card Against Huma...|\n",
      "|     314|              Amazon|  Negative|Please explain ho...|\n",
      "+--------+--------------------+----------+--------------------+\n",
      "only showing top 20 rows\n",
      "\n"
     ]
    },
    {
     "name": "stderr",
     "output_type": "stream",
     "text": [
      "\r",
      "                                                                                \r"
     ]
    }
   ],
   "source": [
    "twitter_df_preprocessing = twitter_df.dropDuplicates()\n",
    "twitter_df_preprocessing.show()"
   ]
  },
  {
   "cell_type": "code",
   "execution_count": 9,
   "id": "ec2391aa",
   "metadata": {
    "scrolled": true
   },
   "outputs": [
    {
     "name": "stdout",
     "output_type": "stream",
     "text": [
      "Count of rows: 71938\n"
     ]
    },
    {
     "name": "stderr",
     "output_type": "stream",
     "text": [
      "\r",
      "[Stage 20:>                                                         (0 + 2) / 2]\r"
     ]
    },
    {
     "name": "stdout",
     "output_type": "stream",
     "text": [
      "Count of distinct rows: 71938\n"
     ]
    },
    {
     "name": "stderr",
     "output_type": "stream",
     "text": [
      "\r",
      "                                                                                \r"
     ]
    }
   ],
   "source": [
    "print('Count of rows: {0}'.format(twitter_df_preprocessing.count()))\n",
    "print('Count of distinct rows: {0}'.format(twitter_df_preprocessing.distinct().count()))"
   ]
  },
  {
   "cell_type": "code",
   "execution_count": 10,
   "id": "fd6db7cd",
   "metadata": {},
   "outputs": [],
   "source": [
    "from pyspark.sql.functions import col, sum as spark_sum"
   ]
  },
  {
   "cell_type": "code",
   "execution_count": 11,
   "id": "98d5c809",
   "metadata": {},
   "outputs": [
    {
     "name": "stdout",
     "output_type": "stream",
     "text": [
      "+--------+------+---------+-------------+\n",
      "|tweet_ID|entity|sentiment|tweet_content|\n",
      "+--------+------+---------+-------------+\n",
      "|       0|     0|        0|          326|\n",
      "+--------+------+---------+-------------+\n",
      "\n"
     ]
    }
   ],
   "source": [
    "# Counting missing values for each feature column\n",
    "missing_values = twitter_df_preprocessing.select(*(spark_sum(col(c).isNull().cast(\"int\")).alias(c) for c in twitter_df_preprocessing.columns))\n",
    "\n",
    "# Displaying the missing value count\n",
    "missing_values.show()"
   ]
  },
  {
   "cell_type": "code",
   "execution_count": 12,
   "id": "68715069",
   "metadata": {},
   "outputs": [],
   "source": [
    "# Dropping rows with missing values\n",
    "twitter_df_preprocessing = twitter_df_preprocessing.dropna()"
   ]
  },
  {
   "cell_type": "code",
   "execution_count": 13,
   "id": "6579fb56",
   "metadata": {},
   "outputs": [
    {
     "name": "stderr",
     "output_type": "stream",
     "text": [
      "\r",
      "[Stage 32:>                                                         (0 + 2) / 2]\r"
     ]
    },
    {
     "name": "stdout",
     "output_type": "stream",
     "text": [
      "+--------+------+---------+-------------+\n",
      "|tweet_ID|entity|sentiment|tweet_content|\n",
      "+--------+------+---------+-------------+\n",
      "|       0|     0|        0|            0|\n",
      "+--------+------+---------+-------------+\n",
      "\n"
     ]
    },
    {
     "name": "stderr",
     "output_type": "stream",
     "text": [
      "\r",
      "                                                                                \r"
     ]
    }
   ],
   "source": [
    "# Counting missing values for each feature column\n",
    "missing_values = twitter_df_preprocessing.select(*(spark_sum(col(c).isNull().cast(\"int\")).alias(c) for c in twitter_df_preprocessing.columns))\n",
    "\n",
    "# Displaying the missing value count\n",
    "missing_values.show()"
   ]
  },
  {
   "cell_type": "code",
   "execution_count": 14,
   "id": "1cc25430",
   "metadata": {},
   "outputs": [
    {
     "name": "stdout",
     "output_type": "stream",
     "text": [
      "root\n",
      " |-- tweet_ID: integer (nullable = true)\n",
      " |-- entity: string (nullable = true)\n",
      " |-- sentiment: string (nullable = true)\n",
      " |-- tweet_content: string (nullable = true)\n",
      "\n"
     ]
    }
   ],
   "source": [
    "# Viewing the schema of the new DataFrame\n",
    "twitter_df_preprocessing.printSchema()"
   ]
  },
  {
   "cell_type": "code",
   "execution_count": 15,
   "id": "00cc3a11",
   "metadata": {
    "scrolled": false
   },
   "outputs": [
    {
     "name": "stdout",
     "output_type": "stream",
     "text": [
      "+--------+--------------------+----------+--------------------+\n",
      "|tweet_ID|              entity| sentiment|       tweet_content|\n",
      "+--------+--------------------+----------+--------------------+\n",
      "|    2504|         Borderlands|  Positive|    IM SO FUCKING IN|\n",
      "|    2600|         Borderlands|  Positive|I want to say tha...|\n",
      "|    2716|         Borderlands|   Neutral|This would be an ...|\n",
      "|    2729|         Borderlands|   Neutral|back on my dry bo...|\n",
      "|    2741|         Borderlands|  Positive|been mad inactive...|\n",
      "|    2763|         Borderlands|  Negative|Not to say that t...|\n",
      "|    1614|CallOfDutyBlackop...|  Positive|This sounds like ...|\n",
      "|    1638|CallOfDutyBlackop...|  Negative|Gonna fucking be ass|\n",
      "|    1700|CallOfDutyBlackop...|Irrelevant|You can’t say thi...|\n",
      "|    1715|CallOfDutyBlackop...|  Negative|I tried the new a...|\n",
      "|    1765|CallOfDutyBlackop...|  Positive|sooo hyped for wh...|\n",
      "|    1889|CallOfDutyBlackop...|Irrelevant|I give up... Too ...|\n",
      "|    1913|CallOfDutyBlackop...|  Positive|wow they really w...|\n",
      "|     194|              Amazon|  Negative|im calling amazon...|\n",
      "|     195|              Amazon|  Negative|YOU A BOUGHT SOME...|\n",
      "|     212|              Amazon|Irrelevant|@Airtel_Presence ...|\n",
      "|     242|              Amazon|   Neutral|The Pre-Med & the...|\n",
      "|     257|              Amazon|   Neutral|\"y'all complain a...|\n",
      "|     287|              Amazon|   Neutral|Card Against Huma...|\n",
      "|     314|              Amazon|  Negative|Please explain ho...|\n",
      "+--------+--------------------+----------+--------------------+\n",
      "only showing top 20 rows\n",
      "\n"
     ]
    }
   ],
   "source": [
    "# Viewing first few rows of the filtered DataFrame\n",
    "twitter_df_preprocessing.show()"
   ]
  },
  {
   "cell_type": "code",
   "execution_count": 16,
   "id": "d5021991",
   "metadata": {},
   "outputs": [
    {
     "name": "stdout",
     "output_type": "stream",
     "text": [
      "The shape of the DataFrame:\n",
      "\n",
      "Number of Rows: 71612\n",
      "Number of Columns: 4\n"
     ]
    }
   ],
   "source": [
    "# Checking the new shape of the DataFrame\n",
    "num_rows = twitter_df_preprocessing.count()\n",
    "num_columns = len(twitter_df_preprocessing.columns)\n",
    "\n",
    "print(\"The shape of the DataFrame:\\n\")\n",
    "print(\"Number of Rows:\", num_rows)\n",
    "print(\"Number of Columns:\", num_columns)"
   ]
  },
  {
   "cell_type": "markdown",
   "id": "ee0d45cf",
   "metadata": {},
   "source": [
    "### EDA : Statistical Analsysis"
   ]
  },
  {
   "cell_type": "code",
   "execution_count": 17,
   "id": "53489598",
   "metadata": {},
   "outputs": [
    {
     "name": "stdout",
     "output_type": "stream",
     "text": [
      "\n",
      "Basic Statistics for Numerical Columns:\n"
     ]
    },
    {
     "name": "stderr",
     "output_type": "stream",
     "text": [
      "24/04/15 17:30:02 WARN package: Truncated the string representation of a plan since it was too large. This behavior can be adjusted by setting 'spark.sql.debug.maxToStringFields'.\n",
      "[Stage 49:>                                                         (0 + 2) / 2]\r"
     ]
    },
    {
     "name": "stdout",
     "output_type": "stream",
     "text": [
      "+-------+------------------+---------------+----------+--------------------+\n",
      "|summary|          tweet_ID|         entity| sentiment|       tweet_content|\n",
      "+-------+------------------+---------------+----------+--------------------+\n",
      "|  count|             71612|          71612|     71612|               71612|\n",
      "|   mean| 6436.986440819975|           null|      null|  3.2857142857142856|\n",
      "| stddev|3741.9147567754244|           null|      null|   2.054210364052382|\n",
      "|    min|                 1|         Amazon|Irrelevant|                    |\n",
      "|    max|             13200|johnson&johnson|  Positive|🧻 at Home Depot ...|\n",
      "+-------+------------------+---------------+----------+--------------------+\n",
      "\n"
     ]
    },
    {
     "name": "stderr",
     "output_type": "stream",
     "text": [
      "\r",
      "                                                                                \r"
     ]
    }
   ],
   "source": [
    "# Viewing the basic statistics for numerical columns\n",
    "print(\"\\nBasic Statistics for Numerical Columns:\")\n",
    "twitter_df_preprocessing.describe().show()"
   ]
  },
  {
   "cell_type": "code",
   "execution_count": 18,
   "id": "ad9d9db0",
   "metadata": {},
   "outputs": [],
   "source": [
    "# Importing the necessary functions libraries\n",
    "#import pyspark.sql.functions as func"
   ]
  },
  {
   "cell_type": "code",
   "execution_count": 19,
   "id": "7eede4fd",
   "metadata": {},
   "outputs": [
    {
     "name": "stderr",
     "output_type": "stream",
     "text": [
      "\r",
      "[Stage 53:=============================>                            (1 + 1) / 2]\r"
     ]
    },
    {
     "name": "stdout",
     "output_type": "stream",
     "text": [
      "+----------+-----+\n",
      "| sentiment|count|\n",
      "+----------+-----+\n",
      "|Irrelevant|12528|\n",
      "|  Positive|19702|\n",
      "|   Neutral|17691|\n",
      "|  Negative|21691|\n",
      "+----------+-----+\n",
      "\n"
     ]
    },
    {
     "name": "stderr",
     "output_type": "stream",
     "text": [
      "\r",
      "                                                                                \r"
     ]
    }
   ],
   "source": [
    "# Calculating the distribution of the sentiment categories\n",
    "sentiment_distribution = twitter_df_preprocessing.groupBy('sentiment').count()\n",
    "\n",
    "# Viweing the distribution\n",
    "sentiment_distribution.show()"
   ]
  },
  {
   "cell_type": "markdown",
   "id": "77567a7b",
   "metadata": {},
   "source": [
    "According to the datafset documentation, 'Irrelevant' messages can be considered as neutral. ((www.kaggle.com, n.d.))"
   ]
  },
  {
   "cell_type": "markdown",
   "id": "a2837b97",
   "metadata": {},
   "source": [
    "### EDA : Frequency Distribution of Sentiment"
   ]
  },
  {
   "cell_type": "code",
   "execution_count": 20,
   "id": "f3fe8fe6",
   "metadata": {},
   "outputs": [],
   "source": [
    "import matplotlib.pyplot as plt"
   ]
  },
  {
   "cell_type": "code",
   "execution_count": 21,
   "id": "31cb26a1",
   "metadata": {},
   "outputs": [],
   "source": [
    "# Converting the Spark DataFrame to a Pandas DataFrame for visuals\n",
    "sentiment_distribution_pd = sentiment_distribution.toPandas()"
   ]
  },
  {
   "cell_type": "code",
   "execution_count": 22,
   "id": "90676aac",
   "metadata": {},
   "outputs": [
    {
     "data": {
      "image/png": "[encoded data removed]",
      "text/plain": [
       "<Figure size 864x576 with 1 Axes>"
      ]
     },
     "metadata": {
      "needs_background": "light"
     },
     "output_type": "display_data"
    }
   ],
   "source": [
    "# Plotting a graph of distribution\n",
    "plt.figure(figsize=(12, 8))\n",
    "plt.bar(sentiment_distribution_pd['sentiment'], sentiment_distribution_pd['count'], color='skyblue')\n",
    "plt.title('Distribution of Sentiment Categories', fontsize = 16)\n",
    "plt.xlabel('Sentiment', fontsize = 14)\n",
    "plt.ylabel('Count', fontsize = 14)\n",
    "plt.show()"
   ]
  },
  {
   "cell_type": "code",
   "execution_count": 23,
   "id": "982afe1a",
   "metadata": {},
   "outputs": [],
   "source": [
    "#pip install seaborn"
   ]
  },
  {
   "cell_type": "code",
   "execution_count": 24,
   "id": "252d998c",
   "metadata": {
    "scrolled": false
   },
   "outputs": [
    {
     "name": "stderr",
     "output_type": "stream",
     "text": [
      "/usr/lib/python3/dist-packages/scipy/__init__.py:146: UserWarning: A NumPy version >=1.17.3 and <1.25.0 is required for this version of SciPy (detected version 1.26.4\n",
      "  warnings.warn(f\"A NumPy version >={np_minversion} and <{np_maxversion}\"\n"
     ]
    }
   ],
   "source": [
    "import seaborn as sns"
   ]
  },
  {
   "cell_type": "code",
   "execution_count": 38,
   "id": "3eaa4766",
   "metadata": {},
   "outputs": [],
   "source": [
    "# Selecting a specific entity to analyse\n",
    "entity_of_interest = 'johnson&johnson'"
   ]
  },
  {
   "cell_type": "code",
   "execution_count": 39,
   "id": "06943bd6",
   "metadata": {},
   "outputs": [
    {
     "name": "stdout",
     "output_type": "stream",
     "text": [
      "+--------+---------------+----------+--------------------+\n",
      "|tweet_ID|         entity| sentiment|       tweet_content|\n",
      "+--------+---------------+----------+--------------------+\n",
      "|    6853|johnson&johnson|   Neutral|Adrian Thomas, vi...|\n",
      "|    6866|johnson&johnson|Irrelevant| Vaccines Production|\n",
      "|    6890|johnson&johnson|  Negative|They've had a leg...|\n",
      "|    6909|johnson&johnson|   Neutral|Behind the $55 mi...|\n",
      "|    6940|johnson&johnson|   Neutral|.  TYLENOL Cold H...|\n",
      "|    6944|johnson&johnson|   Neutral|The Missouri Cour...|\n",
      "|    6955|johnson&johnson|  Negative|Johnson & The Joh...|\n",
      "|    6965|johnson&johnson|  Negative|              or wtf|\n",
      "|    6971|johnson&johnson|  Positive|AstraZeneca and J...|\n",
      "|    6973|johnson&johnson|  Positive|       Thank of God.|\n",
      "|    6998|johnson&johnson|  Positive|cock & Johnson Re...|\n",
      "|    7005|johnson&johnson|   Neutral|Johnson & Johnson...|\n",
      "|    7040|johnson&johnson|   Neutral|Transvaginal mesh...|\n",
      "|    7043|johnson&johnson|  Negative|Johnson & Johnson...|\n",
      "|    7121|johnson&johnson|  Negative|Here Here same fo...|\n",
      "|    7128|johnson&johnson|   Neutral|. statnews.com / ...|\n",
      "|    7177|johnson&johnson|Irrelevant|Ya no kan'Excelle...|\n",
      "|    6849|johnson&johnson|  Positive|By early June 202...|\n",
      "|    6893|johnson&johnson|  Positive|If they are so su...|\n",
      "|    6903|johnson&johnson|  Negative|i’ve had the same...|\n",
      "+--------+---------------+----------+--------------------+\n",
      "only showing top 20 rows\n",
      "\n"
     ]
    },
    {
     "name": "stderr",
     "output_type": "stream",
     "text": [
      "\r",
      "                                                                                \r"
     ]
    }
   ],
   "source": [
    "# Filtering the DataFrame \n",
    "johnson_johnson_df = twitter_df_preprocessing.filter(twitter_df_preprocessing.entity == entity_of_interest)\n",
    "\n",
    "johnson_johnson_df.show()"
   ]
  },
  {
   "cell_type": "code",
   "execution_count": 40,
   "id": "8a7b700d",
   "metadata": {},
   "outputs": [
    {
     "name": "stdout",
     "output_type": "stream",
     "text": [
      "+----------+-----+\n",
      "| sentiment|count|\n",
      "+----------+-----+\n",
      "|Irrelevant|  192|\n",
      "|   Neutral| 1001|\n",
      "|  Positive|  252|\n",
      "|  Negative|  809|\n",
      "+----------+-----+\n",
      "\n"
     ]
    }
   ],
   "source": [
    "# Calculating the distribution of sentiment categories\n",
    "johnson_johnson_sentiment_distribution = johnson_johnson_df.groupBy('sentiment').count()\n",
    "johnson_johnson_sentiment_distribution.show()"
   ]
  },
  {
   "cell_type": "code",
   "execution_count": 43,
   "id": "bd1bde89",
   "metadata": {},
   "outputs": [],
   "source": [
    "# Ordering the DataFrame in descending order\n",
    "johnson_johnson_sentiment_distribution = johnson_johnson_sentiment_distribution.orderBy('count', ascending=False)"
   ]
  },
  {
   "cell_type": "code",
   "execution_count": 44,
   "id": "3fbb9e9e",
   "metadata": {},
   "outputs": [],
   "source": [
    "# Converting to Pandas DataFrame for visualization\n",
    "johnson_johnson_sentiment_distribution_pd = johnson_johnson_sentiment_distribution.toPandas()"
   ]
  },
  {
   "cell_type": "code",
   "execution_count": 46,
   "id": "82ea5789",
   "metadata": {},
   "outputs": [
    {
     "name": "stderr",
     "output_type": "stream",
     "text": [
      "/tmp/ipykernel_427856/78352180.py:3: FutureWarning: \n",
      "\n",
      "Passing `palette` without assigning `hue` is deprecated and will be removed in v0.14.0. Assign the `x` variable to `hue` and set `legend=False` for the same effect.\n",
      "\n",
      "  sns.barplot(x='sentiment', y='count', data=johnson_johnson_sentiment_distribution_pd, palette='viridis')\n"
     ]
    },
    {
     "data": {
      "image/png": "[encoded data removed]",
      "text/plain": [
       "<Figure size 864x576 with 1 Axes>"
      ]
     },
     "metadata": {
      "needs_background": "light"
     },
     "output_type": "display_data"
    }
   ],
   "source": [
    "# Creating a Seaborn Bar chart\n",
    "plt.figure(figsize=(12, 8))\n",
    "sns.barplot(x='sentiment', y='count', data=johnson_johnson_sentiment_distribution_pd, palette='viridis')\n",
    "plt.title('Distribution of Sentiment Categories for Johnsons and Johnsons', fontsize = 16)\n",
    "plt.xlabel('Sentiment', fontsize = 14)\n",
    "plt.ylabel('Count', fontsize = 14)\n",
    "plt.show()"
   ]
  },
  {
   "cell_type": "markdown",
   "id": "cfa0746e",
   "metadata": {},
   "source": [
    "One of the main applications and use cases of this asignment is sentiment analysis of big data, whether from a live stream or static source. In order to recreate this, we will remove the sentiment column provided with the dataset and conduct our own sentiment analysis of the data using spark."
   ]
  },
  {
   "cell_type": "code",
   "execution_count": 49,
   "id": "0fa0ccb7",
   "metadata": {},
   "outputs": [],
   "source": [
    "# Dropping the 'sentiment' column\n",
    "twitter_df_preprocessing = twitter_df_preprocessing.drop('sentiment')"
   ]
  },
  {
   "cell_type": "code",
   "execution_count": 50,
   "id": "b98d2157",
   "metadata": {},
   "outputs": [
    {
     "name": "stdout",
     "output_type": "stream",
     "text": [
      "root\n",
      " |-- tweet_ID: integer (nullable = true)\n",
      " |-- entity: string (nullable = true)\n",
      " |-- tweet_content: string (nullable = true)\n",
      "\n"
     ]
    }
   ],
   "source": [
    "twitter_df_preprocessing.printSchema()"
   ]
  },
  {
   "cell_type": "markdown",
   "id": "fcfc9a7c",
   "metadata": {},
   "source": [
    "#### Saving to HDFS"
   ]
  },
  {
   "cell_type": "code",
   "execution_count": 51,
   "id": "fc1237ec",
   "metadata": {},
   "outputs": [],
   "source": [
    "path = \"/user1/twitter2\""
   ]
  },
  {
   "cell_type": "code",
   "execution_count": 52,
   "id": "c1874f7e",
   "metadata": {},
   "outputs": [
    {
     "name": "stderr",
     "output_type": "stream",
     "text": [
      "                                                                                \r"
     ]
    }
   ],
   "source": [
    "twitter_df_preprocessing.write\\\n",
    ".format(\"csv\").mode(\"overwrite\")\\\n",
    ".option(\"path\", path)\\\n",
    ".save()"
   ]
  },
  {
   "cell_type": "code",
   "execution_count": null,
   "id": "236eb52f",
   "metadata": {},
   "outputs": [],
   "source": []
  }
 ],
 "metadata": {
  "kernelspec": {
   "display_name": "Python 3 (ipykernel)",
   "language": "python",
   "name": "python3"
  },
  "language_info": {
   "codemirror_mode": {
    "name": "ipython",
    "version": 3
   },
   "file_extension": ".py",
   "mimetype": "text/x-python",
   "name": "python",
   "nbconvert_exporter": "python",
   "pygments_lexer": "ipython3",
   "version": "3.10.12"
  }
 },
 "nbformat": 4,
 "nbformat_minor": 5
}
